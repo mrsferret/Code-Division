{
  "nbformat": 4,
  "nbformat_minor": 0,
  "metadata": {
    "colab": {
      "name": "5. numpy.ipynb",
      "provenance": [],
      "collapsed_sections": [],
      "include_colab_link": true
    },
    "kernelspec": {
      "name": "python3",
      "display_name": "Python 3"
    },
    "language_info": {
      "name": "python"
    }
  },
  "cells": [
    {
      "cell_type": "markdown",
      "metadata": {
        "id": "view-in-github",
        "colab_type": "text"
      },
      "source": [
        "<a href=\"https://colab.research.google.com/github/mrsferret/Code-Division/blob/main/Worksheets/5_numpy.ipynb\" target=\"_parent\"><img src=\"https://colab.research.google.com/assets/colab-badge.svg\" alt=\"Open In Colab\"/></a>"
      ]
    },
    {
      "cell_type": "markdown",
      "metadata": {
        "id": "M21YTen340ZU"
      },
      "source": [
        "# Using numpy for processing lists of number data\n",
        "\n",
        "---"
      ]
    },
    {
      "cell_type": "markdown",
      "metadata": {
        "id": "lvCryMxH47we"
      },
      "source": [
        "## numpy is a high performance array processing library for Python\n",
        "\n",
        "Python lists can contain any type of data, including objects.  numpy arrays are specialised and can only contain numbers.\n",
        "\n",
        "You can customise the memory usage so that arrays can use less memory and items are always stored contiguously, which isn't always the case for Python lists.  This means that it is more efficient at storing, and faster at processing, large data sets.\n",
        "\n",
        "Use numpy arrays to **store and manipulate large lists of numbers** (for other data types use plain Python lists or a panda series)\n",
        "\n",
        "Use numpy arrays to **process panda series (columns) where these contain numerical data and a large number of records**.\n",
        "\n",
        "Use numpy arrays to **create new sets of data** to add to a dataframe.\n",
        "\n",
        "For this course we are going to focus on using numpy arrays as a means of holding and working with a list of data from a pandas dataframe column.\n"
      ]
    },
    {
      "cell_type": "markdown",
      "metadata": {
        "id": "MxKEUfvp54QO"
      },
      "source": [
        "---\n",
        "## Creating a new numpy array (maybe for a new series or an extended series)\n",
        "\n",
        "To use numpy, you will need to import it.  The conventional way to import numpy is to import the whole library and use an *alias*\n",
        "\n",
        "`import numpy as np`\n",
        "\n",
        "Every time you want to use a function from the numpy library you use the syntax:  \n",
        "\n",
        "`np.function_name()`  \n",
        "\n",
        "Create a new numpy array from a Python list of numbers\n",
        "   \n",
        "`arr = np.array([1,2,3])`\n",
        "\n",
        "Or a new numpy matrix from a Python 2 dimensional list of numbers\n",
        "\n",
        "`matrix = np.array([1,2,3],[4,5,6])`\n",
        "\n",
        "Create a numpy array from a dataframe column (series):\n",
        "\n",
        "`arr = df['column name'].to_numpy(datatype)`\n",
        "\n",
        "where the datatype matches the data type of the column (`df.info()` will give this information if you are unsure).\n",
        "\n"
      ]
    },
    {
      "cell_type": "markdown",
      "metadata": {
        "id": "s2HQHeHE6r4n"
      },
      "source": [
        "### Exercise 1 - create a new numpy array to hold the numbers from 1 to 100\n",
        "---\n",
        "\n",
        "Write a function called `make_array()` which will:\n",
        "*   create a list of the numbers 1 to 10  \n",
        "*   create a new numpy array called **new_array** from that list\n",
        "*   print `new_array`\n",
        "\n",
        "Expected output:  \n",
        "`[1 2 3 4 5 6 7 8 9 10] ` \n",
        "\n"
      ]
    },
    {
      "cell_type": "code",
      "metadata": {
        "id": "-WWVDSRq7QDN",
        "colab": {
          "base_uri": "https://localhost:8080/"
        },
        "outputId": "21b0bbff-7abe-4b2c-9dc6-3323934cf3e0"
      },
      "source": [
        "import numpy as np\n",
        "\n",
        "def make_array(num_list):\n",
        "  # add your code below here\n",
        "  new_array = np.array(num_list)\n",
        "  print (new_array)\n",
        "\n",
        "\n",
        "\n",
        "# run and test the function against the expected output\n",
        "make_array([1,2,3,4,5,6,7,8,9,10])"
      ],
      "execution_count": 7,
      "outputs": [
        {
          "output_type": "stream",
          "name": "stdout",
          "text": [
            "[ 1  2  3  4  5  6  7  8  9 10]\n"
          ]
        }
      ]
    },
    {
      "cell_type": "markdown",
      "metadata": {
        "id": "X2qc0-nc7qZV"
      },
      "source": [
        "## Setting the number type in memory\n",
        "\n",
        "numpy allows you to set the type of number in memory (e.g. `int8`, `int32`) when you create the array.  This allows memory allocation to be as small as possible.  \n",
        "\n",
        "`new_matrix = np.array([1, 2, 3], np.int8)`    \n",
        "\n",
        "This creates a list of whole numbers which are all small enough to fit in 1 byte of memory storage.\n",
        "\n",
        "---\n",
        "### Exercise 2 - create list of smallish numbers\n",
        "\n",
        "Write a function which will:\n",
        "*   accept a parameter **num_list**    \n",
        "*   create a new numpy array called **new_array** from `num_list`, with data size `int16`\n",
        "*   print `new_array`  \n",
        "\n",
        "Test input:  \n",
        "`[31112, 32321, 24567,456,324,789]`\n",
        "\n",
        "Expected output:   \n",
        "```\n",
        "[31112 32321 24567 456 324 789]\n",
        "```"
      ]
    },
    {
      "cell_type": "code",
      "metadata": {
        "id": "XUMfMwhLACzH",
        "colab": {
          "base_uri": "https://localhost:8080/"
        },
        "outputId": "87e6391e-f195-45df-c186-61d65170307c"
      },
      "source": [
        "import numpy as np\n",
        "\n",
        "def create_new_array(num_list):\n",
        "  # add your code below h new_array = np.array(num_list)\n",
        "   new_array = np.array(num_list, np.int16)\n",
        "   print (new_array)\n",
        "\n",
        "# run and test the code against the expected output\n",
        "create_new_array([31112, 32321, 24567,456,324,789])"
      ],
      "execution_count": 8,
      "outputs": [
        {
          "output_type": "stream",
          "name": "stdout",
          "text": [
            "[31112 32321 24567   456   324   789]\n"
          ]
        }
      ]
    },
    {
      "cell_type": "markdown",
      "metadata": {
        "id": "oC8rsm3yBLRd"
      },
      "source": [
        "---\n",
        "### Exercise 3 - create a numpy array from a pandas dataframe column\n",
        "\n",
        "Write a function which  will first create a dataframe from the titanic data set, and then will create a numpy array from the Fare column.\n",
        "\n",
        "*Recap*:  *the Fare column is df['Fare'] (assuming your dataframe is called df)*\n",
        "\n",
        "*  create a dataframe from the data set in the file at this url:  https://raw.githubusercontent.com/pandas-dev/pandas/master/doc/data/titanic.csv  \n",
        "*  create a new numpy array called **fare** from the `Fare` column (*remember to specify the data type e.g. np.int32, float64 when using* `df.to_numpy()`)  \n",
        "*  print the `fare` array\n",
        "\n",
        "Expected output:  \n",
        "```\n",
        "array([  7.25  ,  71.2833,   7.925 , ......  23.45  ,  30.    ,   7.75  ])\n",
        "```\n",
        "\n",
        "  "
      ]
    },
    {
      "cell_type": "code",
      "metadata": {
        "id": "QCs2eDFEBhr8",
        "colab": {
          "base_uri": "https://localhost:8080/"
        },
        "outputId": "b9d69a9e-6441-40d0-b822-55ce1b79b784"
      },
      "source": [
        "import pandas as pd\n",
        "import numpy as np\n",
        "url = 'https://raw.githubusercontent.com/pandas-dev/pandas/master/doc/data/titanic.csv'\n",
        "\n",
        "def create_fare_series():\n",
        "  # add your code below here to read the data set into a dataframe and then create a numpy array from the Fare column and print it\n",
        "  df = pd.read_csv(url)\n",
        "  \n",
        "  fare = df['Fare'].to_numpy(np.int32)\n",
        "  print (fare)\n",
        "\n",
        "\n",
        "\n",
        "# run the function and test against the expected output.\n",
        "create_fare_series()"
      ],
      "execution_count": 10,
      "outputs": [
        {
          "output_type": "stream",
          "name": "stdout",
          "text": [
            "[  7  71   7  53   8   8  51  21  11  30  16  26   8  31   7  16  29  13\n",
            "  18   7  26  13   8  35  21  31   7 263   7   7  27 146   7  10  82  52\n",
            "   7   8  18  11   9  21   7  41   7   8  15   7  21  17  39   7  76  26\n",
            "  61  35  10   7  27  46   7  80  83  27  27  15  10   8   7   8  10  46\n",
            "  73  14  56   7   7   8  29  12   9   9   7  47  10  15  34   8 263   8\n",
            "   8   7  61  20   7   8  34  63  23  26   7   7  77   8   7   7   7   7\n",
            "   7  24  52  14   8   9  14   7   7  21 247  31  73   8  30  13  77  11\n",
            "   7   7  22   6   7   7  14  26  13  15  26  53   9  79  15   7  15   6\n",
            "  11  36   7  34  26  13  12  66   8  14   7  61   7   8   8  69  16  15\n",
            "   7   8  39  20  55  27  25  56  33  29  11   7  30   7  25  28  13   0\n",
            "  69  15  31  39  22  50  15  26  15   7  13  13   7  26  27 146   7   8\n",
            "   7  13   9  69   6   7   8  10  15  18   7  31   7  21   7  13   7 113\n",
            "   7  27  76  10   8  13   8   7  90   9  10   7  13  25  83   7  13  31\n",
            "  10   7  26  26  10  12  14  15  10   7   7  90   7  14  52  26   7  10\n",
            "  26  16  20  15  79  86 512  26   7  31  79   0   7  10  39   7 153 135\n",
            "  31   0  19  29   7  77   7   0  29  20   7   7   9   8  26   8   9   7\n",
            "  13   7  78  91  12   8   7  27   7 151  30 247   7  23   0  12   8 151\n",
            " 110 108  24  56  83 262  26   7  26   7  26  14 164 134   7   7  12  29\n",
            "  69 135   6  13  20  57  23  28 153  18 133   7  66 134   8  35  26 263\n",
            "  13  13  13  13  13  16  15   8   9  35   7  17   7   9  55  13   7   7\n",
            "  27  27  14   7  15   7  75   7   7  69  55   6   8 135  21  82   7 211\n",
            "   4   7 227  15   7  52   7  73  46  13   7  12 120   7   7 113  16   7\n",
            "   7  26  10  12   7   8   9  15   8  21   7  18   7  25   7   6  90   0\n",
            "   7   8  32  13  13  24   7   7   7  14  20   7  26  26   7   8  26  16\n",
            "  26   7  55 120  34  18 263  10  26   9   7  13   8  81  19  26  19  30\n",
            "  27  19  27  89   8   7  26  51  10   7  26   8  38  13   8   7   0  26\n",
            "   7  19   7   8  27  13   9  52  21   7   7  12  46   0   8   9  91  25\n",
            "  90  29   8  15  19   7  30  49   8  14  78  15 151   7   8   7   7   9\n",
            "  86 108  26  26  22  56   7   8  26  59   7  34  10  24  26   7  93   7\n",
            "   7  57   7   7  10 221   7  11  26   7   7  22   8  26  26 106  14  49\n",
            "  71  31  31  26 106  26  26  13  20  36 110  26   7   7   7  26  39 227\n",
            "  79  17   7   7  13   8   8  24   7  21   7   7  10  51  26   7   8  14\n",
            "  13  55  14   7  30 110  26  40   8  79  15  79   8   8   7  78   7   7\n",
            "  26  24  33   0   7  56  27   7  42   8  26  15   7  30  41 153  31   7\n",
            "  15   7   8  65  14  16  39  10  14  52  15   7  16  32  12  77   7   7\n",
            "  30   7  30   0  27  13   7  26  39  16   7  69  27  56  19  76   7  35\n",
            "   7   7   7  23   8   7   6  73   7  15  13 113 133   7  25   7   7  73\n",
            "  13   7   8  52  39  52  10  13   0   7   8   9  46 512   8  76   9  46\n",
            "  39  41  39  10   7 211  57  13  56   7  26  13   8   7 110   7 227  26\n",
            "  14   7   7  26  13  26 151  15  49  26  52   9  13   7 227  10  15   7\n",
            "  33   7  13  13  53   8  21   7  26   7 211  18   0  13  13  16  34 512\n",
            "   7   7  30  78 262  16   7  71  20  13  53   7  23  12   9   7  65  14\n",
            "   7  11   8  86  14   7   7 120   7  77  39   7  24   8   9   7  10   7\n",
            "  23   7   7  12   7 211   7  57  30  23   7   7   7  29  20  79   7  26\n",
            "  69  30   7  13  25   8   7  24  13  26 120   8   6   7   0   7  13  53\n",
            "   7  24  10  31   8   0   7  37   6  27  93   8   0  12  39   6  56  37\n",
            "   7  80  14  18   7   7   8  83   8   8  56  29   7  10  31   6   8   7\n",
            "  69   7  33  89  31   7  15  39  26   9 164  26  19   7  14  11  25  69\n",
            "  13  13  13  50   9  11   7  52   5   9  24   7   9   7   7  83  26   7\n",
            "  10  10   7  29  13  30  23  30   7]\n"
          ]
        }
      ]
    },
    {
      "cell_type": "markdown",
      "metadata": {
        "id": "qf3xj2T9CRmT"
      },
      "source": [
        "---\n",
        "### Exercise 4 - get some statistics from a numpy array created from a data series\n",
        "\n",
        "This exercise will use data on income in certain US states.  The link is: https://github.com/futureCodersSE/working-with-data/blob/main/Data%20sets/Income-Data.xlsx?raw=true  This spreadsheet just has one sheet.  \n",
        "\n",
        "Write a function which will create a numpy array from the `Age` column in the income dataset and will print the following:\n",
        "\n",
        "*  the average (mean) age of those surveyed  \n",
        "*  the age of the oldest person\n",
        "*  the age of the youngest person\n",
        "\n",
        "TO HELP with this, refer to this helpsheet: http://datacamp-community-prod.s3.amazonaws.com/da466534-51fe-4c6d-b0cb-154f4782eb54 \n",
        "\n",
        "Expected output:  \n",
        "```\n",
        "29.88888888888889\n",
        "42\n",
        "22\n",
        "```\n",
        "\n",
        "     "
      ]
    },
    {
      "cell_type": "code",
      "metadata": {
        "id": "27UpVktxC_VX",
        "colab": {
          "base_uri": "https://localhost:8080/"
        },
        "outputId": "889d0f46-706d-416d-e5e0-36d810ae09b1"
      },
      "source": [
        "import pandas as pd\n",
        "import numpy as np\n",
        "\n",
        "def get_age_stats(url):\n",
        "  # add your code below here to read the data set into a dataframe and then create a numpy array from the Fare column and print it\n",
        "  df = pd.read_excel(url)\n",
        "  age = df['Age'].to_numpy(np.int32)\n",
        "\n",
        "  mean = np.mean(age, dtype = np.int32)\n",
        "  oldest = np.max(age)\n",
        "  youngest = np.min(age)\n",
        "  print('mean: ', mean)\n",
        "  print('oldest: ', oldest)\n",
        "  print('youngest: ', youngest)\n",
        "\n",
        "# run the function and test against the expected output.\n",
        "url = 'https://github.com/futureCodersSE/working-with-data/blob/main/Data%20sets/Income-Data.xlsx?raw=true'\n",
        "get_age_stats(url)"
      ],
      "execution_count": 23,
      "outputs": [
        {
          "output_type": "stream",
          "name": "stdout",
          "text": [
            "mean:  29\n",
            "oldest:  42\n",
            "youngest:  22\n"
          ]
        }
      ]
    },
    {
      "cell_type": "code",
      "metadata": {
        "id": "uFARauf3FiMf"
      },
      "source": [
        ""
      ],
      "execution_count": null,
      "outputs": []
    },
    {
      "cell_type": "markdown",
      "metadata": {
        "id": "DDVIHbrnFjwz"
      },
      "source": [
        "---\n",
        "### Exercise 6 - find the mean and standard deviation of wages\n",
        "\n",
        "This exercise will again use data on income in certain US states.  The link is: https://github.com/futureCodersSE/working-with-data/blob/main/Data%20sets/Income-Data.xlsx?raw=true  This spreadsheet just has one sheet.\n",
        "\n",
        "Write a function which will create a numpy array from the `Income` column in the income dataset and will print the following:\n",
        "\n",
        "*  the mean income of those surveyed  \n",
        "*  the standard deviation of income\n",
        "*  the highest income\n",
        "*  the lowest income as a percentage of the mean (lowest / mean * 100) \n",
        "\n",
        "TO HELP with this, refer to this helpsheet: http://datacamp-community-prod.s3.amazonaws.com/da466534-51fe-4c6d-b0cb-154f4782eb54 \n",
        "\n",
        "Expected output:  \n",
        "```\n",
        "63.388888888888886\n",
        "13.936916958961463\n",
        "81\n",
        "34.70639789658195\n",
        "```\n",
        "\n"
      ]
    },
    {
      "cell_type": "code",
      "metadata": {
        "id": "YB72q998EWkF",
        "colab": {
          "base_uri": "https://localhost:8080/"
        },
        "outputId": "b061a9d8-35f1-4d56-efb6-03f873202757"
      },
      "source": [
        "import pandas as pd\n",
        "import numpy as np\n",
        "\n",
        "def get_income_stats(url):\n",
        "  # add your code below to calculate the stats\n",
        "  df = pd.read_excel(url)\n",
        "  \n",
        "  income = df['Income'].to_numpy(np.int32)\n",
        "  mean = np.mean(income, dtype = np.int32)\n",
        "  std = np.std(income)\n",
        "  lowest_pct = (np.min(income))/ mean * 100\n",
        "  highest = np.max(income)\n",
        "  print('mean: ', mean)\n",
        "  print('std: ', std)  \n",
        "  print('highest: ', highest)\n",
        "  print('lowest %: ', lowest_pct)\n",
        "\n",
        "\n",
        "\n",
        "# run the function and test against expected output\n",
        "url = 'https://github.com/futureCodersSE/working-with-data/blob/main/Data%20sets/Income-Data.xlsx?raw=true'\n",
        "get_income_stats(url)\n"
      ],
      "execution_count": 24,
      "outputs": [
        {
          "output_type": "stream",
          "name": "stdout",
          "text": [
            "mean:  63\n",
            "std:  13.936916958961463\n",
            "highest:  81\n",
            "lowest %:  34.92063492063492\n"
          ]
        }
      ]
    },
    {
      "cell_type": "markdown",
      "metadata": {
        "id": "QnOKzp1cHAvH"
      },
      "source": [
        "---\n",
        "### Exercise 7 - finding the correlation between two series\n",
        "\n",
        "Let's find out if there is a strong correlation between Age and Income in the income data set.\n",
        "\n",
        "*  read the Income data into a pandas dataframe\n",
        "*  create a numpy array from the Age column  \n",
        "*  create a numpy array from the Income column  \n",
        "*  use the np.corrcoef(nparray1, nparray2) function to get the Pearson's Correlation Coefficient (the measure of linear correlation between the two data sets) and store it in a variable called **coef**\n",
        "*  print the correlation coefficient output (see below, it will be a 2x2 matrix)\n",
        "*  print the correlation coefficient (which is at position [0][1] (coef[0][1]))\n",
        "\n",
        "\n",
        "Expected output:  \n",
        "```\n",
        "[[ 1.         -0.14787412]\n",
        " [-0.14787412  1.        ]]\n",
        " -0.1478741157606825\n",
        "\n",
        "```\n",
        "The matrix gives 4 values showing the correlation between:\n",
        "\n",
        "```\n",
        "   |    (Age/Age)        (Age/Income)     |\n",
        "   |    (Income/Age)     (Income/Income)  |\n",
        "```\n",
        "This suggests that income decreases with age (the correlation is negative \n",
        "so as one increases the other decreases) but that the correlation is quite weak (an absolute correlation would be 1 and no correlation would be 0)"
      ]
    },
    {
      "cell_type": "code",
      "metadata": {
        "id": "xXsISkA4HibO",
        "colab": {
          "base_uri": "https://localhost:8080/"
        },
        "outputId": "db83cfc6-4865-4409-e97b-c19dfdfa66e1"
      },
      "source": [
        "import pandas as pd\n",
        "import numpy as np\n",
        "\n",
        "def get_correlation(url):\n",
        "  # add your code below to get the correlation figure for age and salary\n",
        "  df = pd.read_excel(url)\n",
        "  income = df['Income'].to_numpy(np.int32)\n",
        "  age = df['Age'].to_numpy(np.int32)\n",
        "  coef = np.corrcoef(age, income)\n",
        "  print(coef)\n",
        "  print (coef[0][1])\n",
        "\n",
        "\n",
        "# run the function and test against expected output\n",
        "url = 'https://github.com/futureCodersSE/working-with-data/blob/main/Data%20sets/Income-Data.xlsx?raw=true'\n",
        "get_correlation(url)"
      ],
      "execution_count": 30,
      "outputs": [
        {
          "output_type": "stream",
          "name": "stdout",
          "text": [
            "[[ 1.         -0.14787412]\n",
            " [-0.14787412  1.        ]]\n",
            "-0.1478741157606825\n"
          ]
        }
      ]
    },
    {
      "cell_type": "markdown",
      "metadata": {
        "id": "OxR5qwoxIhMY"
      },
      "source": [
        "---\n",
        "## Broadcasting an operation across an array\n",
        "\n",
        "Because a numpy array is created from a related set of data, it is useful to be able to operate on every item in the array in the same way.  For instance, the array might hold a set of scores out of 30 and you might want to convert all scores into percentages.\n",
        "\n",
        "We can do this in a number of ways:  \n",
        "1.  Create a new array to store the result after the operation in the new array\n",
        "```\n",
        "scores = np.array([29,25,15,22,30])\n",
        "percentages = scores / 30 * 100\n",
        "print(percentages)\n",
        "```\n",
        "Expected output:\n",
        "```\n",
        "[ 96.66666667  83.33333333  50.          73.33333333 100.        ]\n",
        "```\n",
        "2.  Store the result in the original array\n",
        "```\n",
        "scores = np.array([29,25,15,22,30])\n",
        "scores = scores / 30 * 100\n",
        "print(scores)\n",
        "```\n",
        "Expected output:\n",
        "```\n",
        "[ 96.66666667  83.33333333  50.  73.33333333 100. ]\n",
        "```\n",
        "\n",
        "Give it a try:\n",
        "\n",
        "\n",
        "\n"
      ]
    },
    {
      "cell_type": "code",
      "metadata": {
        "id": "ozhaq9-tJhRy",
        "colab": {
          "base_uri": "https://localhost:8080/"
        },
        "outputId": "73fa9dd9-be02-4fe4-ae60-eba8df419ec8"
      },
      "source": [
        "scores = np.array([29,25,15,22,30])\n",
        "percentages = scores / 30 * 100\n",
        "print(percentages)\n",
        "\n",
        "scores = np.array([29,25,15,22,30])\n",
        "scores = scores / 30 * 100\n",
        "print(scores)"
      ],
      "execution_count": 32,
      "outputs": [
        {
          "output_type": "stream",
          "name": "stdout",
          "text": [
            "[ 96.66666667  83.33333333  50.          73.33333333 100.        ]\n",
            "[ 96.66666667  83.33333333  50.          73.33333333 100.        ]\n"
          ]
        }
      ]
    },
    {
      "cell_type": "markdown",
      "metadata": {
        "id": "Lg62ACAlLzT8"
      },
      "source": [
        "---\n",
        "### Exercise 8 - increase whole array by 20\n",
        "\n",
        "Write a function which will:\n",
        "*  create a numpy array of 12 numbers\n",
        "*  create a new array adding 20 to each of the items in the first array  \n",
        "*  print the new array\n",
        "\n",
        "Test input:  \n",
        "`[1,2,3,4,5,6,7,8,1,2,3,4]`\n",
        "\n",
        "Expected output:  \n",
        "`[21 22 23 24 25 26 27 28 21 22 23 24]`"
      ]
    },
    {
      "cell_type": "code",
      "metadata": {
        "id": "HloCtcOYMD3W",
        "colab": {
          "base_uri": "https://localhost:8080/"
        },
        "outputId": "ecfd8f2b-3e05-4ed3-a40c-0359fd123101"
      },
      "source": [
        "# add your code to define the function to increase all values in an array by 20 and then to call the function\n",
        "import numpy as np\n",
        "\n",
        "def calcArray():\n",
        "  scores = np.array([1,2,3,4,5,6,7,8,1,2,3,4])\n",
        "\n",
        "  scores = scores + 20\n",
        "  print(scores)\n",
        "\n",
        "calcArray()\n",
        "\n"
      ],
      "execution_count": 39,
      "outputs": [
        {
          "output_type": "stream",
          "name": "stdout",
          "text": [
            "[21 22 23 24 25 26 27 28 21 22 23 24]\n"
          ]
        }
      ]
    },
    {
      "cell_type": "markdown",
      "metadata": {
        "id": "B-p-PF99MECD"
      },
      "source": [
        "---\n",
        "## Conversion of values using broadcasting\n",
        "\n",
        "---\n",
        "### Exercise 9 - convert Titanic fares into 21st century values \n",
        "\n",
        "Write a function which will:  \n",
        "*  create a dataframe from the titanic data set (https://raw.githubusercontent.com/pandas-dev/pandas/master/doc/data/titanic.csv)   \n",
        "*  create a numpy array from the Fare column\n",
        "*  convert the fares into current value (multiply by a factor of 120.7045 - source https://www.in2013dollars.com/uk/inflation/1912?amount=32 *accessed 22/1/2022*)\n",
        "*  print the average fare, the maximum fare and the minimum fare\n",
        "\n",
        "Expected output:  \n",
        "```\n",
        "3887.1928207428173\n",
        "61840.4399214\n",
        "0.0\n",
        "```\n",
        "\n",
        "\n",
        " "
      ]
    },
    {
      "cell_type": "code",
      "metadata": {
        "id": "ahgPUqTjM9it",
        "colab": {
          "base_uri": "https://localhost:8080/"
        },
        "outputId": "e3271970-5b2e-4806-d06c-e8a7bb945925"
      },
      "source": [
        "import pandas as pd\n",
        "import numpy as np\n",
        "\n",
        "def get_current_fares(url):\n",
        "  # add your code below to get the fares data into a numpy array, convert to today's prices and print stats\n",
        "  df = pd.read_csv(url)\n",
        "  fare = df['Fare'].to_numpy(np.int32)\n",
        "  current_value_pd = fare * 120.7045\n",
        "\n",
        "  mean = np.mean(current_value_pd, dtype = np.int32)\n",
        "  max_fare = np.max(current_value_pd)\n",
        "  min_fare = np.min(current_value_pd)\n",
        "  print('Mean Fare: ', mean)\n",
        "  #======================================================================\n",
        "  # Not sure why, but my Mean Fare and Max Fare is different to the expected mean above?\n",
        "  #=====================================================================\n",
        "  print('Max Fare: ', max_fare)\n",
        "  print('Min Fare: ', min_fare)\n",
        "\n",
        "# run the function and test against expected output\n",
        "url = 'https://raw.githubusercontent.com/pandas-dev/pandas/master/doc/data/titanic.csv'\n",
        "get_current_fares(url)"
      ],
      "execution_count": 44,
      "outputs": [
        {
          "output_type": "stream",
          "name": "stdout",
          "text": [
            "Mean Fare:  3836\n",
            "Max Fare:  61800.704\n",
            "Min Fare:  0.0\n"
          ]
        }
      ]
    },
    {
      "cell_type": "markdown",
      "metadata": {
        "id": "Bv1G1MJpT1U9"
      },
      "source": [
        "---\n",
        "### Exercise 10 - create a new column in the dataframe from a numpy array\n",
        "\n",
        "**Challenging**\n",
        "\n",
        "Write a function which will calculate expected salaries for all in the income data set after an inflation rate of 3.5% (with results in a new numpy array).\n",
        "\n",
        "Just to show the result, calculate and print the Pearson Correlation Coefficient between the salaries series and the inflated salaries series.  We would expect this to be 1 (ie the inflated salary is always 3.5% higher than the current salary) and the exercise is just meant to show that - the statistic has no relevance.  \n",
        "\n",
        "Create a new column in the dataframe from the new numpy array (so that the dataframe now contains the original salaries and the inflated salaries.  \n",
        "(**Recap**:  *to add a new column, just use* `df['new column name']`)  \n",
        "\n",
        "To assign a numpy array to a pandas column use  \n",
        "`df['new column name'] = numpyarrayname.tolist()`\n",
        "\n",
        "Display the new dataframe and print the correlation coefficient.\n",
        "\n",
        "\n",
        "\n",
        "\n",
        "\n"
      ]
    },
    {
      "cell_type": "code",
      "metadata": {
        "id": "x90cXT8NWD40",
        "colab": {
          "base_uri": "https://localhost:8080/",
          "height": 666
        },
        "outputId": "de3861f7-7a10-478e-9222-9de89d40c71e"
      },
      "source": [
        "import pandas as pd\n",
        "import numpy as np\n",
        "\n",
        "def calc_expected_sals(url):\n",
        "  df = pd.read_excel(url)\n",
        "  income_np = df['Income'].to_numpy(np.int32)\n",
        "  new_income_np = income_np * 1.035\n",
        "\n",
        "  coef = np.corrcoef(income_np, new_income_np)\n",
        "  print(coef)\n",
        "  print (coef[0][1])\n",
        "\n",
        "  df['new expected sal'] = new_income_np.tolist()\n",
        "  display (df)\n",
        "\n",
        "\n",
        "url = 'https://github.com/futureCodersSE/working-with-data/blob/main/Data%20sets/Income-Data.xlsx?raw=true'\n",
        "\n",
        "calc_expected_sals(url)\n",
        "\n",
        "\n"
      ],
      "execution_count": 52,
      "outputs": [
        {
          "output_type": "stream",
          "name": "stdout",
          "text": [
            "[[1. 1.]\n",
            " [1. 1.]]\n",
            "1.0\n"
          ]
        },
        {
          "output_type": "display_data",
          "data": {
            "text/html": [
              "\n",
              "  <div id=\"df-ef72de86-3c9e-43a4-a2e8-891d8d86d66a\">\n",
              "    <div class=\"colab-df-container\">\n",
              "      <div>\n",
              "<style scoped>\n",
              "    .dataframe tbody tr th:only-of-type {\n",
              "        vertical-align: middle;\n",
              "    }\n",
              "\n",
              "    .dataframe tbody tr th {\n",
              "        vertical-align: top;\n",
              "    }\n",
              "\n",
              "    .dataframe thead th {\n",
              "        text-align: right;\n",
              "    }\n",
              "</style>\n",
              "<table border=\"1\" class=\"dataframe\">\n",
              "  <thead>\n",
              "    <tr style=\"text-align: right;\">\n",
              "      <th></th>\n",
              "      <th>State</th>\n",
              "      <th>County</th>\n",
              "      <th>Population</th>\n",
              "      <th>Age</th>\n",
              "      <th>Income</th>\n",
              "      <th>new expected sal</th>\n",
              "    </tr>\n",
              "  </thead>\n",
              "  <tbody>\n",
              "    <tr>\n",
              "      <th>0</th>\n",
              "      <td>TX</td>\n",
              "      <td>1.0</td>\n",
              "      <td>72.0</td>\n",
              "      <td>34.0</td>\n",
              "      <td>65.0</td>\n",
              "      <td>67.275</td>\n",
              "    </tr>\n",
              "    <tr>\n",
              "      <th>1</th>\n",
              "      <td>TX</td>\n",
              "      <td>2.0</td>\n",
              "      <td>33.0</td>\n",
              "      <td>42.0</td>\n",
              "      <td>45.0</td>\n",
              "      <td>46.575</td>\n",
              "    </tr>\n",
              "    <tr>\n",
              "      <th>2</th>\n",
              "      <td>TX</td>\n",
              "      <td>5.0</td>\n",
              "      <td>25.0</td>\n",
              "      <td>23.0</td>\n",
              "      <td>46.0</td>\n",
              "      <td>47.610</td>\n",
              "    </tr>\n",
              "    <tr>\n",
              "      <th>3</th>\n",
              "      <td>TX</td>\n",
              "      <td>6.0</td>\n",
              "      <td>54.0</td>\n",
              "      <td>36.0</td>\n",
              "      <td>65.0</td>\n",
              "      <td>67.275</td>\n",
              "    </tr>\n",
              "    <tr>\n",
              "      <th>4</th>\n",
              "      <td>TX</td>\n",
              "      <td>7.0</td>\n",
              "      <td>11.0</td>\n",
              "      <td>42.0</td>\n",
              "      <td>53.0</td>\n",
              "      <td>54.855</td>\n",
              "    </tr>\n",
              "    <tr>\n",
              "      <th>5</th>\n",
              "      <td>TX</td>\n",
              "      <td>8.0</td>\n",
              "      <td>28.0</td>\n",
              "      <td>25.0</td>\n",
              "      <td>62.0</td>\n",
              "      <td>64.170</td>\n",
              "    </tr>\n",
              "    <tr>\n",
              "      <th>6</th>\n",
              "      <td>TX</td>\n",
              "      <td>9.0</td>\n",
              "      <td>82.0</td>\n",
              "      <td>35.0</td>\n",
              "      <td>66.0</td>\n",
              "      <td>68.310</td>\n",
              "    </tr>\n",
              "    <tr>\n",
              "      <th>7</th>\n",
              "      <td>TX</td>\n",
              "      <td>10.0</td>\n",
              "      <td>5.0</td>\n",
              "      <td>40.0</td>\n",
              "      <td>75.0</td>\n",
              "      <td>77.625</td>\n",
              "    </tr>\n",
              "    <tr>\n",
              "      <th>8</th>\n",
              "      <td>MD</td>\n",
              "      <td>11.0</td>\n",
              "      <td>61.0</td>\n",
              "      <td>27.0</td>\n",
              "      <td>22.0</td>\n",
              "      <td>22.770</td>\n",
              "    </tr>\n",
              "    <tr>\n",
              "      <th>9</th>\n",
              "      <td>MD</td>\n",
              "      <td>2.0</td>\n",
              "      <td>5.0</td>\n",
              "      <td>23.0</td>\n",
              "      <td>69.0</td>\n",
              "      <td>71.415</td>\n",
              "    </tr>\n",
              "    <tr>\n",
              "      <th>10</th>\n",
              "      <td>MD</td>\n",
              "      <td>4.0</td>\n",
              "      <td>98.0</td>\n",
              "      <td>25.0</td>\n",
              "      <td>73.0</td>\n",
              "      <td>75.555</td>\n",
              "    </tr>\n",
              "    <tr>\n",
              "      <th>11</th>\n",
              "      <td>MD</td>\n",
              "      <td>3.0</td>\n",
              "      <td>64.0</td>\n",
              "      <td>29.0</td>\n",
              "      <td>75.0</td>\n",
              "      <td>77.625</td>\n",
              "    </tr>\n",
              "    <tr>\n",
              "      <th>12</th>\n",
              "      <td>MD</td>\n",
              "      <td>2.0</td>\n",
              "      <td>36.0</td>\n",
              "      <td>24.0</td>\n",
              "      <td>65.0</td>\n",
              "      <td>67.275</td>\n",
              "    </tr>\n",
              "    <tr>\n",
              "      <th>13</th>\n",
              "      <td>MD</td>\n",
              "      <td>1.0</td>\n",
              "      <td>24.0</td>\n",
              "      <td>25.0</td>\n",
              "      <td>66.0</td>\n",
              "      <td>68.310</td>\n",
              "    </tr>\n",
              "    <tr>\n",
              "      <th>14</th>\n",
              "      <td>MD</td>\n",
              "      <td>5.0</td>\n",
              "      <td>34.0</td>\n",
              "      <td>31.0</td>\n",
              "      <td>78.0</td>\n",
              "      <td>80.730</td>\n",
              "    </tr>\n",
              "    <tr>\n",
              "      <th>15</th>\n",
              "      <td>MD</td>\n",
              "      <td>6.0</td>\n",
              "      <td>89.0</td>\n",
              "      <td>22.0</td>\n",
              "      <td>81.0</td>\n",
              "      <td>83.835</td>\n",
              "    </tr>\n",
              "    <tr>\n",
              "      <th>16</th>\n",
              "      <td>MD</td>\n",
              "      <td>8.0</td>\n",
              "      <td>21.0</td>\n",
              "      <td>25.0</td>\n",
              "      <td>73.0</td>\n",
              "      <td>75.555</td>\n",
              "    </tr>\n",
              "    <tr>\n",
              "      <th>17</th>\n",
              "      <td>MD</td>\n",
              "      <td>7.0</td>\n",
              "      <td>21.0</td>\n",
              "      <td>30.0</td>\n",
              "      <td>62.0</td>\n",
              "      <td>64.170</td>\n",
              "    </tr>\n",
              "  </tbody>\n",
              "</table>\n",
              "</div>\n",
              "      <button class=\"colab-df-convert\" onclick=\"convertToInteractive('df-ef72de86-3c9e-43a4-a2e8-891d8d86d66a')\"\n",
              "              title=\"Convert this dataframe to an interactive table.\"\n",
              "              style=\"display:none;\">\n",
              "        \n",
              "  <svg xmlns=\"http://www.w3.org/2000/svg\" height=\"24px\"viewBox=\"0 0 24 24\"\n",
              "       width=\"24px\">\n",
              "    <path d=\"M0 0h24v24H0V0z\" fill=\"none\"/>\n",
              "    <path d=\"M18.56 5.44l.94 2.06.94-2.06 2.06-.94-2.06-.94-.94-2.06-.94 2.06-2.06.94zm-11 1L8.5 8.5l.94-2.06 2.06-.94-2.06-.94L8.5 2.5l-.94 2.06-2.06.94zm10 10l.94 2.06.94-2.06 2.06-.94-2.06-.94-.94-2.06-.94 2.06-2.06.94z\"/><path d=\"M17.41 7.96l-1.37-1.37c-.4-.4-.92-.59-1.43-.59-.52 0-1.04.2-1.43.59L10.3 9.45l-7.72 7.72c-.78.78-.78 2.05 0 2.83L4 21.41c.39.39.9.59 1.41.59.51 0 1.02-.2 1.41-.59l7.78-7.78 2.81-2.81c.8-.78.8-2.07 0-2.86zM5.41 20L4 18.59l7.72-7.72 1.47 1.35L5.41 20z\"/>\n",
              "  </svg>\n",
              "      </button>\n",
              "      \n",
              "  <style>\n",
              "    .colab-df-container {\n",
              "      display:flex;\n",
              "      flex-wrap:wrap;\n",
              "      gap: 12px;\n",
              "    }\n",
              "\n",
              "    .colab-df-convert {\n",
              "      background-color: #E8F0FE;\n",
              "      border: none;\n",
              "      border-radius: 50%;\n",
              "      cursor: pointer;\n",
              "      display: none;\n",
              "      fill: #1967D2;\n",
              "      height: 32px;\n",
              "      padding: 0 0 0 0;\n",
              "      width: 32px;\n",
              "    }\n",
              "\n",
              "    .colab-df-convert:hover {\n",
              "      background-color: #E2EBFA;\n",
              "      box-shadow: 0px 1px 2px rgba(60, 64, 67, 0.3), 0px 1px 3px 1px rgba(60, 64, 67, 0.15);\n",
              "      fill: #174EA6;\n",
              "    }\n",
              "\n",
              "    [theme=dark] .colab-df-convert {\n",
              "      background-color: #3B4455;\n",
              "      fill: #D2E3FC;\n",
              "    }\n",
              "\n",
              "    [theme=dark] .colab-df-convert:hover {\n",
              "      background-color: #434B5C;\n",
              "      box-shadow: 0px 1px 3px 1px rgba(0, 0, 0, 0.15);\n",
              "      filter: drop-shadow(0px 1px 2px rgba(0, 0, 0, 0.3));\n",
              "      fill: #FFFFFF;\n",
              "    }\n",
              "  </style>\n",
              "\n",
              "      <script>\n",
              "        const buttonEl =\n",
              "          document.querySelector('#df-ef72de86-3c9e-43a4-a2e8-891d8d86d66a button.colab-df-convert');\n",
              "        buttonEl.style.display =\n",
              "          google.colab.kernel.accessAllowed ? 'block' : 'none';\n",
              "\n",
              "        async function convertToInteractive(key) {\n",
              "          const element = document.querySelector('#df-ef72de86-3c9e-43a4-a2e8-891d8d86d66a');\n",
              "          const dataTable =\n",
              "            await google.colab.kernel.invokeFunction('convertToInteractive',\n",
              "                                                     [key], {});\n",
              "          if (!dataTable) return;\n",
              "\n",
              "          const docLinkHtml = 'Like what you see? Visit the ' +\n",
              "            '<a target=\"_blank\" href=https://colab.research.google.com/notebooks/data_table.ipynb>data table notebook</a>'\n",
              "            + ' to learn more about interactive tables.';\n",
              "          element.innerHTML = '';\n",
              "          dataTable['output_type'] = 'display_data';\n",
              "          await google.colab.output.renderOutput(dataTable, element);\n",
              "          const docLink = document.createElement('div');\n",
              "          docLink.innerHTML = docLinkHtml;\n",
              "          element.appendChild(docLink);\n",
              "        }\n",
              "      </script>\n",
              "    </div>\n",
              "  </div>\n",
              "  "
            ],
            "text/plain": [
              "   State  County  Population   Age  Income  new expected sal\n",
              "0     TX     1.0        72.0  34.0    65.0            67.275\n",
              "1     TX     2.0        33.0  42.0    45.0            46.575\n",
              "2     TX     5.0        25.0  23.0    46.0            47.610\n",
              "3     TX     6.0        54.0  36.0    65.0            67.275\n",
              "4     TX     7.0        11.0  42.0    53.0            54.855\n",
              "5     TX     8.0        28.0  25.0    62.0            64.170\n",
              "6     TX     9.0        82.0  35.0    66.0            68.310\n",
              "7     TX    10.0         5.0  40.0    75.0            77.625\n",
              "8     MD    11.0        61.0  27.0    22.0            22.770\n",
              "9     MD     2.0         5.0  23.0    69.0            71.415\n",
              "10    MD     4.0        98.0  25.0    73.0            75.555\n",
              "11    MD     3.0        64.0  29.0    75.0            77.625\n",
              "12    MD     2.0        36.0  24.0    65.0            67.275\n",
              "13    MD     1.0        24.0  25.0    66.0            68.310\n",
              "14    MD     5.0        34.0  31.0    78.0            80.730\n",
              "15    MD     6.0        89.0  22.0    81.0            83.835\n",
              "16    MD     8.0        21.0  25.0    73.0            75.555\n",
              "17    MD     7.0        21.0  30.0    62.0            64.170"
            ]
          },
          "metadata": {}
        }
      ]
    },
    {
      "cell_type": "markdown",
      "metadata": {
        "id": "yQyytEbnZ1lw"
      },
      "source": [
        "# Reflection\n",
        "----\n",
        "\n",
        "## What skills have you demonstrated in completing this notebook?"
      ]
    },
    {
      "cell_type": "markdown",
      "metadata": {
        "id": "MM00hR5aZk1-"
      },
      "source": [
        "Your answer: "
      ]
    },
    {
      "cell_type": "markdown",
      "metadata": {
        "id": "Zgexd27sZ1ly"
      },
      "source": [
        "## What caused you the most difficulty?"
      ]
    },
    {
      "cell_type": "markdown",
      "metadata": {
        "id": "-Y_nrVBwaGXr"
      },
      "source": [
        "Your answer: "
      ]
    }
  ]
}