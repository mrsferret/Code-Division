{
  "nbformat": 4,
  "nbformat_minor": 5,
  "metadata": {
    "kernelspec": {
      "display_name": "R",
      "language": "R",
      "name": "ir"
    },
    "colab": {
      "name": "6. R worksheet.ipynb",
      "provenance": [],
      "collapsed_sections": [],
      "include_colab_link": true
    }
  },
  "cells": [
    {
      "cell_type": "markdown",
      "metadata": {
        "id": "view-in-github",
        "colab_type": "text"
      },
      "source": [
        "<a href=\"https://colab.research.google.com/github/mrsferret/Code-Division/blob/main/Worksheets/6_R_worksheet.ipynb\" target=\"_parent\"><img src=\"https://colab.research.google.com/assets/colab-badge.svg\" alt=\"Open In Colab\"/></a>"
      ]
    },
    {
      "cell_type": "markdown",
      "metadata": {
        "id": "13ce0267"
      },
      "source": [
        "# Using R for data analysis # \n",
        "\n",
        "R is a powerful statistical tool used frequently in science academia. Similar to Python, to use R effectively, we must use a variety of libraries.  \n",
        "\n",
        "**Run the cell block below to install and load the necessary packages**"
      ],
      "id": "13ce0267"
    },
    {
      "cell_type": "code",
      "metadata": {
        "id": "92ad1352",
        "colab": {
          "base_uri": "https://localhost:8080/"
        },
        "outputId": "cae7afaa-69f2-4ea6-db53-83b29bdb32ac"
      },
      "source": [
        "# this code needs to be run once to install the packages on your system\n",
        "# install.packages(\"tidyverse\")\n",
        "# install.packages(\"ggplot2\")\n",
        "install.packages(\"fastDummies\")"
      ],
      "id": "92ad1352",
      "execution_count": 1,
      "outputs": [
        {
          "output_type": "stream",
          "name": "stderr",
          "text": [
            "Installing package into ‘/usr/local/lib/R/site-library’\n",
            "(as ‘lib’ is unspecified)\n",
            "\n"
          ]
        }
      ]
    },
    {
      "cell_type": "code",
      "source": [
        ""
      ],
      "metadata": {
        "colab": {
          "base_uri": "https://localhost:8080/",
          "height": 130
        },
        "id": "zTCLp6v6tzQd",
        "outputId": "ec31efc3-67ea-4051-ebc4-0d171b0f6568"
      },
      "id": "zTCLp6v6tzQd",
      "execution_count": 8,
      "outputs": [
        {
          "output_type": "error",
          "ename": "ERROR",
          "evalue": "ignored",
          "traceback": [
            "Error in parse(text = x, srcfile = src): <text>:1:6: unexpected symbol\n1: !pip install\n         ^\nTraceback:\n"
          ]
        }
      ]
    },
    {
      "cell_type": "markdown",
      "metadata": {
        "id": "3wLXFZ00rPXM"
      },
      "source": [
        "**Run the cell block below here to open the packages ready for use**"
      ],
      "id": "3wLXFZ00rPXM"
    },
    {
      "cell_type": "code",
      "metadata": {
        "id": "7ad1e610",
        "colab": {
          "base_uri": "https://localhost:8080/"
        },
        "outputId": "8f6c79cc-8ba6-4d27-bd7a-db48eff8d18f"
      },
      "source": [
        "# this code needs to be run to open the packages \n",
        "\n",
        "# tidyverse includes dpylr which includes all the functions such as mutate, select, summarise etc\n",
        "library(\"tidyverse\")\n",
        "\n",
        "# ggplot2 contains all the visualisation tools (similar to matplotlib)\n",
        "library(\"ggplot2\")\n",
        "\n",
        "# fastdummies is for dummy coding\n",
        "library(\"fastDummies\")\n",
        "\n",
        "# displaying in real numbers \n",
        "\n",
        "options(scipen = 999)"
      ],
      "id": "7ad1e610",
      "execution_count": 2,
      "outputs": [
        {
          "output_type": "stream",
          "name": "stderr",
          "text": [
            "Warning message in system(\"timedatectl\", intern = TRUE):\n",
            "“running command 'timedatectl' had status 1”\n",
            "── \u001b[1mAttaching packages\u001b[22m ─────────────────────────────────────── tidyverse 1.3.1 ──\n",
            "\n",
            "\u001b[32m✔\u001b[39m \u001b[34mggplot2\u001b[39m 3.3.5     \u001b[32m✔\u001b[39m \u001b[34mpurrr  \u001b[39m 0.3.4\n",
            "\u001b[32m✔\u001b[39m \u001b[34mtibble \u001b[39m 3.1.6     \u001b[32m✔\u001b[39m \u001b[34mdplyr  \u001b[39m 1.0.8\n",
            "\u001b[32m✔\u001b[39m \u001b[34mtidyr  \u001b[39m 1.2.0     \u001b[32m✔\u001b[39m \u001b[34mstringr\u001b[39m 1.4.0\n",
            "\u001b[32m✔\u001b[39m \u001b[34mreadr  \u001b[39m 2.1.2     \u001b[32m✔\u001b[39m \u001b[34mforcats\u001b[39m 0.5.1\n",
            "\n",
            "── \u001b[1mConflicts\u001b[22m ────────────────────────────────────────── tidyverse_conflicts() ──\n",
            "\u001b[31m✖\u001b[39m \u001b[34mdplyr\u001b[39m::\u001b[32mfilter()\u001b[39m masks \u001b[34mstats\u001b[39m::filter()\n",
            "\u001b[31m✖\u001b[39m \u001b[34mdplyr\u001b[39m::\u001b[32mlag()\u001b[39m    masks \u001b[34mstats\u001b[39m::lag()\n",
            "\n"
          ]
        }
      ]
    },
    {
      "cell_type": "markdown",
      "metadata": {
        "id": "e7e51ad2"
      },
      "source": [
        "# Purpose of this worksheet\n",
        "---\n",
        "\n",
        "The purpose of this worksheet is NOT to learn the R programming language.  Rather, it is intended to show some statistical methods that haven't yet been covered, using R as the coding language.  \n",
        "\n",
        "This will allow some exposure to a different language, used for often different reasons from using Python.\n",
        "\n",
        "\n",
        "### In this worksheet you will start by using R versions of operations you have already used in Python.  Then you will be analysing student performance data and performing a multiple linear regression. ###\n",
        "\n",
        "url = \"https://raw.githubusercontent.com/lilaceri/Working-with-data-/main/exams.csv\"\n",
        "\n",
        "### Setting variables ### \n",
        "\n",
        "```variable <- ...```\n",
        "\n",
        "**In R we use <- instead of using = python** \n",
        "\n",
        "### Reading data from our computer into a variable ###\n",
        "\n",
        "```data <- read_csv(\"data.csv\")```\n",
        "\n",
        "### Reading data from a URL into a variable ###\n",
        "\n",
        "```data <- read_csv(\"https://raw.github.com/file.csv\")```\n",
        "\n",
        "### Look at the first few rows of the dataset ###\n",
        "\n",
        "```head(data)```\n",
        "\n",
        "### Summary of the data ###\n",
        "\n",
        "```summary(data)```"
      ],
      "id": "e7e51ad2"
    },
    {
      "cell_type": "markdown",
      "metadata": {
        "id": "f80ef2b6"
      },
      "source": [
        "## Exercise 1\n",
        "---\n",
        "\n",
        "Read the data into a variable and have a look at it. "
      ],
      "id": "f80ef2b6"
    },
    {
      "cell_type": "code",
      "metadata": {
        "id": "278012b6",
        "colab": {
          "base_uri": "https://localhost:8080/",
          "height": 963
        },
        "outputId": "dbf5d9a6-0402-4747-e318-b1308e43d26b"
      },
      "source": [
        "data <- read_csv(\"https://raw.githubusercontent.com/rashida048/Datasets/master/StudentsPerformance.csv\")\n",
        "\n",
        "spec(data)\n",
        "head(data)\n",
        "summary(data)"
      ],
      "id": "278012b6",
      "execution_count": 12,
      "outputs": [
        {
          "output_type": "stream",
          "name": "stderr",
          "text": [
            "\u001b[1mRows: \u001b[22m\u001b[34m1000\u001b[39m \u001b[1mColumns: \u001b[22m\u001b[34m8\u001b[39m\n",
            "\u001b[36m──\u001b[39m \u001b[1mColumn specification\u001b[22m \u001b[36m────────────────────────────────────────────────────────\u001b[39m\n",
            "\u001b[1mDelimiter:\u001b[22m \",\"\n",
            "\u001b[31mchr\u001b[39m (5): gender, race/ethnicity, parental level of education, lunch, test pr...\n",
            "\u001b[32mdbl\u001b[39m (3): math score, reading score, writing score\n",
            "\n",
            "\u001b[36mℹ\u001b[39m Use `spec()` to retrieve the full column specification for this data.\n",
            "\u001b[36mℹ\u001b[39m Specify the column types or set `show_col_types = FALSE` to quiet this message.\n"
          ]
        },
        {
          "output_type": "display_data",
          "data": {
            "text/plain": [
              "cols(\n",
              "  gender = \u001b[31mcol_character()\u001b[39m,\n",
              "  `race/ethnicity` = \u001b[31mcol_character()\u001b[39m,\n",
              "  `parental level of education` = \u001b[31mcol_character()\u001b[39m,\n",
              "  lunch = \u001b[31mcol_character()\u001b[39m,\n",
              "  `test preparation course` = \u001b[31mcol_character()\u001b[39m,\n",
              "  `math score` = \u001b[32mcol_double()\u001b[39m,\n",
              "  `reading score` = \u001b[32mcol_double()\u001b[39m,\n",
              "  `writing score` = \u001b[32mcol_double()\u001b[39m\n",
              ")"
            ]
          },
          "metadata": {}
        },
        {
          "output_type": "display_data",
          "data": {
            "text/html": [
              "<table class=\"dataframe\">\n",
              "<caption>A tibble: 6 × 8</caption>\n",
              "<thead>\n",
              "\t<tr><th scope=col>gender</th><th scope=col>race/ethnicity</th><th scope=col>parental level of education</th><th scope=col>lunch</th><th scope=col>test preparation course</th><th scope=col>math score</th><th scope=col>reading score</th><th scope=col>writing score</th></tr>\n",
              "\t<tr><th scope=col>&lt;chr&gt;</th><th scope=col>&lt;chr&gt;</th><th scope=col>&lt;chr&gt;</th><th scope=col>&lt;chr&gt;</th><th scope=col>&lt;chr&gt;</th><th scope=col>&lt;dbl&gt;</th><th scope=col>&lt;dbl&gt;</th><th scope=col>&lt;dbl&gt;</th></tr>\n",
              "</thead>\n",
              "<tbody>\n",
              "\t<tr><td>female</td><td>group B</td><td>bachelor's degree </td><td>standard    </td><td>none     </td><td>72</td><td>72</td><td>74</td></tr>\n",
              "\t<tr><td>female</td><td>group C</td><td>some college      </td><td>standard    </td><td>completed</td><td>69</td><td>90</td><td>88</td></tr>\n",
              "\t<tr><td>female</td><td>group B</td><td>master's degree   </td><td>standard    </td><td>none     </td><td>90</td><td>95</td><td>93</td></tr>\n",
              "\t<tr><td>male  </td><td>group A</td><td>associate's degree</td><td>free/reduced</td><td>none     </td><td>47</td><td>57</td><td>44</td></tr>\n",
              "\t<tr><td>male  </td><td>group C</td><td>some college      </td><td>standard    </td><td>none     </td><td>76</td><td>78</td><td>75</td></tr>\n",
              "\t<tr><td>female</td><td>group B</td><td>associate's degree</td><td>standard    </td><td>none     </td><td>71</td><td>83</td><td>78</td></tr>\n",
              "</tbody>\n",
              "</table>\n"
            ],
            "text/markdown": "\nA tibble: 6 × 8\n\n| gender &lt;chr&gt; | race/ethnicity &lt;chr&gt; | parental level of education &lt;chr&gt; | lunch &lt;chr&gt; | test preparation course &lt;chr&gt; | math score &lt;dbl&gt; | reading score &lt;dbl&gt; | writing score &lt;dbl&gt; |\n|---|---|---|---|---|---|---|---|\n| female | group B | bachelor's degree  | standard     | none      | 72 | 72 | 74 |\n| female | group C | some college       | standard     | completed | 69 | 90 | 88 |\n| female | group B | master's degree    | standard     | none      | 90 | 95 | 93 |\n| male   | group A | associate's degree | free/reduced | none      | 47 | 57 | 44 |\n| male   | group C | some college       | standard     | none      | 76 | 78 | 75 |\n| female | group B | associate's degree | standard     | none      | 71 | 83 | 78 |\n\n",
            "text/latex": "A tibble: 6 × 8\n\\begin{tabular}{llllllll}\n gender & race/ethnicity & parental level of education & lunch & test preparation course & math score & reading score & writing score\\\\\n <chr> & <chr> & <chr> & <chr> & <chr> & <dbl> & <dbl> & <dbl>\\\\\n\\hline\n\t female & group B & bachelor's degree  & standard     & none      & 72 & 72 & 74\\\\\n\t female & group C & some college       & standard     & completed & 69 & 90 & 88\\\\\n\t female & group B & master's degree    & standard     & none      & 90 & 95 & 93\\\\\n\t male   & group A & associate's degree & free/reduced & none      & 47 & 57 & 44\\\\\n\t male   & group C & some college       & standard     & none      & 76 & 78 & 75\\\\\n\t female & group B & associate's degree & standard     & none      & 71 & 83 & 78\\\\\n\\end{tabular}\n",
            "text/plain": [
              "  gender race/ethnicity parental level of education lunch       \n",
              "1 female group B        bachelor's degree           standard    \n",
              "2 female group C        some college                standard    \n",
              "3 female group B        master's degree             standard    \n",
              "4 male   group A        associate's degree          free/reduced\n",
              "5 male   group C        some college                standard    \n",
              "6 female group B        associate's degree          standard    \n",
              "  test preparation course math score reading score writing score\n",
              "1 none                    72         72            74           \n",
              "2 completed               69         90            88           \n",
              "3 none                    90         95            93           \n",
              "4 none                    47         57            44           \n",
              "5 none                    76         78            75           \n",
              "6 none                    71         83            78           "
            ]
          },
          "metadata": {}
        },
        {
          "output_type": "display_data",
          "data": {
            "text/plain": [
              "    gender          race/ethnicity     parental level of education\n",
              " Length:1000        Length:1000        Length:1000                \n",
              " Class :character   Class :character   Class :character           \n",
              " Mode  :character   Mode  :character   Mode  :character           \n",
              "                                                                  \n",
              "                                                                  \n",
              "                                                                  \n",
              "    lunch           test preparation course   math score     reading score   \n",
              " Length:1000        Length:1000             Min.   :  0.00   Min.   : 17.00  \n",
              " Class :character   Class :character        1st Qu.: 57.00   1st Qu.: 59.00  \n",
              " Mode  :character   Mode  :character        Median : 66.00   Median : 70.00  \n",
              "                                            Mean   : 66.09   Mean   : 69.17  \n",
              "                                            3rd Qu.: 77.00   3rd Qu.: 79.00  \n",
              "                                            Max.   :100.00   Max.   :100.00  \n",
              " writing score   \n",
              " Min.   : 10.00  \n",
              " 1st Qu.: 57.75  \n",
              " Median : 69.00  \n",
              " Mean   : 68.05  \n",
              " 3rd Qu.: 79.00  \n",
              " Max.   :100.00  "
            ]
          },
          "metadata": {}
        }
      ]
    },
    {
      "cell_type": "markdown",
      "metadata": {
        "id": "f22b0df3"
      },
      "source": [
        "# Lets have a look at the data ###\n",
        "\n",
        "We can use the `arrange()` function to sort the data or `desc()` function to sort into descending order\n",
        "\n",
        "```\n",
        "arranged_column <- arrange(data, column_name)\n",
        "head(arranged_column)\n",
        "tail(arranged_column)\n",
        "summary(arranged_column)\n",
        "```\n",
        "\n",
        "We can use the select() function to look at specific columns\n",
        "\n",
        "```\n",
        "column_specific <- select(data, column_1, column_2)\n",
        "column_specific\n",
        "```\n",
        "\n",
        "\n",
        "\n",
        "### Exercise 2 ###\n",
        "---\n",
        "\n",
        "Now have a go looking at the data in different ways, using the functions above:"
      ],
      "id": "f22b0df3"
    },
    {
      "cell_type": "code",
      "metadata": {
        "id": "e99d1914",
        "colab": {
          "base_uri": "https://localhost:8080/",
          "height": 920
        },
        "outputId": "47f3958b-6d7a-4293-a63e-89075308dcca"
      },
      "source": [
        "arranged_column <- arrange(data, 'race/ethnicity')\n",
        "head(arranged_column)\n",
        "tail(arranged_column)\n",
        "summary(arranged_column)"
      ],
      "id": "e99d1914",
      "execution_count": 15,
      "outputs": [
        {
          "output_type": "display_data",
          "data": {
            "text/html": [
              "<table class=\"dataframe\">\n",
              "<caption>A tibble: 6 × 8</caption>\n",
              "<thead>\n",
              "\t<tr><th scope=col>gender</th><th scope=col>race/ethnicity</th><th scope=col>parental level of education</th><th scope=col>lunch</th><th scope=col>test preparation course</th><th scope=col>math score</th><th scope=col>reading score</th><th scope=col>writing score</th></tr>\n",
              "\t<tr><th scope=col>&lt;chr&gt;</th><th scope=col>&lt;chr&gt;</th><th scope=col>&lt;chr&gt;</th><th scope=col>&lt;chr&gt;</th><th scope=col>&lt;chr&gt;</th><th scope=col>&lt;dbl&gt;</th><th scope=col>&lt;dbl&gt;</th><th scope=col>&lt;dbl&gt;</th></tr>\n",
              "</thead>\n",
              "<tbody>\n",
              "\t<tr><td>female</td><td>group B</td><td>bachelor's degree </td><td>standard    </td><td>none     </td><td>72</td><td>72</td><td>74</td></tr>\n",
              "\t<tr><td>female</td><td>group C</td><td>some college      </td><td>standard    </td><td>completed</td><td>69</td><td>90</td><td>88</td></tr>\n",
              "\t<tr><td>female</td><td>group B</td><td>master's degree   </td><td>standard    </td><td>none     </td><td>90</td><td>95</td><td>93</td></tr>\n",
              "\t<tr><td>male  </td><td>group A</td><td>associate's degree</td><td>free/reduced</td><td>none     </td><td>47</td><td>57</td><td>44</td></tr>\n",
              "\t<tr><td>male  </td><td>group C</td><td>some college      </td><td>standard    </td><td>none     </td><td>76</td><td>78</td><td>75</td></tr>\n",
              "\t<tr><td>female</td><td>group B</td><td>associate's degree</td><td>standard    </td><td>none     </td><td>71</td><td>83</td><td>78</td></tr>\n",
              "</tbody>\n",
              "</table>\n"
            ],
            "text/markdown": "\nA tibble: 6 × 8\n\n| gender &lt;chr&gt; | race/ethnicity &lt;chr&gt; | parental level of education &lt;chr&gt; | lunch &lt;chr&gt; | test preparation course &lt;chr&gt; | math score &lt;dbl&gt; | reading score &lt;dbl&gt; | writing score &lt;dbl&gt; |\n|---|---|---|---|---|---|---|---|\n| female | group B | bachelor's degree  | standard     | none      | 72 | 72 | 74 |\n| female | group C | some college       | standard     | completed | 69 | 90 | 88 |\n| female | group B | master's degree    | standard     | none      | 90 | 95 | 93 |\n| male   | group A | associate's degree | free/reduced | none      | 47 | 57 | 44 |\n| male   | group C | some college       | standard     | none      | 76 | 78 | 75 |\n| female | group B | associate's degree | standard     | none      | 71 | 83 | 78 |\n\n",
            "text/latex": "A tibble: 6 × 8\n\\begin{tabular}{llllllll}\n gender & race/ethnicity & parental level of education & lunch & test preparation course & math score & reading score & writing score\\\\\n <chr> & <chr> & <chr> & <chr> & <chr> & <dbl> & <dbl> & <dbl>\\\\\n\\hline\n\t female & group B & bachelor's degree  & standard     & none      & 72 & 72 & 74\\\\\n\t female & group C & some college       & standard     & completed & 69 & 90 & 88\\\\\n\t female & group B & master's degree    & standard     & none      & 90 & 95 & 93\\\\\n\t male   & group A & associate's degree & free/reduced & none      & 47 & 57 & 44\\\\\n\t male   & group C & some college       & standard     & none      & 76 & 78 & 75\\\\\n\t female & group B & associate's degree & standard     & none      & 71 & 83 & 78\\\\\n\\end{tabular}\n",
            "text/plain": [
              "  gender race/ethnicity parental level of education lunch       \n",
              "1 female group B        bachelor's degree           standard    \n",
              "2 female group C        some college                standard    \n",
              "3 female group B        master's degree             standard    \n",
              "4 male   group A        associate's degree          free/reduced\n",
              "5 male   group C        some college                standard    \n",
              "6 female group B        associate's degree          standard    \n",
              "  test preparation course math score reading score writing score\n",
              "1 none                    72         72            74           \n",
              "2 completed               69         90            88           \n",
              "3 none                    90         95            93           \n",
              "4 none                    47         57            44           \n",
              "5 none                    76         78            75           \n",
              "6 none                    71         83            78           "
            ]
          },
          "metadata": {}
        },
        {
          "output_type": "display_data",
          "data": {
            "text/html": [
              "<table class=\"dataframe\">\n",
              "<caption>A tibble: 6 × 8</caption>\n",
              "<thead>\n",
              "\t<tr><th scope=col>gender</th><th scope=col>race/ethnicity</th><th scope=col>parental level of education</th><th scope=col>lunch</th><th scope=col>test preparation course</th><th scope=col>math score</th><th scope=col>reading score</th><th scope=col>writing score</th></tr>\n",
              "\t<tr><th scope=col>&lt;chr&gt;</th><th scope=col>&lt;chr&gt;</th><th scope=col>&lt;chr&gt;</th><th scope=col>&lt;chr&gt;</th><th scope=col>&lt;chr&gt;</th><th scope=col>&lt;dbl&gt;</th><th scope=col>&lt;dbl&gt;</th><th scope=col>&lt;dbl&gt;</th></tr>\n",
              "</thead>\n",
              "<tbody>\n",
              "\t<tr><td>male  </td><td>group A</td><td>high school    </td><td>standard    </td><td>none     </td><td>63</td><td>63</td><td>62</td></tr>\n",
              "\t<tr><td>female</td><td>group E</td><td>master's degree</td><td>standard    </td><td>completed</td><td>88</td><td>99</td><td>95</td></tr>\n",
              "\t<tr><td>male  </td><td>group C</td><td>high school    </td><td>free/reduced</td><td>none     </td><td>62</td><td>55</td><td>55</td></tr>\n",
              "\t<tr><td>female</td><td>group C</td><td>high school    </td><td>free/reduced</td><td>completed</td><td>59</td><td>71</td><td>65</td></tr>\n",
              "\t<tr><td>female</td><td>group D</td><td>some college   </td><td>standard    </td><td>completed</td><td>68</td><td>78</td><td>77</td></tr>\n",
              "\t<tr><td>female</td><td>group D</td><td>some college   </td><td>free/reduced</td><td>none     </td><td>77</td><td>86</td><td>86</td></tr>\n",
              "</tbody>\n",
              "</table>\n"
            ],
            "text/markdown": "\nA tibble: 6 × 8\n\n| gender &lt;chr&gt; | race/ethnicity &lt;chr&gt; | parental level of education &lt;chr&gt; | lunch &lt;chr&gt; | test preparation course &lt;chr&gt; | math score &lt;dbl&gt; | reading score &lt;dbl&gt; | writing score &lt;dbl&gt; |\n|---|---|---|---|---|---|---|---|\n| male   | group A | high school     | standard     | none      | 63 | 63 | 62 |\n| female | group E | master's degree | standard     | completed | 88 | 99 | 95 |\n| male   | group C | high school     | free/reduced | none      | 62 | 55 | 55 |\n| female | group C | high school     | free/reduced | completed | 59 | 71 | 65 |\n| female | group D | some college    | standard     | completed | 68 | 78 | 77 |\n| female | group D | some college    | free/reduced | none      | 77 | 86 | 86 |\n\n",
            "text/latex": "A tibble: 6 × 8\n\\begin{tabular}{llllllll}\n gender & race/ethnicity & parental level of education & lunch & test preparation course & math score & reading score & writing score\\\\\n <chr> & <chr> & <chr> & <chr> & <chr> & <dbl> & <dbl> & <dbl>\\\\\n\\hline\n\t male   & group A & high school     & standard     & none      & 63 & 63 & 62\\\\\n\t female & group E & master's degree & standard     & completed & 88 & 99 & 95\\\\\n\t male   & group C & high school     & free/reduced & none      & 62 & 55 & 55\\\\\n\t female & group C & high school     & free/reduced & completed & 59 & 71 & 65\\\\\n\t female & group D & some college    & standard     & completed & 68 & 78 & 77\\\\\n\t female & group D & some college    & free/reduced & none      & 77 & 86 & 86\\\\\n\\end{tabular}\n",
            "text/plain": [
              "  gender race/ethnicity parental level of education lunch       \n",
              "1 male   group A        high school                 standard    \n",
              "2 female group E        master's degree             standard    \n",
              "3 male   group C        high school                 free/reduced\n",
              "4 female group C        high school                 free/reduced\n",
              "5 female group D        some college                standard    \n",
              "6 female group D        some college                free/reduced\n",
              "  test preparation course math score reading score writing score\n",
              "1 none                    63         63            62           \n",
              "2 completed               88         99            95           \n",
              "3 none                    62         55            55           \n",
              "4 completed               59         71            65           \n",
              "5 completed               68         78            77           \n",
              "6 none                    77         86            86           "
            ]
          },
          "metadata": {}
        },
        {
          "output_type": "display_data",
          "data": {
            "text/plain": [
              "    gender          race/ethnicity     parental level of education\n",
              " Length:1000        Length:1000        Length:1000                \n",
              " Class :character   Class :character   Class :character           \n",
              " Mode  :character   Mode  :character   Mode  :character           \n",
              "                                                                  \n",
              "                                                                  \n",
              "                                                                  \n",
              "    lunch           test preparation course   math score     reading score   \n",
              " Length:1000        Length:1000             Min.   :  0.00   Min.   : 17.00  \n",
              " Class :character   Class :character        1st Qu.: 57.00   1st Qu.: 59.00  \n",
              " Mode  :character   Mode  :character        Median : 66.00   Median : 70.00  \n",
              "                                            Mean   : 66.09   Mean   : 69.17  \n",
              "                                            3rd Qu.: 77.00   3rd Qu.: 79.00  \n",
              "                                            Max.   :100.00   Max.   :100.00  \n",
              " writing score   \n",
              " Min.   : 10.00  \n",
              " 1st Qu.: 57.75  \n",
              " Median : 69.00  \n",
              " Mean   : 68.05  \n",
              " 3rd Qu.: 79.00  \n",
              " Max.   :100.00  "
            ]
          },
          "metadata": {}
        }
      ]
    },
    {
      "cell_type": "markdown",
      "metadata": {
        "id": "ed7b8c0d"
      },
      "source": [
        "# Prepare the data for a linear regression\n",
        "\n",
        "Rows containing null, or error-prone values can affect statistics such as measures of central tendency (e.g. mean, median) and operations such as linear regressions, reducing accuracy.\n",
        "\n",
        "To check for null values we can use:\n",
        "\n",
        "``` is.na(data) ```\n",
        "\n",
        "To remove rows which contain null values we can use:  \n",
        "\n",
        "``` na.omit(data) ``` \n",
        "\n",
        "\n",
        "\n",
        "### Exercise 3\n",
        "---\n",
        "\n",
        "Check your dataframe for null values and remove rows with null values if necessary"
      ],
      "id": "ed7b8c0d"
    },
    {
      "cell_type": "code",
      "metadata": {
        "id": "7f261cc0",
        "colab": {
          "base_uri": "https://localhost:8080/",
          "height": 1000
        },
        "outputId": "17eaeb1b-3adb-4b6b-d5a6-15b4fc7111a5"
      },
      "source": [
        "is.na(data)\n",
        "na.omit(data)\n",
        "names(data)\n",
        "\n",
        "names(data) <- c(\"gender\", \"ethnicity\", \"parental_lvl_education\", \"lunch\", \"test_prep_course\", \"maths_score\", \"reading_score\", \"writing_score\")\n",
        "names(data)\n",
        "\n",
        "\n",
        "\n"
      ],
      "id": "7f261cc0",
      "execution_count": 24,
      "outputs": [
        {
          "output_type": "display_data",
          "data": {
            "text/html": [
              "<table class=\"dataframe\">\n",
              "<caption>A matrix: 1000 × 8 of type lgl</caption>\n",
              "<thead>\n",
              "\t<tr><th scope=col>gender</th><th scope=col>race/ethnicity</th><th scope=col>parental level of education</th><th scope=col>lunch</th><th scope=col>test preparation course</th><th scope=col>math score</th><th scope=col>reading score</th><th scope=col>writing score</th></tr>\n",
              "</thead>\n",
              "<tbody>\n",
              "\t<tr><td>FALSE</td><td>FALSE</td><td>FALSE</td><td>FALSE</td><td>FALSE</td><td>FALSE</td><td>FALSE</td><td>FALSE</td></tr>\n",
              "\t<tr><td>FALSE</td><td>FALSE</td><td>FALSE</td><td>FALSE</td><td>FALSE</td><td>FALSE</td><td>FALSE</td><td>FALSE</td></tr>\n",
              "\t<tr><td>FALSE</td><td>FALSE</td><td>FALSE</td><td>FALSE</td><td>FALSE</td><td>FALSE</td><td>FALSE</td><td>FALSE</td></tr>\n",
              "\t<tr><td>FALSE</td><td>FALSE</td><td>FALSE</td><td>FALSE</td><td>FALSE</td><td>FALSE</td><td>FALSE</td><td>FALSE</td></tr>\n",
              "\t<tr><td>FALSE</td><td>FALSE</td><td>FALSE</td><td>FALSE</td><td>FALSE</td><td>FALSE</td><td>FALSE</td><td>FALSE</td></tr>\n",
              "\t<tr><td>FALSE</td><td>FALSE</td><td>FALSE</td><td>FALSE</td><td>FALSE</td><td>FALSE</td><td>FALSE</td><td>FALSE</td></tr>\n",
              "\t<tr><td>FALSE</td><td>FALSE</td><td>FALSE</td><td>FALSE</td><td>FALSE</td><td>FALSE</td><td>FALSE</td><td>FALSE</td></tr>\n",
              "\t<tr><td>FALSE</td><td>FALSE</td><td>FALSE</td><td>FALSE</td><td>FALSE</td><td>FALSE</td><td>FALSE</td><td>FALSE</td></tr>\n",
              "\t<tr><td>FALSE</td><td>FALSE</td><td>FALSE</td><td>FALSE</td><td>FALSE</td><td>FALSE</td><td>FALSE</td><td>FALSE</td></tr>\n",
              "\t<tr><td>FALSE</td><td>FALSE</td><td>FALSE</td><td>FALSE</td><td>FALSE</td><td>FALSE</td><td>FALSE</td><td>FALSE</td></tr>\n",
              "\t<tr><td>FALSE</td><td>FALSE</td><td>FALSE</td><td>FALSE</td><td>FALSE</td><td>FALSE</td><td>FALSE</td><td>FALSE</td></tr>\n",
              "\t<tr><td>FALSE</td><td>FALSE</td><td>FALSE</td><td>FALSE</td><td>FALSE</td><td>FALSE</td><td>FALSE</td><td>FALSE</td></tr>\n",
              "\t<tr><td>FALSE</td><td>FALSE</td><td>FALSE</td><td>FALSE</td><td>FALSE</td><td>FALSE</td><td>FALSE</td><td>FALSE</td></tr>\n",
              "\t<tr><td>FALSE</td><td>FALSE</td><td>FALSE</td><td>FALSE</td><td>FALSE</td><td>FALSE</td><td>FALSE</td><td>FALSE</td></tr>\n",
              "\t<tr><td>FALSE</td><td>FALSE</td><td>FALSE</td><td>FALSE</td><td>FALSE</td><td>FALSE</td><td>FALSE</td><td>FALSE</td></tr>\n",
              "\t<tr><td>FALSE</td><td>FALSE</td><td>FALSE</td><td>FALSE</td><td>FALSE</td><td>FALSE</td><td>FALSE</td><td>FALSE</td></tr>\n",
              "\t<tr><td>FALSE</td><td>FALSE</td><td>FALSE</td><td>FALSE</td><td>FALSE</td><td>FALSE</td><td>FALSE</td><td>FALSE</td></tr>\n",
              "\t<tr><td>FALSE</td><td>FALSE</td><td>FALSE</td><td>FALSE</td><td>FALSE</td><td>FALSE</td><td>FALSE</td><td>FALSE</td></tr>\n",
              "\t<tr><td>FALSE</td><td>FALSE</td><td>FALSE</td><td>FALSE</td><td>FALSE</td><td>FALSE</td><td>FALSE</td><td>FALSE</td></tr>\n",
              "\t<tr><td>FALSE</td><td>FALSE</td><td>FALSE</td><td>FALSE</td><td>FALSE</td><td>FALSE</td><td>FALSE</td><td>FALSE</td></tr>\n",
              "\t<tr><td>FALSE</td><td>FALSE</td><td>FALSE</td><td>FALSE</td><td>FALSE</td><td>FALSE</td><td>FALSE</td><td>FALSE</td></tr>\n",
              "\t<tr><td>FALSE</td><td>FALSE</td><td>FALSE</td><td>FALSE</td><td>FALSE</td><td>FALSE</td><td>FALSE</td><td>FALSE</td></tr>\n",
              "\t<tr><td>FALSE</td><td>FALSE</td><td>FALSE</td><td>FALSE</td><td>FALSE</td><td>FALSE</td><td>FALSE</td><td>FALSE</td></tr>\n",
              "\t<tr><td>FALSE</td><td>FALSE</td><td>FALSE</td><td>FALSE</td><td>FALSE</td><td>FALSE</td><td>FALSE</td><td>FALSE</td></tr>\n",
              "\t<tr><td>FALSE</td><td>FALSE</td><td>FALSE</td><td>FALSE</td><td>FALSE</td><td>FALSE</td><td>FALSE</td><td>FALSE</td></tr>\n",
              "\t<tr><td>FALSE</td><td>FALSE</td><td>FALSE</td><td>FALSE</td><td>FALSE</td><td>FALSE</td><td>FALSE</td><td>FALSE</td></tr>\n",
              "\t<tr><td>FALSE</td><td>FALSE</td><td>FALSE</td><td>FALSE</td><td>FALSE</td><td>FALSE</td><td>FALSE</td><td>FALSE</td></tr>\n",
              "\t<tr><td>FALSE</td><td>FALSE</td><td>FALSE</td><td>FALSE</td><td>FALSE</td><td>FALSE</td><td>FALSE</td><td>FALSE</td></tr>\n",
              "\t<tr><td>FALSE</td><td>FALSE</td><td>FALSE</td><td>FALSE</td><td>FALSE</td><td>FALSE</td><td>FALSE</td><td>FALSE</td></tr>\n",
              "\t<tr><td>FALSE</td><td>FALSE</td><td>FALSE</td><td>FALSE</td><td>FALSE</td><td>FALSE</td><td>FALSE</td><td>FALSE</td></tr>\n",
              "\t<tr><td>⋮</td><td>⋮</td><td>⋮</td><td>⋮</td><td>⋮</td><td>⋮</td><td>⋮</td><td>⋮</td></tr>\n",
              "\t<tr><td>FALSE</td><td>FALSE</td><td>FALSE</td><td>FALSE</td><td>FALSE</td><td>FALSE</td><td>FALSE</td><td>FALSE</td></tr>\n",
              "\t<tr><td>FALSE</td><td>FALSE</td><td>FALSE</td><td>FALSE</td><td>FALSE</td><td>FALSE</td><td>FALSE</td><td>FALSE</td></tr>\n",
              "\t<tr><td>FALSE</td><td>FALSE</td><td>FALSE</td><td>FALSE</td><td>FALSE</td><td>FALSE</td><td>FALSE</td><td>FALSE</td></tr>\n",
              "\t<tr><td>FALSE</td><td>FALSE</td><td>FALSE</td><td>FALSE</td><td>FALSE</td><td>FALSE</td><td>FALSE</td><td>FALSE</td></tr>\n",
              "\t<tr><td>FALSE</td><td>FALSE</td><td>FALSE</td><td>FALSE</td><td>FALSE</td><td>FALSE</td><td>FALSE</td><td>FALSE</td></tr>\n",
              "\t<tr><td>FALSE</td><td>FALSE</td><td>FALSE</td><td>FALSE</td><td>FALSE</td><td>FALSE</td><td>FALSE</td><td>FALSE</td></tr>\n",
              "\t<tr><td>FALSE</td><td>FALSE</td><td>FALSE</td><td>FALSE</td><td>FALSE</td><td>FALSE</td><td>FALSE</td><td>FALSE</td></tr>\n",
              "\t<tr><td>FALSE</td><td>FALSE</td><td>FALSE</td><td>FALSE</td><td>FALSE</td><td>FALSE</td><td>FALSE</td><td>FALSE</td></tr>\n",
              "\t<tr><td>FALSE</td><td>FALSE</td><td>FALSE</td><td>FALSE</td><td>FALSE</td><td>FALSE</td><td>FALSE</td><td>FALSE</td></tr>\n",
              "\t<tr><td>FALSE</td><td>FALSE</td><td>FALSE</td><td>FALSE</td><td>FALSE</td><td>FALSE</td><td>FALSE</td><td>FALSE</td></tr>\n",
              "\t<tr><td>FALSE</td><td>FALSE</td><td>FALSE</td><td>FALSE</td><td>FALSE</td><td>FALSE</td><td>FALSE</td><td>FALSE</td></tr>\n",
              "\t<tr><td>FALSE</td><td>FALSE</td><td>FALSE</td><td>FALSE</td><td>FALSE</td><td>FALSE</td><td>FALSE</td><td>FALSE</td></tr>\n",
              "\t<tr><td>FALSE</td><td>FALSE</td><td>FALSE</td><td>FALSE</td><td>FALSE</td><td>FALSE</td><td>FALSE</td><td>FALSE</td></tr>\n",
              "\t<tr><td>FALSE</td><td>FALSE</td><td>FALSE</td><td>FALSE</td><td>FALSE</td><td>FALSE</td><td>FALSE</td><td>FALSE</td></tr>\n",
              "\t<tr><td>FALSE</td><td>FALSE</td><td>FALSE</td><td>FALSE</td><td>FALSE</td><td>FALSE</td><td>FALSE</td><td>FALSE</td></tr>\n",
              "\t<tr><td>FALSE</td><td>FALSE</td><td>FALSE</td><td>FALSE</td><td>FALSE</td><td>FALSE</td><td>FALSE</td><td>FALSE</td></tr>\n",
              "\t<tr><td>FALSE</td><td>FALSE</td><td>FALSE</td><td>FALSE</td><td>FALSE</td><td>FALSE</td><td>FALSE</td><td>FALSE</td></tr>\n",
              "\t<tr><td>FALSE</td><td>FALSE</td><td>FALSE</td><td>FALSE</td><td>FALSE</td><td>FALSE</td><td>FALSE</td><td>FALSE</td></tr>\n",
              "\t<tr><td>FALSE</td><td>FALSE</td><td>FALSE</td><td>FALSE</td><td>FALSE</td><td>FALSE</td><td>FALSE</td><td>FALSE</td></tr>\n",
              "\t<tr><td>FALSE</td><td>FALSE</td><td>FALSE</td><td>FALSE</td><td>FALSE</td><td>FALSE</td><td>FALSE</td><td>FALSE</td></tr>\n",
              "\t<tr><td>FALSE</td><td>FALSE</td><td>FALSE</td><td>FALSE</td><td>FALSE</td><td>FALSE</td><td>FALSE</td><td>FALSE</td></tr>\n",
              "\t<tr><td>FALSE</td><td>FALSE</td><td>FALSE</td><td>FALSE</td><td>FALSE</td><td>FALSE</td><td>FALSE</td><td>FALSE</td></tr>\n",
              "\t<tr><td>FALSE</td><td>FALSE</td><td>FALSE</td><td>FALSE</td><td>FALSE</td><td>FALSE</td><td>FALSE</td><td>FALSE</td></tr>\n",
              "\t<tr><td>FALSE</td><td>FALSE</td><td>FALSE</td><td>FALSE</td><td>FALSE</td><td>FALSE</td><td>FALSE</td><td>FALSE</td></tr>\n",
              "\t<tr><td>FALSE</td><td>FALSE</td><td>FALSE</td><td>FALSE</td><td>FALSE</td><td>FALSE</td><td>FALSE</td><td>FALSE</td></tr>\n",
              "\t<tr><td>FALSE</td><td>FALSE</td><td>FALSE</td><td>FALSE</td><td>FALSE</td><td>FALSE</td><td>FALSE</td><td>FALSE</td></tr>\n",
              "\t<tr><td>FALSE</td><td>FALSE</td><td>FALSE</td><td>FALSE</td><td>FALSE</td><td>FALSE</td><td>FALSE</td><td>FALSE</td></tr>\n",
              "\t<tr><td>FALSE</td><td>FALSE</td><td>FALSE</td><td>FALSE</td><td>FALSE</td><td>FALSE</td><td>FALSE</td><td>FALSE</td></tr>\n",
              "\t<tr><td>FALSE</td><td>FALSE</td><td>FALSE</td><td>FALSE</td><td>FALSE</td><td>FALSE</td><td>FALSE</td><td>FALSE</td></tr>\n",
              "\t<tr><td>FALSE</td><td>FALSE</td><td>FALSE</td><td>FALSE</td><td>FALSE</td><td>FALSE</td><td>FALSE</td><td>FALSE</td></tr>\n",
              "</tbody>\n",
              "</table>\n"
            ],
            "text/markdown": "\nA matrix: 1000 × 8 of type lgl\n\n| gender | race/ethnicity | parental level of education | lunch | test preparation course | math score | reading score | writing score |\n|---|---|---|---|---|---|---|---|\n| FALSE | FALSE | FALSE | FALSE | FALSE | FALSE | FALSE | FALSE |\n| FALSE | FALSE | FALSE | FALSE | FALSE | FALSE | FALSE | FALSE |\n| FALSE | FALSE | FALSE | FALSE | FALSE | FALSE | FALSE | FALSE |\n| FALSE | FALSE | FALSE | FALSE | FALSE | FALSE | FALSE | FALSE |\n| FALSE | FALSE | FALSE | FALSE | FALSE | FALSE | FALSE | FALSE |\n| FALSE | FALSE | FALSE | FALSE | FALSE | FALSE | FALSE | FALSE |\n| FALSE | FALSE | FALSE | FALSE | FALSE | FALSE | FALSE | FALSE |\n| FALSE | FALSE | FALSE | FALSE | FALSE | FALSE | FALSE | FALSE |\n| FALSE | FALSE | FALSE | FALSE | FALSE | FALSE | FALSE | FALSE |\n| FALSE | FALSE | FALSE | FALSE | FALSE | FALSE | FALSE | FALSE |\n| FALSE | FALSE | FALSE | FALSE | FALSE | FALSE | FALSE | FALSE |\n| FALSE | FALSE | FALSE | FALSE | FALSE | FALSE | FALSE | FALSE |\n| FALSE | FALSE | FALSE | FALSE | FALSE | FALSE | FALSE | FALSE |\n| FALSE | FALSE | FALSE | FALSE | FALSE | FALSE | FALSE | FALSE |\n| FALSE | FALSE | FALSE | FALSE | FALSE | FALSE | FALSE | FALSE |\n| FALSE | FALSE | FALSE | FALSE | FALSE | FALSE | FALSE | FALSE |\n| FALSE | FALSE | FALSE | FALSE | FALSE | FALSE | FALSE | FALSE |\n| FALSE | FALSE | FALSE | FALSE | FALSE | FALSE | FALSE | FALSE |\n| FALSE | FALSE | FALSE | FALSE | FALSE | FALSE | FALSE | FALSE |\n| FALSE | FALSE | FALSE | FALSE | FALSE | FALSE | FALSE | FALSE |\n| FALSE | FALSE | FALSE | FALSE | FALSE | FALSE | FALSE | FALSE |\n| FALSE | FALSE | FALSE | FALSE | FALSE | FALSE | FALSE | FALSE |\n| FALSE | FALSE | FALSE | FALSE | FALSE | FALSE | FALSE | FALSE |\n| FALSE | FALSE | FALSE | FALSE | FALSE | FALSE | FALSE | FALSE |\n| FALSE | FALSE | FALSE | FALSE | FALSE | FALSE | FALSE | FALSE |\n| FALSE | FALSE | FALSE | FALSE | FALSE | FALSE | FALSE | FALSE |\n| FALSE | FALSE | FALSE | FALSE | FALSE | FALSE | FALSE | FALSE |\n| FALSE | FALSE | FALSE | FALSE | FALSE | FALSE | FALSE | FALSE |\n| FALSE | FALSE | FALSE | FALSE | FALSE | FALSE | FALSE | FALSE |\n| FALSE | FALSE | FALSE | FALSE | FALSE | FALSE | FALSE | FALSE |\n| ⋮ | ⋮ | ⋮ | ⋮ | ⋮ | ⋮ | ⋮ | ⋮ |\n| FALSE | FALSE | FALSE | FALSE | FALSE | FALSE | FALSE | FALSE |\n| FALSE | FALSE | FALSE | FALSE | FALSE | FALSE | FALSE | FALSE |\n| FALSE | FALSE | FALSE | FALSE | FALSE | FALSE | FALSE | FALSE |\n| FALSE | FALSE | FALSE | FALSE | FALSE | FALSE | FALSE | FALSE |\n| FALSE | FALSE | FALSE | FALSE | FALSE | FALSE | FALSE | FALSE |\n| FALSE | FALSE | FALSE | FALSE | FALSE | FALSE | FALSE | FALSE |\n| FALSE | FALSE | FALSE | FALSE | FALSE | FALSE | FALSE | FALSE |\n| FALSE | FALSE | FALSE | FALSE | FALSE | FALSE | FALSE | FALSE |\n| FALSE | FALSE | FALSE | FALSE | FALSE | FALSE | FALSE | FALSE |\n| FALSE | FALSE | FALSE | FALSE | FALSE | FALSE | FALSE | FALSE |\n| FALSE | FALSE | FALSE | FALSE | FALSE | FALSE | FALSE | FALSE |\n| FALSE | FALSE | FALSE | FALSE | FALSE | FALSE | FALSE | FALSE |\n| FALSE | FALSE | FALSE | FALSE | FALSE | FALSE | FALSE | FALSE |\n| FALSE | FALSE | FALSE | FALSE | FALSE | FALSE | FALSE | FALSE |\n| FALSE | FALSE | FALSE | FALSE | FALSE | FALSE | FALSE | FALSE |\n| FALSE | FALSE | FALSE | FALSE | FALSE | FALSE | FALSE | FALSE |\n| FALSE | FALSE | FALSE | FALSE | FALSE | FALSE | FALSE | FALSE |\n| FALSE | FALSE | FALSE | FALSE | FALSE | FALSE | FALSE | FALSE |\n| FALSE | FALSE | FALSE | FALSE | FALSE | FALSE | FALSE | FALSE |\n| FALSE | FALSE | FALSE | FALSE | FALSE | FALSE | FALSE | FALSE |\n| FALSE | FALSE | FALSE | FALSE | FALSE | FALSE | FALSE | FALSE |\n| FALSE | FALSE | FALSE | FALSE | FALSE | FALSE | FALSE | FALSE |\n| FALSE | FALSE | FALSE | FALSE | FALSE | FALSE | FALSE | FALSE |\n| FALSE | FALSE | FALSE | FALSE | FALSE | FALSE | FALSE | FALSE |\n| FALSE | FALSE | FALSE | FALSE | FALSE | FALSE | FALSE | FALSE |\n| FALSE | FALSE | FALSE | FALSE | FALSE | FALSE | FALSE | FALSE |\n| FALSE | FALSE | FALSE | FALSE | FALSE | FALSE | FALSE | FALSE |\n| FALSE | FALSE | FALSE | FALSE | FALSE | FALSE | FALSE | FALSE |\n| FALSE | FALSE | FALSE | FALSE | FALSE | FALSE | FALSE | FALSE |\n| FALSE | FALSE | FALSE | FALSE | FALSE | FALSE | FALSE | FALSE |\n\n",
            "text/latex": "A matrix: 1000 × 8 of type lgl\n\\begin{tabular}{llllllll}\n gender & race/ethnicity & parental level of education & lunch & test preparation course & math score & reading score & writing score\\\\\n\\hline\n\t FALSE & FALSE & FALSE & FALSE & FALSE & FALSE & FALSE & FALSE\\\\\n\t FALSE & FALSE & FALSE & FALSE & FALSE & FALSE & FALSE & FALSE\\\\\n\t FALSE & FALSE & FALSE & FALSE & FALSE & FALSE & FALSE & FALSE\\\\\n\t FALSE & FALSE & FALSE & FALSE & FALSE & FALSE & FALSE & FALSE\\\\\n\t FALSE & FALSE & FALSE & FALSE & FALSE & FALSE & FALSE & FALSE\\\\\n\t FALSE & FALSE & FALSE & FALSE & FALSE & FALSE & FALSE & FALSE\\\\\n\t FALSE & FALSE & FALSE & FALSE & FALSE & FALSE & FALSE & FALSE\\\\\n\t FALSE & FALSE & FALSE & FALSE & FALSE & FALSE & FALSE & FALSE\\\\\n\t FALSE & FALSE & FALSE & FALSE & FALSE & FALSE & FALSE & FALSE\\\\\n\t FALSE & FALSE & FALSE & FALSE & FALSE & FALSE & FALSE & FALSE\\\\\n\t FALSE & FALSE & FALSE & FALSE & FALSE & FALSE & FALSE & FALSE\\\\\n\t FALSE & FALSE & FALSE & FALSE & FALSE & FALSE & FALSE & FALSE\\\\\n\t FALSE & FALSE & FALSE & FALSE & FALSE & FALSE & FALSE & FALSE\\\\\n\t FALSE & FALSE & FALSE & FALSE & FALSE & FALSE & FALSE & FALSE\\\\\n\t FALSE & FALSE & FALSE & FALSE & FALSE & FALSE & FALSE & FALSE\\\\\n\t FALSE & FALSE & FALSE & FALSE & FALSE & FALSE & FALSE & FALSE\\\\\n\t FALSE & FALSE & FALSE & FALSE & FALSE & FALSE & FALSE & FALSE\\\\\n\t FALSE & FALSE & FALSE & FALSE & FALSE & FALSE & FALSE & FALSE\\\\\n\t FALSE & FALSE & FALSE & FALSE & FALSE & FALSE & FALSE & FALSE\\\\\n\t FALSE & FALSE & FALSE & FALSE & FALSE & FALSE & FALSE & FALSE\\\\\n\t FALSE & FALSE & FALSE & FALSE & FALSE & FALSE & FALSE & FALSE\\\\\n\t FALSE & FALSE & FALSE & FALSE & FALSE & FALSE & FALSE & FALSE\\\\\n\t FALSE & FALSE & FALSE & FALSE & FALSE & FALSE & FALSE & FALSE\\\\\n\t FALSE & FALSE & FALSE & FALSE & FALSE & FALSE & FALSE & FALSE\\\\\n\t FALSE & FALSE & FALSE & FALSE & FALSE & FALSE & FALSE & FALSE\\\\\n\t FALSE & FALSE & FALSE & FALSE & FALSE & FALSE & FALSE & FALSE\\\\\n\t FALSE & FALSE & FALSE & FALSE & FALSE & FALSE & FALSE & FALSE\\\\\n\t FALSE & FALSE & FALSE & FALSE & FALSE & FALSE & FALSE & FALSE\\\\\n\t FALSE & FALSE & FALSE & FALSE & FALSE & FALSE & FALSE & FALSE\\\\\n\t FALSE & FALSE & FALSE & FALSE & FALSE & FALSE & FALSE & FALSE\\\\\n\t ⋮ & ⋮ & ⋮ & ⋮ & ⋮ & ⋮ & ⋮ & ⋮\\\\\n\t FALSE & FALSE & FALSE & FALSE & FALSE & FALSE & FALSE & FALSE\\\\\n\t FALSE & FALSE & FALSE & FALSE & FALSE & FALSE & FALSE & FALSE\\\\\n\t FALSE & FALSE & FALSE & FALSE & FALSE & FALSE & FALSE & FALSE\\\\\n\t FALSE & FALSE & FALSE & FALSE & FALSE & FALSE & FALSE & FALSE\\\\\n\t FALSE & FALSE & FALSE & FALSE & FALSE & FALSE & FALSE & FALSE\\\\\n\t FALSE & FALSE & FALSE & FALSE & FALSE & FALSE & FALSE & FALSE\\\\\n\t FALSE & FALSE & FALSE & FALSE & FALSE & FALSE & FALSE & FALSE\\\\\n\t FALSE & FALSE & FALSE & FALSE & FALSE & FALSE & FALSE & FALSE\\\\\n\t FALSE & FALSE & FALSE & FALSE & FALSE & FALSE & FALSE & FALSE\\\\\n\t FALSE & FALSE & FALSE & FALSE & FALSE & FALSE & FALSE & FALSE\\\\\n\t FALSE & FALSE & FALSE & FALSE & FALSE & FALSE & FALSE & FALSE\\\\\n\t FALSE & FALSE & FALSE & FALSE & FALSE & FALSE & FALSE & FALSE\\\\\n\t FALSE & FALSE & FALSE & FALSE & FALSE & FALSE & FALSE & FALSE\\\\\n\t FALSE & FALSE & FALSE & FALSE & FALSE & FALSE & FALSE & FALSE\\\\\n\t FALSE & FALSE & FALSE & FALSE & FALSE & FALSE & FALSE & FALSE\\\\\n\t FALSE & FALSE & FALSE & FALSE & FALSE & FALSE & FALSE & FALSE\\\\\n\t FALSE & FALSE & FALSE & FALSE & FALSE & FALSE & FALSE & FALSE\\\\\n\t FALSE & FALSE & FALSE & FALSE & FALSE & FALSE & FALSE & FALSE\\\\\n\t FALSE & FALSE & FALSE & FALSE & FALSE & FALSE & FALSE & FALSE\\\\\n\t FALSE & FALSE & FALSE & FALSE & FALSE & FALSE & FALSE & FALSE\\\\\n\t FALSE & FALSE & FALSE & FALSE & FALSE & FALSE & FALSE & FALSE\\\\\n\t FALSE & FALSE & FALSE & FALSE & FALSE & FALSE & FALSE & FALSE\\\\\n\t FALSE & FALSE & FALSE & FALSE & FALSE & FALSE & FALSE & FALSE\\\\\n\t FALSE & FALSE & FALSE & FALSE & FALSE & FALSE & FALSE & FALSE\\\\\n\t FALSE & FALSE & FALSE & FALSE & FALSE & FALSE & FALSE & FALSE\\\\\n\t FALSE & FALSE & FALSE & FALSE & FALSE & FALSE & FALSE & FALSE\\\\\n\t FALSE & FALSE & FALSE & FALSE & FALSE & FALSE & FALSE & FALSE\\\\\n\t FALSE & FALSE & FALSE & FALSE & FALSE & FALSE & FALSE & FALSE\\\\\n\t FALSE & FALSE & FALSE & FALSE & FALSE & FALSE & FALSE & FALSE\\\\\n\t FALSE & FALSE & FALSE & FALSE & FALSE & FALSE & FALSE & FALSE\\\\\n\\end{tabular}\n",
            "text/plain": [
              "      gender race/ethnicity parental level of education lunch\n",
              " [1,] FALSE  FALSE          FALSE                       FALSE\n",
              " [2,] FALSE  FALSE          FALSE                       FALSE\n",
              " [3,] FALSE  FALSE          FALSE                       FALSE\n",
              " [4,] FALSE  FALSE          FALSE                       FALSE\n",
              " [5,] FALSE  FALSE          FALSE                       FALSE\n",
              " [6,] FALSE  FALSE          FALSE                       FALSE\n",
              " [7,] FALSE  FALSE          FALSE                       FALSE\n",
              " [8,] FALSE  FALSE          FALSE                       FALSE\n",
              " [9,] FALSE  FALSE          FALSE                       FALSE\n",
              "[10,] FALSE  FALSE          FALSE                       FALSE\n",
              "[11,] FALSE  FALSE          FALSE                       FALSE\n",
              "[12,] FALSE  FALSE          FALSE                       FALSE\n",
              "[13,] FALSE  FALSE          FALSE                       FALSE\n",
              "[14,] FALSE  FALSE          FALSE                       FALSE\n",
              "[15,] FALSE  FALSE          FALSE                       FALSE\n",
              "[16,] FALSE  FALSE          FALSE                       FALSE\n",
              "[17,] FALSE  FALSE          FALSE                       FALSE\n",
              "[18,] FALSE  FALSE          FALSE                       FALSE\n",
              "[19,] FALSE  FALSE          FALSE                       FALSE\n",
              "[20,] FALSE  FALSE          FALSE                       FALSE\n",
              "[21,] FALSE  FALSE          FALSE                       FALSE\n",
              "[22,] FALSE  FALSE          FALSE                       FALSE\n",
              "[23,] FALSE  FALSE          FALSE                       FALSE\n",
              "[24,] FALSE  FALSE          FALSE                       FALSE\n",
              "[25,] FALSE  FALSE          FALSE                       FALSE\n",
              "[26,] FALSE  FALSE          FALSE                       FALSE\n",
              "[27,] FALSE  FALSE          FALSE                       FALSE\n",
              "[28,] FALSE  FALSE          FALSE                       FALSE\n",
              "[29,] FALSE  FALSE          FALSE                       FALSE\n",
              "[30,] FALSE  FALSE          FALSE                       FALSE\n",
              "[31,] ⋮      ⋮              ⋮                           ⋮    \n",
              "[32,] FALSE  FALSE          FALSE                       FALSE\n",
              "[33,] FALSE  FALSE          FALSE                       FALSE\n",
              "[34,] FALSE  FALSE          FALSE                       FALSE\n",
              "[35,] FALSE  FALSE          FALSE                       FALSE\n",
              "[36,] FALSE  FALSE          FALSE                       FALSE\n",
              "[37,] FALSE  FALSE          FALSE                       FALSE\n",
              "[38,] FALSE  FALSE          FALSE                       FALSE\n",
              "[39,] FALSE  FALSE          FALSE                       FALSE\n",
              "[40,] FALSE  FALSE          FALSE                       FALSE\n",
              "[41,] FALSE  FALSE          FALSE                       FALSE\n",
              "[42,] FALSE  FALSE          FALSE                       FALSE\n",
              "[43,] FALSE  FALSE          FALSE                       FALSE\n",
              "[44,] FALSE  FALSE          FALSE                       FALSE\n",
              "[45,] FALSE  FALSE          FALSE                       FALSE\n",
              "[46,] FALSE  FALSE          FALSE                       FALSE\n",
              "[47,] FALSE  FALSE          FALSE                       FALSE\n",
              "[48,] FALSE  FALSE          FALSE                       FALSE\n",
              "[49,] FALSE  FALSE          FALSE                       FALSE\n",
              "[50,] FALSE  FALSE          FALSE                       FALSE\n",
              "[51,] FALSE  FALSE          FALSE                       FALSE\n",
              "[52,] FALSE  FALSE          FALSE                       FALSE\n",
              "[53,] FALSE  FALSE          FALSE                       FALSE\n",
              "[54,] FALSE  FALSE          FALSE                       FALSE\n",
              "[55,] FALSE  FALSE          FALSE                       FALSE\n",
              "[56,] FALSE  FALSE          FALSE                       FALSE\n",
              "[57,] FALSE  FALSE          FALSE                       FALSE\n",
              "[58,] FALSE  FALSE          FALSE                       FALSE\n",
              "[59,] FALSE  FALSE          FALSE                       FALSE\n",
              "[60,] FALSE  FALSE          FALSE                       FALSE\n",
              "[61,] FALSE  FALSE          FALSE                       FALSE\n",
              "      test preparation course math score reading score writing score\n",
              " [1,] FALSE                   FALSE      FALSE         FALSE        \n",
              " [2,] FALSE                   FALSE      FALSE         FALSE        \n",
              " [3,] FALSE                   FALSE      FALSE         FALSE        \n",
              " [4,] FALSE                   FALSE      FALSE         FALSE        \n",
              " [5,] FALSE                   FALSE      FALSE         FALSE        \n",
              " [6,] FALSE                   FALSE      FALSE         FALSE        \n",
              " [7,] FALSE                   FALSE      FALSE         FALSE        \n",
              " [8,] FALSE                   FALSE      FALSE         FALSE        \n",
              " [9,] FALSE                   FALSE      FALSE         FALSE        \n",
              "[10,] FALSE                   FALSE      FALSE         FALSE        \n",
              "[11,] FALSE                   FALSE      FALSE         FALSE        \n",
              "[12,] FALSE                   FALSE      FALSE         FALSE        \n",
              "[13,] FALSE                   FALSE      FALSE         FALSE        \n",
              "[14,] FALSE                   FALSE      FALSE         FALSE        \n",
              "[15,] FALSE                   FALSE      FALSE         FALSE        \n",
              "[16,] FALSE                   FALSE      FALSE         FALSE        \n",
              "[17,] FALSE                   FALSE      FALSE         FALSE        \n",
              "[18,] FALSE                   FALSE      FALSE         FALSE        \n",
              "[19,] FALSE                   FALSE      FALSE         FALSE        \n",
              "[20,] FALSE                   FALSE      FALSE         FALSE        \n",
              "[21,] FALSE                   FALSE      FALSE         FALSE        \n",
              "[22,] FALSE                   FALSE      FALSE         FALSE        \n",
              "[23,] FALSE                   FALSE      FALSE         FALSE        \n",
              "[24,] FALSE                   FALSE      FALSE         FALSE        \n",
              "[25,] FALSE                   FALSE      FALSE         FALSE        \n",
              "[26,] FALSE                   FALSE      FALSE         FALSE        \n",
              "[27,] FALSE                   FALSE      FALSE         FALSE        \n",
              "[28,] FALSE                   FALSE      FALSE         FALSE        \n",
              "[29,] FALSE                   FALSE      FALSE         FALSE        \n",
              "[30,] FALSE                   FALSE      FALSE         FALSE        \n",
              "[31,] ⋮                       ⋮          ⋮             ⋮            \n",
              "[32,] FALSE                   FALSE      FALSE         FALSE        \n",
              "[33,] FALSE                   FALSE      FALSE         FALSE        \n",
              "[34,] FALSE                   FALSE      FALSE         FALSE        \n",
              "[35,] FALSE                   FALSE      FALSE         FALSE        \n",
              "[36,] FALSE                   FALSE      FALSE         FALSE        \n",
              "[37,] FALSE                   FALSE      FALSE         FALSE        \n",
              "[38,] FALSE                   FALSE      FALSE         FALSE        \n",
              "[39,] FALSE                   FALSE      FALSE         FALSE        \n",
              "[40,] FALSE                   FALSE      FALSE         FALSE        \n",
              "[41,] FALSE                   FALSE      FALSE         FALSE        \n",
              "[42,] FALSE                   FALSE      FALSE         FALSE        \n",
              "[43,] FALSE                   FALSE      FALSE         FALSE        \n",
              "[44,] FALSE                   FALSE      FALSE         FALSE        \n",
              "[45,] FALSE                   FALSE      FALSE         FALSE        \n",
              "[46,] FALSE                   FALSE      FALSE         FALSE        \n",
              "[47,] FALSE                   FALSE      FALSE         FALSE        \n",
              "[48,] FALSE                   FALSE      FALSE         FALSE        \n",
              "[49,] FALSE                   FALSE      FALSE         FALSE        \n",
              "[50,] FALSE                   FALSE      FALSE         FALSE        \n",
              "[51,] FALSE                   FALSE      FALSE         FALSE        \n",
              "[52,] FALSE                   FALSE      FALSE         FALSE        \n",
              "[53,] FALSE                   FALSE      FALSE         FALSE        \n",
              "[54,] FALSE                   FALSE      FALSE         FALSE        \n",
              "[55,] FALSE                   FALSE      FALSE         FALSE        \n",
              "[56,] FALSE                   FALSE      FALSE         FALSE        \n",
              "[57,] FALSE                   FALSE      FALSE         FALSE        \n",
              "[58,] FALSE                   FALSE      FALSE         FALSE        \n",
              "[59,] FALSE                   FALSE      FALSE         FALSE        \n",
              "[60,] FALSE                   FALSE      FALSE         FALSE        \n",
              "[61,] FALSE                   FALSE      FALSE         FALSE        "
            ]
          },
          "metadata": {}
        },
        {
          "output_type": "display_data",
          "data": {
            "text/html": [
              "<table class=\"dataframe\">\n",
              "<caption>A tibble: 1000 × 8</caption>\n",
              "<thead>\n",
              "\t<tr><th scope=col>gender</th><th scope=col>race/ethnicity</th><th scope=col>parental level of education</th><th scope=col>lunch</th><th scope=col>test preparation course</th><th scope=col>math score</th><th scope=col>reading score</th><th scope=col>writing score</th></tr>\n",
              "\t<tr><th scope=col>&lt;chr&gt;</th><th scope=col>&lt;chr&gt;</th><th scope=col>&lt;chr&gt;</th><th scope=col>&lt;chr&gt;</th><th scope=col>&lt;chr&gt;</th><th scope=col>&lt;dbl&gt;</th><th scope=col>&lt;dbl&gt;</th><th scope=col>&lt;dbl&gt;</th></tr>\n",
              "</thead>\n",
              "<tbody>\n",
              "\t<tr><td>female</td><td>group B</td><td>bachelor's degree </td><td>standard    </td><td>none     </td><td>72</td><td>72</td><td>74</td></tr>\n",
              "\t<tr><td>female</td><td>group C</td><td>some college      </td><td>standard    </td><td>completed</td><td>69</td><td>90</td><td>88</td></tr>\n",
              "\t<tr><td>female</td><td>group B</td><td>master's degree   </td><td>standard    </td><td>none     </td><td>90</td><td>95</td><td>93</td></tr>\n",
              "\t<tr><td>male  </td><td>group A</td><td>associate's degree</td><td>free/reduced</td><td>none     </td><td>47</td><td>57</td><td>44</td></tr>\n",
              "\t<tr><td>male  </td><td>group C</td><td>some college      </td><td>standard    </td><td>none     </td><td>76</td><td>78</td><td>75</td></tr>\n",
              "\t<tr><td>female</td><td>group B</td><td>associate's degree</td><td>standard    </td><td>none     </td><td>71</td><td>83</td><td>78</td></tr>\n",
              "\t<tr><td>female</td><td>group B</td><td>some college      </td><td>standard    </td><td>completed</td><td>88</td><td>95</td><td>92</td></tr>\n",
              "\t<tr><td>male  </td><td>group B</td><td>some college      </td><td>free/reduced</td><td>none     </td><td>40</td><td>43</td><td>39</td></tr>\n",
              "\t<tr><td>male  </td><td>group D</td><td>high school       </td><td>free/reduced</td><td>completed</td><td>64</td><td>64</td><td>67</td></tr>\n",
              "\t<tr><td>female</td><td>group B</td><td>high school       </td><td>free/reduced</td><td>none     </td><td>38</td><td>60</td><td>50</td></tr>\n",
              "\t<tr><td>male  </td><td>group C</td><td>associate's degree</td><td>standard    </td><td>none     </td><td>58</td><td>54</td><td>52</td></tr>\n",
              "\t<tr><td>male  </td><td>group D</td><td>associate's degree</td><td>standard    </td><td>none     </td><td>40</td><td>52</td><td>43</td></tr>\n",
              "\t<tr><td>female</td><td>group B</td><td>high school       </td><td>standard    </td><td>none     </td><td>65</td><td>81</td><td>73</td></tr>\n",
              "\t<tr><td>male  </td><td>group A</td><td>some college      </td><td>standard    </td><td>completed</td><td>78</td><td>72</td><td>70</td></tr>\n",
              "\t<tr><td>female</td><td>group A</td><td>master's degree   </td><td>standard    </td><td>none     </td><td>50</td><td>53</td><td>58</td></tr>\n",
              "\t<tr><td>female</td><td>group C</td><td>some high school  </td><td>standard    </td><td>none     </td><td>69</td><td>75</td><td>78</td></tr>\n",
              "\t<tr><td>male  </td><td>group C</td><td>high school       </td><td>standard    </td><td>none     </td><td>88</td><td>89</td><td>86</td></tr>\n",
              "\t<tr><td>female</td><td>group B</td><td>some high school  </td><td>free/reduced</td><td>none     </td><td>18</td><td>32</td><td>28</td></tr>\n",
              "\t<tr><td>male  </td><td>group C</td><td>master's degree   </td><td>free/reduced</td><td>completed</td><td>46</td><td>42</td><td>46</td></tr>\n",
              "\t<tr><td>female</td><td>group C</td><td>associate's degree</td><td>free/reduced</td><td>none     </td><td>54</td><td>58</td><td>61</td></tr>\n",
              "\t<tr><td>male  </td><td>group D</td><td>high school       </td><td>standard    </td><td>none     </td><td>66</td><td>69</td><td>63</td></tr>\n",
              "\t<tr><td>female</td><td>group B</td><td>some college      </td><td>free/reduced</td><td>completed</td><td>65</td><td>75</td><td>70</td></tr>\n",
              "\t<tr><td>male  </td><td>group D</td><td>some college      </td><td>standard    </td><td>none     </td><td>44</td><td>54</td><td>53</td></tr>\n",
              "\t<tr><td>female</td><td>group C</td><td>some high school  </td><td>standard    </td><td>none     </td><td>69</td><td>73</td><td>73</td></tr>\n",
              "\t<tr><td>male  </td><td>group D</td><td>bachelor's degree </td><td>free/reduced</td><td>completed</td><td>74</td><td>71</td><td>80</td></tr>\n",
              "\t<tr><td>male  </td><td>group A</td><td>master's degree   </td><td>free/reduced</td><td>none     </td><td>73</td><td>74</td><td>72</td></tr>\n",
              "\t<tr><td>male  </td><td>group B</td><td>some college      </td><td>standard    </td><td>none     </td><td>69</td><td>54</td><td>55</td></tr>\n",
              "\t<tr><td>female</td><td>group C</td><td>bachelor's degree </td><td>standard    </td><td>none     </td><td>67</td><td>69</td><td>75</td></tr>\n",
              "\t<tr><td>male  </td><td>group C</td><td>high school       </td><td>standard    </td><td>none     </td><td>70</td><td>70</td><td>65</td></tr>\n",
              "\t<tr><td>female</td><td>group D</td><td>master's degree   </td><td>standard    </td><td>none     </td><td>62</td><td>70</td><td>75</td></tr>\n",
              "\t<tr><td>⋮</td><td>⋮</td><td>⋮</td><td>⋮</td><td>⋮</td><td>⋮</td><td>⋮</td><td>⋮</td></tr>\n",
              "\t<tr><td>female</td><td>group D</td><td>bachelor's degree </td><td>standard    </td><td>none     </td><td>89</td><td>100</td><td>100</td></tr>\n",
              "\t<tr><td>male  </td><td>group C</td><td>some high school  </td><td>standard    </td><td>completed</td><td>78</td><td> 72</td><td> 69</td></tr>\n",
              "\t<tr><td>female</td><td>group A</td><td>high school       </td><td>free/reduced</td><td>completed</td><td>53</td><td> 50</td><td> 60</td></tr>\n",
              "\t<tr><td>female</td><td>group D</td><td>some college      </td><td>free/reduced</td><td>none     </td><td>49</td><td> 65</td><td> 61</td></tr>\n",
              "\t<tr><td>female</td><td>group A</td><td>some college      </td><td>standard    </td><td>none     </td><td>54</td><td> 63</td><td> 67</td></tr>\n",
              "\t<tr><td>female</td><td>group C</td><td>some college      </td><td>standard    </td><td>completed</td><td>64</td><td> 82</td><td> 77</td></tr>\n",
              "\t<tr><td>male  </td><td>group B</td><td>some college      </td><td>free/reduced</td><td>completed</td><td>60</td><td> 62</td><td> 60</td></tr>\n",
              "\t<tr><td>male  </td><td>group C</td><td>associate's degree</td><td>standard    </td><td>none     </td><td>62</td><td> 65</td><td> 58</td></tr>\n",
              "\t<tr><td>male  </td><td>group D</td><td>high school       </td><td>standard    </td><td>completed</td><td>55</td><td> 41</td><td> 48</td></tr>\n",
              "\t<tr><td>female</td><td>group C</td><td>associate's degree</td><td>standard    </td><td>none     </td><td>91</td><td> 95</td><td> 94</td></tr>\n",
              "\t<tr><td>female</td><td>group B</td><td>high school       </td><td>free/reduced</td><td>none     </td><td> 8</td><td> 24</td><td> 23</td></tr>\n",
              "\t<tr><td>male  </td><td>group D</td><td>some high school  </td><td>standard    </td><td>none     </td><td>81</td><td> 78</td><td> 78</td></tr>\n",
              "\t<tr><td>male  </td><td>group B</td><td>some high school  </td><td>standard    </td><td>completed</td><td>79</td><td> 85</td><td> 86</td></tr>\n",
              "\t<tr><td>female</td><td>group A</td><td>some college      </td><td>standard    </td><td>completed</td><td>78</td><td> 87</td><td> 91</td></tr>\n",
              "\t<tr><td>female</td><td>group C</td><td>some high school  </td><td>standard    </td><td>none     </td><td>74</td><td> 75</td><td> 82</td></tr>\n",
              "\t<tr><td>male  </td><td>group A</td><td>high school       </td><td>standard    </td><td>none     </td><td>57</td><td> 51</td><td> 54</td></tr>\n",
              "\t<tr><td>female</td><td>group C</td><td>associate's degree</td><td>standard    </td><td>none     </td><td>40</td><td> 59</td><td> 51</td></tr>\n",
              "\t<tr><td>male  </td><td>group E</td><td>some high school  </td><td>standard    </td><td>completed</td><td>81</td><td> 75</td><td> 76</td></tr>\n",
              "\t<tr><td>female</td><td>group A</td><td>some high school  </td><td>free/reduced</td><td>none     </td><td>44</td><td> 45</td><td> 45</td></tr>\n",
              "\t<tr><td>female</td><td>group D</td><td>some college      </td><td>free/reduced</td><td>completed</td><td>67</td><td> 86</td><td> 83</td></tr>\n",
              "\t<tr><td>male  </td><td>group E</td><td>high school       </td><td>free/reduced</td><td>completed</td><td>86</td><td> 81</td><td> 75</td></tr>\n",
              "\t<tr><td>female</td><td>group B</td><td>some high school  </td><td>standard    </td><td>completed</td><td>65</td><td> 82</td><td> 78</td></tr>\n",
              "\t<tr><td>female</td><td>group D</td><td>associate's degree</td><td>free/reduced</td><td>none     </td><td>55</td><td> 76</td><td> 76</td></tr>\n",
              "\t<tr><td>female</td><td>group D</td><td>bachelor's degree </td><td>free/reduced</td><td>none     </td><td>62</td><td> 72</td><td> 74</td></tr>\n",
              "\t<tr><td>male  </td><td>group A</td><td>high school       </td><td>standard    </td><td>none     </td><td>63</td><td> 63</td><td> 62</td></tr>\n",
              "\t<tr><td>female</td><td>group E</td><td>master's degree   </td><td>standard    </td><td>completed</td><td>88</td><td> 99</td><td> 95</td></tr>\n",
              "\t<tr><td>male  </td><td>group C</td><td>high school       </td><td>free/reduced</td><td>none     </td><td>62</td><td> 55</td><td> 55</td></tr>\n",
              "\t<tr><td>female</td><td>group C</td><td>high school       </td><td>free/reduced</td><td>completed</td><td>59</td><td> 71</td><td> 65</td></tr>\n",
              "\t<tr><td>female</td><td>group D</td><td>some college      </td><td>standard    </td><td>completed</td><td>68</td><td> 78</td><td> 77</td></tr>\n",
              "\t<tr><td>female</td><td>group D</td><td>some college      </td><td>free/reduced</td><td>none     </td><td>77</td><td> 86</td><td> 86</td></tr>\n",
              "</tbody>\n",
              "</table>\n"
            ],
            "text/markdown": "\nA tibble: 1000 × 8\n\n| gender &lt;chr&gt; | race/ethnicity &lt;chr&gt; | parental level of education &lt;chr&gt; | lunch &lt;chr&gt; | test preparation course &lt;chr&gt; | math score &lt;dbl&gt; | reading score &lt;dbl&gt; | writing score &lt;dbl&gt; |\n|---|---|---|---|---|---|---|---|\n| female | group B | bachelor's degree  | standard     | none      | 72 | 72 | 74 |\n| female | group C | some college       | standard     | completed | 69 | 90 | 88 |\n| female | group B | master's degree    | standard     | none      | 90 | 95 | 93 |\n| male   | group A | associate's degree | free/reduced | none      | 47 | 57 | 44 |\n| male   | group C | some college       | standard     | none      | 76 | 78 | 75 |\n| female | group B | associate's degree | standard     | none      | 71 | 83 | 78 |\n| female | group B | some college       | standard     | completed | 88 | 95 | 92 |\n| male   | group B | some college       | free/reduced | none      | 40 | 43 | 39 |\n| male   | group D | high school        | free/reduced | completed | 64 | 64 | 67 |\n| female | group B | high school        | free/reduced | none      | 38 | 60 | 50 |\n| male   | group C | associate's degree | standard     | none      | 58 | 54 | 52 |\n| male   | group D | associate's degree | standard     | none      | 40 | 52 | 43 |\n| female | group B | high school        | standard     | none      | 65 | 81 | 73 |\n| male   | group A | some college       | standard     | completed | 78 | 72 | 70 |\n| female | group A | master's degree    | standard     | none      | 50 | 53 | 58 |\n| female | group C | some high school   | standard     | none      | 69 | 75 | 78 |\n| male   | group C | high school        | standard     | none      | 88 | 89 | 86 |\n| female | group B | some high school   | free/reduced | none      | 18 | 32 | 28 |\n| male   | group C | master's degree    | free/reduced | completed | 46 | 42 | 46 |\n| female | group C | associate's degree | free/reduced | none      | 54 | 58 | 61 |\n| male   | group D | high school        | standard     | none      | 66 | 69 | 63 |\n| female | group B | some college       | free/reduced | completed | 65 | 75 | 70 |\n| male   | group D | some college       | standard     | none      | 44 | 54 | 53 |\n| female | group C | some high school   | standard     | none      | 69 | 73 | 73 |\n| male   | group D | bachelor's degree  | free/reduced | completed | 74 | 71 | 80 |\n| male   | group A | master's degree    | free/reduced | none      | 73 | 74 | 72 |\n| male   | group B | some college       | standard     | none      | 69 | 54 | 55 |\n| female | group C | bachelor's degree  | standard     | none      | 67 | 69 | 75 |\n| male   | group C | high school        | standard     | none      | 70 | 70 | 65 |\n| female | group D | master's degree    | standard     | none      | 62 | 70 | 75 |\n| ⋮ | ⋮ | ⋮ | ⋮ | ⋮ | ⋮ | ⋮ | ⋮ |\n| female | group D | bachelor's degree  | standard     | none      | 89 | 100 | 100 |\n| male   | group C | some high school   | standard     | completed | 78 |  72 |  69 |\n| female | group A | high school        | free/reduced | completed | 53 |  50 |  60 |\n| female | group D | some college       | free/reduced | none      | 49 |  65 |  61 |\n| female | group A | some college       | standard     | none      | 54 |  63 |  67 |\n| female | group C | some college       | standard     | completed | 64 |  82 |  77 |\n| male   | group B | some college       | free/reduced | completed | 60 |  62 |  60 |\n| male   | group C | associate's degree | standard     | none      | 62 |  65 |  58 |\n| male   | group D | high school        | standard     | completed | 55 |  41 |  48 |\n| female | group C | associate's degree | standard     | none      | 91 |  95 |  94 |\n| female | group B | high school        | free/reduced | none      |  8 |  24 |  23 |\n| male   | group D | some high school   | standard     | none      | 81 |  78 |  78 |\n| male   | group B | some high school   | standard     | completed | 79 |  85 |  86 |\n| female | group A | some college       | standard     | completed | 78 |  87 |  91 |\n| female | group C | some high school   | standard     | none      | 74 |  75 |  82 |\n| male   | group A | high school        | standard     | none      | 57 |  51 |  54 |\n| female | group C | associate's degree | standard     | none      | 40 |  59 |  51 |\n| male   | group E | some high school   | standard     | completed | 81 |  75 |  76 |\n| female | group A | some high school   | free/reduced | none      | 44 |  45 |  45 |\n| female | group D | some college       | free/reduced | completed | 67 |  86 |  83 |\n| male   | group E | high school        | free/reduced | completed | 86 |  81 |  75 |\n| female | group B | some high school   | standard     | completed | 65 |  82 |  78 |\n| female | group D | associate's degree | free/reduced | none      | 55 |  76 |  76 |\n| female | group D | bachelor's degree  | free/reduced | none      | 62 |  72 |  74 |\n| male   | group A | high school        | standard     | none      | 63 |  63 |  62 |\n| female | group E | master's degree    | standard     | completed | 88 |  99 |  95 |\n| male   | group C | high school        | free/reduced | none      | 62 |  55 |  55 |\n| female | group C | high school        | free/reduced | completed | 59 |  71 |  65 |\n| female | group D | some college       | standard     | completed | 68 |  78 |  77 |\n| female | group D | some college       | free/reduced | none      | 77 |  86 |  86 |\n\n",
            "text/latex": "A tibble: 1000 × 8\n\\begin{tabular}{llllllll}\n gender & race/ethnicity & parental level of education & lunch & test preparation course & math score & reading score & writing score\\\\\n <chr> & <chr> & <chr> & <chr> & <chr> & <dbl> & <dbl> & <dbl>\\\\\n\\hline\n\t female & group B & bachelor's degree  & standard     & none      & 72 & 72 & 74\\\\\n\t female & group C & some college       & standard     & completed & 69 & 90 & 88\\\\\n\t female & group B & master's degree    & standard     & none      & 90 & 95 & 93\\\\\n\t male   & group A & associate's degree & free/reduced & none      & 47 & 57 & 44\\\\\n\t male   & group C & some college       & standard     & none      & 76 & 78 & 75\\\\\n\t female & group B & associate's degree & standard     & none      & 71 & 83 & 78\\\\\n\t female & group B & some college       & standard     & completed & 88 & 95 & 92\\\\\n\t male   & group B & some college       & free/reduced & none      & 40 & 43 & 39\\\\\n\t male   & group D & high school        & free/reduced & completed & 64 & 64 & 67\\\\\n\t female & group B & high school        & free/reduced & none      & 38 & 60 & 50\\\\\n\t male   & group C & associate's degree & standard     & none      & 58 & 54 & 52\\\\\n\t male   & group D & associate's degree & standard     & none      & 40 & 52 & 43\\\\\n\t female & group B & high school        & standard     & none      & 65 & 81 & 73\\\\\n\t male   & group A & some college       & standard     & completed & 78 & 72 & 70\\\\\n\t female & group A & master's degree    & standard     & none      & 50 & 53 & 58\\\\\n\t female & group C & some high school   & standard     & none      & 69 & 75 & 78\\\\\n\t male   & group C & high school        & standard     & none      & 88 & 89 & 86\\\\\n\t female & group B & some high school   & free/reduced & none      & 18 & 32 & 28\\\\\n\t male   & group C & master's degree    & free/reduced & completed & 46 & 42 & 46\\\\\n\t female & group C & associate's degree & free/reduced & none      & 54 & 58 & 61\\\\\n\t male   & group D & high school        & standard     & none      & 66 & 69 & 63\\\\\n\t female & group B & some college       & free/reduced & completed & 65 & 75 & 70\\\\\n\t male   & group D & some college       & standard     & none      & 44 & 54 & 53\\\\\n\t female & group C & some high school   & standard     & none      & 69 & 73 & 73\\\\\n\t male   & group D & bachelor's degree  & free/reduced & completed & 74 & 71 & 80\\\\\n\t male   & group A & master's degree    & free/reduced & none      & 73 & 74 & 72\\\\\n\t male   & group B & some college       & standard     & none      & 69 & 54 & 55\\\\\n\t female & group C & bachelor's degree  & standard     & none      & 67 & 69 & 75\\\\\n\t male   & group C & high school        & standard     & none      & 70 & 70 & 65\\\\\n\t female & group D & master's degree    & standard     & none      & 62 & 70 & 75\\\\\n\t ⋮ & ⋮ & ⋮ & ⋮ & ⋮ & ⋮ & ⋮ & ⋮\\\\\n\t female & group D & bachelor's degree  & standard     & none      & 89 & 100 & 100\\\\\n\t male   & group C & some high school   & standard     & completed & 78 &  72 &  69\\\\\n\t female & group A & high school        & free/reduced & completed & 53 &  50 &  60\\\\\n\t female & group D & some college       & free/reduced & none      & 49 &  65 &  61\\\\\n\t female & group A & some college       & standard     & none      & 54 &  63 &  67\\\\\n\t female & group C & some college       & standard     & completed & 64 &  82 &  77\\\\\n\t male   & group B & some college       & free/reduced & completed & 60 &  62 &  60\\\\\n\t male   & group C & associate's degree & standard     & none      & 62 &  65 &  58\\\\\n\t male   & group D & high school        & standard     & completed & 55 &  41 &  48\\\\\n\t female & group C & associate's degree & standard     & none      & 91 &  95 &  94\\\\\n\t female & group B & high school        & free/reduced & none      &  8 &  24 &  23\\\\\n\t male   & group D & some high school   & standard     & none      & 81 &  78 &  78\\\\\n\t male   & group B & some high school   & standard     & completed & 79 &  85 &  86\\\\\n\t female & group A & some college       & standard     & completed & 78 &  87 &  91\\\\\n\t female & group C & some high school   & standard     & none      & 74 &  75 &  82\\\\\n\t male   & group A & high school        & standard     & none      & 57 &  51 &  54\\\\\n\t female & group C & associate's degree & standard     & none      & 40 &  59 &  51\\\\\n\t male   & group E & some high school   & standard     & completed & 81 &  75 &  76\\\\\n\t female & group A & some high school   & free/reduced & none      & 44 &  45 &  45\\\\\n\t female & group D & some college       & free/reduced & completed & 67 &  86 &  83\\\\\n\t male   & group E & high school        & free/reduced & completed & 86 &  81 &  75\\\\\n\t female & group B & some high school   & standard     & completed & 65 &  82 &  78\\\\\n\t female & group D & associate's degree & free/reduced & none      & 55 &  76 &  76\\\\\n\t female & group D & bachelor's degree  & free/reduced & none      & 62 &  72 &  74\\\\\n\t male   & group A & high school        & standard     & none      & 63 &  63 &  62\\\\\n\t female & group E & master's degree    & standard     & completed & 88 &  99 &  95\\\\\n\t male   & group C & high school        & free/reduced & none      & 62 &  55 &  55\\\\\n\t female & group C & high school        & free/reduced & completed & 59 &  71 &  65\\\\\n\t female & group D & some college       & standard     & completed & 68 &  78 &  77\\\\\n\t female & group D & some college       & free/reduced & none      & 77 &  86 &  86\\\\\n\\end{tabular}\n",
            "text/plain": [
              "     gender race/ethnicity parental level of education lunch       \n",
              "1    female group B        bachelor's degree           standard    \n",
              "2    female group C        some college                standard    \n",
              "3    female group B        master's degree             standard    \n",
              "4    male   group A        associate's degree          free/reduced\n",
              "5    male   group C        some college                standard    \n",
              "6    female group B        associate's degree          standard    \n",
              "7    female group B        some college                standard    \n",
              "8    male   group B        some college                free/reduced\n",
              "9    male   group D        high school                 free/reduced\n",
              "10   female group B        high school                 free/reduced\n",
              "11   male   group C        associate's degree          standard    \n",
              "12   male   group D        associate's degree          standard    \n",
              "13   female group B        high school                 standard    \n",
              "14   male   group A        some college                standard    \n",
              "15   female group A        master's degree             standard    \n",
              "16   female group C        some high school            standard    \n",
              "17   male   group C        high school                 standard    \n",
              "18   female group B        some high school            free/reduced\n",
              "19   male   group C        master's degree             free/reduced\n",
              "20   female group C        associate's degree          free/reduced\n",
              "21   male   group D        high school                 standard    \n",
              "22   female group B        some college                free/reduced\n",
              "23   male   group D        some college                standard    \n",
              "24   female group C        some high school            standard    \n",
              "25   male   group D        bachelor's degree           free/reduced\n",
              "26   male   group A        master's degree             free/reduced\n",
              "27   male   group B        some college                standard    \n",
              "28   female group C        bachelor's degree           standard    \n",
              "29   male   group C        high school                 standard    \n",
              "30   female group D        master's degree             standard    \n",
              "⋮    ⋮      ⋮              ⋮                           ⋮           \n",
              "971  female group D        bachelor's degree           standard    \n",
              "972  male   group C        some high school            standard    \n",
              "973  female group A        high school                 free/reduced\n",
              "974  female group D        some college                free/reduced\n",
              "975  female group A        some college                standard    \n",
              "976  female group C        some college                standard    \n",
              "977  male   group B        some college                free/reduced\n",
              "978  male   group C        associate's degree          standard    \n",
              "979  male   group D        high school                 standard    \n",
              "980  female group C        associate's degree          standard    \n",
              "981  female group B        high school                 free/reduced\n",
              "982  male   group D        some high school            standard    \n",
              "983  male   group B        some high school            standard    \n",
              "984  female group A        some college                standard    \n",
              "985  female group C        some high school            standard    \n",
              "986  male   group A        high school                 standard    \n",
              "987  female group C        associate's degree          standard    \n",
              "988  male   group E        some high school            standard    \n",
              "989  female group A        some high school            free/reduced\n",
              "990  female group D        some college                free/reduced\n",
              "991  male   group E        high school                 free/reduced\n",
              "992  female group B        some high school            standard    \n",
              "993  female group D        associate's degree          free/reduced\n",
              "994  female group D        bachelor's degree           free/reduced\n",
              "995  male   group A        high school                 standard    \n",
              "996  female group E        master's degree             standard    \n",
              "997  male   group C        high school                 free/reduced\n",
              "998  female group C        high school                 free/reduced\n",
              "999  female group D        some college                standard    \n",
              "1000 female group D        some college                free/reduced\n",
              "     test preparation course math score reading score writing score\n",
              "1    none                    72         72            74           \n",
              "2    completed               69         90            88           \n",
              "3    none                    90         95            93           \n",
              "4    none                    47         57            44           \n",
              "5    none                    76         78            75           \n",
              "6    none                    71         83            78           \n",
              "7    completed               88         95            92           \n",
              "8    none                    40         43            39           \n",
              "9    completed               64         64            67           \n",
              "10   none                    38         60            50           \n",
              "11   none                    58         54            52           \n",
              "12   none                    40         52            43           \n",
              "13   none                    65         81            73           \n",
              "14   completed               78         72            70           \n",
              "15   none                    50         53            58           \n",
              "16   none                    69         75            78           \n",
              "17   none                    88         89            86           \n",
              "18   none                    18         32            28           \n",
              "19   completed               46         42            46           \n",
              "20   none                    54         58            61           \n",
              "21   none                    66         69            63           \n",
              "22   completed               65         75            70           \n",
              "23   none                    44         54            53           \n",
              "24   none                    69         73            73           \n",
              "25   completed               74         71            80           \n",
              "26   none                    73         74            72           \n",
              "27   none                    69         54            55           \n",
              "28   none                    67         69            75           \n",
              "29   none                    70         70            65           \n",
              "30   none                    62         70            75           \n",
              "⋮    ⋮                       ⋮          ⋮             ⋮            \n",
              "971  none                    89         100           100          \n",
              "972  completed               78          72            69          \n",
              "973  completed               53          50            60          \n",
              "974  none                    49          65            61          \n",
              "975  none                    54          63            67          \n",
              "976  completed               64          82            77          \n",
              "977  completed               60          62            60          \n",
              "978  none                    62          65            58          \n",
              "979  completed               55          41            48          \n",
              "980  none                    91          95            94          \n",
              "981  none                     8          24            23          \n",
              "982  none                    81          78            78          \n",
              "983  completed               79          85            86          \n",
              "984  completed               78          87            91          \n",
              "985  none                    74          75            82          \n",
              "986  none                    57          51            54          \n",
              "987  none                    40          59            51          \n",
              "988  completed               81          75            76          \n",
              "989  none                    44          45            45          \n",
              "990  completed               67          86            83          \n",
              "991  completed               86          81            75          \n",
              "992  completed               65          82            78          \n",
              "993  none                    55          76            76          \n",
              "994  none                    62          72            74          \n",
              "995  none                    63          63            62          \n",
              "996  completed               88          99            95          \n",
              "997  none                    62          55            55          \n",
              "998  completed               59          71            65          \n",
              "999  completed               68          78            77          \n",
              "1000 none                    77          86            86          "
            ]
          },
          "metadata": {}
        },
        {
          "output_type": "display_data",
          "data": {
            "text/html": [
              "<style>\n",
              ".list-inline {list-style: none; margin:0; padding: 0}\n",
              ".list-inline>li {display: inline-block}\n",
              ".list-inline>li:not(:last-child)::after {content: \"\\00b7\"; padding: 0 .5ex}\n",
              "</style>\n",
              "<ol class=list-inline><li>'gender'</li><li>'race/ethnicity'</li><li>'parental level of education'</li><li>'lunch'</li><li>'test preparation course'</li><li>'math score'</li><li>'reading score'</li><li>'writing score'</li></ol>\n"
            ],
            "text/markdown": "1. 'gender'\n2. 'race/ethnicity'\n3. 'parental level of education'\n4. 'lunch'\n5. 'test preparation course'\n6. 'math score'\n7. 'reading score'\n8. 'writing score'\n\n\n",
            "text/latex": "\\begin{enumerate*}\n\\item 'gender'\n\\item 'race/ethnicity'\n\\item 'parental level of education'\n\\item 'lunch'\n\\item 'test preparation course'\n\\item 'math score'\n\\item 'reading score'\n\\item 'writing score'\n\\end{enumerate*}\n",
            "text/plain": [
              "[1] \"gender\"                      \"race/ethnicity\"             \n",
              "[3] \"parental level of education\" \"lunch\"                      \n",
              "[5] \"test preparation course\"     \"math score\"                 \n",
              "[7] \"reading score\"               \"writing score\"              "
            ]
          },
          "metadata": {}
        },
        {
          "output_type": "display_data",
          "data": {
            "text/html": [
              "<style>\n",
              ".list-inline {list-style: none; margin:0; padding: 0}\n",
              ".list-inline>li {display: inline-block}\n",
              ".list-inline>li:not(:last-child)::after {content: \"\\00b7\"; padding: 0 .5ex}\n",
              "</style>\n",
              "<ol class=list-inline><li>'gender'</li><li>'ethnicity'</li><li>'parental_lvl_education'</li><li>'lunch'</li><li>'test_prep_course'</li><li>'maths_score'</li><li>'reading_score'</li><li>'writing_score'</li></ol>\n"
            ],
            "text/markdown": "1. 'gender'\n2. 'ethnicity'\n3. 'parental_lvl_education'\n4. 'lunch'\n5. 'test_prep_course'\n6. 'maths_score'\n7. 'reading_score'\n8. 'writing_score'\n\n\n",
            "text/latex": "\\begin{enumerate*}\n\\item 'gender'\n\\item 'ethnicity'\n\\item 'parental\\_lvl\\_education'\n\\item 'lunch'\n\\item 'test\\_prep\\_course'\n\\item 'maths\\_score'\n\\item 'reading\\_score'\n\\item 'writing\\_score'\n\\end{enumerate*}\n",
            "text/plain": [
              "[1] \"gender\"                 \"ethnicity\"              \"parental_lvl_education\"\n",
              "[4] \"lunch\"                  \"test_prep_course\"       \"maths_score\"           \n",
              "[7] \"reading_score\"          \"writing_score\"         "
            ]
          },
          "metadata": {}
        }
      ]
    },
    {
      "cell_type": "markdown",
      "metadata": {
        "id": "2062c520"
      },
      "source": [
        "### Visualise data distribution ### \n",
        "---\n",
        "\n",
        "In statistics, when you are preparing data for analysis, you must first check if your data is Gaussian or not (normally distributed). \n",
        "\n",
        "If data is normally distributed, it will have a bell curve and the spread of the data will tend to be small, with the mean centred in the data.\n",
        "\n",
        "The types of statistical test that are meaningful for the data depend on whether or not your data is normally distributed. \n",
        "\n",
        "To check for normality, lets first look at a histogram: \n",
        "\n",
        "**Using the ggplot2 package (similar to pythons Matplotlib):**\n",
        "\n",
        "```qplot(data$column, geom=\"histogram\") ```\n",
        "\n",
        "In R, `$` is used to specify the dataframe and target column so `data$age` would tell R to look at the age column - in Python pandas this would be ```df['age'] ```\n",
        "\n",
        "### Exercise 4 ###\n",
        "---\n",
        "\n",
        "Create histograms to check the distribution of each numeric column in your data (writing_score, reading_score, math_score)"
      ],
      "id": "2062c520"
    },
    {
      "cell_type": "code",
      "metadata": {
        "id": "55e6c624",
        "colab": {
          "base_uri": "https://localhost:8080/",
          "height": 472
        },
        "outputId": "038f5a82-9446-42ff-976b-5fc68f81c941"
      },
      "source": [
        "qplot(data$'math score', geom=\"histogram\")"
      ],
      "id": "55e6c624",
      "execution_count": 19,
      "outputs": [
        {
          "output_type": "stream",
          "name": "stderr",
          "text": [
            "`stat_bin()` using `bins = 30`. Pick better value with `binwidth`.\n",
            "\n"
          ]
        },
        {
          "output_type": "display_data",
          "data": {
            "text/plain": [
              "plot without title"
            ],
            "image/png": "[encoded data removed]"
          },
          "metadata": {
            "image/png": {
              "width": 420,
              "height": 420
            }
          }
        }
      ]
    },
    {
      "cell_type": "markdown",
      "metadata": {
        "id": "a6345893"
      },
      "source": [
        "## What about data that isn't numeric?\n",
        "---\n",
        "\n",
        "A linear regression is essentially a mathematical formula, which finds 2 terms (the slope and intercept) and can use that to predict new values. \n",
        "\n",
        "Obviously you cannot do any calculations on words (such as male or female). Therefore, we need to 'dummy code' categorical values such as sex.\n",
        "\n",
        "When R does the mathematical equation for the regression, we do not want the new dummy codes to interfere with the calculation, to get around that, we code the data using 0 and 1. \n",
        "\n",
        "**There are many ways to dummy code your data, but to make things easy we are going to use a package!**\n",
        "\n",
        "``` df_dummy <- dummy_cols(data, select_columns = c('column1', 'column2', 'column3'), remove_first_dummy = TRUE, remove_selected_columns = TRUE) ```\n",
        "\n",
        "The above code sets the new dataframe in a variable called `df_dummy`, it then states which dataframe we mean, then in the brackets, you put the column names that you want dummy coded. \n",
        "\n",
        "```remove_selected_columns = TRUE``` tells R to delete the existing categorical data columns afterwards\n",
        "\n",
        "```remove_first_dummy = TRUE``` tells R to remove the first dummy column. dummy_cols will create one column for each categorical value in the original column (so the sex columns becomes 2 columns called sex_female and sex_male) So removing the first column would leave the column sex__male,  where 1 means male and 0 means female. Removing the first ethnicity column leaves the other 4 columns and any row that has 0 in all four columns can be assumed to be ethnicity A.  This is important as it stops multicollinearity in your model (your variables being too related to each other messing up the results). \n",
        "\n",
        "### Exercise 5 ###\n",
        "---\n",
        "\n",
        "Dummy code the categorical columns, removing the first dummy and the original columns. "
      ],
      "id": "a6345893"
    },
    {
      "cell_type": "code",
      "metadata": {
        "id": "3e7d7f63",
        "colab": {
          "base_uri": "https://localhost:8080/",
          "height": 650
        },
        "outputId": "a5f8c356-9fa6-41bb-c70c-c7d7e9ce5131"
      },
      "source": [
        "df_dummy <- dummy_cols(data, select_columns = c('gender', 'ethnicity', 'parental_lvl_education', 'lunch', 'test_prep_course'), remove_first_dummy = TRUE, remove_selected_columns = TRUE)\n",
        "head(data)\n",
        "summary(data)"
      ],
      "id": "3e7d7f63",
      "execution_count": 25,
      "outputs": [
        {
          "output_type": "display_data",
          "data": {
            "text/html": [
              "<table class=\"dataframe\">\n",
              "<caption>A tibble: 6 × 8</caption>\n",
              "<thead>\n",
              "\t<tr><th scope=col>gender</th><th scope=col>ethnicity</th><th scope=col>parental_lvl_education</th><th scope=col>lunch</th><th scope=col>test_prep_course</th><th scope=col>maths_score</th><th scope=col>reading_score</th><th scope=col>writing_score</th></tr>\n",
              "\t<tr><th scope=col>&lt;chr&gt;</th><th scope=col>&lt;chr&gt;</th><th scope=col>&lt;chr&gt;</th><th scope=col>&lt;chr&gt;</th><th scope=col>&lt;chr&gt;</th><th scope=col>&lt;dbl&gt;</th><th scope=col>&lt;dbl&gt;</th><th scope=col>&lt;dbl&gt;</th></tr>\n",
              "</thead>\n",
              "<tbody>\n",
              "\t<tr><td>female</td><td>group B</td><td>bachelor's degree </td><td>standard    </td><td>none     </td><td>72</td><td>72</td><td>74</td></tr>\n",
              "\t<tr><td>female</td><td>group C</td><td>some college      </td><td>standard    </td><td>completed</td><td>69</td><td>90</td><td>88</td></tr>\n",
              "\t<tr><td>female</td><td>group B</td><td>master's degree   </td><td>standard    </td><td>none     </td><td>90</td><td>95</td><td>93</td></tr>\n",
              "\t<tr><td>male  </td><td>group A</td><td>associate's degree</td><td>free/reduced</td><td>none     </td><td>47</td><td>57</td><td>44</td></tr>\n",
              "\t<tr><td>male  </td><td>group C</td><td>some college      </td><td>standard    </td><td>none     </td><td>76</td><td>78</td><td>75</td></tr>\n",
              "\t<tr><td>female</td><td>group B</td><td>associate's degree</td><td>standard    </td><td>none     </td><td>71</td><td>83</td><td>78</td></tr>\n",
              "</tbody>\n",
              "</table>\n"
            ],
            "text/markdown": "\nA tibble: 6 × 8\n\n| gender &lt;chr&gt; | ethnicity &lt;chr&gt; | parental_lvl_education &lt;chr&gt; | lunch &lt;chr&gt; | test_prep_course &lt;chr&gt; | maths_score &lt;dbl&gt; | reading_score &lt;dbl&gt; | writing_score &lt;dbl&gt; |\n|---|---|---|---|---|---|---|---|\n| female | group B | bachelor's degree  | standard     | none      | 72 | 72 | 74 |\n| female | group C | some college       | standard     | completed | 69 | 90 | 88 |\n| female | group B | master's degree    | standard     | none      | 90 | 95 | 93 |\n| male   | group A | associate's degree | free/reduced | none      | 47 | 57 | 44 |\n| male   | group C | some college       | standard     | none      | 76 | 78 | 75 |\n| female | group B | associate's degree | standard     | none      | 71 | 83 | 78 |\n\n",
            "text/latex": "A tibble: 6 × 8\n\\begin{tabular}{llllllll}\n gender & ethnicity & parental\\_lvl\\_education & lunch & test\\_prep\\_course & maths\\_score & reading\\_score & writing\\_score\\\\\n <chr> & <chr> & <chr> & <chr> & <chr> & <dbl> & <dbl> & <dbl>\\\\\n\\hline\n\t female & group B & bachelor's degree  & standard     & none      & 72 & 72 & 74\\\\\n\t female & group C & some college       & standard     & completed & 69 & 90 & 88\\\\\n\t female & group B & master's degree    & standard     & none      & 90 & 95 & 93\\\\\n\t male   & group A & associate's degree & free/reduced & none      & 47 & 57 & 44\\\\\n\t male   & group C & some college       & standard     & none      & 76 & 78 & 75\\\\\n\t female & group B & associate's degree & standard     & none      & 71 & 83 & 78\\\\\n\\end{tabular}\n",
            "text/plain": [
              "  gender ethnicity parental_lvl_education lunch        test_prep_course\n",
              "1 female group B   bachelor's degree      standard     none            \n",
              "2 female group C   some college           standard     completed       \n",
              "3 female group B   master's degree        standard     none            \n",
              "4 male   group A   associate's degree     free/reduced none            \n",
              "5 male   group C   some college           standard     none            \n",
              "6 female group B   associate's degree     standard     none            \n",
              "  maths_score reading_score writing_score\n",
              "1 72          72            74           \n",
              "2 69          90            88           \n",
              "3 90          95            93           \n",
              "4 47          57            44           \n",
              "5 76          78            75           \n",
              "6 71          83            78           "
            ]
          },
          "metadata": {}
        },
        {
          "output_type": "display_data",
          "data": {
            "text/plain": [
              "    gender           ethnicity         parental_lvl_education\n",
              " Length:1000        Length:1000        Length:1000           \n",
              " Class :character   Class :character   Class :character      \n",
              " Mode  :character   Mode  :character   Mode  :character      \n",
              "                                                             \n",
              "                                                             \n",
              "                                                             \n",
              "    lunch           test_prep_course    maths_score     reading_score   \n",
              " Length:1000        Length:1000        Min.   :  0.00   Min.   : 17.00  \n",
              " Class :character   Class :character   1st Qu.: 57.00   1st Qu.: 59.00  \n",
              " Mode  :character   Mode  :character   Median : 66.00   Median : 70.00  \n",
              "                                       Mean   : 66.09   Mean   : 69.17  \n",
              "                                       3rd Qu.: 77.00   3rd Qu.: 79.00  \n",
              "                                       Max.   :100.00   Max.   :100.00  \n",
              " writing_score   \n",
              " Min.   : 10.00  \n",
              " 1st Qu.: 57.75  \n",
              " Median : 69.00  \n",
              " Mean   : 68.05  \n",
              " 3rd Qu.: 79.00  \n",
              " Max.   :100.00  "
            ]
          },
          "metadata": {}
        }
      ]
    },
    {
      "cell_type": "markdown",
      "metadata": {
        "id": "634ad052"
      },
      "source": [
        "### We want to work out if all the independent variables (eg. gender, race, parents education) predict students exam peformance. ###\n",
        "---\n",
        "\n",
        "At the moment, writing, math and reading scores are seperated.   \n",
        "Lets make a new column with the total scores.   \n",
        "\n",
        "To do this we use the ``mutate()`` function \n",
        "\n",
        "``` new_df <- mutate(data, new_column = ....) ```\n",
        "\n",
        "eg: \n",
        "\n",
        "``` new_df <- mutate(data, new_column = column1 / column2) ```  \n",
        "``` new_df <- mutate(data, new_column = column1 + column2) ```  \n",
        "``` new_df <- mutate(data, new_column = column1 * 2) ```  \n",
        "\n",
        "etc..\n",
        "\n",
        "### Exercise 6 ###\n",
        "---\n",
        "\n",
        "Using the mutate function, create a new column called ```total_score``` which contains the sum of each students reading, writing and math scores. "
      ],
      "id": "634ad052"
    },
    {
      "cell_type": "code",
      "metadata": {
        "id": "cd02714d",
        "colab": {
          "base_uri": "https://localhost:8080/",
          "height": 34
        },
        "outputId": "3efc36e0-b35e-42fa-b0db-507a5ca3365d"
      },
      "source": [
        "\n",
        "new_df <- mutate(data, total_score = maths_score + reading_score + writing_score)\n",
        "names(new_df)\n"
      ],
      "id": "cd02714d",
      "execution_count": 27,
      "outputs": [
        {
          "output_type": "display_data",
          "data": {
            "text/html": [
              "<style>\n",
              ".list-inline {list-style: none; margin:0; padding: 0}\n",
              ".list-inline>li {display: inline-block}\n",
              ".list-inline>li:not(:last-child)::after {content: \"\\00b7\"; padding: 0 .5ex}\n",
              "</style>\n",
              "<ol class=list-inline><li>'gender'</li><li>'ethnicity'</li><li>'parental_lvl_education'</li><li>'lunch'</li><li>'test_prep_course'</li><li>'maths_score'</li><li>'reading_score'</li><li>'writing_score'</li><li>'total_score'</li></ol>\n"
            ],
            "text/markdown": "1. 'gender'\n2. 'ethnicity'\n3. 'parental_lvl_education'\n4. 'lunch'\n5. 'test_prep_course'\n6. 'maths_score'\n7. 'reading_score'\n8. 'writing_score'\n9. 'total_score'\n\n\n",
            "text/latex": "\\begin{enumerate*}\n\\item 'gender'\n\\item 'ethnicity'\n\\item 'parental\\_lvl\\_education'\n\\item 'lunch'\n\\item 'test\\_prep\\_course'\n\\item 'maths\\_score'\n\\item 'reading\\_score'\n\\item 'writing\\_score'\n\\item 'total\\_score'\n\\end{enumerate*}\n",
            "text/plain": [
              "[1] \"gender\"                 \"ethnicity\"              \"parental_lvl_education\"\n",
              "[4] \"lunch\"                  \"test_prep_course\"       \"maths_score\"           \n",
              "[7] \"reading_score\"          \"writing_score\"          \"total_score\"           "
            ]
          },
          "metadata": {}
        }
      ]
    },
    {
      "cell_type": "markdown",
      "metadata": {
        "id": "5a5c2c36"
      },
      "source": [
        "### We are now ready to do our multiple linear regression ###\n",
        "---\n",
        "\n",
        "We are looking to find out using our dataset if we can predict student exam performance. \n",
        "\n",
        "Therefore, total_score is our dependent variable (DV) as it can be changed by the other variables \n",
        "\n",
        "Gender, ethnicity, parental_education, lunch and preparation_course are therefore our independent variables (IV) as they cannot be affected by students exam performance.   \n",
        "\n",
        "To do a linear regression, we are going to create a model that tests how significantly the IV's impact the DV.   \n",
        "\n",
        "```\n",
        "regression_model <- lm(DV ~ IV1 + IV2 + IV3..., data = df)\n",
        "summary(regression_model)\n",
        "```\n",
        "\n",
        "The above code does a very similar thing to stats.linregress in python! \n",
        "\n",
        "**Some of the new dummy variable names are seperated by spaces, so to include them enclose them in \\` ` (backtick)**\n",
        "\n",
        "eg. \\` ethnicity_group B `\n",
        "\n",
        "### Exercise 7 ###\n",
        "---\n",
        "Perform a linear regression using total_score as the DV and display the summary data \n"
      ],
      "id": "5a5c2c36"
    },
    {
      "cell_type": "code",
      "metadata": {
        "id": "54c682af"
      },
      "source": [
        "regression_model <- lm(DV ~ IV1 + IV2 + IV3..., data = new_df)\n",
        "summary(regression_model)"
      ],
      "id": "54c682af",
      "execution_count": null,
      "outputs": []
    },
    {
      "cell_type": "markdown",
      "metadata": {
        "id": "39a48f86"
      },
      "source": [
        "### Lets understand the output ### \n",
        "---\n",
        "\n",
        "**Statistical significance**\n",
        "\n",
        "If something is statistically significant it means that the probability that the hypothesis (the thing your asking) is true/correct, is very very high aka less than 5% chance that the effect on the DV is random. \n",
        "\n",
        "So when reading a regression output, if the p-value (the right hand column) is less than 0.05 then it means it is significant, and more than 95% likely to be affecting the DV. \n",
        "\n",
        "In R, *'s are used to indicate which variables are significantly predicting the dependent variable. \n",
        "\n",
        "**The regression equation** \n",
        "\n",
        "The equation for a line of best fit is y = mx + c or y = slope*x + intercept. \n",
        "\n",
        "y = dependent variable\n",
        "x = independent variable\n",
        "\n",
        "In a multiple linear regression, we have multiple x. \n",
        "\n",
        "The equation is therefore:\n",
        "\n",
        "```y = intercept + slope1*x1 + slope2*x2... ```\n",
        "\n",
        "Each x (IV) has its own slope. \n",
        "\n",
        "**Coefficents (slope)**\n",
        "\n",
        "The estimates column lists all the regression coefficents (slopes) for each variable. What these mean in simple terms is how much the dependent variable is increased or decreased by that variable. These only matter however, if the variable is significant.   \n",
        "\n",
        "So for example, if gender_male was significant (p-value < 0.05) and had a positive coefficent, it would mean that male students were performing significantly better in their exams than female students. Therefore, gender predicted exam performance. A negative coefficent would mean that the score is less for males or rather more for females. \n",
        "\n",
        "**R squared**\n",
        "\n",
        "R^2 is how well your variables explain the variance in value of the dependent variable. So the higher the R^2 value, the better your model explains the change in value of your dependent variable. \n",
        "\n",
        "A low R^2 doesnt necessarily mean that your model is bad, but indicates that the variables in your dataset are not telling the whole story! \n",
        "\n",
        "For example, a R^2 of 0.50 would mean that your data only explains 50% of the change in scores between each student. \n",
        "\n",
        "Essentially it tells you how well your model fits the data. \n",
        "\n",
        "\n",
        "**F-Statistic**\n",
        "\n",
        "It shows results of a complex mathematical formula. But we only need to worry about it's significance! If your F statistic is significant ( p-value < 0.05), it means that when compared with a model which does not have any of the independent variables in it, your model is better. \n",
        "\n",
        "\n",
        "### Exercise 8 ###\n",
        "---\n",
        "\n",
        "Read the regression output and write some comments on the findings. \n",
        "Try to note which variables are significant, and evaluate how well the variables explain student performance. \n"
      ],
      "id": "39a48f86"
    },
    {
      "cell_type": "markdown",
      "source": [
        "Write comments here "
      ],
      "metadata": {
        "id": "SAPWYZcwCEnA"
      },
      "id": "SAPWYZcwCEnA"
    },
    {
      "cell_type": "markdown",
      "metadata": {
        "id": "e23d1213"
      },
      "source": [
        "### Assumptions ###\n",
        "---\n",
        "\n",
        "Thinking back to the 'testing for normality' worksheet...\n",
        "\n",
        "When we do linear regressions we have to assume that our data is guassian (normally distributed). We therefore now need to test that our assumptions of normality are true and that our model is therefore meaningful. \n",
        "\n",
        "1. linearity :\n",
        "\n",
        "``` plot(model, 1) ```\n",
        "\n",
        "A largely horizontal line at about 0 means that our data has good linearity, meaning our model is good!\n",
        "\n",
        "2. Q-Q plot or P-P plot: \n",
        "\n",
        "``` plot(model, 2) ```\n",
        "\n",
        "The points following a straightish diagonal line means that again we have good normality. \n",
        "\n",
        "\n",
        "### Exercise 9 ###\n",
        "---\n",
        "\n",
        "Check both the assumptions of your model and write a comment with your findings"
      ],
      "id": "e23d1213"
    },
    {
      "cell_type": "code",
      "metadata": {
        "id": "4d1f4186"
      },
      "source": [
        ""
      ],
      "id": "4d1f4186",
      "execution_count": null,
      "outputs": []
    },
    {
      "cell_type": "markdown",
      "metadata": {
        "id": "ZwGSPCR_Dwud"
      },
      "source": [
        "# Exploring the data\n",
        "---\n",
        "\n",
        "In the previous exercises, we only looked at the effect on `total score`. Now that we know that some of our variables did significantly predict student exam scores let's explore it in more detail. \n",
        "\n",
        "### Exercise 10\n",
        "---\n",
        "\n",
        "* Run a regression called `write_mod` using `writing_score` as the DV \n",
        "* Run a regression called `read_mod` using `reading_score` as the DV\n",
        "* Run a regression called `math_mod` using `math_score` as the DV \n",
        "* Compare the results with the model from exercise 7 and comment your findings\n",
        "* Compare the results of each model with each other. What inferences can you \n",
        "make?\n",
        "* Look at the difference in coefficents of significant variables between models - what does it tell you?\n"
      ],
      "id": "ZwGSPCR_Dwud"
    },
    {
      "cell_type": "code",
      "metadata": {
        "id": "nbBN0RoUJQww"
      },
      "source": [
        ""
      ],
      "id": "nbBN0RoUJQww",
      "execution_count": null,
      "outputs": []
    },
    {
      "cell_type": "markdown",
      "metadata": {
        "id": "JgibNCXnKvHE"
      },
      "source": [
        "# Reflection\n",
        "----\n",
        "\n",
        "## What skills have you demonstrated in completing this notebook?"
      ],
      "id": "JgibNCXnKvHE"
    },
    {
      "cell_type": "markdown",
      "metadata": {
        "id": "PWZ6NctwKv88"
      },
      "source": [
        "Your answer:"
      ],
      "id": "PWZ6NctwKv88"
    },
    {
      "cell_type": "markdown",
      "metadata": {
        "id": "Y4SWfDOCKz34"
      },
      "source": [
        "## What caused you the most difficulty?"
      ],
      "id": "Y4SWfDOCKz34"
    },
    {
      "cell_type": "markdown",
      "metadata": {
        "id": "Y84WximLK0gL"
      },
      "source": [
        "Your answer:"
      ],
      "id": "Y84WximLK0gL"
    }
  ]
}