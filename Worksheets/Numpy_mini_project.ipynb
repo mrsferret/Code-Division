{
  "nbformat": 4,
  "nbformat_minor": 0,
  "metadata": {
    "colab": {
      "name": "Numpy mini-project.ipynb",
      "provenance": [],
      "collapsed_sections": [],
      "include_colab_link": true
    },
    "kernelspec": {
      "name": "python3",
      "display_name": "Python 3"
    },
    "language_info": {
      "name": "python"
    }
  },
  "cells": [
    {
      "cell_type": "markdown",
      "metadata": {
        "id": "view-in-github",
        "colab_type": "text"
      },
      "source": [
        "<a href=\"https://colab.research.google.com/github/mrsferret/Code-Division/blob/main/Worksheets/Numpy_mini_project.ipynb\" target=\"_parent\"><img src=\"https://colab.research.google.com/assets/colab-badge.svg\" alt=\"Open In Colab\"/></a>"
      ]
    },
    {
      "cell_type": "markdown",
      "source": [
        "# Investigate, wrangle, add new data to the dataframe, filter and correlate\n",
        "\n",
        "The following data file contains data about student scores in math, reading and writing.  The exam scores are assumed to be percentages. It also contains data about gender, ethnicity, parental education, whether the student qualifies for free school food and whether or not the student has taken a preparation course for the exams.  The data set has already been cleaned. \n",
        "\n",
        "1.  Investigate the data set.\n",
        "\n",
        "2.  Create numpy arrays to hold each of the three sets of scores.  \n",
        "Create a new numpy array to hold the average exam score (of the three scores for each student)\n",
        "Add the new numpy array as a new column in the dataframe.\n",
        "\n",
        "3.  Filter the original dataset into a new dataframe containing just the females.  Calculate the average exam scores for all rows in this new dataframe and then find the mean of the average column.\n",
        "\n",
        "4.  Do the same for the males.\n",
        "\n",
        "5.  Use the original dataset to find the correlation coefficient for reading and maths.  How closely do they correlate?  Write what you find in a text box below the code.\n",
        "\n",
        "6.  Do the same for reading and writing. What do you find?\n",
        "\n",
        "7.  You might want to filter on different criteria and check correlation (e.g. those on free school meals, or those who had prepared, etc)\n",
        "\n",
        "\n",
        "\n",
        "\n",
        "\n"
      ],
      "metadata": {
        "id": "8qnlsapq24Df"
      }
    },
    {
      "cell_type": "markdown",
      "source": [
        "The dataset can be accessed here:  https://raw.githubusercontent.com/lilaceri/Working-with-data-/main/Data%20Sets%20for%20code%20divisio/exams.csv.  This is a .csv file.\n",
        "\n",
        "**NOTE:** Some useful references are included at the bottom of this spreadsheet.\n",
        "\n",
        "Use the code cell below to work your code."
      ],
      "metadata": {
        "id": "SSvLiFnp4LjG"
      }
    },
    {
      "cell_type": "code",
      "source": [
        "import pandas as pd\n",
        "import numpy as np\n",
        "\n",
        "url = \"https://raw.githubusercontent.com/lilaceri/Working-with-data-/main/Data%20Sets%20for%20code%20divisio/exams.csv\"\n",
        "df = pd.read_csv(url)\n",
        "#df.info()\n",
        "print (df.head())\n",
        "\n",
        "\n",
        "math_score_np = df['math_score'].to_numpy(np.int32)\n",
        "reading_score_np = df['reading_score'].to_numpy(np.int32)\n",
        "writing_score_np = df['writing_score'].to_numpy(np.int32)\n",
        "\n",
        "#=======================================================\n",
        "# Create single array from the 3 separate arrays\n",
        "#=======================================================\n",
        "arr = np.array([[math_score_np], \n",
        "               [reading_score_np],\n",
        "                [writing_score_np]])\n",
        "#arr = np.array([math_score_np, \n",
        "#          reading_score_np,\n",
        "#          writing_score_np])\n",
        "display(arr)\n",
        "\n",
        "#=======================================================\n",
        "# Calculate average score for each student \n",
        "#=======================================================\n",
        "arr2 = np.round(((np.sum(arr,axis=0))/3))\n",
        "\n",
        "display ('Overall Mean Scores: ', arr2)\n",
        "\n",
        "#====================================================================\n",
        "# Add the Overall Average as a new column to original dataframe\n",
        "#================================================================\n",
        "#df['Overall Average'] = arr2.tolist()\n",
        "df['Overall Average'] = arr2\n",
        "\n",
        "#=======================================================\n",
        "# Filter just females from original dataset\n",
        "#=========================================================\n",
        "\n",
        "filtered_df = df[df['gender'] == 'female'] \n",
        "\n",
        "\n",
        "#filtered_df = df[df['gender' == 'female']]\n",
        "#filtered_df = df.filter(like='female', axis=0)\n",
        "print ('Filtered df: ', filtered_df)\n",
        "\n",
        "#=======================================================\n",
        "# find the correlation coefficient for reading and maths\n",
        "#=======================================================\n",
        "coef = np.corrcoef(reading_score_np, math_score_np)\n",
        "print('Coef of reading and maths scores: ', coef) \n",
        "\n",
        "#=======================================================\n",
        "# find the correlation coefficient for reading and maths\n",
        "#=======================================================\n",
        "coef = np.corrcoef(reading_score_np, writing_score_np)\n",
        "print('Coef of reading and writing scores: ', coef) \n",
        "\n"
      ],
      "metadata": {
        "id": "txM4TIRUHhsJ",
        "colab": {
          "base_uri": "https://localhost:8080/",
          "height": 1000
        },
        "outputId": "06712836-2ed0-443a-c30b-3000f0191c98"
      },
      "execution_count": 8,
      "outputs": [
        {
          "output_type": "stream",
          "name": "stdout",
          "text": [
            "   gender ethnicity  ... reading_score writing_score\n",
            "0  female   group E  ...            76            71\n",
            "1    male   group C  ...            72            69\n",
            "2  female   group B  ...            56            61\n",
            "3    male   group D  ...            60            59\n",
            "4  female   group C  ...            54            55\n",
            "\n",
            "[5 rows x 8 columns]\n"
          ]
        },
        {
          "output_type": "display_data",
          "data": {
            "text/plain": [
              "array([[[65, 75, 62, ..., 65, 62, 38]],\n",
              "\n",
              "       [[76, 72, 56, ..., 94, 62, 39]],\n",
              "\n",
              "       [[71, 69, 61, ..., 93, 57, 40]]], dtype=int32)"
            ]
          },
          "metadata": {}
        },
        {
          "output_type": "display_data",
          "data": {
            "application/vnd.google.colaboratory.intrinsic+json": {
              "type": "string"
            },
            "text/plain": [
              "'Overall Mean Scores: '"
            ]
          },
          "metadata": {}
        },
        {
          "output_type": "display_data",
          "data": {
            "text/plain": [
              "array([[ 71.,  72.,  60.,  60.,  48.,  60.,  88.,  79.,  64.,  81.,  90.,\n",
              "         64.,  39.,  84.,  49.,  62.,  66.,  58.,  49.,  77.,  76.,  36.,\n",
              "         79.,  82.,  67.,  57.,  66.,  43.,  89.,  82.,  61.,  76.,  67.,\n",
              "         79.,  79.,  96.,  73.,  57.,  80.,  80.,  86.,  60.,  60.,  97.,\n",
              "         68.,  80.,  89.,  68.,  53.,  61.,  79.,  69.,  91.,  61.,  68.,\n",
              "         65.,  70.,  70.,  71.,  92.,  78.,  81.,  42.,  63.,  46.,  78.,\n",
              "         61.,  72.,  94.,  58.,  90.,  70.,  60.,  76.,  69.,  73.,  87.,\n",
              "         95.,  40.,  81.,  80.,  72.,  58.,  86.,  53.,  90.,  22.,  90.,\n",
              "         56.,  59.,  98.,  51.,  45.,  73.,  72.,  56.,  65.,  83.,  87.,\n",
              "         72.,  57.,  92.,  81.,  74.,  87.,  53.,  78.,  63.,  79.,  67.,\n",
              "         59.,  50.,  59.,  71.,  71.,  65.,  69.,  64.,  62.,  54.,  54.,\n",
              "         47.,  67.,  64.,  62.,  56.,  59.,  69.,  66.,  49.,  57.,  71.,\n",
              "         64.,  90.,  54.,  70.,  73.,  61.,  50.,  71.,  79.,  37.,  81.,\n",
              "         77.,  58.,  84.,  86.,  76.,  97.,  62.,  58.,  73.,  72.,  44.,\n",
              "         61.,  76.,  76.,  81.,  51.,  74.,  63.,  82.,  42.,  97.,  61.,\n",
              "         53.,  56.,  31.,  89.,  74.,  41.,  89.,  93.,  64.,  53.,  59.,\n",
              "         90.,  91.,  72.,  64.,  99.,  69.,  82.,  45.,  44.,  33.,  81.,\n",
              "         79.,  79.,  73.,  88.,  87.,  57.,  29.,  56.,  75.,  75.,  53.,\n",
              "         50.,  74.,  61.,  57.,  64.,  68.,  51.,  58.,  78.,  83.,  75.,\n",
              "         52.,  60.,  72.,  64.,  63.,  55.,  75.,  66.,  59.,  75.,  70.,\n",
              "         90.,  78.,  67.,  61.,  70.,  68.,  81.,  82.,  72.,  61.,  84.,\n",
              "         79.,  69.,  60.,  55.,  83.,  77.,  52.,  42.,  55.,  71.,  79.,\n",
              "         84.,  74.,  45.,  74.,  62.,  45.,  87.,  94.,  81.,  82.,  59.,\n",
              "         63.,  57.,  56.,  79.,  83.,  76.,  68.,  71.,  60.,  49.,  83.,\n",
              "         57.,  33.,  60.,  87.,  92.,  75.,  37.,  40.,  75.,  89.,  65.,\n",
              "         42.,  60.,  70.,  58.,  82.,  64.,  46.,  54.,  60.,  57.,  61.,\n",
              "         75., 100.,  56.,  52.,  79.,  78.,  74.,  49.,  57.,  79.,  46.,\n",
              "         78.,  43.,  70.,  96.,  65.,  89.,  71.,  46.,  55.,  58.,  89.,\n",
              "         64.,  75.,  75.,  99.,  71.,  67.,  55.,  85.,  61.,  75.,  53.,\n",
              "         96.,  73.,  33.,  89.,  89.,  59.,  75.,  56.,  62.,  75.,  65.,\n",
              "         78.,  72.,  62.,  70.,  17.,  66.,  70.,  58.,  77.,  58.,  73.,\n",
              "         57.,  68.,  69.,  63.,  64.,  73.,  70.,  86.,  61.,  67.,  81.,\n",
              "         74.,  75.,  66.,  70.,  68.,  31.,  95.,  77.,  75.,  82.,  89.,\n",
              "         57.,  82.,  74.,  74.,  82.,  87.,  92.,  72.,  47.,  54.,  95.,\n",
              "         52.,  51.,  85.,  72.,  39.,  79.,  47.,  57.,  64.,  80.,  65.,\n",
              "        100.,  77.,  72.,  41.,  91.,  67.,  40.,  64.,  62.,  66.,  56.,\n",
              "         61.,  60.,  77.,  48.,  54.,  78.,  89.,  64.,  58.,  52.,  47.,\n",
              "         82.,  70.,  70.,  88.,  73.,  94.,  76.,  61.,  76.,  84.,  89.,\n",
              "         62.,  58.,  70.,  72.,  66.,  62.,  72.,  70.,  57.,  69.,  83.,\n",
              "         81.,  73.,  92.,  75.,  66.,  37.,  77.,  84.,  97.,  44.,  73.,\n",
              "         80.,  63.,  63.,  75.,  80.,  63.,  74.,  44.,  90.,  48.,  93.,\n",
              "         81.,  67.,  80.,  26.,  76.,  69.,  77.,  40.,  84.,  68.,  65.,\n",
              "         84.,  63.,  79.,  72.,  74.,  84.,  74.,  84.,  96.,  58.,  79.,\n",
              "         50.,  41.,  85.,  64.,  66.,  98.,  75.,  74.,  75.,  64.,  55.,\n",
              "         65.,  57.,  71.,  79.,  61.,  62.,  42.,  71.,  75.,  72.,  38.,\n",
              "         73.,  70.,  70.,  66.,  45.,  56.,  84.,  53.,  50.,  65.,  69.,\n",
              "         69.,  36.,  97.,  76.,  88.,  58.,  53.,  81.,  84.,  60.,  45.,\n",
              "         46.,  74.,  74.,  63.,  73.,  73.,  79.,  75.,  54.,  82.,  70.,\n",
              "         43.,  63.,  77.,  79.,  51.,  72.,  69.,  84.,  82.,  73.,  53.,\n",
              "         89.,  79.,  74.,  67.,  69.,  66.,  79.,  60.,  57.,  55.,  74.,\n",
              "         73.,  69.,  50.,  92.,  63.,  54.,  84.,  79.,  57.,  68.,  53.,\n",
              "         64.,  84.,  45.,  62.,  56.,  66.,  75.,  70.,  46.,  66.,  70.,\n",
              "         68.,  62.,  82.,  89.,  59.,  69.,  40.,  43.,  73.,  73.,  77.,\n",
              "         69.,  72.,  95.,  63.,  77.,  53.,  72.,  51.,  89.,  56.,  70.,\n",
              "         88.,  69.,  77.,  60.,  64.,  87.,  55.,  68.,  47.,  64.,  66.,\n",
              "         53.,  56.,  73.,  73.,  95.,  57.,  80.,  74.,  64.,  71.,  78.,\n",
              "         34.,  73.,  68.,  74.,  80.,  65.,  92.,  35.,  72.,  42., 100.,\n",
              "         71.,  40.,  68.,  53.,  76.,  73.,  92.,  55.,  67.,  79.,  67.,\n",
              "         70.,  83.,  46.,  61.,  82.,  65.,  66.,  86.,  64.,  65.,  73.,\n",
              "         76.,  88.,  79.,  61.,  86.,  72.,  53.,  54.,  86.,  71.,  51.,\n",
              "         58.,  51.,  71.,  52.,  78.,  46.,  85.,  59.,  69.,  47.,  80.,\n",
              "         70.,  97.,  67.,  56.,  72.,  85.,  90.,  69.,  38.,  41.,  81.,\n",
              "         75.,  72.,  58.,  81.,  63.,  78.,  82.,  66.,  71.,  73.,  68.,\n",
              "         60.,  48.,  92.,  66.,  53.,  89.,  78.,  72.,  80.,  83.,  72.,\n",
              "         61.,  67.,  67.,  70.,  89.,  50.,  51.,  73.,  59.,  81.,  44.,\n",
              "         85.,  34.,  70.,  93.,  96.,  53.,  91.,  78.,  76.,  35.,  84.,\n",
              "         51.,  78.,  74.,  82.,  47.,  83.,  73.,  64.,  65.,  91.,  49.,\n",
              "         74.,  68.,  92.,  67.,  80.,  74.,  39.,  52.,  70.,  60.,  52.,\n",
              "         75.,  54.,  60.,  61.,  69.,  49.,  61.,  59.,  57.,  78.,  55.,\n",
              "         44.,  67.,  89.,  80.,  69.,  81.,  80.,  59.,  76.,  65.,  79.,\n",
              "         55.,  90.,  85.,  80.,  56.,  94.,  52.,  77.,  75.,  70.,  87.,\n",
              "         52.,  65.,  57.,  50.,  98.,  71.,  71.,  75.,  47.,  67.,  73.,\n",
              "         74.,  55.,  75.,  96.,  65.,  78.,  59.,  73.,  52.,  90.,  66.,\n",
              "         82.,  61.,  46.,  61.,  55.,  70.,  62.,  97.,  90.,  47.,  81.,\n",
              "         57.,  82.,  75.,  76.,  66.,  82.,  59.,  58.,  50.,  94.,  51.,\n",
              "         57.,  68.,  47.,  72.,  14.,  74.,  65.,  68.,  86.,  59.,  83.,\n",
              "         79.,  47.,  85.,  64.,  78.,  71.,  86.,  73.,  68.,  46.,  62.,\n",
              "         81.,  55.,  81.,  53.,  64.,  49.,  50.,  70.,  75.,  69.,  67.,\n",
              "         64.,  64.,  75.,  92.,  59.,  85.,  57.,  41.,  75.,  56.,  76.,\n",
              "         59.,  77.,  61.,  73.,  66.,  51.,  94.,  86.,  56.,  68.,  74.,\n",
              "         82.,  51.,  83.,  67.,  55.,  63.,  35.,  82.,  96.,  76.,  88.,\n",
              "         88.,  72.,  62.,  67.,  49.,  61.,  66.,  56.,  84.,  75.,  66.,\n",
              "         58.,  67.,  80.,  66.,  82.,  65.,  58.,  60.,  64.,  50.,  92.,\n",
              "         59.,  47.,  73.,  82.,  56.,  83.,  80.,  60.,  77.,  79.,  79.,\n",
              "         87.,  57.,  57.,  74.,  93.,  82.,  53.,  70.,  37.,  91.,  59.,\n",
              "         64.,  60.,  49.,  72.,  56.,  69.,  58.,  78.,  68.,  65.,  81.,\n",
              "         57.,  81.,  65.,  51.,  56.,  81.,  79.,  81.,  75.,  81.,  80.,\n",
              "         81.,  97.,  58.,  59.,  70.,  69.,  69.,  84.,  63.,  76.,  86.,\n",
              "         93.,  45.,  70.,  70.,  53.,  78.,  73.,  49.,  78.,  73.,  54.,\n",
              "         59.,  64.,  63.,  59.,  56.,  88.,  88.,  59.,  76.,  63.,  77.,\n",
              "         65.,  74.,  58.,  75.,  75.,  76.,  84.,  84.,  60.,  39.]])"
            ]
          },
          "metadata": {}
        },
        {
          "output_type": "error",
          "ename": "ValueError",
          "evalue": "ignored",
          "traceback": [
            "\u001b[0;31m---------------------------------------------------------------------------\u001b[0m",
            "\u001b[0;31mValueError\u001b[0m                                Traceback (most recent call last)",
            "\u001b[0;32m<ipython-input-8-d0a8e7afd3a3>\u001b[0m in \u001b[0;36m<module>\u001b[0;34m()\u001b[0m\n\u001b[1;32m     34\u001b[0m \u001b[0;31m#================================================================\u001b[0m\u001b[0;34m\u001b[0m\u001b[0;34m\u001b[0m\u001b[0;34m\u001b[0m\u001b[0m\n\u001b[1;32m     35\u001b[0m \u001b[0;31m#df['Overall Average'] = arr2.tolist()\u001b[0m\u001b[0;34m\u001b[0m\u001b[0;34m\u001b[0m\u001b[0;34m\u001b[0m\u001b[0m\n\u001b[0;32m---> 36\u001b[0;31m \u001b[0mdf\u001b[0m\u001b[0;34m[\u001b[0m\u001b[0;34m'Overall Average'\u001b[0m\u001b[0;34m]\u001b[0m \u001b[0;34m=\u001b[0m \u001b[0marr2\u001b[0m\u001b[0;34m\u001b[0m\u001b[0;34m\u001b[0m\u001b[0m\n\u001b[0m\u001b[1;32m     37\u001b[0m \u001b[0;34m\u001b[0m\u001b[0m\n\u001b[1;32m     38\u001b[0m \u001b[0;31m#=======================================================\u001b[0m\u001b[0;34m\u001b[0m\u001b[0;34m\u001b[0m\u001b[0;34m\u001b[0m\u001b[0m\n",
            "\u001b[0;32m/usr/local/lib/python3.7/dist-packages/pandas/core/frame.py\u001b[0m in \u001b[0;36m__setitem__\u001b[0;34m(self, key, value)\u001b[0m\n\u001b[1;32m   3610\u001b[0m         \u001b[0;32melse\u001b[0m\u001b[0;34m:\u001b[0m\u001b[0;34m\u001b[0m\u001b[0;34m\u001b[0m\u001b[0m\n\u001b[1;32m   3611\u001b[0m             \u001b[0;31m# set column\u001b[0m\u001b[0;34m\u001b[0m\u001b[0;34m\u001b[0m\u001b[0;34m\u001b[0m\u001b[0m\n\u001b[0;32m-> 3612\u001b[0;31m             \u001b[0mself\u001b[0m\u001b[0;34m.\u001b[0m\u001b[0m_set_item\u001b[0m\u001b[0;34m(\u001b[0m\u001b[0mkey\u001b[0m\u001b[0;34m,\u001b[0m \u001b[0mvalue\u001b[0m\u001b[0;34m)\u001b[0m\u001b[0;34m\u001b[0m\u001b[0;34m\u001b[0m\u001b[0m\n\u001b[0m\u001b[1;32m   3613\u001b[0m \u001b[0;34m\u001b[0m\u001b[0m\n\u001b[1;32m   3614\u001b[0m     \u001b[0;32mdef\u001b[0m \u001b[0m_setitem_slice\u001b[0m\u001b[0;34m(\u001b[0m\u001b[0mself\u001b[0m\u001b[0;34m,\u001b[0m \u001b[0mkey\u001b[0m\u001b[0;34m:\u001b[0m \u001b[0mslice\u001b[0m\u001b[0;34m,\u001b[0m \u001b[0mvalue\u001b[0m\u001b[0;34m)\u001b[0m\u001b[0;34m:\u001b[0m\u001b[0;34m\u001b[0m\u001b[0;34m\u001b[0m\u001b[0m\n",
            "\u001b[0;32m/usr/local/lib/python3.7/dist-packages/pandas/core/frame.py\u001b[0m in \u001b[0;36m_set_item\u001b[0;34m(self, key, value)\u001b[0m\n\u001b[1;32m   3782\u001b[0m         \u001b[0mensure\u001b[0m \u001b[0mhomogeneity\u001b[0m\u001b[0;34m.\u001b[0m\u001b[0;34m\u001b[0m\u001b[0;34m\u001b[0m\u001b[0m\n\u001b[1;32m   3783\u001b[0m         \"\"\"\n\u001b[0;32m-> 3784\u001b[0;31m         \u001b[0mvalue\u001b[0m \u001b[0;34m=\u001b[0m \u001b[0mself\u001b[0m\u001b[0;34m.\u001b[0m\u001b[0m_sanitize_column\u001b[0m\u001b[0;34m(\u001b[0m\u001b[0mvalue\u001b[0m\u001b[0;34m)\u001b[0m\u001b[0;34m\u001b[0m\u001b[0;34m\u001b[0m\u001b[0m\n\u001b[0m\u001b[1;32m   3785\u001b[0m \u001b[0;34m\u001b[0m\u001b[0m\n\u001b[1;32m   3786\u001b[0m         if (\n",
            "\u001b[0;32m/usr/local/lib/python3.7/dist-packages/pandas/core/frame.py\u001b[0m in \u001b[0;36m_sanitize_column\u001b[0;34m(self, value)\u001b[0m\n\u001b[1;32m   4507\u001b[0m \u001b[0;34m\u001b[0m\u001b[0m\n\u001b[1;32m   4508\u001b[0m         \u001b[0;32mif\u001b[0m \u001b[0mis_list_like\u001b[0m\u001b[0;34m(\u001b[0m\u001b[0mvalue\u001b[0m\u001b[0;34m)\u001b[0m\u001b[0;34m:\u001b[0m\u001b[0;34m\u001b[0m\u001b[0;34m\u001b[0m\u001b[0m\n\u001b[0;32m-> 4509\u001b[0;31m             \u001b[0mcom\u001b[0m\u001b[0;34m.\u001b[0m\u001b[0mrequire_length_match\u001b[0m\u001b[0;34m(\u001b[0m\u001b[0mvalue\u001b[0m\u001b[0;34m,\u001b[0m \u001b[0mself\u001b[0m\u001b[0;34m.\u001b[0m\u001b[0mindex\u001b[0m\u001b[0;34m)\u001b[0m\u001b[0;34m\u001b[0m\u001b[0;34m\u001b[0m\u001b[0m\n\u001b[0m\u001b[1;32m   4510\u001b[0m         \u001b[0;32mreturn\u001b[0m \u001b[0msanitize_array\u001b[0m\u001b[0;34m(\u001b[0m\u001b[0mvalue\u001b[0m\u001b[0;34m,\u001b[0m \u001b[0mself\u001b[0m\u001b[0;34m.\u001b[0m\u001b[0mindex\u001b[0m\u001b[0;34m,\u001b[0m \u001b[0mcopy\u001b[0m\u001b[0;34m=\u001b[0m\u001b[0;32mTrue\u001b[0m\u001b[0;34m,\u001b[0m \u001b[0mallow_2d\u001b[0m\u001b[0;34m=\u001b[0m\u001b[0;32mTrue\u001b[0m\u001b[0;34m)\u001b[0m\u001b[0;34m\u001b[0m\u001b[0;34m\u001b[0m\u001b[0m\n\u001b[1;32m   4511\u001b[0m \u001b[0;34m\u001b[0m\u001b[0m\n",
            "\u001b[0;32m/usr/local/lib/python3.7/dist-packages/pandas/core/common.py\u001b[0m in \u001b[0;36mrequire_length_match\u001b[0;34m(data, index)\u001b[0m\n\u001b[1;32m    530\u001b[0m     \u001b[0;32mif\u001b[0m \u001b[0mlen\u001b[0m\u001b[0;34m(\u001b[0m\u001b[0mdata\u001b[0m\u001b[0;34m)\u001b[0m \u001b[0;34m!=\u001b[0m \u001b[0mlen\u001b[0m\u001b[0;34m(\u001b[0m\u001b[0mindex\u001b[0m\u001b[0;34m)\u001b[0m\u001b[0;34m:\u001b[0m\u001b[0;34m\u001b[0m\u001b[0;34m\u001b[0m\u001b[0m\n\u001b[1;32m    531\u001b[0m         raise ValueError(\n\u001b[0;32m--> 532\u001b[0;31m             \u001b[0;34m\"Length of values \"\u001b[0m\u001b[0;34m\u001b[0m\u001b[0;34m\u001b[0m\u001b[0m\n\u001b[0m\u001b[1;32m    533\u001b[0m             \u001b[0;34mf\"({len(data)}) \"\u001b[0m\u001b[0;34m\u001b[0m\u001b[0;34m\u001b[0m\u001b[0m\n\u001b[1;32m    534\u001b[0m             \u001b[0;34m\"does not match length of index \"\u001b[0m\u001b[0;34m\u001b[0m\u001b[0;34m\u001b[0m\u001b[0m\n",
            "\u001b[0;31mValueError\u001b[0m: Length of values (1) does not match length of index (1000)"
          ]
        }
      ]
    },
    {
      "cell_type": "code",
      "source": [
        ""
      ],
      "metadata": {
        "id": "kE9iuvy8TvAZ"
      },
      "execution_count": null,
      "outputs": []
    },
    {
      "cell_type": "code",
      "source": [
        "import pandas as pd\n",
        "import numpy as np\n",
        "\n",
        "url = \"https://raw.githubusercontent.com/lilaceri/Working-with-data-/main/Data%20Sets%20for%20code%20divisio/exams.csv\"\n",
        "df = pd.read_csv(url)\n",
        "#df.info()\n",
        "print (df.head())\n",
        "\n",
        "\n",
        "math_score_np = df['math_score'].to_numpy(np.int32)\n",
        "reading_score_np = df['reading_score'].to_numpy(np.int32)\n",
        "writing_score_np = df['writing_score'].to_numpy(np.int32)\n",
        "\n",
        "#=======================================================\n",
        "# Create single array from the 3 separate arrays\n",
        "#=======================================================\n",
        "arr = np.array([math_score_np, \n",
        "          reading_score_np,\n",
        "          writing_score_np])\n",
        "display(arr)\n",
        "\n",
        "#=======================================================\n",
        "# Calculate average score for each student \n",
        "#=======================================================\n",
        "arr2 = np.round(((np.sum(arr,axis=0))/3))\n",
        "\n",
        "display ('Overall Mean Scores: ', arr2)\n",
        "\n",
        "#====================================================================\n",
        "# Add the Overall Average as a new column to original dataframe\n",
        "#================================================================\n",
        "#df['Overall Average'] = arr2.tolist()\n",
        "df['Overall Average'] = arr2\n",
        "\n",
        "#=======================================================\n",
        "# Filter just females from original dataset\n",
        "#=========================================================\n",
        "\n",
        "filtered_df = df[df['gender'] == 'female'] \n",
        "\n",
        "\n",
        "#filtered_df = df[df['gender' == 'female']]\n",
        "#filtered_df = df.filter(like='female', axis=0)\n",
        "print ('Filtered df: ', filtered_df)\n",
        "\n",
        "#=======================================================\n",
        "# find the correlation coefficient for reading and maths\n",
        "#=======================================================\n",
        "\n"
      ],
      "metadata": {
        "colab": {
          "base_uri": "https://localhost:8080/",
          "height": 1000
        },
        "outputId": "3280e6ae-f4ba-429b-ed9f-be5020b78972",
        "id": "NvVqtwo7TvkY"
      },
      "execution_count": null,
      "outputs": [
        {
          "output_type": "stream",
          "name": "stdout",
          "text": [
            "   gender ethnicity  ... reading_score writing_score\n",
            "0  female   group E  ...            76            71\n",
            "1    male   group C  ...            72            69\n",
            "2  female   group B  ...            56            61\n",
            "3    male   group D  ...            60            59\n",
            "4  female   group C  ...            54            55\n",
            "\n",
            "[5 rows x 8 columns]\n"
          ]
        },
        {
          "output_type": "display_data",
          "data": {
            "text/plain": [
              "array([[65, 75, 62, ..., 65, 62, 38],\n",
              "       [76, 72, 56, ..., 94, 62, 39],\n",
              "       [71, 69, 61, ..., 93, 57, 40]], dtype=int32)"
            ]
          },
          "metadata": {}
        },
        {
          "output_type": "display_data",
          "data": {
            "application/vnd.google.colaboratory.intrinsic+json": {
              "type": "string"
            },
            "text/plain": [
              "'Overall Mean Scores: '"
            ]
          },
          "metadata": {}
        },
        {
          "output_type": "display_data",
          "data": {
            "text/plain": [
              "array([ 71.,  72.,  60.,  60.,  48.,  60.,  88.,  79.,  64.,  81.,  90.,\n",
              "        64.,  39.,  84.,  49.,  62.,  66.,  58.,  49.,  77.,  76.,  36.,\n",
              "        79.,  82.,  67.,  57.,  66.,  43.,  89.,  82.,  61.,  76.,  67.,\n",
              "        79.,  79.,  96.,  73.,  57.,  80.,  80.,  86.,  60.,  60.,  97.,\n",
              "        68.,  80.,  89.,  68.,  53.,  61.,  79.,  69.,  91.,  61.,  68.,\n",
              "        65.,  70.,  70.,  71.,  92.,  78.,  81.,  42.,  63.,  46.,  78.,\n",
              "        61.,  72.,  94.,  58.,  90.,  70.,  60.,  76.,  69.,  73.,  87.,\n",
              "        95.,  40.,  81.,  80.,  72.,  58.,  86.,  53.,  90.,  22.,  90.,\n",
              "        56.,  59.,  98.,  51.,  45.,  73.,  72.,  56.,  65.,  83.,  87.,\n",
              "        72.,  57.,  92.,  81.,  74.,  87.,  53.,  78.,  63.,  79.,  67.,\n",
              "        59.,  50.,  59.,  71.,  71.,  65.,  69.,  64.,  62.,  54.,  54.,\n",
              "        47.,  67.,  64.,  62.,  56.,  59.,  69.,  66.,  49.,  57.,  71.,\n",
              "        64.,  90.,  54.,  70.,  73.,  61.,  50.,  71.,  79.,  37.,  81.,\n",
              "        77.,  58.,  84.,  86.,  76.,  97.,  62.,  58.,  73.,  72.,  44.,\n",
              "        61.,  76.,  76.,  81.,  51.,  74.,  63.,  82.,  42.,  97.,  61.,\n",
              "        53.,  56.,  31.,  89.,  74.,  41.,  89.,  93.,  64.,  53.,  59.,\n",
              "        90.,  91.,  72.,  64.,  99.,  69.,  82.,  45.,  44.,  33.,  81.,\n",
              "        79.,  79.,  73.,  88.,  87.,  57.,  29.,  56.,  75.,  75.,  53.,\n",
              "        50.,  74.,  61.,  57.,  64.,  68.,  51.,  58.,  78.,  83.,  75.,\n",
              "        52.,  60.,  72.,  64.,  63.,  55.,  75.,  66.,  59.,  75.,  70.,\n",
              "        90.,  78.,  67.,  61.,  70.,  68.,  81.,  82.,  72.,  61.,  84.,\n",
              "        79.,  69.,  60.,  55.,  83.,  77.,  52.,  42.,  55.,  71.,  79.,\n",
              "        84.,  74.,  45.,  74.,  62.,  45.,  87.,  94.,  81.,  82.,  59.,\n",
              "        63.,  57.,  56.,  79.,  83.,  76.,  68.,  71.,  60.,  49.,  83.,\n",
              "        57.,  33.,  60.,  87.,  92.,  75.,  37.,  40.,  75.,  89.,  65.,\n",
              "        42.,  60.,  70.,  58.,  82.,  64.,  46.,  54.,  60.,  57.,  61.,\n",
              "        75., 100.,  56.,  52.,  79.,  78.,  74.,  49.,  57.,  79.,  46.,\n",
              "        78.,  43.,  70.,  96.,  65.,  89.,  71.,  46.,  55.,  58.,  89.,\n",
              "        64.,  75.,  75.,  99.,  71.,  67.,  55.,  85.,  61.,  75.,  53.,\n",
              "        96.,  73.,  33.,  89.,  89.,  59.,  75.,  56.,  62.,  75.,  65.,\n",
              "        78.,  72.,  62.,  70.,  17.,  66.,  70.,  58.,  77.,  58.,  73.,\n",
              "        57.,  68.,  69.,  63.,  64.,  73.,  70.,  86.,  61.,  67.,  81.,\n",
              "        74.,  75.,  66.,  70.,  68.,  31.,  95.,  77.,  75.,  82.,  89.,\n",
              "        57.,  82.,  74.,  74.,  82.,  87.,  92.,  72.,  47.,  54.,  95.,\n",
              "        52.,  51.,  85.,  72.,  39.,  79.,  47.,  57.,  64.,  80.,  65.,\n",
              "       100.,  77.,  72.,  41.,  91.,  67.,  40.,  64.,  62.,  66.,  56.,\n",
              "        61.,  60.,  77.,  48.,  54.,  78.,  89.,  64.,  58.,  52.,  47.,\n",
              "        82.,  70.,  70.,  88.,  73.,  94.,  76.,  61.,  76.,  84.,  89.,\n",
              "        62.,  58.,  70.,  72.,  66.,  62.,  72.,  70.,  57.,  69.,  83.,\n",
              "        81.,  73.,  92.,  75.,  66.,  37.,  77.,  84.,  97.,  44.,  73.,\n",
              "        80.,  63.,  63.,  75.,  80.,  63.,  74.,  44.,  90.,  48.,  93.,\n",
              "        81.,  67.,  80.,  26.,  76.,  69.,  77.,  40.,  84.,  68.,  65.,\n",
              "        84.,  63.,  79.,  72.,  74.,  84.,  74.,  84.,  96.,  58.,  79.,\n",
              "        50.,  41.,  85.,  64.,  66.,  98.,  75.,  74.,  75.,  64.,  55.,\n",
              "        65.,  57.,  71.,  79.,  61.,  62.,  42.,  71.,  75.,  72.,  38.,\n",
              "        73.,  70.,  70.,  66.,  45.,  56.,  84.,  53.,  50.,  65.,  69.,\n",
              "        69.,  36.,  97.,  76.,  88.,  58.,  53.,  81.,  84.,  60.,  45.,\n",
              "        46.,  74.,  74.,  63.,  73.,  73.,  79.,  75.,  54.,  82.,  70.,\n",
              "        43.,  63.,  77.,  79.,  51.,  72.,  69.,  84.,  82.,  73.,  53.,\n",
              "        89.,  79.,  74.,  67.,  69.,  66.,  79.,  60.,  57.,  55.,  74.,\n",
              "        73.,  69.,  50.,  92.,  63.,  54.,  84.,  79.,  57.,  68.,  53.,\n",
              "        64.,  84.,  45.,  62.,  56.,  66.,  75.,  70.,  46.,  66.,  70.,\n",
              "        68.,  62.,  82.,  89.,  59.,  69.,  40.,  43.,  73.,  73.,  77.,\n",
              "        69.,  72.,  95.,  63.,  77.,  53.,  72.,  51.,  89.,  56.,  70.,\n",
              "        88.,  69.,  77.,  60.,  64.,  87.,  55.,  68.,  47.,  64.,  66.,\n",
              "        53.,  56.,  73.,  73.,  95.,  57.,  80.,  74.,  64.,  71.,  78.,\n",
              "        34.,  73.,  68.,  74.,  80.,  65.,  92.,  35.,  72.,  42., 100.,\n",
              "        71.,  40.,  68.,  53.,  76.,  73.,  92.,  55.,  67.,  79.,  67.,\n",
              "        70.,  83.,  46.,  61.,  82.,  65.,  66.,  86.,  64.,  65.,  73.,\n",
              "        76.,  88.,  79.,  61.,  86.,  72.,  53.,  54.,  86.,  71.,  51.,\n",
              "        58.,  51.,  71.,  52.,  78.,  46.,  85.,  59.,  69.,  47.,  80.,\n",
              "        70.,  97.,  67.,  56.,  72.,  85.,  90.,  69.,  38.,  41.,  81.,\n",
              "        75.,  72.,  58.,  81.,  63.,  78.,  82.,  66.,  71.,  73.,  68.,\n",
              "        60.,  48.,  92.,  66.,  53.,  89.,  78.,  72.,  80.,  83.,  72.,\n",
              "        61.,  67.,  67.,  70.,  89.,  50.,  51.,  73.,  59.,  81.,  44.,\n",
              "        85.,  34.,  70.,  93.,  96.,  53.,  91.,  78.,  76.,  35.,  84.,\n",
              "        51.,  78.,  74.,  82.,  47.,  83.,  73.,  64.,  65.,  91.,  49.,\n",
              "        74.,  68.,  92.,  67.,  80.,  74.,  39.,  52.,  70.,  60.,  52.,\n",
              "        75.,  54.,  60.,  61.,  69.,  49.,  61.,  59.,  57.,  78.,  55.,\n",
              "        44.,  67.,  89.,  80.,  69.,  81.,  80.,  59.,  76.,  65.,  79.,\n",
              "        55.,  90.,  85.,  80.,  56.,  94.,  52.,  77.,  75.,  70.,  87.,\n",
              "        52.,  65.,  57.,  50.,  98.,  71.,  71.,  75.,  47.,  67.,  73.,\n",
              "        74.,  55.,  75.,  96.,  65.,  78.,  59.,  73.,  52.,  90.,  66.,\n",
              "        82.,  61.,  46.,  61.,  55.,  70.,  62.,  97.,  90.,  47.,  81.,\n",
              "        57.,  82.,  75.,  76.,  66.,  82.,  59.,  58.,  50.,  94.,  51.,\n",
              "        57.,  68.,  47.,  72.,  14.,  74.,  65.,  68.,  86.,  59.,  83.,\n",
              "        79.,  47.,  85.,  64.,  78.,  71.,  86.,  73.,  68.,  46.,  62.,\n",
              "        81.,  55.,  81.,  53.,  64.,  49.,  50.,  70.,  75.,  69.,  67.,\n",
              "        64.,  64.,  75.,  92.,  59.,  85.,  57.,  41.,  75.,  56.,  76.,\n",
              "        59.,  77.,  61.,  73.,  66.,  51.,  94.,  86.,  56.,  68.,  74.,\n",
              "        82.,  51.,  83.,  67.,  55.,  63.,  35.,  82.,  96.,  76.,  88.,\n",
              "        88.,  72.,  62.,  67.,  49.,  61.,  66.,  56.,  84.,  75.,  66.,\n",
              "        58.,  67.,  80.,  66.,  82.,  65.,  58.,  60.,  64.,  50.,  92.,\n",
              "        59.,  47.,  73.,  82.,  56.,  83.,  80.,  60.,  77.,  79.,  79.,\n",
              "        87.,  57.,  57.,  74.,  93.,  82.,  53.,  70.,  37.,  91.,  59.,\n",
              "        64.,  60.,  49.,  72.,  56.,  69.,  58.,  78.,  68.,  65.,  81.,\n",
              "        57.,  81.,  65.,  51.,  56.,  81.,  79.,  81.,  75.,  81.,  80.,\n",
              "        81.,  97.,  58.,  59.,  70.,  69.,  69.,  84.,  63.,  76.,  86.,\n",
              "        93.,  45.,  70.,  70.,  53.,  78.,  73.,  49.,  78.,  73.,  54.,\n",
              "        59.,  64.,  63.,  59.,  56.,  88.,  88.,  59.,  76.,  63.,  77.,\n",
              "        65.,  74.,  58.,  75.,  75.,  76.,  84.,  84.,  60.,  39.])"
            ]
          },
          "metadata": {}
        },
        {
          "output_type": "stream",
          "name": "stdout",
          "text": [
            "Filtered df:       gender ethnicity  ... writing_score Overall Average\n",
            "0    female   group E  ...            71            71.0\n",
            "2    female   group B  ...            61            60.0\n",
            "4    female   group C  ...            55            48.0\n",
            "5    female   group B  ...            61            60.0\n",
            "6    female   group D  ...            92            88.0\n",
            "..      ...       ...  ...           ...             ...\n",
            "989  female   group D  ...            82            77.0\n",
            "991  female   group C  ...            77            74.0\n",
            "992  female   group C  ...            65            58.0\n",
            "994  female   group D  ...            80            75.0\n",
            "997  female   group C  ...            93            84.0\n",
            "\n",
            "[496 rows x 9 columns]\n"
          ]
        }
      ]
    },
    {
      "cell_type": "markdown",
      "source": [
        "### Helpful references\n",
        "---\n",
        "\n",
        "Filtering on criteria using df references:  \n",
        "`filtered_df = df[df['column name' == value]]`  \n",
        "\n",
        "Filtering on multiple criteria using df reference:  \n",
        "`filtered_df = df[df['first column name' == value] & df[second column name] >= value]`\n",
        "\n",
        "Numpy help sheet:  http://datacamp-community-prod.s3.amazonaws.com/da466534-51fe-4c6d-b0cb-154f4782eb54\n",
        "\n"
      ],
      "metadata": {
        "id": "hkj-Ofus_D6_"
      }
    },
    {
      "cell_type": "markdown",
      "source": [
        "\n",
        "---\n",
        "\n",
        "# **What did I have difficulties with:**\n",
        "I had a problem when adding the numpy array I created as a new column in the dataframe and got the following error:\n",
        "\n",
        "```\n",
        "ValueError: Length of values (1) does not match length of index (1000)\n",
        "```\n",
        "\n",
        "Turns out the problem occurred as a result of my code that created the single numpy array from the 3 separate ones. My original code was as follows:\n",
        "\n",
        "\n",
        "```\n",
        "arr = np.array([[math_score_np], \n",
        "               [reading_score_np],\n",
        "                [writing_score_np]])\n",
        "\n",
        "```\n",
        "Basically had too many square brackets. I didn't need the brackets round each numpy array. By removing these and just leaving square brackets around the entire list as follows corrected the error when adding the numpy array as a new column on original dataframe:\n",
        "\n",
        "```\n",
        "arr = np.array([math_score_np, \n",
        "          reading_score_np,\n",
        "          writing_score_np])e\n",
        "```\n",
        "The syntax for the example code for filtering is incorrect\n",
        "The example given is:\n",
        "```\n",
        "filtered_df = df[df['column name' == value]]\n",
        "\n",
        "```\n",
        "But this didn't work when used in my code:\n",
        "\n",
        "```\n",
        "filtered_df = df[df['gender' == 'female']]\n",
        "```\n",
        "I had to change it to the following to work:\n",
        "\n",
        "```\n",
        "filtered_df = df[df['gender'] == 'female'] \n",
        "```\n",
        "\n",
        "\n",
        "\n",
        "\n",
        "\n",
        "---\n",
        "\n"
      ],
      "metadata": {
        "id": "PNVHMkp5WEPx"
      }
    }
  ]
}