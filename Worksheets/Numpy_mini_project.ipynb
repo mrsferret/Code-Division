{
  "nbformat": 4,
  "nbformat_minor": 0,
  "metadata": {
    "colab": {
      "name": "Numpy mini-project.ipynb",
      "provenance": [],
      "collapsed_sections": [],
      "include_colab_link": true
    },
    "kernelspec": {
      "name": "python3",
      "display_name": "Python 3"
    },
    "language_info": {
      "name": "python"
    }
  },
  "cells": [
    {
      "cell_type": "markdown",
      "metadata": {
        "id": "view-in-github",
        "colab_type": "text"
      },
      "source": [
        "<a href=\"https://colab.research.google.com/github/mrsferret/Code-Division/blob/main/Worksheets/Numpy_mini_project.ipynb\" target=\"_parent\"><img src=\"https://colab.research.google.com/assets/colab-badge.svg\" alt=\"Open In Colab\"/></a>"
      ]
    },
    {
      "cell_type": "markdown",
      "source": [
        "# Investigate, wrangle, add new data to the dataframe, filter and correlate\n",
        "\n",
        "The following data file contains data about student scores in math, reading and writing.  The exam scores are assumed to be percentages. It also contains data about gender, ethnicity, parental education, whether the student qualifies for free school food and whether or not the student has taken a preparation course for the exams.  The data set has already been cleaned. \n",
        "\n",
        "1.  Investigate the data set.\n",
        "\n",
        "2.  Create numpy arrays to hold each of the three sets of scores.  \n",
        "Create a new numpy array to hold the average exam score (of the three scores for each student)\n",
        "Add the new numpy array as a new column in the dataframe.\n",
        "\n",
        "3.  Filter the original dataset into a new dataframe containing just the females.  Calculate the average exam scores for all rows in this new dataframe and then find the mean of the average column.\n",
        "\n",
        "4.  Do the same for the males.\n",
        "\n",
        "5.  Use the original dataset to find the correlation coefficient for reading and maths.  How closely do they correlate?  Write what you find in a text box below the code.\n",
        "\n",
        "6.  Do the same for reading and writing. What do you find?\n",
        "\n",
        "7.  You might want to filter on different criteria and check correlation (e.g. those on free school meals, or those who had prepared, etc)\n",
        "\n",
        "\n",
        "\n",
        "\n",
        "\n"
      ],
      "metadata": {
        "id": "8qnlsapq24Df"
      }
    },
    {
      "cell_type": "markdown",
      "source": [
        "The dataset can be accessed here:  https://raw.githubusercontent.com/lilaceri/Working-with-data-/main/Data%20Sets%20for%20code%20divisio/exams.csv.  This is a .csv file.\n",
        "\n",
        "**NOTE:** Some useful references are included at the bottom of this spreadsheet.\n",
        "\n",
        "Use the code cell below to work your code."
      ],
      "metadata": {
        "id": "SSvLiFnp4LjG"
      }
    },
    {
      "cell_type": "code",
      "source": [
        "import pandas as pd\n",
        "import numpy as np\n",
        "\n",
        "url = \"https://raw.githubusercontent.com/lilaceri/Working-with-data-/main/Data%20Sets%20for%20code%20divisio/exams.csv\"\n",
        "df = pd.read_csv(url)\n",
        "#df.info()\n",
        "print (df.head())\n",
        "\n",
        "\n",
        "math_score_np = df['math_score'].to_numpy(np.int32)\n",
        "reading_score_np = df['reading_score'].to_numpy(np.int32)\n",
        "writing_score_np = df['writing_score'].to_numpy(np.int32)\n",
        "\n",
        "#=======================================================\n",
        "# Create single array from the 3 separate arrays\n",
        "#=======================================================\n",
        "arr = np.array([[math_score_np], \n",
        "          [reading_score_np],\n",
        "          [writing_score_np]])\n",
        "display(arr)\n",
        "\n",
        "#=======================================================\n",
        "# Calculate average score for each student \n",
        "#=======================================================\n",
        "arr2 = np.round(((np.sum(arr,axis=0))/3), decimals=1)\n",
        "\n",
        "display ('Overall Mean Score: ', arr2)\n",
        "\n",
        "#====================================================================\n",
        "# Add the Overall Average as a new column to original dataframe\n",
        "#================================================================\n",
        "#df['Overall Average'] = arr2.tolist()\n",
        "df['Overall Average'] = arr2\n",
        "\n",
        "#=======================================================\n",
        "# Filter just females from original dataset\n",
        "#=========================================================\n",
        "\n",
        "filtered_df = df[df['gender'] == 'female'] \n",
        "\n",
        "#filtered_df = df[df['gender' == 'female']]\n",
        "#filtered_df = df.filter(like='female', axis=0)\n",
        "print ('Filtered df: ', filtered_df)\n"
      ],
      "metadata": {
        "id": "txM4TIRUHhsJ",
        "colab": {
          "base_uri": "https://localhost:8080/",
          "height": 1000
        },
        "outputId": "1f32f65d-b0ad-49ca-fa3b-d47f176be546"
      },
      "execution_count": 53,
      "outputs": [
        {
          "output_type": "stream",
          "name": "stdout",
          "text": [
            "   gender ethnicity  ... reading_score writing_score\n",
            "0  female   group E  ...            76            71\n",
            "1    male   group C  ...            72            69\n",
            "2  female   group B  ...            56            61\n",
            "3    male   group D  ...            60            59\n",
            "4  female   group C  ...            54            55\n",
            "\n",
            "[5 rows x 8 columns]\n"
          ]
        },
        {
          "output_type": "display_data",
          "data": {
            "text/plain": [
              "array([[[65, 75, 62, ..., 65, 62, 38]],\n",
              "\n",
              "       [[76, 72, 56, ..., 94, 62, 39]],\n",
              "\n",
              "       [[71, 69, 61, ..., 93, 57, 40]]], dtype=int32)"
            ]
          },
          "metadata": {}
        },
        {
          "output_type": "display_data",
          "data": {
            "application/vnd.google.colaboratory.intrinsic+json": {
              "type": "string"
            },
            "text/plain": [
              "'Overall Mean Score: '"
            ]
          },
          "metadata": {}
        },
        {
          "output_type": "display_data",
          "data": {
            "text/plain": [
              "array([[ 70.7,  72. ,  59.7,  59.7,  47.7,  60. ,  88.3,  78.7,  64. ,\n",
              "         80.7,  89.7,  64.3,  38.7,  84. ,  49. ,  62.3,  66.3,  58. ,\n",
              "         49. ,  77.3,  76. ,  35.7,  79. ,  82. ,  67.3,  57.3,  65.7,\n",
              "         43.3,  88.7,  81.7,  61. ,  76. ,  66.7,  78.7,  79. ,  96. ,\n",
              "         72.7,  57.3,  80.3,  79.7,  86. ,  60. ,  60. ,  97.3,  68.3,\n",
              "         80.3,  89.3,  68.3,  52.7,  61. ,  79. ,  69.3,  91. ,  60.7,\n",
              "         67.7,  65.3,  69.7,  70.3,  71.3,  92.3,  77.7,  81.3,  42.3,\n",
              "         63.3,  45.7,  78.3,  60.7,  72. ,  94.3,  58. ,  90. ,  69.7,\n",
              "         60.3,  76.3,  69. ,  73.3,  87.3,  95.3,  40.3,  81. ,  80.3,\n",
              "         71.7,  57.7,  86. ,  52.7,  90. ,  22.3,  90.3,  56.3,  59. ,\n",
              "         98. ,  51.3,  44.7,  73.3,  72.3,  56.3,  65.3,  83. ,  86.7,\n",
              "         72. ,  57.3,  92.3,  81. ,  74.3,  87. ,  53.3,  78.3,  62.7,\n",
              "         79.3,  66.7,  59.3,  49.7,  59.3,  71.3,  71. ,  65. ,  69.3,\n",
              "         63.7,  62.3,  53.7,  54.3,  47. ,  67. ,  63.7,  62.3,  56. ,\n",
              "         59. ,  69. ,  65.7,  48.7,  56.7,  71. ,  64.3,  90. ,  53.7,\n",
              "         70.3,  72.7,  61.3,  50.3,  71.3,  78.7,  37.3,  81.3,  77.3,\n",
              "         58.3,  83.7,  86. ,  76.3,  97.3,  62.3,  57.7,  73. ,  72.3,\n",
              "         43.7,  61.3,  75.7,  76. ,  80.7,  50.7,  74.3,  63. ,  81.7,\n",
              "         42. ,  97. ,  60.7,  53.3,  56. ,  31. ,  89. ,  74.3,  40.7,\n",
              "         89.3,  93. ,  64.3,  52.7,  59. ,  90. ,  91.3,  72.3,  63.7,\n",
              "         99. ,  68.7,  81.7,  45. ,  44.3,  32.7,  81.3,  79. ,  78.7,\n",
              "         72.7,  88.3,  87.3,  57.3,  29.3,  56.3,  75. ,  75. ,  53. ,\n",
              "         50.3,  73.7,  61.3,  56.7,  64. ,  68.3,  51.3,  57.7,  77.7,\n",
              "         83. ,  74.7,  51.7,  59.7,  72.3,  63.7,  63. ,  55.3,  75. ,\n",
              "         65.7,  59. ,  75. ,  70.3,  89.7,  77.7,  67. ,  60.7,  69.7,\n",
              "         68. ,  80.7,  82. ,  72.3,  61. ,  84.3,  79.3,  69.3,  60.3,\n",
              "         55. ,  83. ,  77.3,  51.7,  41.7,  54.7,  71. ,  79.3,  84. ,\n",
              "         73.7,  45. ,  74. ,  61.7,  45. ,  87.3,  94. ,  81. ,  82.3,\n",
              "         59.3,  62.7,  56.7,  56. ,  79.3,  83. ,  76. ,  67.7,  71.3,\n",
              "         60.3,  48.7,  83.3,  57.3,  32.7,  59.7,  87.3,  92. ,  74.7,\n",
              "         37.3,  39.7,  75.3,  88.7,  64.7,  42. ,  59.7,  70. ,  58. ,\n",
              "         82. ,  64.3,  46.3,  54.3,  60. ,  57. ,  61. ,  74.7, 100. ,\n",
              "         56. ,  52. ,  78.7,  78. ,  74.3,  49.3,  57.3,  79.3,  45.7,\n",
              "         77.7,  43.3,  69.7,  96. ,  65. ,  89.3,  71.3,  46. ,  54.7,\n",
              "         58. ,  89.3,  64. ,  75. ,  75.3,  99.3,  70.7,  66.7,  55.3,\n",
              "         85.3,  61. ,  75. ,  52.7,  96. ,  73.3,  33.3,  89. ,  89. ,\n",
              "         59. ,  75.3,  55.7,  62.3,  75.3,  65. ,  78. ,  72.3,  61.7,\n",
              "         70. ,  17.3,  66.3,  69.7,  58.3,  76.7,  58. ,  72.7,  57.3,\n",
              "         68. ,  69. ,  63. ,  63.7,  72.7,  70.3,  85.7,  60.7,  67.3,\n",
              "         81.3,  74. ,  75.3,  65.7,  70.3,  68. ,  30.7,  95.3,  76.7,\n",
              "         75.3,  82. ,  88.7,  57.3,  82. ,  74.3,  74.3,  82.3,  86.7,\n",
              "         92. ,  72. ,  46.7,  54. ,  94.7,  51.7,  51.3,  85. ,  71.7,\n",
              "         39.3,  79.3,  47.3,  57.3,  63.7,  80. ,  65. , 100. ,  76.7,\n",
              "         72.3,  40.7,  91.3,  67.3,  39.7,  64.3,  62.3,  66.3,  56. ,\n",
              "         61. ,  60.3,  77. ,  48.3,  54. ,  77.7,  89.3,  63.7,  58. ,\n",
              "         51.7,  47.3,  82.3,  69.7,  70.3,  88.3,  73.3,  93.7,  75.7,\n",
              "         60.7,  75.7,  84. ,  89. ,  61.7,  58.3,  70.3,  71.7,  66. ,\n",
              "         61.7,  71.7,  69.7,  57. ,  68.7,  82.7,  80.7,  72.7,  92. ,\n",
              "         74.7,  65.7,  36.7,  77. ,  83.7,  96.7,  43.7,  73.3,  80. ,\n",
              "         63.3,  63. ,  74.7,  79.7,  62.7,  73.7,  44.3,  90.3,  47.7,\n",
              "         93.3,  81.3,  66.7,  79.7,  25.7,  75.7,  69. ,  77. ,  40.3,\n",
              "         84.3,  68. ,  65. ,  83.7,  63.3,  78.7,  72. ,  74.3,  84. ,\n",
              "         73.7,  84. ,  95.7,  57.7,  79.3,  49.7,  41. ,  85. ,  64.3,\n",
              "         66. ,  98. ,  74.7,  74. ,  75. ,  63.7,  55. ,  65.3,  57. ,\n",
              "         71.3,  79.3,  61. ,  62. ,  41.7,  71.3,  74.7,  71.7,  37.7,\n",
              "         73.3,  69.7,  70. ,  66.3,  45.3,  56.3,  84. ,  52.7,  50.3,\n",
              "         65. ,  69.3,  69. ,  36.3,  96.7,  76.3,  87.7,  58. ,  53. ,\n",
              "         81.3,  83.7,  60.3,  45.3,  46. ,  73.7,  73.7,  63.3,  73.3,\n",
              "         73. ,  79.3,  74.7,  53.7,  82. ,  70. ,  43.3,  63. ,  77.3,\n",
              "         78.7,  51.3,  71.7,  69. ,  84.3,  81.7,  73.3,  53.3,  89.3,\n",
              "         79.3,  74. ,  67.3,  68.7,  66. ,  79.3,  59.7,  57.3,  55.3,\n",
              "         73.7,  73. ,  69.3,  49.7,  92. ,  63.3,  54. ,  83.7,  79. ,\n",
              "         57.3,  67.7,  52.7,  64.3,  83.7,  44.7,  62. ,  56. ,  66.3,\n",
              "         75. ,  69.7,  45.7,  65.7,  70. ,  67.7,  61.7,  82.3,  89.3,\n",
              "         58.7,  69. ,  40.3,  43.3,  72.7,  72.7,  77. ,  69.3,  72. ,\n",
              "         94.7,  63. ,  76.7,  53.3,  72.3,  51.3,  89. ,  56. ,  70. ,\n",
              "         88. ,  69.3,  76.7,  60. ,  63.7,  87. ,  55. ,  68.3,  47. ,\n",
              "         64. ,  66. ,  53. ,  56.3,  73.3,  73. ,  95.3,  57. ,  80. ,\n",
              "         73.7,  64.3,  71. ,  77.7,  34. ,  72.7,  68.3,  73.7,  80.3,\n",
              "         65. ,  91.7,  34.7,  72. ,  42. , 100. ,  71.3,  40.3,  68. ,\n",
              "         53.3,  75.7,  72.7,  92. ,  55.3,  67.3,  78.7,  66.7,  70.3,\n",
              "         83. ,  46. ,  60.7,  82.3,  64.7,  65.7,  86. ,  64. ,  64.7,\n",
              "         73.3,  76. ,  87.7,  78.7,  60.7,  85.7,  72.3,  53. ,  53.7,\n",
              "         85.7,  71. ,  51.3,  58. ,  51.3,  70.7,  52.3,  78. ,  45.7,\n",
              "         84.7,  59. ,  68.7,  47. ,  79.7,  70.3,  96.7,  67. ,  55.7,\n",
              "         72.3,  85.3,  89.7,  68.7,  37.7,  40.7,  81. ,  74.7,  72.3,\n",
              "         58.3,  80.7,  63. ,  78. ,  82.3,  66.3,  70.7,  73. ,  68.3,\n",
              "         59.7,  47.7,  91.7,  66. ,  52.7,  89. ,  78. ,  71.7,  80.3,\n",
              "         82.7,  71.7,  61.3,  67. ,  67.3,  70. ,  88.7,  50. ,  50.7,\n",
              "         72.7,  59.3,  80.7,  44.3,  85. ,  34. ,  70. ,  93. ,  96. ,\n",
              "         53. ,  91. ,  78.3,  75.7,  34.7,  84. ,  51.3,  77.7,  73.7,\n",
              "         82. ,  47. ,  82.7,  72.7,  64.3,  65. ,  91.3,  49. ,  73.7,\n",
              "         68. ,  91.7,  67. ,  80. ,  73.7,  38.7,  52.3,  70.3,  59.7,\n",
              "         51.7,  75. ,  54.3,  60. ,  60.7,  68.7,  48.7,  60.7,  59. ,\n",
              "         57. ,  77.7,  55. ,  43.7,  67.3,  89.3,  79.7,  69. ,  81. ,\n",
              "         80.3,  58.7,  75.7,  64.7,  79. ,  55. ,  90.3,  85. ,  80.3,\n",
              "         55.7,  94. ,  51.7,  77.3,  75.3,  70. ,  86.7,  52.3,  65.3,\n",
              "         56.7,  49.7,  98. ,  71. ,  71. ,  74.7,  47.3,  67. ,  73. ,\n",
              "         73.7,  54.7,  75.3,  95.7,  65.3,  77.7,  59.3,  73. ,  51.7,\n",
              "         90.3,  66. ,  81.7,  61.3,  46.3,  60.7,  54.7,  70. ,  61.7,\n",
              "         96.7,  89.7,  47. ,  80.7,  57.3,  82. ,  74.7,  76.3,  66.3,\n",
              "         82. ,  59.3,  57.7,  49.7,  94. ,  51.3,  57.3,  68.3,  47.3,\n",
              "         72. ,  13.7,  73.7,  64.7,  68. ,  85.7,  58.7,  83. ,  79. ,\n",
              "         47. ,  85.3,  64.3,  78. ,  71. ,  85.7,  73.3,  67.7,  45.7,\n",
              "         62.3,  80.7,  55. ,  80.7,  52.7,  64.3,  48.7,  50.3,  70.3,\n",
              "         74.7,  69. ,  66.7,  64.3,  64.3,  75.3,  91.7,  58.7,  85.3,\n",
              "         56.7,  41.3,  75.3,  55.7,  76. ,  59.3,  77.3,  61.3,  72.7,\n",
              "         65.7,  51. ,  94. ,  86.3,  55.7,  68.3,  73.7,  81.7,  51. ,\n",
              "         83. ,  67.3,  55.3,  63.3,  35.3,  82. ,  96. ,  76.3,  88. ,\n",
              "         87.7,  71.7,  61.7,  67.3,  49. ,  61.3,  66. ,  56.3,  83.7,\n",
              "         74.7,  66.3,  58.3,  67. ,  80.3,  66.3,  81.7,  64.7,  57.7,\n",
              "         59.7,  64. ,  50.3,  92. ,  58.7,  47. ,  73.3,  82. ,  56. ,\n",
              "         83.3,  79.7,  60.3,  77. ,  79.3,  79. ,  87. ,  56.7,  57. ,\n",
              "         74.3,  92.7,  82. ,  53.3,  70. ,  36.7,  91. ,  59.3,  64. ,\n",
              "         60. ,  49. ,  72.3,  56. ,  69. ,  58.3,  78.3,  67.7,  64.7,\n",
              "         81. ,  57.3,  81. ,  65.3,  51. ,  56. ,  81.3,  78.7,  80.7,\n",
              "         75.3,  80.7,  80. ,  80.7,  97.3,  58.3,  59. ,  70. ,  69. ,\n",
              "         69.3,  83.7,  63. ,  76.3,  86. ,  92.7,  44.7,  69.7,  69.7,\n",
              "         53. ,  77.7,  73. ,  49.3,  78.3,  72.7,  53.7,  59.3,  64.3,\n",
              "         63.3,  58.7,  55.7,  88.3,  87.7,  59.3,  75.7,  63.3,  76.7,\n",
              "         65. ,  74. ,  57.7,  75.3,  75.3,  75.7,  83.7,  84. ,  60.3,\n",
              "         39. ]])"
            ]
          },
          "metadata": {}
        },
        {
          "output_type": "error",
          "ename": "ValueError",
          "evalue": "ignored",
          "traceback": [
            "\u001b[0;31m---------------------------------------------------------------------------\u001b[0m",
            "\u001b[0;31mValueError\u001b[0m                                Traceback (most recent call last)",
            "\u001b[0;32m<ipython-input-53-09c27060010a>\u001b[0m in \u001b[0;36m<module>\u001b[0;34m()\u001b[0m\n\u001b[1;32m     32\u001b[0m \u001b[0;31m#================================================================\u001b[0m\u001b[0;34m\u001b[0m\u001b[0;34m\u001b[0m\u001b[0;34m\u001b[0m\u001b[0m\n\u001b[1;32m     33\u001b[0m \u001b[0;31m#df['Overall Average'] = arr2.tolist()\u001b[0m\u001b[0;34m\u001b[0m\u001b[0;34m\u001b[0m\u001b[0;34m\u001b[0m\u001b[0m\n\u001b[0;32m---> 34\u001b[0;31m \u001b[0mdf\u001b[0m\u001b[0;34m[\u001b[0m\u001b[0;34m'Overall Average'\u001b[0m\u001b[0;34m]\u001b[0m \u001b[0;34m=\u001b[0m \u001b[0marr2\u001b[0m\u001b[0;34m\u001b[0m\u001b[0;34m\u001b[0m\u001b[0m\n\u001b[0m\u001b[1;32m     35\u001b[0m \u001b[0;34m\u001b[0m\u001b[0m\n\u001b[1;32m     36\u001b[0m \u001b[0;31m# Filter just females from original dataset\u001b[0m\u001b[0;34m\u001b[0m\u001b[0;34m\u001b[0m\u001b[0;34m\u001b[0m\u001b[0m\n",
            "\u001b[0;32m/usr/local/lib/python3.7/dist-packages/pandas/core/frame.py\u001b[0m in \u001b[0;36m__setitem__\u001b[0;34m(self, key, value)\u001b[0m\n\u001b[1;32m   3610\u001b[0m         \u001b[0;32melse\u001b[0m\u001b[0;34m:\u001b[0m\u001b[0;34m\u001b[0m\u001b[0;34m\u001b[0m\u001b[0m\n\u001b[1;32m   3611\u001b[0m             \u001b[0;31m# set column\u001b[0m\u001b[0;34m\u001b[0m\u001b[0;34m\u001b[0m\u001b[0;34m\u001b[0m\u001b[0m\n\u001b[0;32m-> 3612\u001b[0;31m             \u001b[0mself\u001b[0m\u001b[0;34m.\u001b[0m\u001b[0m_set_item\u001b[0m\u001b[0;34m(\u001b[0m\u001b[0mkey\u001b[0m\u001b[0;34m,\u001b[0m \u001b[0mvalue\u001b[0m\u001b[0;34m)\u001b[0m\u001b[0;34m\u001b[0m\u001b[0;34m\u001b[0m\u001b[0m\n\u001b[0m\u001b[1;32m   3613\u001b[0m \u001b[0;34m\u001b[0m\u001b[0m\n\u001b[1;32m   3614\u001b[0m     \u001b[0;32mdef\u001b[0m \u001b[0m_setitem_slice\u001b[0m\u001b[0;34m(\u001b[0m\u001b[0mself\u001b[0m\u001b[0;34m,\u001b[0m \u001b[0mkey\u001b[0m\u001b[0;34m:\u001b[0m \u001b[0mslice\u001b[0m\u001b[0;34m,\u001b[0m \u001b[0mvalue\u001b[0m\u001b[0;34m)\u001b[0m\u001b[0;34m:\u001b[0m\u001b[0;34m\u001b[0m\u001b[0;34m\u001b[0m\u001b[0m\n",
            "\u001b[0;32m/usr/local/lib/python3.7/dist-packages/pandas/core/frame.py\u001b[0m in \u001b[0;36m_set_item\u001b[0;34m(self, key, value)\u001b[0m\n\u001b[1;32m   3782\u001b[0m         \u001b[0mensure\u001b[0m \u001b[0mhomogeneity\u001b[0m\u001b[0;34m.\u001b[0m\u001b[0;34m\u001b[0m\u001b[0;34m\u001b[0m\u001b[0m\n\u001b[1;32m   3783\u001b[0m         \"\"\"\n\u001b[0;32m-> 3784\u001b[0;31m         \u001b[0mvalue\u001b[0m \u001b[0;34m=\u001b[0m \u001b[0mself\u001b[0m\u001b[0;34m.\u001b[0m\u001b[0m_sanitize_column\u001b[0m\u001b[0;34m(\u001b[0m\u001b[0mvalue\u001b[0m\u001b[0;34m)\u001b[0m\u001b[0;34m\u001b[0m\u001b[0;34m\u001b[0m\u001b[0m\n\u001b[0m\u001b[1;32m   3785\u001b[0m \u001b[0;34m\u001b[0m\u001b[0m\n\u001b[1;32m   3786\u001b[0m         if (\n",
            "\u001b[0;32m/usr/local/lib/python3.7/dist-packages/pandas/core/frame.py\u001b[0m in \u001b[0;36m_sanitize_column\u001b[0;34m(self, value)\u001b[0m\n\u001b[1;32m   4507\u001b[0m \u001b[0;34m\u001b[0m\u001b[0m\n\u001b[1;32m   4508\u001b[0m         \u001b[0;32mif\u001b[0m \u001b[0mis_list_like\u001b[0m\u001b[0;34m(\u001b[0m\u001b[0mvalue\u001b[0m\u001b[0;34m)\u001b[0m\u001b[0;34m:\u001b[0m\u001b[0;34m\u001b[0m\u001b[0;34m\u001b[0m\u001b[0m\n\u001b[0;32m-> 4509\u001b[0;31m             \u001b[0mcom\u001b[0m\u001b[0;34m.\u001b[0m\u001b[0mrequire_length_match\u001b[0m\u001b[0;34m(\u001b[0m\u001b[0mvalue\u001b[0m\u001b[0;34m,\u001b[0m \u001b[0mself\u001b[0m\u001b[0;34m.\u001b[0m\u001b[0mindex\u001b[0m\u001b[0;34m)\u001b[0m\u001b[0;34m\u001b[0m\u001b[0;34m\u001b[0m\u001b[0m\n\u001b[0m\u001b[1;32m   4510\u001b[0m         \u001b[0;32mreturn\u001b[0m \u001b[0msanitize_array\u001b[0m\u001b[0;34m(\u001b[0m\u001b[0mvalue\u001b[0m\u001b[0;34m,\u001b[0m \u001b[0mself\u001b[0m\u001b[0;34m.\u001b[0m\u001b[0mindex\u001b[0m\u001b[0;34m,\u001b[0m \u001b[0mcopy\u001b[0m\u001b[0;34m=\u001b[0m\u001b[0;32mTrue\u001b[0m\u001b[0;34m,\u001b[0m \u001b[0mallow_2d\u001b[0m\u001b[0;34m=\u001b[0m\u001b[0;32mTrue\u001b[0m\u001b[0;34m)\u001b[0m\u001b[0;34m\u001b[0m\u001b[0;34m\u001b[0m\u001b[0m\n\u001b[1;32m   4511\u001b[0m \u001b[0;34m\u001b[0m\u001b[0m\n",
            "\u001b[0;32m/usr/local/lib/python3.7/dist-packages/pandas/core/common.py\u001b[0m in \u001b[0;36mrequire_length_match\u001b[0;34m(data, index)\u001b[0m\n\u001b[1;32m    530\u001b[0m     \u001b[0;32mif\u001b[0m \u001b[0mlen\u001b[0m\u001b[0;34m(\u001b[0m\u001b[0mdata\u001b[0m\u001b[0;34m)\u001b[0m \u001b[0;34m!=\u001b[0m \u001b[0mlen\u001b[0m\u001b[0;34m(\u001b[0m\u001b[0mindex\u001b[0m\u001b[0;34m)\u001b[0m\u001b[0;34m:\u001b[0m\u001b[0;34m\u001b[0m\u001b[0;34m\u001b[0m\u001b[0m\n\u001b[1;32m    531\u001b[0m         raise ValueError(\n\u001b[0;32m--> 532\u001b[0;31m             \u001b[0;34m\"Length of values \"\u001b[0m\u001b[0;34m\u001b[0m\u001b[0;34m\u001b[0m\u001b[0m\n\u001b[0m\u001b[1;32m    533\u001b[0m             \u001b[0;34mf\"({len(data)}) \"\u001b[0m\u001b[0;34m\u001b[0m\u001b[0;34m\u001b[0m\u001b[0m\n\u001b[1;32m    534\u001b[0m             \u001b[0;34m\"does not match length of index \"\u001b[0m\u001b[0;34m\u001b[0m\u001b[0;34m\u001b[0m\u001b[0m\n",
            "\u001b[0;31mValueError\u001b[0m: Length of values (1) does not match length of index (1000)"
          ]
        }
      ]
    },
    {
      "cell_type": "markdown",
      "source": [
        "### Helpful references\n",
        "---\n",
        "\n",
        "Filtering on criteria using df references:  \n",
        "`filtered_df = df[df['column name' == value]]`  \n",
        "\n",
        "Filtering on multiple criteria using df reference:  \n",
        "`filtered_df = df[df['first column name' == value] & df[second column name] >= value]`\n",
        "\n",
        "Numpy help sheet:  http://datacamp-community-prod.s3.amazonaws.com/da466534-51fe-4c6d-b0cb-154f4782eb54\n",
        "\n"
      ],
      "metadata": {
        "id": "hkj-Ofus_D6_"
      }
    }
  ]
}