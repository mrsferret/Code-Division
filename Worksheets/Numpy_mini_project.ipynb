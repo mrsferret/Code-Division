{
  "nbformat": 4,
  "nbformat_minor": 0,
  "metadata": {
    "colab": {
      "name": "Numpy mini-project.ipynb",
      "provenance": [],
      "collapsed_sections": [],
      "include_colab_link": true
    },
    "kernelspec": {
      "name": "python3",
      "display_name": "Python 3"
    },
    "language_info": {
      "name": "python"
    }
  },
  "cells": [
    {
      "cell_type": "markdown",
      "metadata": {
        "id": "view-in-github",
        "colab_type": "text"
      },
      "source": [
        "<a href=\"https://colab.research.google.com/github/mrsferret/Code-Division/blob/main/Worksheets/Numpy_mini_project.ipynb\" target=\"_parent\"><img src=\"https://colab.research.google.com/assets/colab-badge.svg\" alt=\"Open In Colab\"/></a>"
      ]
    },
    {
      "cell_type": "markdown",
      "source": [
        "# Investigate, wrangle, add new data to the dataframe, filter and correlate\n",
        "\n",
        "The following data file contains data about student scores in math, reading and writing.  The exam scores are assumed to be percentages. It also contains data about gender, ethnicity, parental education, whether the student qualifies for free school food and whether or not the student has taken a preparation course for the exams.  The data set has already been cleaned. \n",
        "\n",
        "1.  Investigate the data set.\n",
        "\n",
        "2.  Create numpy arrays to hold each of the three sets of scores.  \n",
        "Create a new numpy array to hold the average exam score (of the three scores for each student)\n",
        "Add the new numpy array as a new column in the dataframe.\n",
        "\n",
        "3.  Filter the original dataset into a new dataframe containing just the females.  Calculate the average exam scores for all rows in this new dataframe and then find the mean of the average column.\n",
        "\n",
        "4.  Do the same for the males.\n",
        "\n",
        "5.  Use the original dataset to find the correlation coefficient for reading and maths.  How closely do they correlate?  Write what you find in a text box below the code.\n",
        "\n",
        "6.  Do the same for reading and writing. What do you find?\n",
        "\n",
        "7.  You might want to filter on different criteria and check correlation (e.g. those on free school meals, or those who had prepared, etc)\n",
        "\n",
        "\n",
        "\n",
        "\n",
        "\n"
      ],
      "metadata": {
        "id": "8qnlsapq24Df"
      }
    },
    {
      "cell_type": "markdown",
      "source": [
        "The dataset can be accessed here:  https://raw.githubusercontent.com/lilaceri/Working-with-data-/main/Data%20Sets%20for%20code%20divisio/exams.csv.  This is a .csv file.\n",
        "\n",
        "**NOTE:** Some useful references are included at the bottom of this spreadsheet.\n",
        "\n",
        "Use the code cell below to work your code."
      ],
      "metadata": {
        "id": "SSvLiFnp4LjG"
      }
    },
    {
      "cell_type": "code",
      "source": [
        "import pandas as pd\n",
        "import numpy as np\n",
        "\n",
        "url = \"https://raw.githubusercontent.com/lilaceri/Working-with-data-/main/Data%20Sets%20for%20code%20divisio/exams.csv\"\n",
        "df = pd.read_csv(url)\n",
        "#df.info()\n",
        "print (df.head())\n",
        "\n",
        "\n",
        "math_score_np = df['math_score'].to_numpy(np.int32)\n",
        "reading_score_np = df['reading_score'].to_numpy(np.int32)\n",
        "writing_score_np = df['writing_score'].to_numpy(np.int32)\n",
        "\n",
        "#=======================================================\n",
        "# Create single array from the 3 separate arrays\n",
        "#=======================================================\n",
        "arr = np.array([[math_score_np], \n",
        "               [reading_score_np],\n",
        "                [writing_score_np]])\n",
        "#arr = np.array([math_score_np, \n",
        "#          reading_score_np,\n",
        "#          writing_score_np])\n",
        "display(arr)\n",
        "\n",
        "#=======================================================\n",
        "# Calculate average score for each student \n",
        "#=======================================================\n",
        "arr2 = np.round(((np.sum(arr,axis=0))/3))\n",
        "\n",
        "display ('Overall Mean Scores: ', arr2)\n",
        "\n",
        "#====================================================================\n",
        "# Add the Overall Average as a new column to original dataframe\n",
        "#================================================================\n",
        "#df['Overall Average'] = arr2.tolist()\n",
        "df['Overall Average'] = arr2\n",
        "\n",
        "#=======================================================\n",
        "# Filter just females from original dataset\n",
        "#=========================================================\n",
        "\n",
        "filtered_df = df[df['gender'] == 'female'] \n",
        "\n",
        "\n",
        "#filtered_df = df[df['gender' == 'female']]\n",
        "#filtered_df = df.filter(like='female', axis=0)\n",
        "print ('Filtered df: ', filtered_df)\n",
        "\n",
        "#=======================================================\n",
        "# find the correlation coefficient for reading and maths\n",
        "#=======================================================\n",
        "coef = np.corrcoef(reading_score_np, math_score_np)\n",
        "print('Coef of reading and maths scores: ', coef) \n",
        "\n",
        "#=======================================================\n",
        "# find the correlation coefficient for reading and maths\n",
        "#=======================================================\n",
        "coef = np.corrcoef(reading_score_np, writing_score_np)\n",
        "print('Coef of reading and writing scores: ', coef) \n",
        "\n"
      ],
      "metadata": {
        "id": "txM4TIRUHhsJ",
        "colab": {
          "base_uri": "https://localhost:8080/",
          "height": 1000
        },
        "outputId": "06712836-2ed0-443a-c30b-3000f0191c98"
      },
      "execution_count": null,
      "outputs": [
        {
          "output_type": "stream",
          "name": "stdout",
          "text": [
            "   gender ethnicity  ... reading_score writing_score\n",
            "0  female   group E  ...            76            71\n",
            "1    male   group C  ...            72            69\n",
            "2  female   group B  ...            56            61\n",
            "3    male   group D  ...            60            59\n",
            "4  female   group C  ...            54            55\n",
            "\n",
            "[5 rows x 8 columns]\n"
          ]
        },
        {
          "output_type": "display_data",
          "data": {
            "text/plain": [
              "array([[[65, 75, 62, ..., 65, 62, 38]],\n",
              "\n",
              "       [[76, 72, 56, ..., 94, 62, 39]],\n",
              "\n",
              "       [[71, 69, 61, ..., 93, 57, 40]]], dtype=int32)"
            ]
          },
          "metadata": {}
        },
        {
          "output_type": "display_data",
          "data": {
            "application/vnd.google.colaboratory.intrinsic+json": {
              "type": "string"
            },
            "text/plain": [
              "'Overall Mean Scores: '"
            ]
          },
          "metadata": {}
        },
        {
          "output_type": "display_data",
          "data": {
            "text/plain": [
              "array([[ 71.,  72.,  60.,  60.,  48.,  60.,  88.,  79.,  64.,  81.,  90.,\n",
              "         64.,  39.,  84.,  49.,  62.,  66.,  58.,  49.,  77.,  76.,  36.,\n",
              "         79.,  82.,  67.,  57.,  66.,  43.,  89.,  82.,  61.,  76.,  67.,\n",
              "         79.,  79.,  96.,  73.,  57.,  80.,  80.,  86.,  60.,  60.,  97.,\n",
              "         68.,  80.,  89.,  68.,  53.,  61.,  79.,  69.,  91.,  61.,  68.,\n",
              "         65.,  70.,  70.,  71.,  92.,  78.,  81.,  42.,  63.,  46.,  78.,\n",
              "         61.,  72.,  94.,  58.,  90.,  70.,  60.,  76.,  69.,  73.,  87.,\n",
              "         95.,  40.,  81.,  80.,  72.,  58.,  86.,  53.,  90.,  22.,  90.,\n",
              "         56.,  59.,  98.,  51.,  45.,  73.,  72.,  56.,  65.,  83.,  87.,\n",
              "         72.,  57.,  92.,  81.,  74.,  87.,  53.,  78.,  63.,  79.,  67.,\n",
              "         59.,  50.,  59.,  71.,  71.,  65.,  69.,  64.,  62.,  54.,  54.,\n",
              "         47.,  67.,  64.,  62.,  56.,  59.,  69.,  66.,  49.,  57.,  71.,\n",
              "         64.,  90.,  54.,  70.,  73.,  61.,  50.,  71.,  79.,  37.,  81.,\n",
              "         77.,  58.,  84.,  86.,  76.,  97.,  62.,  58.,  73.,  72.,  44.,\n",
              "         61.,  76.,  76.,  81.,  51.,  74.,  63.,  82.,  42.,  97.,  61.,\n",
              "         53.,  56.,  31.,  89.,  74.,  41.,  89.,  93.,  64.,  53.,  59.,\n",
              "         90.,  91.,  72.,  64.,  99.,  69.,  82.,  45.,  44.,  33.,  81.,\n",
              "         79.,  79.,  73.,  88.,  87.,  57.,  29.,  56.,  75.,  75.,  53.,\n",
              "         50.,  74.,  61.,  57.,  64.,  68.,  51.,  58.,  78.,  83.,  75.,\n",
              "         52.,  60.,  72.,  64.,  63.,  55.,  75.,  66.,  59.,  75.,  70.,\n",
              "         90.,  78.,  67.,  61.,  70.,  68.,  81.,  82.,  72.,  61.,  84.,\n",
              "         79.,  69.,  60.,  55.,  83.,  77.,  52.,  42.,  55.,  71.,  79.,\n",
              "         84.,  74.,  45.,  74.,  62.,  45.,  87.,  94.,  81.,  82.,  59.,\n",
              "         63.,  57.,  56.,  79.,  83.,  76.,  68.,  71.,  60.,  49.,  83.,\n",
              "         57.,  33.,  60.,  87.,  92.,  75.,  37.,  40.,  75.,  89.,  65.,\n",
              "         42.,  60.,  70.,  58.,  82.,  64.,  46.,  54.,  60.,  57.,  61.,\n",
              "         75., 100.,  56.,  52.,  79.,  78.,  74.,  49.,  57.,  79.,  46.,\n",
              "         78.,  43.,  70.,  96.,  65.,  89.,  71.,  46.,  55.,  58.,  89.,\n",
              "         64.,  75.,  75.,  99.,  71.,  67.,  55.,  85.,  61.,  75.,  53.,\n",
              "         96.,  73.,  33.,  89.,  89.,  59.,  75.,  56.,  62.,  75.,  65.,\n",
              "         78.,  72.,  62.,  70.,  17.,  66.,  70.,  58.,  77.,  58.,  73.,\n",
              "         57.,  68.,  69.,  63.,  64.,  73.,  70.,  86.,  61.,  67.,  81.,\n",
              "         74.,  75.,  66.,  70.,  68.,  31.,  95.,  77.,  75.,  82.,  89.,\n",
              "         57.,  82.,  74.,  74.,  82.,  87.,  92.,  72.,  47.,  54.,  95.,\n",
              "         52.,  51.,  85.,  72.,  39.,  79.,  47.,  57.,  64.,  80.,  65.,\n",
              "        100.,  77.,  72.,  41.,  91.,  67.,  40.,  64.,  62.,  66.,  56.,\n",
              "         61.,  60.,  77.,  48.,  54.,  78.,  89.,  64.,  58.,  52.,  47.,\n",
              "         82.,  70.,  70.,  88.,  73.,  94.,  76.,  61.,  76.,  84.,  89.,\n",
              "         62.,  58.,  70.,  72.,  66.,  62.,  72.,  70.,  57.,  69.,  83.,\n",
              "         81.,  73.,  92.,  75.,  66.,  37.,  77.,  84.,  97.,  44.,  73.,\n",
              "         80.,  63.,  63.,  75.,  80.,  63.,  74.,  44.,  90.,  48.,  93.,\n",
              "         81.,  67.,  80.,  26.,  76.,  69.,  77.,  40.,  84.,  68.,  65.,\n",
              "         84.,  63.,  79.,  72.,  74.,  84.,  74.,  84.,  96.,  58.,  79.,\n",
              "         50.,  41.,  85.,  64.,  66.,  98.,  75.,  74.,  75.,  64.,  55.,\n",
              "         65.,  57.,  71.,  79.,  61.,  62.,  42.,  71.,  75.,  72.,  38.,\n",
              "         73.,  70.,  70.,  66.,  45.,  56.,  84.,  53.,  50.,  65.,  69.,\n",
              "         69.,  36.,  97.,  76.,  88.,  58.,  53.,  81.,  84.,  60.,  45.,\n",
              "         46.,  74.,  74.,  63.,  73.,  73.,  79.,  75.,  54.,  82.,  70.,\n",
              "         43.,  63.,  77.,  79.,  51.,  72.,  69.,  84.,  82.,  73.,  53.,\n",
              "         89.,  79.,  74.,  67.,  69.,  66.,  79.,  60.,  57.,  55.,  74.,\n",
              "         73.,  69.,  50.,  92.,  63.,  54.,  84.,  79.,  57.,  68.,  53.,\n",
              "         64.,  84.,  45.,  62.,  56.,  66.,  75.,  70.,  46.,  66.,  70.,\n",
              "         68.,  62.,  82.,  89.,  59.,  69.,  40.,  43.,  73.,  73.,  77.,\n",
              "         69.,  72.,  95.,  63.,  77.,  53.,  72.,  51.,  89.,  56.,  70.,\n",
              "         88.,  69.,  77.,  60.,  64.,  87.,  55.,  68.,  47.,  64.,  66.,\n",
              "         53.,  56.,  73.,  73.,  95.,  57.,  80.,  74.,  64.,  71.,  78.,\n",
              "         34.,  73.,  68.,  74.,  80.,  65.,  92.,  35.,  72.,  42., 100.,\n",
              "         71.,  40.,  68.,  53.,  76.,  73.,  92.,  55.,  67.,  79.,  67.,\n",
              "         70.,  83.,  46.,  61.,  82.,  65.,  66.,  86.,  64.,  65.,  73.,\n",
              "         76.,  88.,  79.,  61.,  86.,  72.,  53.,  54.,  86.,  71.,  51.,\n",
              "         58.,  51.,  71.,  52.,  78.,  46.,  85.,  59.,  69.,  47.,  80.,\n",
              "         70.,  97.,  67.,  56.,  72.,  85.,  90.,  69.,  38.,  41.,  81.,\n",
              "         75.,  72.,  58.,  81.,  63.,  78.,  82.,  66.,  71.,  73.,  68.,\n",
              "         60.,  48.,  92.,  66.,  53.,  89.,  78.,  72.,  80.,  83.,  72.,\n",
              "         61.,  67.,  67.,  70.,  89.,  50.,  51.,  73.,  59.,  81.,  44.,\n",
              "         85.,  34.,  70.,  93.,  96.,  53.,  91.,  78.,  76.,  35.,  84.,\n",
              "         51.,  78.,  74.,  82.,  47.,  83.,  73.,  64.,  65.,  91.,  49.,\n",
              "         74.,  68.,  92.,  67.,  80.,  74.,  39.,  52.,  70.,  60.,  52.,\n",
              "         75.,  54.,  60.,  61.,  69.,  49.,  61.,  59.,  57.,  78.,  55.,\n",
              "         44.,  67.,  89.,  80.,  69.,  81.,  80.,  59.,  76.,  65.,  79.,\n",
              "         55.,  90.,  85.,  80.,  56.,  94.,  52.,  77.,  75.,  70.,  87.,\n",
              "         52.,  65.,  57.,  50.,  98.,  71.,  71.,  75.,  47.,  67.,  73.,\n",
              "         74.,  55.,  75.,  96.,  65.,  78.,  59.,  73.,  52.,  90.,  66.,\n",
              "         82.,  61.,  46.,  61.,  55.,  70.,  62.,  97.,  90.,  47.,  81.,\n",
              "         57.,  82.,  75.,  76.,  66.,  82.,  59.,  58.,  50.,  94.,  51.,\n",
              "         57.,  68.,  47.,  72.,  14.,  74.,  65.,  68.,  86.,  59.,  83.,\n",
              "         79.,  47.,  85.,  64.,  78.,  71.,  86.,  73.,  68.,  46.,  62.,\n",
              "         81.,  55.,  81.,  53.,  64.,  49.,  50.,  70.,  75.,  69.,  67.,\n",
              "         64.,  64.,  75.,  92.,  59.,  85.,  57.,  41.,  75.,  56.,  76.,\n",
              "         59.,  77.,  61.,  73.,  66.,  51.,  94.,  86.,  56.,  68.,  74.,\n",
              "         82.,  51.,  83.,  67.,  55.,  63.,  35.,  82.,  96.,  76.,  88.,\n",
              "         88.,  72.,  62.,  67.,  49.,  61.,  66.,  56.,  84.,  75.,  66.,\n",
              "         58.,  67.,  80.,  66.,  82.,  65.,  58.,  60.,  64.,  50.,  92.,\n",
              "         59.,  47.,  73.,  82.,  56.,  83.,  80.,  60.,  77.,  79.,  79.,\n",
              "         87.,  57.,  57.,  74.,  93.,  82.,  53.,  70.,  37.,  91.,  59.,\n",
              "         64.,  60.,  49.,  72.,  56.,  69.,  58.,  78.,  68.,  65.,  81.,\n",
              "         57.,  81.,  65.,  51.,  56.,  81.,  79.,  81.,  75.,  81.,  80.,\n",
              "         81.,  97.,  58.,  59.,  70.,  69.,  69.,  84.,  63.,  76.,  86.,\n",
              "         93.,  45.,  70.,  70.,  53.,  78.,  73.,  49.,  78.,  73.,  54.,\n",
              "         59.,  64.,  63.,  59.,  56.,  88.,  88.,  59.,  76.,  63.,  77.,\n",
              "         65.,  74.,  58.,  75.,  75.,  76.,  84.,  84.,  60.,  39.]])"
            ]
          },
          "metadata": {}
        },
        {
          "output_type": "error",
          "ename": "ValueError",
          "evalue": "ignored",
          "traceback": [
            "\u001b[0;31m---------------------------------------------------------------------------\u001b[0m",
            "\u001b[0;31mValueError\u001b[0m                                Traceback (most recent call last)",
            "\u001b[0;32m<ipython-input-8-d0a8e7afd3a3>\u001b[0m in \u001b[0;36m<module>\u001b[0;34m()\u001b[0m\n\u001b[1;32m     34\u001b[0m \u001b[0;31m#================================================================\u001b[0m\u001b[0;34m\u001b[0m\u001b[0;34m\u001b[0m\u001b[0;34m\u001b[0m\u001b[0m\n\u001b[1;32m     35\u001b[0m \u001b[0;31m#df['Overall Average'] = arr2.tolist()\u001b[0m\u001b[0;34m\u001b[0m\u001b[0;34m\u001b[0m\u001b[0;34m\u001b[0m\u001b[0m\n\u001b[0;32m---> 36\u001b[0;31m \u001b[0mdf\u001b[0m\u001b[0;34m[\u001b[0m\u001b[0;34m'Overall Average'\u001b[0m\u001b[0;34m]\u001b[0m \u001b[0;34m=\u001b[0m \u001b[0marr2\u001b[0m\u001b[0;34m\u001b[0m\u001b[0;34m\u001b[0m\u001b[0m\n\u001b[0m\u001b[1;32m     37\u001b[0m \u001b[0;34m\u001b[0m\u001b[0m\n\u001b[1;32m     38\u001b[0m \u001b[0;31m#=======================================================\u001b[0m\u001b[0;34m\u001b[0m\u001b[0;34m\u001b[0m\u001b[0;34m\u001b[0m\u001b[0m\n",
            "\u001b[0;32m/usr/local/lib/python3.7/dist-packages/pandas/core/frame.py\u001b[0m in \u001b[0;36m__setitem__\u001b[0;34m(self, key, value)\u001b[0m\n\u001b[1;32m   3610\u001b[0m         \u001b[0;32melse\u001b[0m\u001b[0;34m:\u001b[0m\u001b[0;34m\u001b[0m\u001b[0;34m\u001b[0m\u001b[0m\n\u001b[1;32m   3611\u001b[0m             \u001b[0;31m# set column\u001b[0m\u001b[0;34m\u001b[0m\u001b[0;34m\u001b[0m\u001b[0;34m\u001b[0m\u001b[0m\n\u001b[0;32m-> 3612\u001b[0;31m             \u001b[0mself\u001b[0m\u001b[0;34m.\u001b[0m\u001b[0m_set_item\u001b[0m\u001b[0;34m(\u001b[0m\u001b[0mkey\u001b[0m\u001b[0;34m,\u001b[0m \u001b[0mvalue\u001b[0m\u001b[0;34m)\u001b[0m\u001b[0;34m\u001b[0m\u001b[0;34m\u001b[0m\u001b[0m\n\u001b[0m\u001b[1;32m   3613\u001b[0m \u001b[0;34m\u001b[0m\u001b[0m\n\u001b[1;32m   3614\u001b[0m     \u001b[0;32mdef\u001b[0m \u001b[0m_setitem_slice\u001b[0m\u001b[0;34m(\u001b[0m\u001b[0mself\u001b[0m\u001b[0;34m,\u001b[0m \u001b[0mkey\u001b[0m\u001b[0;34m:\u001b[0m \u001b[0mslice\u001b[0m\u001b[0;34m,\u001b[0m \u001b[0mvalue\u001b[0m\u001b[0;34m)\u001b[0m\u001b[0;34m:\u001b[0m\u001b[0;34m\u001b[0m\u001b[0;34m\u001b[0m\u001b[0m\n",
            "\u001b[0;32m/usr/local/lib/python3.7/dist-packages/pandas/core/frame.py\u001b[0m in \u001b[0;36m_set_item\u001b[0;34m(self, key, value)\u001b[0m\n\u001b[1;32m   3782\u001b[0m         \u001b[0mensure\u001b[0m \u001b[0mhomogeneity\u001b[0m\u001b[0;34m.\u001b[0m\u001b[0;34m\u001b[0m\u001b[0;34m\u001b[0m\u001b[0m\n\u001b[1;32m   3783\u001b[0m         \"\"\"\n\u001b[0;32m-> 3784\u001b[0;31m         \u001b[0mvalue\u001b[0m \u001b[0;34m=\u001b[0m \u001b[0mself\u001b[0m\u001b[0;34m.\u001b[0m\u001b[0m_sanitize_column\u001b[0m\u001b[0;34m(\u001b[0m\u001b[0mvalue\u001b[0m\u001b[0;34m)\u001b[0m\u001b[0;34m\u001b[0m\u001b[0;34m\u001b[0m\u001b[0m\n\u001b[0m\u001b[1;32m   3785\u001b[0m \u001b[0;34m\u001b[0m\u001b[0m\n\u001b[1;32m   3786\u001b[0m         if (\n",
            "\u001b[0;32m/usr/local/lib/python3.7/dist-packages/pandas/core/frame.py\u001b[0m in \u001b[0;36m_sanitize_column\u001b[0;34m(self, value)\u001b[0m\n\u001b[1;32m   4507\u001b[0m \u001b[0;34m\u001b[0m\u001b[0m\n\u001b[1;32m   4508\u001b[0m         \u001b[0;32mif\u001b[0m \u001b[0mis_list_like\u001b[0m\u001b[0;34m(\u001b[0m\u001b[0mvalue\u001b[0m\u001b[0;34m)\u001b[0m\u001b[0;34m:\u001b[0m\u001b[0;34m\u001b[0m\u001b[0;34m\u001b[0m\u001b[0m\n\u001b[0;32m-> 4509\u001b[0;31m             \u001b[0mcom\u001b[0m\u001b[0;34m.\u001b[0m\u001b[0mrequire_length_match\u001b[0m\u001b[0;34m(\u001b[0m\u001b[0mvalue\u001b[0m\u001b[0;34m,\u001b[0m \u001b[0mself\u001b[0m\u001b[0;34m.\u001b[0m\u001b[0mindex\u001b[0m\u001b[0;34m)\u001b[0m\u001b[0;34m\u001b[0m\u001b[0;34m\u001b[0m\u001b[0m\n\u001b[0m\u001b[1;32m   4510\u001b[0m         \u001b[0;32mreturn\u001b[0m \u001b[0msanitize_array\u001b[0m\u001b[0;34m(\u001b[0m\u001b[0mvalue\u001b[0m\u001b[0;34m,\u001b[0m \u001b[0mself\u001b[0m\u001b[0;34m.\u001b[0m\u001b[0mindex\u001b[0m\u001b[0;34m,\u001b[0m \u001b[0mcopy\u001b[0m\u001b[0;34m=\u001b[0m\u001b[0;32mTrue\u001b[0m\u001b[0;34m,\u001b[0m \u001b[0mallow_2d\u001b[0m\u001b[0;34m=\u001b[0m\u001b[0;32mTrue\u001b[0m\u001b[0;34m)\u001b[0m\u001b[0;34m\u001b[0m\u001b[0;34m\u001b[0m\u001b[0m\n\u001b[1;32m   4511\u001b[0m \u001b[0;34m\u001b[0m\u001b[0m\n",
            "\u001b[0;32m/usr/local/lib/python3.7/dist-packages/pandas/core/common.py\u001b[0m in \u001b[0;36mrequire_length_match\u001b[0;34m(data, index)\u001b[0m\n\u001b[1;32m    530\u001b[0m     \u001b[0;32mif\u001b[0m \u001b[0mlen\u001b[0m\u001b[0;34m(\u001b[0m\u001b[0mdata\u001b[0m\u001b[0;34m)\u001b[0m \u001b[0;34m!=\u001b[0m \u001b[0mlen\u001b[0m\u001b[0;34m(\u001b[0m\u001b[0mindex\u001b[0m\u001b[0;34m)\u001b[0m\u001b[0;34m:\u001b[0m\u001b[0;34m\u001b[0m\u001b[0;34m\u001b[0m\u001b[0m\n\u001b[1;32m    531\u001b[0m         raise ValueError(\n\u001b[0;32m--> 532\u001b[0;31m             \u001b[0;34m\"Length of values \"\u001b[0m\u001b[0;34m\u001b[0m\u001b[0;34m\u001b[0m\u001b[0m\n\u001b[0m\u001b[1;32m    533\u001b[0m             \u001b[0;34mf\"({len(data)}) \"\u001b[0m\u001b[0;34m\u001b[0m\u001b[0;34m\u001b[0m\u001b[0m\n\u001b[1;32m    534\u001b[0m             \u001b[0;34m\"does not match length of index \"\u001b[0m\u001b[0;34m\u001b[0m\u001b[0;34m\u001b[0m\u001b[0m\n",
            "\u001b[0;31mValueError\u001b[0m: Length of values (1) does not match length of index (1000)"
          ]
        }
      ]
    },
    {
      "cell_type": "code",
      "source": [
        ""
      ],
      "metadata": {
        "id": "kE9iuvy8TvAZ"
      },
      "execution_count": null,
      "outputs": []
    },
    {
      "cell_type": "code",
      "source": [
        "import pandas as pd\n",
        "import numpy as np\n",
        "\n",
        "url = \"https://raw.githubusercontent.com/lilaceri/Working-with-data-/main/Data%20Sets%20for%20code%20divisio/exams.csv\"\n",
        "df = pd.read_csv(url)\n",
        "#df.info()'\n",
        "print (df.head())\n",
        "print ('Columns: ', df.columns)\n",
        "\n",
        "math_score_np = df['math_score'].to_numpy(np.int32)\n",
        "reading_score_np = df['reading_score'].to_numpy(np.int32)\n",
        "writing_score_np = df['writing_score'].to_numpy(np.int32)\n",
        "\n",
        "#=======================================================\n",
        "# Create single array from the 3 separate arrays\n",
        "#=======================================================\n",
        "arr = np.array([math_score_np, \n",
        "          reading_score_np,\n",
        "          writing_score_np])\n",
        "display(arr)\n",
        "\n",
        "#=======================================================\n",
        "# Calculate average score for each student \n",
        "#=======================================================\n",
        "arr2 = np.round(((np.sum(arr,axis=0))/3))\n",
        "\n",
        "display ('Overall Mean Scores: ', arr2)\n",
        "\n",
        "#====================================================================\n",
        "# Add the Overall Average as a new column to original dataframe\n",
        "#================================================================\n",
        "#df['Overall Average'] = arr2.tolist()\n",
        "df['Overall Average'] = arr2\n",
        "\n",
        "#=======================================================\n",
        "# Filter just females from original dataset\n",
        "#=========================================================\n",
        "\n",
        "filtered_df = df[df['gender'] == 'female'] \n",
        "\n",
        "#filtered_df = df[df['gender' == 'female']]\n",
        "#filtered_df = df.filter(like='female', axis=0)\n",
        "print ('Filtered df: ', filtered_df)\n",
        "\n",
        "#======================================================\n",
        "# Now calculate the average score for females\n",
        "#======================================================\n",
        "\n",
        "fem_math_score_np = filtered_df['math_score'].to_numpy(np.int32)\n",
        "fem_reading_score_np = filtered_df['reading_score'].to_numpy(np.int32)\n",
        "fem_writing_score_np = filtered_df['writing_score'].to_numpy(np.int32)\n",
        "\n",
        "#=======================================================\n",
        "# Create single array from the 3 separate arrays\n",
        "#=======================================================\n",
        "fem_arr = np.array([fem_math_score_np, \n",
        "                    fem_reading_score_np,\n",
        "                    fem_writing_score_np])\n",
        "display(fem_arr)\n",
        "\n",
        "#=======================================================\n",
        "# Calculate average score for each female student \n",
        "#=======================================================\n",
        "fem_arr2 = np.round(((np.sum(fem_arr,axis=0))/3))\n",
        "\n",
        "display ('Overall Mean Scores for each female student: ', fem_arr2)\n",
        "\n",
        "#compute mean\n",
        "overall_fem_mean = np.round(np.mean(fem_arr2))\n",
        "display (\"Overall Mean for all Female Students: \", overall_fem_mean)\n",
        "\n",
        "#=======================================================\n",
        "# Filter just males from original dataset\n",
        "#=========================================================\n",
        "\n",
        "filtered_df = df[df['gender'] == 'male'] \n",
        "\n",
        "#filtered_df = df[df['gender' == 'male']]\n",
        "#filtered_df = df.filter(like='male', axis=0)\n",
        "print ('Filtered df: ', filtered_df)\n",
        "\n",
        "#======================================================\n",
        "# Now calculate the average score for females\n",
        "#======================================================\n",
        "\n",
        "male_math_score_np = filtered_df['math_score'].to_numpy(np.int32)\n",
        "male_reading_score_np = filtered_df['reading_score'].to_numpy(np.int32)\n",
        "male_writing_score_np = filtered_df['writing_score'].to_numpy(np.int32)\n",
        "\n",
        "#=======================================================\n",
        "# Create single array from the 3 separate arrays\n",
        "#=======================================================\n",
        "male_arr = np.array([male_math_score_np, \n",
        "                    male_reading_score_np,\n",
        "                    male_writing_score_np])\n",
        "display(male_arr)\n",
        "\n",
        "#=======================================================\n",
        "# Calculate average score for each female student \n",
        "#=======================================================\n",
        "male_arr2 = np.round(((np.sum(male_arr,axis=0))/3))\n",
        "\n",
        "display ('Overall Mean Scores for each male student: ', male_arr2)\n",
        "\n",
        "#compute mean\n",
        "overall_male_mean = np.round(np.mean(male_arr2))\n",
        "display (\"Overall Mean for all Male Students: \", overall_male_mean)\n",
        "\n",
        "# Calculates correlation coefficient\n",
        "def calc_corr_coef(score1_np, score2_np):\n",
        "  coef = np.round(np.corrcoef(score1_np, score2_np),4)\n",
        "  print(coef)\n",
        "  return coef\n",
        "\n",
        "#=======================================================\n",
        "# find the correlation coefficient for reading and maths\n",
        "#======================================================\n",
        "coef = calc_corr_coef(math_score_np, reading_score_np)\n",
        "print ('Correlation Coefficient for reading and maths: ', coef[0][1])\n",
        "\n",
        "#=======================================================\n",
        "# find the correlation coefficient for reading and writing\n",
        "#======================================================\n",
        "coef = calc_corr_coef(reading_score_np, writing_score_np)\n",
        "print ('Correlation Coefficient for reading and writing: ', coef[0][1])\n",
        "\n",
        "#=======================================================\n",
        "# find the correlation coefficient for maths and writing\n",
        "#======================================================\n",
        "coef = calc_corr_coef(math_score_np, writing_score_np)\n",
        "print ('Correlation Coefficient for maths and writing: ', coef[0][1])\n",
        "    \n",
        "#=======================================================\n",
        "# find the correlation coefficient for maths and lunch\n",
        "#======================================================\n",
        "\n",
        "    "
      ],
      "metadata": {
        "colab": {
          "base_uri": "https://localhost:8080/",
          "height": 1000
        },
        "outputId": "4f1beb74-f673-4b00-834e-14da3f02623b",
        "id": "NvVqtwo7TvkY"
      },
      "execution_count": 21,
      "outputs": [
        {
          "output_type": "stream",
          "name": "stdout",
          "text": [
            "   gender ethnicity  ... reading_score writing_score\n",
            "0  female   group E  ...            76            71\n",
            "1    male   group C  ...            72            69\n",
            "2  female   group B  ...            56            61\n",
            "3    male   group D  ...            60            59\n",
            "4  female   group C  ...            54            55\n",
            "\n",
            "[5 rows x 8 columns]\n",
            "Columns:  Index(['gender', 'ethnicity', 'parental_education', 'lunch',\n",
            "       'preparation_course', 'math_score', 'reading_score', 'writing_score'],\n",
            "      dtype='object')\n"
          ]
        },
        {
          "output_type": "display_data",
          "data": {
            "text/plain": [
              "array([[65, 75, 62, ..., 65, 62, 38],\n",
              "       [76, 72, 56, ..., 94, 62, 39],\n",
              "       [71, 69, 61, ..., 93, 57, 40]], dtype=int32)"
            ]
          },
          "metadata": {}
        },
        {
          "output_type": "display_data",
          "data": {
            "application/vnd.google.colaboratory.intrinsic+json": {
              "type": "string"
            },
            "text/plain": [
              "'Overall Mean Scores: '"
            ]
          },
          "metadata": {}
        },
        {
          "output_type": "display_data",
          "data": {
            "text/plain": [
              "array([ 71.,  72.,  60.,  60.,  48.,  60.,  88.,  79.,  64.,  81.,  90.,\n",
              "        64.,  39.,  84.,  49.,  62.,  66.,  58.,  49.,  77.,  76.,  36.,\n",
              "        79.,  82.,  67.,  57.,  66.,  43.,  89.,  82.,  61.,  76.,  67.,\n",
              "        79.,  79.,  96.,  73.,  57.,  80.,  80.,  86.,  60.,  60.,  97.,\n",
              "        68.,  80.,  89.,  68.,  53.,  61.,  79.,  69.,  91.,  61.,  68.,\n",
              "        65.,  70.,  70.,  71.,  92.,  78.,  81.,  42.,  63.,  46.,  78.,\n",
              "        61.,  72.,  94.,  58.,  90.,  70.,  60.,  76.,  69.,  73.,  87.,\n",
              "        95.,  40.,  81.,  80.,  72.,  58.,  86.,  53.,  90.,  22.,  90.,\n",
              "        56.,  59.,  98.,  51.,  45.,  73.,  72.,  56.,  65.,  83.,  87.,\n",
              "        72.,  57.,  92.,  81.,  74.,  87.,  53.,  78.,  63.,  79.,  67.,\n",
              "        59.,  50.,  59.,  71.,  71.,  65.,  69.,  64.,  62.,  54.,  54.,\n",
              "        47.,  67.,  64.,  62.,  56.,  59.,  69.,  66.,  49.,  57.,  71.,\n",
              "        64.,  90.,  54.,  70.,  73.,  61.,  50.,  71.,  79.,  37.,  81.,\n",
              "        77.,  58.,  84.,  86.,  76.,  97.,  62.,  58.,  73.,  72.,  44.,\n",
              "        61.,  76.,  76.,  81.,  51.,  74.,  63.,  82.,  42.,  97.,  61.,\n",
              "        53.,  56.,  31.,  89.,  74.,  41.,  89.,  93.,  64.,  53.,  59.,\n",
              "        90.,  91.,  72.,  64.,  99.,  69.,  82.,  45.,  44.,  33.,  81.,\n",
              "        79.,  79.,  73.,  88.,  87.,  57.,  29.,  56.,  75.,  75.,  53.,\n",
              "        50.,  74.,  61.,  57.,  64.,  68.,  51.,  58.,  78.,  83.,  75.,\n",
              "        52.,  60.,  72.,  64.,  63.,  55.,  75.,  66.,  59.,  75.,  70.,\n",
              "        90.,  78.,  67.,  61.,  70.,  68.,  81.,  82.,  72.,  61.,  84.,\n",
              "        79.,  69.,  60.,  55.,  83.,  77.,  52.,  42.,  55.,  71.,  79.,\n",
              "        84.,  74.,  45.,  74.,  62.,  45.,  87.,  94.,  81.,  82.,  59.,\n",
              "        63.,  57.,  56.,  79.,  83.,  76.,  68.,  71.,  60.,  49.,  83.,\n",
              "        57.,  33.,  60.,  87.,  92.,  75.,  37.,  40.,  75.,  89.,  65.,\n",
              "        42.,  60.,  70.,  58.,  82.,  64.,  46.,  54.,  60.,  57.,  61.,\n",
              "        75., 100.,  56.,  52.,  79.,  78.,  74.,  49.,  57.,  79.,  46.,\n",
              "        78.,  43.,  70.,  96.,  65.,  89.,  71.,  46.,  55.,  58.,  89.,\n",
              "        64.,  75.,  75.,  99.,  71.,  67.,  55.,  85.,  61.,  75.,  53.,\n",
              "        96.,  73.,  33.,  89.,  89.,  59.,  75.,  56.,  62.,  75.,  65.,\n",
              "        78.,  72.,  62.,  70.,  17.,  66.,  70.,  58.,  77.,  58.,  73.,\n",
              "        57.,  68.,  69.,  63.,  64.,  73.,  70.,  86.,  61.,  67.,  81.,\n",
              "        74.,  75.,  66.,  70.,  68.,  31.,  95.,  77.,  75.,  82.,  89.,\n",
              "        57.,  82.,  74.,  74.,  82.,  87.,  92.,  72.,  47.,  54.,  95.,\n",
              "        52.,  51.,  85.,  72.,  39.,  79.,  47.,  57.,  64.,  80.,  65.,\n",
              "       100.,  77.,  72.,  41.,  91.,  67.,  40.,  64.,  62.,  66.,  56.,\n",
              "        61.,  60.,  77.,  48.,  54.,  78.,  89.,  64.,  58.,  52.,  47.,\n",
              "        82.,  70.,  70.,  88.,  73.,  94.,  76.,  61.,  76.,  84.,  89.,\n",
              "        62.,  58.,  70.,  72.,  66.,  62.,  72.,  70.,  57.,  69.,  83.,\n",
              "        81.,  73.,  92.,  75.,  66.,  37.,  77.,  84.,  97.,  44.,  73.,\n",
              "        80.,  63.,  63.,  75.,  80.,  63.,  74.,  44.,  90.,  48.,  93.,\n",
              "        81.,  67.,  80.,  26.,  76.,  69.,  77.,  40.,  84.,  68.,  65.,\n",
              "        84.,  63.,  79.,  72.,  74.,  84.,  74.,  84.,  96.,  58.,  79.,\n",
              "        50.,  41.,  85.,  64.,  66.,  98.,  75.,  74.,  75.,  64.,  55.,\n",
              "        65.,  57.,  71.,  79.,  61.,  62.,  42.,  71.,  75.,  72.,  38.,\n",
              "        73.,  70.,  70.,  66.,  45.,  56.,  84.,  53.,  50.,  65.,  69.,\n",
              "        69.,  36.,  97.,  76.,  88.,  58.,  53.,  81.,  84.,  60.,  45.,\n",
              "        46.,  74.,  74.,  63.,  73.,  73.,  79.,  75.,  54.,  82.,  70.,\n",
              "        43.,  63.,  77.,  79.,  51.,  72.,  69.,  84.,  82.,  73.,  53.,\n",
              "        89.,  79.,  74.,  67.,  69.,  66.,  79.,  60.,  57.,  55.,  74.,\n",
              "        73.,  69.,  50.,  92.,  63.,  54.,  84.,  79.,  57.,  68.,  53.,\n",
              "        64.,  84.,  45.,  62.,  56.,  66.,  75.,  70.,  46.,  66.,  70.,\n",
              "        68.,  62.,  82.,  89.,  59.,  69.,  40.,  43.,  73.,  73.,  77.,\n",
              "        69.,  72.,  95.,  63.,  77.,  53.,  72.,  51.,  89.,  56.,  70.,\n",
              "        88.,  69.,  77.,  60.,  64.,  87.,  55.,  68.,  47.,  64.,  66.,\n",
              "        53.,  56.,  73.,  73.,  95.,  57.,  80.,  74.,  64.,  71.,  78.,\n",
              "        34.,  73.,  68.,  74.,  80.,  65.,  92.,  35.,  72.,  42., 100.,\n",
              "        71.,  40.,  68.,  53.,  76.,  73.,  92.,  55.,  67.,  79.,  67.,\n",
              "        70.,  83.,  46.,  61.,  82.,  65.,  66.,  86.,  64.,  65.,  73.,\n",
              "        76.,  88.,  79.,  61.,  86.,  72.,  53.,  54.,  86.,  71.,  51.,\n",
              "        58.,  51.,  71.,  52.,  78.,  46.,  85.,  59.,  69.,  47.,  80.,\n",
              "        70.,  97.,  67.,  56.,  72.,  85.,  90.,  69.,  38.,  41.,  81.,\n",
              "        75.,  72.,  58.,  81.,  63.,  78.,  82.,  66.,  71.,  73.,  68.,\n",
              "        60.,  48.,  92.,  66.,  53.,  89.,  78.,  72.,  80.,  83.,  72.,\n",
              "        61.,  67.,  67.,  70.,  89.,  50.,  51.,  73.,  59.,  81.,  44.,\n",
              "        85.,  34.,  70.,  93.,  96.,  53.,  91.,  78.,  76.,  35.,  84.,\n",
              "        51.,  78.,  74.,  82.,  47.,  83.,  73.,  64.,  65.,  91.,  49.,\n",
              "        74.,  68.,  92.,  67.,  80.,  74.,  39.,  52.,  70.,  60.,  52.,\n",
              "        75.,  54.,  60.,  61.,  69.,  49.,  61.,  59.,  57.,  78.,  55.,\n",
              "        44.,  67.,  89.,  80.,  69.,  81.,  80.,  59.,  76.,  65.,  79.,\n",
              "        55.,  90.,  85.,  80.,  56.,  94.,  52.,  77.,  75.,  70.,  87.,\n",
              "        52.,  65.,  57.,  50.,  98.,  71.,  71.,  75.,  47.,  67.,  73.,\n",
              "        74.,  55.,  75.,  96.,  65.,  78.,  59.,  73.,  52.,  90.,  66.,\n",
              "        82.,  61.,  46.,  61.,  55.,  70.,  62.,  97.,  90.,  47.,  81.,\n",
              "        57.,  82.,  75.,  76.,  66.,  82.,  59.,  58.,  50.,  94.,  51.,\n",
              "        57.,  68.,  47.,  72.,  14.,  74.,  65.,  68.,  86.,  59.,  83.,\n",
              "        79.,  47.,  85.,  64.,  78.,  71.,  86.,  73.,  68.,  46.,  62.,\n",
              "        81.,  55.,  81.,  53.,  64.,  49.,  50.,  70.,  75.,  69.,  67.,\n",
              "        64.,  64.,  75.,  92.,  59.,  85.,  57.,  41.,  75.,  56.,  76.,\n",
              "        59.,  77.,  61.,  73.,  66.,  51.,  94.,  86.,  56.,  68.,  74.,\n",
              "        82.,  51.,  83.,  67.,  55.,  63.,  35.,  82.,  96.,  76.,  88.,\n",
              "        88.,  72.,  62.,  67.,  49.,  61.,  66.,  56.,  84.,  75.,  66.,\n",
              "        58.,  67.,  80.,  66.,  82.,  65.,  58.,  60.,  64.,  50.,  92.,\n",
              "        59.,  47.,  73.,  82.,  56.,  83.,  80.,  60.,  77.,  79.,  79.,\n",
              "        87.,  57.,  57.,  74.,  93.,  82.,  53.,  70.,  37.,  91.,  59.,\n",
              "        64.,  60.,  49.,  72.,  56.,  69.,  58.,  78.,  68.,  65.,  81.,\n",
              "        57.,  81.,  65.,  51.,  56.,  81.,  79.,  81.,  75.,  81.,  80.,\n",
              "        81.,  97.,  58.,  59.,  70.,  69.,  69.,  84.,  63.,  76.,  86.,\n",
              "        93.,  45.,  70.,  70.,  53.,  78.,  73.,  49.,  78.,  73.,  54.,\n",
              "        59.,  64.,  63.,  59.,  56.,  88.,  88.,  59.,  76.,  63.,  77.,\n",
              "        65.,  74.,  58.,  75.,  75.,  76.,  84.,  84.,  60.,  39.])"
            ]
          },
          "metadata": {}
        },
        {
          "output_type": "stream",
          "name": "stdout",
          "text": [
            "Filtered df:       gender ethnicity  ... writing_score Overall Average\n",
            "0    female   group E  ...            71            71.0\n",
            "2    female   group B  ...            61            60.0\n",
            "4    female   group C  ...            55            48.0\n",
            "5    female   group B  ...            61            60.0\n",
            "6    female   group D  ...            92            88.0\n",
            "..      ...       ...  ...           ...             ...\n",
            "989  female   group D  ...            82            77.0\n",
            "991  female   group C  ...            77            74.0\n",
            "992  female   group C  ...            65            58.0\n",
            "994  female   group D  ...            80            75.0\n",
            "997  female   group C  ...            93            84.0\n",
            "\n",
            "[496 rows x 9 columns]\n"
          ]
        },
        {
          "output_type": "display_data",
          "data": {
            "text/plain": [
              "array([[65, 62, 34, ..., 46, 72, 65],\n",
              "       [76, 56, 54, ..., 62, 74, 94],\n",
              "       [71, 61, 55, ..., 65, 80, 93]], dtype=int32)"
            ]
          },
          "metadata": {}
        },
        {
          "output_type": "display_data",
          "data": {
            "application/vnd.google.colaboratory.intrinsic+json": {
              "type": "string"
            },
            "text/plain": [
              "'Overall Mean Scores for each female student: '"
            ]
          },
          "metadata": {}
        },
        {
          "output_type": "display_data",
          "data": {
            "text/plain": [
              "array([ 71.,  60.,  48.,  60.,  88.,  64.,  90.,  64.,  39.,  49.,  62.,\n",
              "        66.,  49.,  77.,  36.,  79.,  82.,  89.,  82.,  76.,  67.,  79.,\n",
              "        96.,  73.,  57.,  80.,  80.,  86.,  60.,  60.,  97.,  68.,  89.,\n",
              "        69.,  68.,  70.,  70.,  71.,  78.,  63.,  61.,  94.,  58.,  60.,\n",
              "        76.,  87.,  95.,  81.,  72.,  53.,  90.,  98.,  73.,  72.,  83.,\n",
              "        72.,  81.,  74.,  87.,  78.,  63.,  79.,  59.,  65.,  69.,  54.,\n",
              "        62.,  59.,  69.,  66.,  49.,  57.,  90.,  73.,  61.,  50.,  79.,\n",
              "        81.,  77.,  58.,  84.,  86.,  97.,  58.,  72.,  76.,  74.,  63.,\n",
              "        82.,  97.,  53.,  56.,  89.,  93.,  64.,  91.,  82.,  79.,  87.,\n",
              "        75.,  75.,  53.,  64.,  68.,  83.,  75.,  52.,  60.,  72.,  64.,\n",
              "        63.,  55.,  59.,  70.,  90.,  78.,  67.,  70.,  81.,  72.,  84.,\n",
              "        83.,  71.,  84.,  74.,  74.,  94.,  81.,  82.,  57.,  79.,  83.,\n",
              "        57.,  87.,  75.,  75.,  65.,  60.,  70.,  82.,  64.,  54.,  60.,\n",
              "        57.,  61., 100.,  56.,  52.,  79.,  78.,  57.,  79.,  43.,  96.,\n",
              "        65.,  71.,  55.,  58.,  64.,  75.,  75.,  61.,  75.,  53.,  96.,\n",
              "        73.,  89.,  75.,  75.,  78.,  72.,  62.,  70.,  17.,  66.,  70.,\n",
              "        77.,  73.,  57.,  69.,  63.,  64.,  73.,  86.,  66.,  68.,  95.,\n",
              "        75.,  82.,  87.,  92.,  47.,  54.,  52.,  85.,  39.,  79.,  57.,\n",
              "        80.,  91.,  67.,  40.,  64.,  56.,  61.,  77.,  48.,  78.,  89.,\n",
              "        58.,  52.,  70.,  73.,  94.,  76.,  61.,  76.,  84.,  62.,  58.,\n",
              "        70.,  72.,  62.,  72.,  83.,  66.,  84.,  97.,  44.,  80.,  63.,\n",
              "        74.,  48.,  93.,  81.,  67.,  76.,  69.,  77.,  40.,  84.,  63.,\n",
              "        79.,  84.,  64.,  75.,  74.,  75.,  64.,  65.,  57.,  61.,  71.,\n",
              "        75.,  72.,  38.,  84.,  50.,  97.,  76.,  73.,  79.,  75.,  82.,\n",
              "        70.,  77.,  79.,  72.,  73.,  79.,  60.,  57.,  74.,  69.,  63.,\n",
              "        84.,  79.,  57.,  66.,  70.,  68.,  62.,  82.,  59.,  69.,  40.,\n",
              "        73.,  77.,  72.,  95.,  72.,  51.,  56.,  70.,  88.,  69.,  77.,\n",
              "        60.,  87.,  55.,  64.,  66.,  73.,  73.,  95.,  57.,  71.,  78.,\n",
              "        80.,  42.,  40.,  76.,  73.,  92.,  55.,  67.,  79.,  70.,  46.,\n",
              "        82.,  65.,  86.,  73.,  88.,  79.,  61.,  53.,  86.,  58.,  51.,\n",
              "        71.,  78.,  85.,  59.,  47.,  80.,  70.,  97.,  56.,  85.,  90.,\n",
              "        69.,  38.,  41.,  81.,  63.,  78.,  73.,  92.,  66.,  89.,  78.,\n",
              "        72.,  80.,  61.,  67.,  67.,  50.,  51.,  73.,  81.,  85.,  34.,\n",
              "        70.,  93.,  96.,  91.,  76.,  35.,  74.,  83.,  92.,  67.,  80.,\n",
              "        60.,  52.,  75.,  54.,  61.,  78.,  89.,  81.,  80.,  85.,  80.,\n",
              "        70.,  52.,  57.,  50.,  98.,  73.,  74.,  75.,  78.,  61.,  97.,\n",
              "        47.,  81.,  57.,  75.,  76.,  82.,  58.,  94.,  51.,  57.,  68.,\n",
              "        72.,  74.,  68.,  86.,  83.,  47.,  85.,  78.,  71.,  86.,  73.,\n",
              "        81.,  55.,  49.,  70.,  75.,  64.,  75.,  92.,  59.,  85.,  57.,\n",
              "        56.,  76.,  66.,  68.,  74.,  82.,  55.,  63.,  35.,  82.,  96.,\n",
              "        88.,  88.,  67.,  56.,  84.,  75.,  58.,  67.,  80.,  82.,  50.,\n",
              "        92.,  47.,  73.,  82.,  56.,  83.,  80.,  60.,  77.,  79.,  57.,\n",
              "        74.,  70.,  91.,  49.,  72.,  58.,  68.,  65.,  81.,  81.,  65.,\n",
              "        51.,  56.,  81.,  79.,  81.,  81.,  58.,  69.,  69.,  63.,  93.,\n",
              "        45.,  70.,  70.,  78.,  78.,  59.,  63.,  77.,  74.,  58.,  75.,\n",
              "        84.])"
            ]
          },
          "metadata": {}
        },
        {
          "output_type": "display_data",
          "data": {
            "application/vnd.google.colaboratory.intrinsic+json": {
              "type": "string"
            },
            "text/plain": [
              "'Overall Mean for all Female Students: '"
            ]
          },
          "metadata": {}
        },
        {
          "output_type": "display_data",
          "data": {
            "text/plain": [
              "71.0"
            ]
          },
          "metadata": {}
        },
        {
          "output_type": "stream",
          "name": "stdout",
          "text": [
            "Filtered df:      gender ethnicity  ... writing_score Overall Average\n",
            "1     male   group C  ...            69            72.0\n",
            "3     male   group D  ...            59            60.0\n",
            "7     male   group E  ...            70            79.0\n",
            "9     male   group C  ...            82            81.0\n",
            "13    male   group C  ...            81            84.0\n",
            "..     ...       ...  ...           ...             ...\n",
            "993   male   group E  ...            69            75.0\n",
            "995   male   group B  ...            74            76.0\n",
            "996   male   group D  ...            82            84.0\n",
            "998   male   group B  ...            57            60.0\n",
            "999   male   group B  ...            40            39.0\n",
            "\n",
            "[504 rows x 9 columns]\n"
          ]
        },
        {
          "output_type": "display_data",
          "data": {
            "text/plain": [
              "array([[75, 60, 93, ..., 82, 62, 38],\n",
              "       [72, 60, 73, ..., 87, 62, 39],\n",
              "       [69, 59, 70, ..., 82, 57, 40]], dtype=int32)"
            ]
          },
          "metadata": {}
        },
        {
          "output_type": "display_data",
          "data": {
            "application/vnd.google.colaboratory.intrinsic+json": {
              "type": "string"
            },
            "text/plain": [
              "'Overall Mean Scores for each male student: '"
            ]
          },
          "metadata": {}
        },
        {
          "output_type": "display_data",
          "data": {
            "text/plain": [
              "array([ 72.,  60.,  79.,  81.,  84.,  58.,  76.,  67.,  57.,  66.,  43.,\n",
              "        61.,  79.,  80.,  68.,  53.,  61.,  79.,  91.,  61.,  65.,  92.,\n",
              "        81.,  42.,  46.,  78.,  72.,  90.,  70.,  69.,  73.,  40.,  80.,\n",
              "        58.,  86.,  90.,  22.,  56.,  59.,  51.,  45.,  56.,  65.,  87.,\n",
              "        57.,  92.,  53.,  67.,  59.,  50.,  71.,  71.,  64.,  62.,  54.,\n",
              "        47.,  67.,  64.,  56.,  71.,  64.,  54.,  70.,  71.,  37.,  76.,\n",
              "        62.,  73.,  44.,  61.,  76.,  81.,  51.,  42.,  61.,  31.,  89.,\n",
              "        74.,  41.,  53.,  59.,  90.,  72.,  64.,  99.,  69.,  45.,  44.,\n",
              "        33.,  81.,  79.,  73.,  88.,  57.,  29.,  56.,  50.,  74.,  61.,\n",
              "        57.,  51.,  58.,  78.,  75.,  66.,  75.,  61.,  68.,  82.,  61.,\n",
              "        79.,  69.,  60.,  55.,  77.,  52.,  42.,  55.,  79.,  45.,  62.,\n",
              "        45.,  87.,  59.,  63.,  56.,  76.,  68.,  71.,  60.,  49.,  83.,\n",
              "        33.,  60.,  92.,  37.,  40.,  89.,  42.,  58.,  46.,  75.,  74.,\n",
              "        49.,  46.,  78.,  70.,  89.,  46.,  89.,  99.,  71.,  67.,  55.,\n",
              "        85.,  33.,  89.,  59.,  56.,  62.,  65.,  58.,  58.,  68.,  70.,\n",
              "        61.,  67.,  81.,  74.,  75.,  70.,  31.,  77.,  89.,  57.,  82.,\n",
              "        74.,  74.,  82.,  72.,  95.,  51.,  72.,  47.,  64.,  65., 100.,\n",
              "        77.,  72.,  41.,  62.,  66.,  60.,  54.,  64.,  47.,  82.,  70.,\n",
              "        88.,  89.,  66.,  70.,  57.,  69.,  81.,  73.,  92.,  75.,  37.,\n",
              "        77.,  73.,  63.,  75.,  80.,  63.,  44.,  90.,  80.,  26.,  68.,\n",
              "        65.,  84.,  72.,  74.,  84.,  74.,  96.,  58.,  79.,  50.,  41.,\n",
              "        85.,  66.,  98.,  55.,  71.,  79.,  62.,  42.,  73.,  70.,  70.,\n",
              "        66.,  45.,  56.,  53.,  65.,  69.,  69.,  36.,  88.,  58.,  53.,\n",
              "        81.,  84.,  60.,  45.,  46.,  74.,  74.,  63.,  73.,  54.,  43.,\n",
              "        63.,  51.,  69.,  84.,  82.,  53.,  89.,  79.,  74.,  67.,  69.,\n",
              "        66.,  55.,  73.,  50.,  92.,  54.,  68.,  53.,  64.,  84.,  45.,\n",
              "        62.,  56.,  75.,  46.,  66.,  70.,  89.,  43.,  73.,  69.,  63.,\n",
              "        77.,  53.,  89.,  64.,  68.,  47.,  53.,  56.,  80.,  74.,  64.,\n",
              "        34.,  73.,  68.,  74.,  65.,  92.,  35.,  72., 100.,  71.,  68.,\n",
              "        53.,  67.,  83.,  61.,  66.,  64.,  65.,  76.,  86.,  72.,  54.,\n",
              "        71.,  51.,  52.,  46.,  69.,  67.,  72.,  81.,  75.,  72.,  58.,\n",
              "        82.,  66.,  71.,  68.,  60.,  48.,  53.,  83.,  72.,  70.,  89.,\n",
              "        59.,  44.,  53.,  78.,  84.,  51.,  78.,  82.,  47.,  73.,  64.,\n",
              "        65.,  91.,  49.,  74.,  68.,  74.,  39.,  52.,  70.,  60.,  61.,\n",
              "        69.,  49.,  59.,  57.,  55.,  44.,  67.,  80.,  69.,  59.,  76.,\n",
              "        65.,  79.,  55.,  90.,  56.,  94.,  52.,  77.,  75.,  87.,  65.,\n",
              "        71.,  71.,  75.,  47.,  67.,  55.,  96.,  65.,  59.,  73.,  52.,\n",
              "        90.,  66.,  82.,  46.,  61.,  55.,  70.,  62.,  90.,  82.,  66.,\n",
              "        59.,  50.,  47.,  14.,  65.,  59.,  79.,  64.,  68.,  46.,  62.,\n",
              "        81.,  53.,  64.,  50.,  69.,  67.,  64.,  41.,  75.,  59.,  77.,\n",
              "        61.,  73.,  51.,  94.,  86.,  56.,  51.,  83.,  67.,  76.,  72.,\n",
              "        62.,  49.,  61.,  66.,  66.,  66.,  65.,  58.,  60.,  64.,  59.,\n",
              "        79.,  87.,  57.,  93.,  82.,  53.,  37.,  59.,  64.,  60.,  56.,\n",
              "        69.,  78.,  57.,  75.,  81.,  80.,  97.,  59.,  70.,  84.,  76.,\n",
              "        86.,  53.,  73.,  49.,  73.,  54.,  59.,  64.,  63.,  56.,  88.,\n",
              "        88.,  59.,  76.,  65.,  75.,  76.,  84.,  60.,  39.])"
            ]
          },
          "metadata": {}
        },
        {
          "output_type": "display_data",
          "data": {
            "application/vnd.google.colaboratory.intrinsic+json": {
              "type": "string"
            },
            "text/plain": [
              "'Overall Mean for all Male Students: '"
            ]
          },
          "metadata": {}
        },
        {
          "output_type": "display_data",
          "data": {
            "text/plain": [
              "66.0"
            ]
          },
          "metadata": {}
        },
        {
          "output_type": "stream",
          "name": "stdout",
          "text": [
            "[[1.     0.8146]\n",
            " [0.8146 1.    ]]\n",
            "Correlation Coefficient for reading and maths:  0.8146\n",
            "[[1.     0.9568]\n",
            " [0.9568 1.    ]]\n",
            "Correlation Coefficient for reading and writing:  0.9568\n",
            "[[1.     0.8088]\n",
            " [0.8088 1.    ]]\n",
            "Correlation Coefficient for maths and writing:  0.8088\n"
          ]
        },
        {
          "output_type": "error",
          "ename": "ValueError",
          "evalue": "ignored",
          "traceback": [
            "\u001b[0;31m---------------------------------------------------------------------------\u001b[0m",
            "\u001b[0;31mValueError\u001b[0m                                Traceback (most recent call last)",
            "\u001b[0;32m<ipython-input-21-2d16c8daf05d>\u001b[0m in \u001b[0;36m<module>\u001b[0;34m()\u001b[0m\n\u001b[1;32m    134\u001b[0m \u001b[0;31m# find the correlation coefficient for maths and lunch\u001b[0m\u001b[0;34m\u001b[0m\u001b[0;34m\u001b[0m\u001b[0;34m\u001b[0m\u001b[0m\n\u001b[1;32m    135\u001b[0m \u001b[0;31m#======================================================\u001b[0m\u001b[0;34m\u001b[0m\u001b[0;34m\u001b[0m\u001b[0;34m\u001b[0m\u001b[0m\n\u001b[0;32m--> 136\u001b[0;31m \u001b[0mlunch_np\u001b[0m \u001b[0;34m=\u001b[0m \u001b[0mdf\u001b[0m\u001b[0;34m[\u001b[0m\u001b[0;34m'lunch'\u001b[0m\u001b[0;34m]\u001b[0m\u001b[0;34m.\u001b[0m\u001b[0mto_numpy\u001b[0m\u001b[0;34m(\u001b[0m\u001b[0mnp\u001b[0m\u001b[0;34m.\u001b[0m\u001b[0mint32\u001b[0m\u001b[0;34m)\u001b[0m\u001b[0;34m\u001b[0m\u001b[0;34m\u001b[0m\u001b[0m\n\u001b[0m\u001b[1;32m    137\u001b[0m \u001b[0mcoef\u001b[0m \u001b[0;34m=\u001b[0m \u001b[0mcalc_corr_coef\u001b[0m\u001b[0;34m(\u001b[0m\u001b[0mmath_score_np\u001b[0m\u001b[0;34m,\u001b[0m \u001b[0mwriting_score_np\u001b[0m\u001b[0;34m)\u001b[0m\u001b[0;34m\u001b[0m\u001b[0;34m\u001b[0m\u001b[0m\n\u001b[1;32m    138\u001b[0m \u001b[0mprint\u001b[0m \u001b[0;34m(\u001b[0m\u001b[0;34m'Correlation Coefficient for maths and writing: '\u001b[0m\u001b[0;34m,\u001b[0m \u001b[0mcoef\u001b[0m\u001b[0;34m[\u001b[0m\u001b[0;36m0\u001b[0m\u001b[0;34m]\u001b[0m\u001b[0;34m[\u001b[0m\u001b[0;36m1\u001b[0m\u001b[0;34m]\u001b[0m\u001b[0;34m)\u001b[0m\u001b[0;34m\u001b[0m\u001b[0;34m\u001b[0m\u001b[0m\n",
            "\u001b[0;32m/usr/local/lib/python3.7/dist-packages/pandas/core/base.py\u001b[0m in \u001b[0;36mto_numpy\u001b[0;34m(self, dtype, copy, na_value, **kwargs)\u001b[0m\n\u001b[1;32m    525\u001b[0m         \u001b[0;31m# None, type, _SupportsDType, str, Union[Tuple[Any, int], Tuple[Any, Union[int,\u001b[0m\u001b[0;34m\u001b[0m\u001b[0;34m\u001b[0m\u001b[0;34m\u001b[0m\u001b[0m\n\u001b[1;32m    526\u001b[0m         \u001b[0;31m# Sequence[int]]], List[Any], _DTypeDict, Tuple[Any, Any]]]\"\u001b[0m\u001b[0;34m\u001b[0m\u001b[0;34m\u001b[0m\u001b[0;34m\u001b[0m\u001b[0m\n\u001b[0;32m--> 527\u001b[0;31m         \u001b[0mresult\u001b[0m \u001b[0;34m=\u001b[0m \u001b[0mnp\u001b[0m\u001b[0;34m.\u001b[0m\u001b[0masarray\u001b[0m\u001b[0;34m(\u001b[0m\u001b[0mself\u001b[0m\u001b[0;34m.\u001b[0m\u001b[0m_values\u001b[0m\u001b[0;34m,\u001b[0m \u001b[0mdtype\u001b[0m\u001b[0;34m=\u001b[0m\u001b[0mdtype\u001b[0m\u001b[0;34m)\u001b[0m  \u001b[0;31m# type: ignore[arg-type]\u001b[0m\u001b[0;34m\u001b[0m\u001b[0;34m\u001b[0m\u001b[0m\n\u001b[0m\u001b[1;32m    528\u001b[0m         \u001b[0;31m# TODO(GH-24345): Avoid potential double copy\u001b[0m\u001b[0;34m\u001b[0m\u001b[0;34m\u001b[0m\u001b[0;34m\u001b[0m\u001b[0m\n\u001b[1;32m    529\u001b[0m         \u001b[0;32mif\u001b[0m \u001b[0mcopy\u001b[0m \u001b[0;32mor\u001b[0m \u001b[0mna_value\u001b[0m \u001b[0;32mis\u001b[0m \u001b[0;32mnot\u001b[0m \u001b[0mlib\u001b[0m\u001b[0;34m.\u001b[0m\u001b[0mno_default\u001b[0m\u001b[0;34m:\u001b[0m\u001b[0;34m\u001b[0m\u001b[0;34m\u001b[0m\u001b[0m\n",
            "\u001b[0;31mValueError\u001b[0m: invalid literal for int() with base 10: 'free/reduced'"
          ]
        }
      ]
    },
    {
      "cell_type": "markdown",
      "source": [
        "### Helpful references\n",
        "---\n",
        "\n",
        "Filtering on criteria using df references:  \n",
        "`filtered_df = df[df['column name' == value]]`  \n",
        "\n",
        "Filtering on multiple criteria using df reference:  \n",
        "`filtered_df = df[df['first column name' == value] & df[second column name] >= value]`\n",
        "\n",
        "Numpy help sheet:  http://datacamp-community-prod.s3.amazonaws.com/da466534-51fe-4c6d-b0cb-154f4782eb54\n",
        "\n"
      ],
      "metadata": {
        "id": "hkj-Ofus_D6_"
      }
    },
    {
      "cell_type": "markdown",
      "source": [
        "\n",
        "---\n",
        "\n",
        "# **What did I have difficulties with:**\n",
        "I had a problem when adding the numpy array I created as a new column in the dataframe and got the following error:\n",
        "\n",
        "```\n",
        "ValueError: Length of values (1) does not match length of index (1000)\n",
        "```\n",
        "\n",
        "Turns out the problem occurred as a result of my code that created the single numpy array from the 3 separate ones. My original code was as follows:\n",
        "\n",
        "\n",
        "```\n",
        "arr = np.array([[math_score_np], \n",
        "               [reading_score_np],\n",
        "                [writing_score_np]])\n",
        "\n",
        "```\n",
        "Basically had too many square brackets. I didn't need the brackets round each numpy array. By removing these and just leaving square brackets around the entire list as follows corrected the error when adding the numpy array as a new column on original dataframe:\n",
        "\n",
        "```\n",
        "arr = np.array([math_score_np, \n",
        "          reading_score_np,\n",
        "          writing_score_np])e\n",
        "```\n",
        "The syntax for the example code for filtering is incorrect\n",
        "The example given is:\n",
        "```\n",
        "filtered_df = df[df['column name' == value]]\n",
        "\n",
        "```\n",
        "But this didn't work when used in my code:\n",
        "\n",
        "```\n",
        "filtered_df = df[df['gender' == 'female']]\n",
        "```\n",
        "I had to change it to the following to work:\n",
        "\n",
        "```\n",
        "filtered_df = df[df['gender'] == 'female'] \n",
        "```\n",
        "\n",
        "\n",
        "\n",
        "\n",
        "\n",
        "---\n",
        "\n"
      ],
      "metadata": {
        "id": "PNVHMkp5WEPx"
      }
    }
  ]
}