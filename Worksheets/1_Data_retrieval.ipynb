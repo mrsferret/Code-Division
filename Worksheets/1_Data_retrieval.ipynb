{
  "nbformat": 4,
  "nbformat_minor": 0,
  "metadata": {
    "colab": {
      "name": "1. Data_retrieval.ipynb",
      "provenance": [],
      "collapsed_sections": [],
      "include_colab_link": true
    },
    "kernelspec": {
      "display_name": "Python 3",
      "name": "python3"
    },
    "language_info": {
      "name": "python"
    }
  },
  "cells": [
    {
      "cell_type": "markdown",
      "metadata": {
        "id": "view-in-github",
        "colab_type": "text"
      },
      "source": [
        "<a href=\"https://colab.research.google.com/github/mrsferret/Code-Division/blob/main/Worksheets/1_Data_retrieval.ipynb\" target=\"_parent\"><img src=\"https://colab.research.google.com/assets/colab-badge.svg\" alt=\"Open In Colab\"/></a>"
      ]
    },
    {
      "cell_type": "markdown",
      "metadata": {
        "id": "socyySfaK8_B"
      },
      "source": [
        "# Data retrieval\n",
        "---\n",
        "\n",
        "Examples of data being retrieved from a range of sources\n"
      ]
    },
    {
      "cell_type": "markdown",
      "metadata": {
        "id": "a_ewU932LIO-"
      },
      "source": [
        "## From a web page\n",
        "---\n",
        "\n",
        "The code below reads all the data tables from the Wikipedia page on Glasgow.  The 8th table on the page shows population data over a period of centuries.\n",
        "\n",
        "The code reads the data from the page into a list of datatables.  The index [7] is used to access the 8th table in the list.  Change the index to see other data tables.  Use len(datatables) to find out how many tables are in the list."
      ]
    },
    {
      "cell_type": "code",
      "metadata": {
        "id": "uAV9q4J3t-zy",
        "colab": {
          "base_uri": "https://localhost:8080/",
          "height": 318
        },
        "outputId": "a42d7cf4-b928-4553-d05a-f5080f8e09c6"
      },
      "source": [
        "import pandas as pd\n",
        "\n",
        "def get_data():\n",
        "  datatables = pd.read_html('https://en.wikipedia.org/wiki/Glasgow#Climate')\n",
        "  #  change the line below to look at other tables, add the line print(len(datatables)) to see how many tables there are\n",
        "  print(len(datatables))\n",
        "  df = datatables[9]  #Glasgow population data\n",
        "  return df\n",
        "\n",
        "\n",
        "\n",
        "# run and test the get_data() function, test visually - does it match the data on the web page\n",
        "get_data()"
      ],
      "execution_count": 8,
      "outputs": [
        {
          "output_type": "stream",
          "name": "stdout",
          "text": [
            "24\n"
          ]
        },
        {
          "output_type": "execute_result",
          "data": {
            "text/html": [
              "\n",
              "  <div id=\"df-fda6af8e-ab1c-4bc6-b20e-f8b5d924df30\">\n",
              "    <div class=\"colab-df-container\">\n",
              "      <div>\n",
              "<style scoped>\n",
              "    .dataframe tbody tr th:only-of-type {\n",
              "        vertical-align: middle;\n",
              "    }\n",
              "\n",
              "    .dataframe tbody tr th {\n",
              "        vertical-align: top;\n",
              "    }\n",
              "\n",
              "    .dataframe thead th {\n",
              "        text-align: right;\n",
              "    }\n",
              "</style>\n",
              "<table border=\"1\" class=\"dataframe\">\n",
              "  <thead>\n",
              "    <tr style=\"text-align: right;\">\n",
              "      <th></th>\n",
              "      <th>Glasgow compared[78][79]</th>\n",
              "      <th>Glasgow compared[78][79].1</th>\n",
              "      <th>Glasgow compared[78][79].2</th>\n",
              "      <th>Glasgow compared[78][79].3</th>\n",
              "    </tr>\n",
              "  </thead>\n",
              "  <tbody>\n",
              "    <tr>\n",
              "      <th>0</th>\n",
              "      <td>UK Census 2011</td>\n",
              "      <td>Glasgow</td>\n",
              "      <td>Scotland</td>\n",
              "      <td>NaN</td>\n",
              "    </tr>\n",
              "    <tr>\n",
              "      <th>1</th>\n",
              "      <td>Total population</td>\n",
              "      <td>599650</td>\n",
              "      <td>5295000</td>\n",
              "      <td>NaN</td>\n",
              "    </tr>\n",
              "    <tr>\n",
              "      <th>2</th>\n",
              "      <td>Population growth 2001–2011</td>\n",
              "      <td>2.7%</td>\n",
              "      <td>5.0%</td>\n",
              "      <td>NaN</td>\n",
              "    </tr>\n",
              "    <tr>\n",
              "      <th>3</th>\n",
              "      <td>White</td>\n",
              "      <td>88.4%</td>\n",
              "      <td>96.0%</td>\n",
              "      <td>NaN</td>\n",
              "    </tr>\n",
              "    <tr>\n",
              "      <th>4</th>\n",
              "      <td>Asian</td>\n",
              "      <td>8.1%</td>\n",
              "      <td>2.7%</td>\n",
              "      <td>NaN</td>\n",
              "    </tr>\n",
              "    <tr>\n",
              "      <th>5</th>\n",
              "      <td>Black</td>\n",
              "      <td>2.4%</td>\n",
              "      <td>0.8%</td>\n",
              "      <td>NaN</td>\n",
              "    </tr>\n",
              "    <tr>\n",
              "      <th>6</th>\n",
              "      <td>Christian</td>\n",
              "      <td>54.5%</td>\n",
              "      <td>54.0%</td>\n",
              "      <td>NaN</td>\n",
              "    </tr>\n",
              "    <tr>\n",
              "      <th>7</th>\n",
              "      <td>Muslim</td>\n",
              "      <td>5.4%</td>\n",
              "      <td>1.4%</td>\n",
              "      <td>NaN</td>\n",
              "    </tr>\n",
              "  </tbody>\n",
              "</table>\n",
              "</div>\n",
              "      <button class=\"colab-df-convert\" onclick=\"convertToInteractive('df-fda6af8e-ab1c-4bc6-b20e-f8b5d924df30')\"\n",
              "              title=\"Convert this dataframe to an interactive table.\"\n",
              "              style=\"display:none;\">\n",
              "        \n",
              "  <svg xmlns=\"http://www.w3.org/2000/svg\" height=\"24px\"viewBox=\"0 0 24 24\"\n",
              "       width=\"24px\">\n",
              "    <path d=\"M0 0h24v24H0V0z\" fill=\"none\"/>\n",
              "    <path d=\"M18.56 5.44l.94 2.06.94-2.06 2.06-.94-2.06-.94-.94-2.06-.94 2.06-2.06.94zm-11 1L8.5 8.5l.94-2.06 2.06-.94-2.06-.94L8.5 2.5l-.94 2.06-2.06.94zm10 10l.94 2.06.94-2.06 2.06-.94-2.06-.94-.94-2.06-.94 2.06-2.06.94z\"/><path d=\"M17.41 7.96l-1.37-1.37c-.4-.4-.92-.59-1.43-.59-.52 0-1.04.2-1.43.59L10.3 9.45l-7.72 7.72c-.78.78-.78 2.05 0 2.83L4 21.41c.39.39.9.59 1.41.59.51 0 1.02-.2 1.41-.59l7.78-7.78 2.81-2.81c.8-.78.8-2.07 0-2.86zM5.41 20L4 18.59l7.72-7.72 1.47 1.35L5.41 20z\"/>\n",
              "  </svg>\n",
              "      </button>\n",
              "      \n",
              "  <style>\n",
              "    .colab-df-container {\n",
              "      display:flex;\n",
              "      flex-wrap:wrap;\n",
              "      gap: 12px;\n",
              "    }\n",
              "\n",
              "    .colab-df-convert {\n",
              "      background-color: #E8F0FE;\n",
              "      border: none;\n",
              "      border-radius: 50%;\n",
              "      cursor: pointer;\n",
              "      display: none;\n",
              "      fill: #1967D2;\n",
              "      height: 32px;\n",
              "      padding: 0 0 0 0;\n",
              "      width: 32px;\n",
              "    }\n",
              "\n",
              "    .colab-df-convert:hover {\n",
              "      background-color: #E2EBFA;\n",
              "      box-shadow: 0px 1px 2px rgba(60, 64, 67, 0.3), 0px 1px 3px 1px rgba(60, 64, 67, 0.15);\n",
              "      fill: #174EA6;\n",
              "    }\n",
              "\n",
              "    [theme=dark] .colab-df-convert {\n",
              "      background-color: #3B4455;\n",
              "      fill: #D2E3FC;\n",
              "    }\n",
              "\n",
              "    [theme=dark] .colab-df-convert:hover {\n",
              "      background-color: #434B5C;\n",
              "      box-shadow: 0px 1px 3px 1px rgba(0, 0, 0, 0.15);\n",
              "      filter: drop-shadow(0px 1px 2px rgba(0, 0, 0, 0.3));\n",
              "      fill: #FFFFFF;\n",
              "    }\n",
              "  </style>\n",
              "\n",
              "      <script>\n",
              "        const buttonEl =\n",
              "          document.querySelector('#df-fda6af8e-ab1c-4bc6-b20e-f8b5d924df30 button.colab-df-convert');\n",
              "        buttonEl.style.display =\n",
              "          google.colab.kernel.accessAllowed ? 'block' : 'none';\n",
              "\n",
              "        async function convertToInteractive(key) {\n",
              "          const element = document.querySelector('#df-fda6af8e-ab1c-4bc6-b20e-f8b5d924df30');\n",
              "          const dataTable =\n",
              "            await google.colab.kernel.invokeFunction('convertToInteractive',\n",
              "                                                     [key], {});\n",
              "          if (!dataTable) return;\n",
              "\n",
              "          const docLinkHtml = 'Like what you see? Visit the ' +\n",
              "            '<a target=\"_blank\" href=https://colab.research.google.com/notebooks/data_table.ipynb>data table notebook</a>'\n",
              "            + ' to learn more about interactive tables.';\n",
              "          element.innerHTML = '';\n",
              "          dataTable['output_type'] = 'display_data';\n",
              "          await google.colab.output.renderOutput(dataTable, element);\n",
              "          const docLink = document.createElement('div');\n",
              "          docLink.innerHTML = docLinkHtml;\n",
              "          element.appendChild(docLink);\n",
              "        }\n",
              "      </script>\n",
              "    </div>\n",
              "  </div>\n",
              "  "
            ],
            "text/plain": [
              "      Glasgow compared[78][79]  ... Glasgow compared[78][79].3\n",
              "0               UK Census 2011  ...                        NaN\n",
              "1             Total population  ...                        NaN\n",
              "2  Population growth 2001–2011  ...                        NaN\n",
              "3                        White  ...                        NaN\n",
              "4                        Asian  ...                        NaN\n",
              "5                        Black  ...                        NaN\n",
              "6                    Christian  ...                        NaN\n",
              "7                       Muslim  ...                        NaN\n",
              "\n",
              "[8 rows x 4 columns]"
            ]
          },
          "metadata": {},
          "execution_count": 8
        }
      ]
    },
    {
      "cell_type": "markdown",
      "metadata": {
        "id": "hBzjrbk8evK7"
      },
      "source": [
        "## From a local file\n",
        "---\n",
        "\n",
        "You can upload from a local file using the code below.  uploaded = file.upload() will open a file chooser and you can choose the data file from there.  After that, just use the file name to read from it.  \n",
        "\n",
        "The file exists while the notebook is running, so should only be uploaded once.  If you need to access again, cancel the upload.\n",
        "\n",
        "For this exercise you will need a copy of an Excel file.  To get a copy of this file \"public_use-talent-migration.xlsx\" go to this page: https://github.com/futureCodersSE/working-with-data/blob/main/Data%20sets/public_use-talent-migration.xlsx and click on the Download button.  You will now have a copy in your Downloads folder.\n"
      ]
    },
    {
      "cell_type": "code",
      "metadata": {
        "colab": {
          "base_uri": "https://localhost:8080/",
          "height": 366
        },
        "id": "w29Lrv_je0nj",
        "outputId": "f7cb2960-7165-4e36-f72e-3347857e115a"
      },
      "source": [
        "import pandas as pd\n",
        "from google.colab import files\n",
        "import io\n",
        "\n",
        "def get_data():\n",
        "  # upload a set of chosen files then read a specified file\n",
        "  uploaded = files.upload()\n",
        "  df = pd.read_excel(uploaded['public_use-talent-migration.xlsx'],sheet_name=\"Industry Migration\")\n",
        "  return df\n",
        "\n",
        "\n",
        "\n",
        "# run and test the get_data() function, test visually - does it match the data on the web page\n",
        "get_data()"
      ],
      "execution_count": 12,
      "outputs": [
        {
          "output_type": "display_data",
          "data": {
            "text/html": [
              "\n",
              "     <input type=\"file\" id=\"files-8c86c445-5aee-473a-8d2f-1ce957c5d331\" name=\"files[]\" multiple disabled\n",
              "        style=\"border:none\" />\n",
              "     <output id=\"result-8c86c445-5aee-473a-8d2f-1ce957c5d331\">\n",
              "      Upload widget is only available when the cell has been executed in the\n",
              "      current browser session. Please rerun this cell to enable.\n",
              "      </output>\n",
              "      <script src=\"/nbextensions/google.colab/files.js\"></script> "
            ],
            "text/plain": [
              "<IPython.core.display.HTML object>"
            ]
          },
          "metadata": {}
        },
        {
          "output_type": "error",
          "ename": "MessageError",
          "evalue": "ignored",
          "traceback": [
            "\u001b[0;31m---------------------------------------------------------------------------\u001b[0m",
            "\u001b[0;31mMessageError\u001b[0m                              Traceback (most recent call last)",
            "\u001b[0;32m<ipython-input-12-5639db53f2c4>\u001b[0m in \u001b[0;36m<module>\u001b[0;34m()\u001b[0m\n\u001b[1;32m     12\u001b[0m \u001b[0;34m\u001b[0m\u001b[0m\n\u001b[1;32m     13\u001b[0m \u001b[0;31m# run and test the get_data() function, test visually - does it match the data on the web page\u001b[0m\u001b[0;34m\u001b[0m\u001b[0;34m\u001b[0m\u001b[0;34m\u001b[0m\u001b[0m\n\u001b[0;32m---> 14\u001b[0;31m \u001b[0mget_data\u001b[0m\u001b[0;34m(\u001b[0m\u001b[0;34m)\u001b[0m\u001b[0;34m\u001b[0m\u001b[0;34m\u001b[0m\u001b[0m\n\u001b[0m",
            "\u001b[0;32m<ipython-input-12-5639db53f2c4>\u001b[0m in \u001b[0;36mget_data\u001b[0;34m()\u001b[0m\n\u001b[1;32m      5\u001b[0m \u001b[0;32mdef\u001b[0m \u001b[0mget_data\u001b[0m\u001b[0;34m(\u001b[0m\u001b[0;34m)\u001b[0m\u001b[0;34m:\u001b[0m\u001b[0;34m\u001b[0m\u001b[0;34m\u001b[0m\u001b[0m\n\u001b[1;32m      6\u001b[0m   \u001b[0;31m# upload a set of chosen files then read a specified file\u001b[0m\u001b[0;34m\u001b[0m\u001b[0;34m\u001b[0m\u001b[0;34m\u001b[0m\u001b[0m\n\u001b[0;32m----> 7\u001b[0;31m   \u001b[0muploaded\u001b[0m \u001b[0;34m=\u001b[0m \u001b[0mfiles\u001b[0m\u001b[0;34m.\u001b[0m\u001b[0mupload\u001b[0m\u001b[0;34m(\u001b[0m\u001b[0;34m)\u001b[0m\u001b[0;34m\u001b[0m\u001b[0;34m\u001b[0m\u001b[0m\n\u001b[0m\u001b[1;32m      8\u001b[0m   \u001b[0mdf\u001b[0m \u001b[0;34m=\u001b[0m \u001b[0mpd\u001b[0m\u001b[0;34m.\u001b[0m\u001b[0mread_excel\u001b[0m\u001b[0;34m(\u001b[0m\u001b[0muploaded\u001b[0m\u001b[0;34m[\u001b[0m\u001b[0;34m'public_use-talent-migration.xlsx'\u001b[0m\u001b[0;34m]\u001b[0m\u001b[0;34m,\u001b[0m\u001b[0msheet_name\u001b[0m\u001b[0;34m=\u001b[0m\u001b[0;34m\"Industry Migration\"\u001b[0m\u001b[0;34m)\u001b[0m\u001b[0;34m\u001b[0m\u001b[0;34m\u001b[0m\u001b[0m\n\u001b[1;32m      9\u001b[0m   \u001b[0;32mreturn\u001b[0m \u001b[0mdf\u001b[0m\u001b[0;34m\u001b[0m\u001b[0;34m\u001b[0m\u001b[0m\n",
            "\u001b[0;32m/usr/local/lib/python3.7/dist-packages/google/colab/files.py\u001b[0m in \u001b[0;36mupload\u001b[0;34m()\u001b[0m\n\u001b[1;32m     61\u001b[0m   result = _output.eval_js(\n\u001b[1;32m     62\u001b[0m       'google.colab._files._uploadFiles(\"{input_id}\", \"{output_id}\")'.format(\n\u001b[0;32m---> 63\u001b[0;31m           input_id=input_id, output_id=output_id))\n\u001b[0m\u001b[1;32m     64\u001b[0m   \u001b[0mfiles\u001b[0m \u001b[0;34m=\u001b[0m \u001b[0m_collections\u001b[0m\u001b[0;34m.\u001b[0m\u001b[0mdefaultdict\u001b[0m\u001b[0;34m(\u001b[0m\u001b[0m_six\u001b[0m\u001b[0;34m.\u001b[0m\u001b[0mbinary_type\u001b[0m\u001b[0;34m)\u001b[0m\u001b[0;34m\u001b[0m\u001b[0;34m\u001b[0m\u001b[0m\n\u001b[1;32m     65\u001b[0m   \u001b[0;31m# Mapping from original filename to filename as saved locally.\u001b[0m\u001b[0;34m\u001b[0m\u001b[0;34m\u001b[0m\u001b[0;34m\u001b[0m\u001b[0m\n",
            "\u001b[0;32m/usr/local/lib/python3.7/dist-packages/google/colab/output/_js.py\u001b[0m in \u001b[0;36meval_js\u001b[0;34m(script, ignore_result, timeout_sec)\u001b[0m\n\u001b[1;32m     38\u001b[0m   \u001b[0;32mif\u001b[0m \u001b[0mignore_result\u001b[0m\u001b[0;34m:\u001b[0m\u001b[0;34m\u001b[0m\u001b[0;34m\u001b[0m\u001b[0m\n\u001b[1;32m     39\u001b[0m     \u001b[0;32mreturn\u001b[0m\u001b[0;34m\u001b[0m\u001b[0;34m\u001b[0m\u001b[0m\n\u001b[0;32m---> 40\u001b[0;31m   \u001b[0;32mreturn\u001b[0m \u001b[0m_message\u001b[0m\u001b[0;34m.\u001b[0m\u001b[0mread_reply_from_input\u001b[0m\u001b[0;34m(\u001b[0m\u001b[0mrequest_id\u001b[0m\u001b[0;34m,\u001b[0m \u001b[0mtimeout_sec\u001b[0m\u001b[0;34m)\u001b[0m\u001b[0;34m\u001b[0m\u001b[0;34m\u001b[0m\u001b[0m\n\u001b[0m\u001b[1;32m     41\u001b[0m \u001b[0;34m\u001b[0m\u001b[0m\n\u001b[1;32m     42\u001b[0m \u001b[0;34m\u001b[0m\u001b[0m\n",
            "\u001b[0;32m/usr/local/lib/python3.7/dist-packages/google/colab/_message.py\u001b[0m in \u001b[0;36mread_reply_from_input\u001b[0;34m(message_id, timeout_sec)\u001b[0m\n\u001b[1;32m    104\u001b[0m         reply.get('colab_msg_id') == message_id):\n\u001b[1;32m    105\u001b[0m       \u001b[0;32mif\u001b[0m \u001b[0;34m'error'\u001b[0m \u001b[0;32min\u001b[0m \u001b[0mreply\u001b[0m\u001b[0;34m:\u001b[0m\u001b[0;34m\u001b[0m\u001b[0;34m\u001b[0m\u001b[0m\n\u001b[0;32m--> 106\u001b[0;31m         \u001b[0;32mraise\u001b[0m \u001b[0mMessageError\u001b[0m\u001b[0;34m(\u001b[0m\u001b[0mreply\u001b[0m\u001b[0;34m[\u001b[0m\u001b[0;34m'error'\u001b[0m\u001b[0;34m]\u001b[0m\u001b[0;34m)\u001b[0m\u001b[0;34m\u001b[0m\u001b[0;34m\u001b[0m\u001b[0m\n\u001b[0m\u001b[1;32m    107\u001b[0m       \u001b[0;32mreturn\u001b[0m \u001b[0mreply\u001b[0m\u001b[0;34m.\u001b[0m\u001b[0mget\u001b[0m\u001b[0;34m(\u001b[0m\u001b[0;34m'data'\u001b[0m\u001b[0;34m,\u001b[0m \u001b[0;32mNone\u001b[0m\u001b[0;34m)\u001b[0m\u001b[0;34m\u001b[0m\u001b[0;34m\u001b[0m\u001b[0m\n\u001b[1;32m    108\u001b[0m \u001b[0;34m\u001b[0m\u001b[0m\n",
            "\u001b[0;31mMessageError\u001b[0m: TypeError: Cannot read properties of undefined (reading '_uploadFiles')"
          ]
        }
      ]
    },
    {
      "cell_type": "markdown",
      "metadata": {
        "id": "I9m4HHb3Loxe"
      },
      "source": [
        "## From a csv file hosted on Github.com\n",
        "---\n",
        "\n",
        "The code below reads the data table stored in a Comma Separated Values file (this is a text file containing rows of data with each column within the row separated from the next column by a comma).  \n",
        "\n",
        "If you were using Jupyter Notebooks on your device, the url could be replaced with the path to the CSV file."
      ]
    },
    {
      "cell_type": "code",
      "metadata": {
        "id": "4mVk6FwZ-XZu"
      },
      "source": [
        "import pandas as pd\n",
        "url = \"https://raw.githubusercontent.com/futureCodersSE/working-with-data/main/Data%20sets/Paisley-Weather-Data.csv\"\n",
        "df = pd.read_csv(url)\n",
        "df"
      ],
      "execution_count": null,
      "outputs": []
    },
    {
      "cell_type": "markdown",
      "metadata": {
        "id": "uVBfyjCQMVvA"
      },
      "source": [
        "## From an Excel file hosted on Github.com\n",
        "---\n",
        "\n",
        "The code below reads the data table from a sheet in an Excel file.  If you don't specify a sheet then it will assume that you want to read the data from the first sheet in the Excel workbook (sheet_name = 0).  If you don't know the sheet name but know it is the second sheet, you can use sheet_name = 1, or 2 for the third sheet, etc.\n",
        "\n",
        "If you were using Jupyter Notebooks on your device, the url could be replace with the path to the Excel file."
      ]
    },
    {
      "cell_type": "code",
      "metadata": {
        "id": "Att2-4UtBAhW"
      },
      "source": [
        "import pandas as pd\n",
        "url = \"https://github.com/futureCodersSE/working-with-data/blob/main/Data%20sets/public_use-talent-migration.xlsx?raw=true\"\n",
        "df = pd.read_excel(url,sheet_name=\"Industry Migration\")\n",
        "df"
      ],
      "execution_count": null,
      "outputs": []
    },
    {
      "cell_type": "markdown",
      "metadata": {
        "id": "3NQA3HFJOT8X"
      },
      "source": [
        "## From an API which delivers the data in JSON format\n",
        "---\n",
        "\n",
        "The code below requests the data from the url.  This is a bit more tricky than the other ways to get the data as how you access the data will depend on how it is organised.\n",
        "\n",
        "In this example, the data is returned as a dictionary, which will have the key 'data' against which the actual data is stored.  In the example, the data has been taken from the 'data' key/value pair and is stored in json_data. \n",
        "\n",
        "Again, in this example, the json_data is a list of json_objects but it only has one object in the list.  Try adding the line `print(json_data)` to see this.  \n",
        "\n",
        "data_table is the first object in the json_data list.  Try adding the line `print(data_table)` to see this.\n",
        "\n",
        "In this example, the data table object has three keys, 'to', 'from' and 'regions'.  The 'regions' value is the data we want to use in our dataframe, so we normalize this json data into a pandas dataframe (df), which you can see as the output.  \n",
        "\n",
        "Each API is likely to deliver its data in a different format and so you will need to be happy to read the documentation and to inspect the data to see what keys and indexes you need to access.\n",
        "\n",
        "For information on the format of the data, see https://carbon-intensity.github.io/api-definitions/#regional"
      ]
    },
    {
      "cell_type": "code",
      "metadata": {
        "id": "7uEDgTjJFYiZ"
      },
      "source": [
        "import pandas as pd\n",
        "import requests\n",
        "\n",
        "url = \"https://api.carbonintensity.org.uk/regional\"\n",
        "json_data = requests.get(url).json()['data']\n",
        "data_table = json_data[0]\n",
        "df = pd.json_normalize(data_table['regions'])\n",
        "df\n"
      ],
      "execution_count": null,
      "outputs": []
    },
    {
      "cell_type": "markdown",
      "metadata": {
        "id": "_ow6HQWqIsh0"
      },
      "source": [
        "### Exercise - upload a file from your local drive\n",
        "\n",
        "Visit the Kent and Medway Air Quality site: https://kentair.org.uk/\n",
        "\n",
        "Collect a data file containing data on Ozone levels in Dover:\n",
        "\n",
        "Open the site\n",
        "Go to the Data page  \n",
        "Launch the data selector tool  \n",
        "Select:\n",
        "*  Automatic monitoring data\n",
        "*  Measurement data and simple statistics\n",
        "*  Ozone\n",
        "*  Daily mean\n",
        "*  This month\n",
        "*  Thurrock\n",
        "*  Thurrock\n",
        "\n",
        "Click on Download CSV\n",
        "\n",
        "This should be downloaded into your Downloads folder.\n",
        "\n",
        "NOW\n",
        "\n",
        "Write a function that will allow you to upload the file and then read its contents into a dataframe.\n",
        "\n",
        "To read an uploaded CSV file (which will be in bytes format) use:\n",
        "\n",
        "```\n",
        "df = pd.read_csv(io.BytesIO(uploaded['your filename']))\n",
        "```\n",
        "\n",
        "\n",
        "Display the dataframe and compare the contents with the output on the site you took the data from.\n",
        "\n",
        "\n",
        "\n"
      ]
    },
    {
      "cell_type": "code",
      "metadata": {
        "id": "KxCrBhaWKsku"
      },
      "source": [
        "import pandas as pd\n",
        "from google.colab import files\n",
        "import io\n",
        "\n",
        "def get_data():\n",
        "  # upload a set of chosen files then read a specified file\n",
        "  !rm NO2-daily-mean-2014-2021-Swale-Newington.csv\n",
        "  uploaded = files.upload()\n",
        "  df = pd.read_csv(io.BytesIO(uploaded['NO2-daily-mean-2014-2021-Swale-Newington.csv']))\n",
        "  return df\n",
        "\n",
        "get_data()"
      ],
      "execution_count": null,
      "outputs": []
    },
    {
      "cell_type": "markdown",
      "source": [
        "# ACTIVITIES\n",
        "\n",
        "RUN ALL THE CODE CELLS ABOVE TO SEE WHAT THEY DO AND WHAT DATA THEY GET FOR YOU.\n",
        "\n",
        "Now have a go at opening a few data sets yourself.\n",
        "\n",
        "### Exercise 1\n",
        "---\n",
        "\n",
        "*  Open the datasets list: [here](https://docs.google.com/document/d/1cijDOCDixsYu-Rr9pC8STPPXado3xoFpgBAZgdDTLHs/edit?usp=sharing)  \n",
        "\n",
        "*  Find a dataset that is a CSV file, copy the code above (for online CSV) into the code cell below\n",
        "\n",
        "*  Run the code to open the data.\n",
        "\n"
      ],
      "metadata": {
        "id": "Tm1GBCJMXOXz"
      }
    },
    {
      "cell_type": "code",
      "source": [
        ""
      ],
      "metadata": {
        "id": "sRoQo_rKZEJK"
      },
      "execution_count": null,
      "outputs": []
    },
    {
      "cell_type": "markdown",
      "source": [
        "### Exercise 2\n",
        "---\n",
        "Open the datasets list: [here](https://docs.google.com/document/d/1cijDOCDixsYu-Rr9pC8STPPXado3xoFpgBAZgdDTLHs/edit?usp=sharing)  \n",
        "\n",
        "* Find a dataset that is an Excel file\n",
        "* Copy the code above (for Excel files on Github) into the code cell below\n",
        "* Change the line\n",
        "```\n",
        "df = pd.read_excel(url,sheet_name=\"Industry Migration\") \n",
        "```\n",
        "to \n",
        "```\n",
        "df = pd.read_excel(url)\n",
        "```\n",
        "This will then open the first sheet in the Excel file, rather than a named sheet.\n",
        "\n",
        "* Run the code to open the data."
      ],
      "metadata": {
        "id": "iL8MgXxSZEuY"
      }
    },
    {
      "cell_type": "code",
      "source": [
        ""
      ],
      "metadata": {
        "id": "SgPuXv4caFbB"
      },
      "execution_count": null,
      "outputs": []
    },
    {
      "cell_type": "markdown",
      "source": [
        "### Exercise 3\n",
        "---\n",
        "*  Copy the code from the API delivered in JSON format\n",
        "*  Change the URL to add /england to the end of it\n",
        "*  Run the code to see the data for England only\n",
        "*  Change it again to show data for Scotland, (/scotland)\n",
        "*  Change it again to show data for Wales"
      ],
      "metadata": {
        "id": "kn-okYP4aqo8"
      }
    },
    {
      "cell_type": "code",
      "source": [
        ""
      ],
      "metadata": {
        "id": "IT-OLNOgbL0S"
      },
      "execution_count": null,
      "outputs": []
    }
  ]
}