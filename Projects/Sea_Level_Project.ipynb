{
  "nbformat": 4,
  "nbformat_minor": 0,
  "metadata": {
    "colab": {
      "name": "Sea-Level-Project.ipynb",
      "provenance": [],
      "include_colab_link": true
    },
    "kernelspec": {
      "name": "python3",
      "display_name": "Python 3"
    },
    "language_info": {
      "name": "python"
    }
  },
  "cells": [
    {
      "cell_type": "markdown",
      "metadata": {
        "id": "view-in-github",
        "colab_type": "text"
      },
      "source": [
        "<a href=\"https://colab.research.google.com/github/mrsferret/Code-Division/blob/main/Projects/Sea_Level_Project.ipynb\" target=\"_parent\"><img src=\"https://colab.research.google.com/assets/colab-badge.svg\" alt=\"Open In Colab\"/></a>"
      ]
    },
    {
      "cell_type": "markdown",
      "source": [
        "# Using numpy to look for a correlation between time data and sea level rise\n",
        "---\n",
        "\n",
        "### Data Source\n",
        "Global Average Absolute Sea Level Change, 1880-2014 from the US Environmental Protection Agency using data from CSIRO, 2015; NOAA, 2015.\n",
        "https://datahub.io/core/sea-level-rise\n",
        "\n",
        "The data describes annual sea levels from 1880 to 2013.  Measures are adjusted using two standards: Commonwealth Scientific and Industrial Research Organisation(CSIRO) and National Oceanic and Atmospheric Administration (NOAA)  \n",
        "\n",
        "Raw Data file:  https://raw.githubusercontent.com/freeCodeCamp/boilerplate-sea-level-predictor/master/epa-sea-level.csv\n",
        "\n",
        "For this exercise:\n",
        "*  import the pandas library\n",
        "*  import the numpy library\n",
        "*  read the csv dataset containing data on sea-levels from the year 1880 to 2013 into a dataframe (df)\n",
        "*  use df.head() and df.info() to inspect the data and the column data types\n",
        "\n"
      ],
      "metadata": {
        "id": "jBYNdCdQ9_cu"
      }
    },
    {
      "cell_type": "code",
      "source": [
        "import pandas as pd\n",
        "import numpy as np\n",
        "\n",
        "def calc_sea_level_stats(df):\n",
        "\n",
        "  year_array, level_array = convert_to_numpy_array(df)\n",
        "  #============================================================================\n",
        "  # Create 2 numpy arrays from input df - one of Years and other of Sea Levels\n",
        "  #============================================================================\n",
        "  #year_array = df['Year'].to_numpy(np.int16)\n",
        "  #display(\"\\nYear Array: \", year_array)\n",
        "\n",
        "  #level_array = df['CSIRO_Adj_Sea_Level'].to_numpy()\n",
        "  #display(\"\\nLevel Array: \", level_array)\n",
        "\n",
        "  #============================================================================\n",
        "  # calculate the mean Sea Level change\n",
        "  #============================================================================\n",
        "  level_mean = np.mean(level_array)\n",
        "  print(\"\\nmean of level_array, axis = None : \", np.mean(level_array)) \n",
        "\n",
        "  #============================================================================\n",
        "  # calculate the standard deviation of the variation in Sea Levels\n",
        "  #============================================================================\n",
        "  level_std = np.std(level_array)\n",
        "  print(\"\\nstd of level_array, axis = None : \", np.std(level_array))\n",
        "  \n",
        "  #============================================================================\n",
        "  # retrieve and save the max sea level rise\n",
        "  #============================================================================\n",
        "  max_rise = np.max(level_array)\n",
        "  print(\"\\nmax_rise: \", max_rise)\n",
        "\n",
        "  #============================================================================\n",
        "  # retrieve and save the min sea level rise\n",
        "  #============================================================================\n",
        "  min_rise = np.min(level_array)\n",
        "  print(\"\\nmin_rise: \", min_rise)\n",
        "\n",
        "  #============================================================================\n",
        "  # find the index of element in level array with value = max_rise \n",
        "  # and use this to find corresponding year in Year array\n",
        "  #============================================================================\n",
        "  # find the index to the element with max sea level rise\n",
        "  arr_index = np.argmax(level_array)\n",
        "  print(\"\\narr_index: \", arr_index)\n",
        "\n",
        "  max_rise_year = year_array[arr_index]\n",
        "  print(\"\\nmax_rise_year: \", max_rise_year)\n",
        "\n",
        "  # retrieve and save the max sea level rise\n",
        "  max_rise = np.max(level_array)\n",
        "  print(\"\\nmax_rise: \", max_rise)\n",
        "\n",
        "  #============================================================================\n",
        "  # find the index of element in level array with value = min_rise \n",
        "  # and use this to find corresponding year in Year array\n",
        "  #============================================================================\n",
        "  # find the index to the element with max sea level rise\n",
        "\n",
        "  arr_index = np.argmin(level_array)\n",
        "  print(\"\\nmin arr_index: \", arr_index)\n",
        "\n",
        "  min_rise_year = year_array[arr_index]\n",
        "  print(\"\\nmin_rise_year: \", min_rise_year)\n",
        "  #===========================================================================\n",
        "  # Calculate the Pearson product-moment correlation coefficient \n",
        "  #===========================================================================\n",
        "  pearson_corr_ceof = np.corrcoef(year_array, level_array)\n",
        "  print(\"\\npearson_corr_ceof: \", pearson_corr_ceof)\n",
        "\n",
        "\n",
        "def convert_to_numpy_array(df):\n",
        "  #============================================================================\n",
        "  # Create 2 numpy arrays from input df - one of Years and other of Sea Levels\n",
        "  #============================================================================\n",
        "  year_array = df['Year'].to_numpy(np.int16)\n",
        "  #display(\"\\nYear Array: \", year_array)\n",
        "\n",
        "  level_array = df['CSIRO_Adj_Sea_Level'].to_numpy()\n",
        "  #display(\"\\nLevel Array: \", level_array)\n",
        "\n",
        "  return year_array, level_array\n",
        "\n",
        "#===============================================================================\n",
        "# Start Here\n",
        "#===============================================================================\n",
        "# read csv file into a dataframe\n",
        "url = 'https://raw.githubusercontent.com/freeCodeCamp/boilerplate-sea-level-predictor/master/epa-sea-level.csv'\n",
        "df = pd.read_csv(url)\n",
        "\n",
        "# Change the column names\n",
        "df.columns =['Year', 'CSIRO_Adj_Sea_Level', 'Lower_Err_Bound', 'Upper_Err_Bound', 'NOAA_Adj_Sea_Level']\n",
        "\n",
        "# get some info about the dataframe\n",
        "print (df.info())\n",
        "print (df.head())\n",
        "print (df.describe())\n",
        "\n",
        "# get expected values to check against\n",
        "max_df = (df[df.CSIRO_Adj_Sea_Level == df.CSIRO_Adj_Sea_Level.max()])\n",
        "expctd_max_sea_rise = max_df.CSIRO_Adj_Sea_Level\n",
        "expctd_max_sea_rise_yr = max_df.Year\n",
        "\n",
        "print (\"\\nmax sea rise: \", expctd_max_sea_rise)\n",
        "print (\"\\nmax sea rise year: \", expctd_max_sea_rise_yr)\n",
        "\n",
        "# Go and convert df to numpy arrays and calculate some stats \n",
        "calc_sea_level_stats(df)\n",
        "\n"
      ],
      "metadata": {
        "id": "r1XUCWHV_Cj9",
        "outputId": "c3d90003-7e7c-4785-b118-dd3597d9fef5",
        "colab": {
          "base_uri": "https://localhost:8080/"
        }
      },
      "execution_count": 15,
      "outputs": [
        {
          "output_type": "stream",
          "name": "stdout",
          "text": [
            "<class 'pandas.core.frame.DataFrame'>\n",
            "RangeIndex: 134 entries, 0 to 133\n",
            "Data columns (total 5 columns):\n",
            " #   Column               Non-Null Count  Dtype  \n",
            "---  ------               --------------  -----  \n",
            " 0   Year                 134 non-null    int64  \n",
            " 1   CSIRO_Adj_Sea_Level  134 non-null    float64\n",
            " 2   Lower_Err_Bound      134 non-null    float64\n",
            " 3   Upper_Err_Bound      134 non-null    float64\n",
            " 4   NOAA_Adj_Sea_Level   21 non-null     float64\n",
            "dtypes: float64(4), int64(1)\n",
            "memory usage: 5.4 KB\n",
            "None\n",
            "   Year  CSIRO_Adj_Sea_Level  Lower_Err_Bound  Upper_Err_Bound  \\\n",
            "0  1880             0.000000        -0.952756         0.952756   \n",
            "1  1881             0.220472        -0.732283         1.173228   \n",
            "2  1882            -0.440945        -1.346457         0.464567   \n",
            "3  1883            -0.232283        -1.129921         0.665354   \n",
            "4  1884             0.590551        -0.283465         1.464567   \n",
            "\n",
            "   NOAA_Adj_Sea_Level  \n",
            "0                 NaN  \n",
            "1                 NaN  \n",
            "2                 NaN  \n",
            "3                 NaN  \n",
            "4                 NaN  \n",
            "              Year  CSIRO_Adj_Sea_Level  Lower_Err_Bound  Upper_Err_Bound  \\\n",
            "count   134.000000           134.000000       134.000000       134.000000   \n",
            "mean   1946.500000             3.650341         3.204666         4.096016   \n",
            "std      38.826537             2.485692         2.663781         2.312581   \n",
            "min    1880.000000            -0.440945        -1.346457         0.464567   \n",
            "25%    1913.250000             1.632874         1.078740         2.240157   \n",
            "50%    1946.500000             3.312992         2.915354         3.710630   \n",
            "75%    1979.750000             5.587598         5.329724         5.845472   \n",
            "max    2013.000000             9.326772         8.992126         9.661417   \n",
            "\n",
            "       NOAA_Adj_Sea_Level  \n",
            "count           21.000000  \n",
            "mean             7.363746  \n",
            "std              0.691038  \n",
            "min              6.297493  \n",
            "25%              6.848690  \n",
            "50%              7.488353  \n",
            "75%              7.907365  \n",
            "max              8.546648  \n",
            "\n",
            "max sea rise:  132    9.326772\n",
            "Name: CSIRO_Adj_Sea_Level, dtype: float64\n",
            "\n",
            "max sea rise year:  132    2012\n",
            "Name: Year, dtype: int64\n",
            "\n",
            "mean of level_array, axis = None :  3.650340811880598\n",
            "\n",
            "std of level_array, axis = None :  2.476399631426498\n",
            "\n",
            "max_rise:  9.326771644\n",
            "\n",
            "min_rise:  -0.440944881\n",
            "\n",
            "arr_index:  132\n",
            "\n",
            "max_rise_year:  2012\n",
            "\n",
            "max_rise:  9.326771644\n",
            "\n",
            "min arr_index:  2\n",
            "\n",
            "min_rise_year:  1882\n",
            "\n",
            "pearson_corr_ceof:  [[1.         0.98475713]\n",
            " [0.98475713 1.        ]]\n"
          ]
        }
      ]
    },
    {
      "cell_type": "markdown",
      "source": [
        "\n",
        "\n",
        "---\n",
        "**Feedback Notes**\n",
        "\n",
        "\n",
        "---\n",
        "\n",
        "\n",
        "\n",
        "The Pearson product-moment correlation coefficient or the Pearson coefficient correlation r, determines the strength of the linear relationship between two variables (in this case sea level movement over the years). It assigns a value between -ve 1 and 1, where 0 is no correlation, 1 is total positive correlation, and -ve 1 is total negative correlation. Generally a correlation value of 0.7 between two variables would indicate that a significant and positive relationship exists between the two. With a positive correlation of 0.98. Obviously much more analysis would need to be done to verify this (or not) but such a +ve correlation is a strong indication that sea level is rising over time. "
      ],
      "metadata": {
        "id": "CVT-s2wjXohH"
      }
    },
    {
      "cell_type": "code",
      "source": [
        "import pandas as pd\n",
        "import numpy as np\n",
        "from scipy.stats import linregress\n",
        "import matplotlib.pyplot as plt\n",
        "\n",
        "def chart_sea_level_stats(year_array, level_array):\n",
        "  x = year_array\n",
        "  y = level_array\n",
        "  display(x)\n",
        "  display(y)\n",
        "\n",
        "  plt.scatter(x,y)\n",
        "  plt.xlabel('Year')\n",
        "  plt.ylabel('Sea Level Change')\n",
        "  plt.grid()\n",
        "  #plt.show()\n",
        "\n",
        "  regression = linregress(x,y)\n",
        "  slope = regression.slope\n",
        "  intercept = regression.intercept\n",
        "  plt.plot(x, slope*x + intercept)\n",
        "\n",
        "  plt.show()\n",
        "  \n",
        "  return\n",
        "\n",
        "#===============================================================================\n",
        "# Start Here\n",
        "#===============================================================================\n",
        "# read csv file into a dataframe\n",
        "url = 'https://raw.githubusercontent.com/freeCodeCamp/boilerplate-sea-level-predictor/master/epa-sea-level.csv'\n",
        "df = pd.read_csv(url)\n",
        "\n",
        "# Change the column names\n",
        "df.columns =['Year', 'CSIRO_Adj_Sea_Level', 'Lower_Err_Bound', 'Upper_Err_Bound', 'NOAA_Adj_Sea_Level']\n",
        "\n",
        "#============================================================================\n",
        "# Create 2 numpy arrays from input df - one of Years and other of Sea Levels\n",
        "#============================================================================\n",
        "year_array, level_array = convert_to_numpy_array(df)\n",
        "\n",
        "chart_sea_level_stats(year_array, level_array)\n",
        "\n",
        "\n",
        "\n",
        "\n",
        "\n",
        "\n",
        "\n",
        "\n"
      ],
      "metadata": {
        "id": "A-367cYTi9Om",
        "outputId": "a5b4b22d-9006-47a3-8082-da003fcb9515",
        "colab": {
          "base_uri": "https://localhost:8080/",
          "height": 973
        }
      },
      "execution_count": 18,
      "outputs": [
        {
          "output_type": "display_data",
          "data": {
            "text/plain": [
              "array([1880, 1881, 1882, 1883, 1884, 1885, 1886, 1887, 1888, 1889, 1890,\n",
              "       1891, 1892, 1893, 1894, 1895, 1896, 1897, 1898, 1899, 1900, 1901,\n",
              "       1902, 1903, 1904, 1905, 1906, 1907, 1908, 1909, 1910, 1911, 1912,\n",
              "       1913, 1914, 1915, 1916, 1917, 1918, 1919, 1920, 1921, 1922, 1923,\n",
              "       1924, 1925, 1926, 1927, 1928, 1929, 1930, 1931, 1932, 1933, 1934,\n",
              "       1935, 1936, 1937, 1938, 1939, 1940, 1941, 1942, 1943, 1944, 1945,\n",
              "       1946, 1947, 1948, 1949, 1950, 1951, 1952, 1953, 1954, 1955, 1956,\n",
              "       1957, 1958, 1959, 1960, 1961, 1962, 1963, 1964, 1965, 1966, 1967,\n",
              "       1968, 1969, 1970, 1971, 1972, 1973, 1974, 1975, 1976, 1977, 1978,\n",
              "       1979, 1980, 1981, 1982, 1983, 1984, 1985, 1986, 1987, 1988, 1989,\n",
              "       1990, 1991, 1992, 1993, 1994, 1995, 1996, 1997, 1998, 1999, 2000,\n",
              "       2001, 2002, 2003, 2004, 2005, 2006, 2007, 2008, 2009, 2010, 2011,\n",
              "       2012, 2013], dtype=int16)"
            ]
          },
          "metadata": {}
        },
        {
          "output_type": "display_data",
          "data": {
            "text/plain": [
              "array([ 0.        ,  0.22047244, -0.44094488, -0.23228346,  0.59055118,\n",
              "        0.53149606,  0.43700787,  0.21653543,  0.2992126 ,  0.36220472,\n",
              "        0.44094488,  0.37401575,  0.5       ,  0.68503937,  0.30314961,\n",
              "        0.76771654,  0.46850394,  0.67322835,  1.04330709,  1.33858268,\n",
              "        1.12598425,  1.11023622,  1.29133858,  1.60629921,  1.2007874 ,\n",
              "        0.98425197,  1.2519685 ,  1.19685039,  1.0984252 ,  1.27559055,\n",
              "        1.27165354,  1.59842519,  1.47637795,  1.54724409,  1.79527559,\n",
              "        2.10629921,  2.03149606,  1.85433071,  1.79133858,  1.85433071,\n",
              "        1.90551181,  1.98818897,  1.9527559 ,  2.        ,  1.71259842,\n",
              "        1.79133858,  2.04724409,  2.00393701,  1.8503937 ,  1.90551181,\n",
              "        2.06299212,  2.04724409,  2.27165354,  2.44094488,  2.22834645,\n",
              "        2.4488189 ,  2.29527559,  2.51968504,  2.62204724,  2.82677165,\n",
              "        2.61811023,  3.09842519,  3.09842519,  3.09842519,  2.84645669,\n",
              "        2.95669291,  3.2519685 ,  3.37401574,  3.56299212,  3.51181102,\n",
              "        3.59842519,  3.97244094,  3.87007874,  4.04330708,  3.92913385,\n",
              "        3.96456693,  3.76377952,  4.29133858,  4.34645669,  4.35826771,\n",
              "        4.503937  ,  4.74803149,  4.54330708,  4.48031496,  4.16929133,\n",
              "        4.61023622,  4.39763779,  4.4527559 ,  4.48425196,  4.7519685 ,\n",
              "        4.67716535,  4.88188976,  5.24015748,  5.003937  ,  5.47244094,\n",
              "        5.40944881,  5.37007873,  5.3031496 ,  5.55511811,  5.36220472,\n",
              "        5.59842519,  6.08661417,  5.85826771,  6.18897637,  6.1535433 ,\n",
              "        5.74803149,  5.77165354,  5.79527558,  5.98031495,  6.15748031,\n",
              "        6.23228346,  6.33464566,  6.35826771,  6.29133858,  6.49999999,\n",
              "        6.61811023,  6.78740157,  7.06692913,  6.66535432,  7.01181102,\n",
              "        7.06299212,  7.28740157,  7.38188976,  7.75984251,  7.74015747,\n",
              "        7.74409448,  7.91732283,  7.99606298,  8.35039369,  8.58661416,\n",
              "        8.90157479,  8.96456692,  9.32677164,  8.98031495])"
            ]
          },
          "metadata": {}
        },
        {
          "output_type": "display_data",
          "data": {
            "text/plain": [
              "<Figure size 432x288 with 1 Axes>"
            ],
            "image/png": "[encoded data removed]"
          },
          "metadata": {
            "needs_background": "light"
          }
        }
      ]
    },
    {
      "cell_type": "markdown",
      "source": [
        "### Then\n",
        "---\n",
        "1.  Calculate some statistics on the level array, eg:\n",
        "*  mean\n",
        "*  standard deviation\n",
        "*  total \n",
        "\n",
        "2.  Use the fact that the arrays are aligned (e.g. the first number in the level array is linked to the first year in the year array and display:\n",
        "\n",
        "*  the year with the biggest rise in level\n",
        "*  the year with the lowest rise in level\n",
        "\n",
        "*(**Hint**:  to do this you can use a new numpy function np.where() )*\n",
        " ```\n",
        "np.where(array == value_to_find)\n",
        "```\n",
        "*There is some reference material [here](https://thispointer.com/find-the-index-of-a-value-in-numpy-array/)*\n",
        "\n",
        "**Note**: ```np.where(...)``` will return a tuple containing all indexes where that value was found.  You can print all, or you can print the first value (it is likely that there will only be one in this case) using [0][0].  *With the correct code you should get an answer of 2012*\n",
        "\n",
        "\n",
        "3.  Calculate the Pearson product-moment correlation coefficient between year and the rise in sea level.  (*Expected output:  0.98 when rounded to 2 decimal places*)"
      ],
      "metadata": {
        "id": "3cf1YPgnBSc2"
      }
    },
    {
      "cell_type": "code",
      "execution_count": null,
      "metadata": {
        "id": "8VWUtmK4YhoU"
      },
      "outputs": [],
      "source": [
        "display(df.describe())"
      ]
    },
    {
      "cell_type": "markdown",
      "metadata": {
        "id": "yQyytEbnZ1lw"
      },
      "source": [
        "# Reflection\n",
        "----\n",
        "\n",
        "## What skills have you demonstrated in completing this notebook?"
      ]
    },
    {
      "cell_type": "markdown",
      "metadata": {
        "id": "MM00hR5aZk1-"
      },
      "source": [
        "Your answer: "
      ]
    },
    {
      "cell_type": "markdown",
      "metadata": {
        "id": "Zgexd27sZ1ly"
      },
      "source": [
        "## What caused you the most difficulty?"
      ]
    },
    {
      "cell_type": "markdown",
      "metadata": {
        "id": "-Y_nrVBwaGXr"
      },
      "source": [
        "Your answer: "
      ]
    }
  ]
}