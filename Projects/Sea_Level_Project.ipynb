{
  "nbformat": 4,
  "nbformat_minor": 0,
  "metadata": {
    "colab": {
      "name": "Sea-Level-Project.ipynb",
      "provenance": [],
      "include_colab_link": true
    },
    "kernelspec": {
      "name": "python3",
      "display_name": "Python 3"
    },
    "language_info": {
      "name": "python"
    }
  },
  "cells": [
    {
      "cell_type": "markdown",
      "metadata": {
        "id": "view-in-github",
        "colab_type": "text"
      },
      "source": [
        "<a href=\"https://colab.research.google.com/github/mrsferret/Code-Division/blob/main/Projects/Sea_Level_Project.ipynb\" target=\"_parent\"><img src=\"https://colab.research.google.com/assets/colab-badge.svg\" alt=\"Open In Colab\"/></a>"
      ]
    },
    {
      "cell_type": "markdown",
      "source": [
        "# Using numpy to look for a correlation between time data and sea level rise\n",
        "---\n",
        "\n",
        "### Data Source\n",
        "Global Average Absolute Sea Level Change, 1880-2014 from the US Environmental Protection Agency using data from CSIRO, 2015; NOAA, 2015.\n",
        "https://datahub.io/core/sea-level-rise\n",
        "\n",
        "The data describes annual sea levels from 1880 to 2013.  Measures are adjusted using two standards: Commonwealth Scientific and Industrial Research Organisation(CSIRO) and National Oceanic and Atmospheric Administration (NOAA)  \n",
        "\n",
        "Raw Data file:  https://raw.githubusercontent.com/freeCodeCamp/boilerplate-sea-level-predictor/master/epa-sea-level.csv\n",
        "\n",
        "For this exercise:\n",
        "*  import the pandas library\n",
        "*  import the numpy library\n",
        "*  read the csv dataset containing data on sea-levels from the year 1880 to 2013 into a dataframe (df)\n",
        "*  use df.head() and df.info() to inspect the data and the column data types\n",
        "\n"
      ],
      "metadata": {
        "id": "jBYNdCdQ9_cu"
      }
    },
    {
      "cell_type": "code",
      "source": [
        "import pandas as pd\n",
        "\n",
        "#===============================================================================\n",
        "# Start Here\n",
        "#===============================================================================\n",
        "# read csv file into a dataframe\n",
        "url = 'https://raw.githubusercontent.com/freeCodeCamp/boilerplate-sea-level-predictor/master/epa-sea-level.csv'\n",
        "df = pd.read_csv(url)\n",
        "\n",
        "# Change the column names as don't like field names with spaces!\n",
        "df.columns =['Year', 'CSIRO_Adj_Sea_Level', 'Lower_Err_Bound', 'Upper_Err_Bound', 'NOAA_Adj_Sea_Level']\n",
        "\n",
        "# get some info about the dataframe\n",
        "print (df.info())\n",
        "print (df.head())\n",
        "print (df.describe())\n"
      ],
      "metadata": {
        "id": "r1XUCWHV_Cj9",
        "outputId": "618b9fb1-9ee4-4df7-a86e-db9eefaf7c38",
        "colab": {
          "base_uri": "https://localhost:8080/"
        }
      },
      "execution_count": 7,
      "outputs": [
        {
          "output_type": "stream",
          "name": "stdout",
          "text": [
            "<class 'pandas.core.frame.DataFrame'>\n",
            "RangeIndex: 134 entries, 0 to 133\n",
            "Data columns (total 5 columns):\n",
            " #   Column               Non-Null Count  Dtype  \n",
            "---  ------               --------------  -----  \n",
            " 0   Year                 134 non-null    int64  \n",
            " 1   CSIRO_Adj_Sea_Level  134 non-null    float64\n",
            " 2   Lower_Err_Bound      134 non-null    float64\n",
            " 3   Upper_Err_Bound      134 non-null    float64\n",
            " 4   NOAA_Adj_Sea_Level   21 non-null     float64\n",
            "dtypes: float64(4), int64(1)\n",
            "memory usage: 5.4 KB\n",
            "None\n",
            "   Year  CSIRO_Adj_Sea_Level  Lower_Err_Bound  Upper_Err_Bound  \\\n",
            "0  1880             0.000000        -0.952756         0.952756   \n",
            "1  1881             0.220472        -0.732283         1.173228   \n",
            "2  1882            -0.440945        -1.346457         0.464567   \n",
            "3  1883            -0.232283        -1.129921         0.665354   \n",
            "4  1884             0.590551        -0.283465         1.464567   \n",
            "\n",
            "   NOAA_Adj_Sea_Level  \n",
            "0                 NaN  \n",
            "1                 NaN  \n",
            "2                 NaN  \n",
            "3                 NaN  \n",
            "4                 NaN  \n",
            "              Year  CSIRO_Adj_Sea_Level  Lower_Err_Bound  Upper_Err_Bound  \\\n",
            "count   134.000000           134.000000       134.000000       134.000000   \n",
            "mean   1946.500000             3.650341         3.204666         4.096016   \n",
            "std      38.826537             2.485692         2.663781         2.312581   \n",
            "min    1880.000000            -0.440945        -1.346457         0.464567   \n",
            "25%    1913.250000             1.632874         1.078740         2.240157   \n",
            "50%    1946.500000             3.312992         2.915354         3.710630   \n",
            "75%    1979.750000             5.587598         5.329724         5.845472   \n",
            "max    2013.000000             9.326772         8.992126         9.661417   \n",
            "\n",
            "       NOAA_Adj_Sea_Level  \n",
            "count           21.000000  \n",
            "mean             7.363746  \n",
            "std              0.691038  \n",
            "min              6.297493  \n",
            "25%              6.848690  \n",
            "50%              7.488353  \n",
            "75%              7.907365  \n",
            "max              8.546648  \n"
          ]
        }
      ]
    },
    {
      "cell_type": "markdown",
      "source": [
        "---\n",
        "### **Notes from Running Above Cell**\n",
        "\n",
        "---\n",
        "After running this cell, we have some basic information about this dataframe. It consists of 134 rows x 5 columns.\n",
        "From `df.info` we can see the column names, the number of non-empty values each column contains (and consequently if the column contains missing values) and the datatype of the column as follows:\n",
        "```\n",
        " #   Column               Non-Null Count  Dtype  \n",
        "---  ------               --------------  -----  \n",
        " 0   Year                 134 non-null    int64  \n",
        " 1   CSIRO_Adj_Sea_Level  134 non-null    float64\n",
        " 2   Lower_Err_Bound      134 non-null    float64\n",
        " 3   Upper_Err_Bound      134 non-null    float64\n",
        " 4   NOAA_Adj_Sea_Level   21 non-null     float64\n",
        "\n",
        "```\n",
        "The only column that has missing values is NOAA_Adj_Sea_Level.\n",
        "\n",
        "We can also see that the data appears to be tracking changes in sea-level by year. The earliest year that the dataframe has data for is 1880 and the most recent is 2013. \n",
        "\n",
        "It looks like all sea level changes are measured relative to that recorded in  1880 as its level is recorded as 0.0. The greatest change was a rise of 9.326772 and the lowest was a decrease of -0.440945. \n",
        "\n",
        "The mean sea level change is 3.650341.\n",
        "\n",
        "\n",
        "\n",
        "\n",
        "\n",
        "\n",
        "\n",
        "\n",
        "\n",
        "\n"
      ],
      "metadata": {
        "id": "PKqPokdLSIMw"
      }
    },
    {
      "cell_type": "markdown",
      "source": [
        "\n",
        "\n",
        "---\n",
        "\n",
        "\n",
        "**Scatter Plot and Line of Best Fit**\n",
        "\n",
        "\n",
        "---\n",
        "\n",
        "\n",
        "\n",
        "The following cell takes the 2 numpy arrays of Sea Level and Year data and charts them in a scatter plot and then undergoes linear regression to plot the line of best fit.\n",
        "\n",
        "The line of best fit is added by creating a regression variable and assigning the result of using linregress (`regression = linregress(x,y)` ). The slope and intercept are stored (`slope = regression.slope`, `intercept = regression.intercept`) and used to plot a line using `plt.plot(x, slope*x + intercept)` "
      ],
      "metadata": {
        "id": "G662Yv5p09i6"
      }
    },
    {
      "cell_type": "code",
      "source": [
        "import pandas as pd\n",
        "import numpy as np\n",
        "from scipy.stats import linregress\n",
        "import matplotlib.pyplot as plt\n",
        "\n",
        "def convert_to_numpy_array(df):\n",
        "  #============================================================================\n",
        "  # Create 2 numpy arrays from input df - one of Years and other of Sea Levels\n",
        "  #============================================================================\n",
        "  year_array = df['Year'].to_numpy(np.int16)\n",
        "  \n",
        "  level_array = df['CSIRO_Adj_Sea_Level'].to_numpy()\n",
        "  \n",
        "  return year_array, level_array\n",
        "\n",
        "def chart_sea_level_stats(year_array, level_array):\n",
        "  #============================================================================\n",
        "  # using the year_array and level_array, produces a scatter plot of levels vs \n",
        "  # years and then calculate a line of best fit and superimpose on the\n",
        "  # scatterplot\n",
        "  #============================================================================\n",
        "  x = year_array\n",
        "  y = level_array\n",
        "  #display(x)\n",
        "  #display(y)\n",
        "\n",
        "  plt.scatter(x,y, color= 'red')\n",
        "  plt.xlabel('Year')\n",
        "  plt.ylabel('Sea Level Change')\n",
        "  plt.title('Changes in Sea Level by Year')\n",
        "  plt.grid()\n",
        "\n",
        "  regression = linregress(x,y)\n",
        "  slope = regression.slope\n",
        "  intercept = regression.intercept\n",
        "  plt.plot(x, slope*x + intercept)\n",
        "\n",
        "  plt.show()\n",
        "  \n",
        "  return\n",
        "\n",
        "#===============================================================================\n",
        "# Start Here\n",
        "#===============================================================================\n",
        "# read csv file into a dataframe\n",
        "url = 'https://raw.githubusercontent.com/freeCodeCamp/boilerplate-sea-level-predictor/master/epa-sea-level.csv'\n",
        "df = pd.read_csv(url)\n",
        "\n",
        "# Change the column names (to make them tidier!)\n",
        "df.columns =['Year', 'CSIRO_Adj_Sea_Level', 'Lower_Err_Bound', 'Upper_Err_Bound', 'NOAA_Adj_Sea_Level']\n",
        "\n",
        "#============================================================================\n",
        "# Create 2 numpy arrays from input df - one of Years and other of Sea Levels\n",
        "#============================================================================\n",
        "year_array, level_array = convert_to_numpy_array(df)\n",
        "\n",
        "#============================================================================\n",
        "# input the year_array and level_array to produce a scatter plot of levels vs \n",
        "# years and then calculate a line of best fit\n",
        "#============================================================================\n",
        "chart_sea_level_stats(year_array, level_array)\n"
      ],
      "metadata": {
        "colab": {
          "base_uri": "https://localhost:8080/",
          "height": 295
        },
        "id": "A-367cYTi9Om",
        "outputId": "a074cfc0-d00c-49aa-b1ad-bf6d0919246d"
      },
      "execution_count": 17,
      "outputs": [
        {
          "output_type": "display_data",
          "data": {
            "text/plain": [
              "<Figure size 432x288 with 1 Axes>"
            ],
            "image/png": "[encoded data removed]"
          },
          "metadata": {
            "needs_background": "light"
          }
        }
      ]
    },
    {
      "cell_type": "markdown",
      "source": [
        "\n",
        "---\n",
        "\n",
        "\n",
        "# **Notes on Running Above Cell**\n",
        "\n",
        "---\n",
        "\n",
        "On an initial visual inspection of the scatterplot above with the superimposed calculated line of \"best fit\", it does look as if the data clusters closely around the best fit line and indicates that there may be a relationship between Sea Level and Year. At this stage it would be reasonable to hypothesise that sea level rises over time. However, we will need to further test to determine whether this relationship does actually exist and if so how significant."
      ],
      "metadata": {
        "id": "fP1LxNyPpae8"
      }
    },
    {
      "cell_type": "markdown",
      "source": [
        "### Then\n",
        "---\n",
        "1.  Calculate some statistics on the level array, eg:\n",
        "*  mean\n",
        "*  standard deviation\n",
        "*  total \n",
        "\n",
        "2.  Use the fact that the arrays are aligned (e.g. the first number in the level array is linked to the first year in the year array and display:\n",
        "\n",
        "*  the year with the biggest rise in level\n",
        "*  the year with the lowest rise in level\n",
        "\n",
        "*(**Hint**:  to do this you can use a new numpy function np.where() )*\n",
        " ```\n",
        "np.where(array == value_to_find)\n",
        "```\n",
        "*There is some reference material [here](https://thispointer.com/find-the-index-of-a-value-in-numpy-array/)*\n",
        "\n",
        "**Note**: ```np.where(...)``` will return a tuple containing all indexes where that value was found.  You can print all, or you can print the first value (it is likely that there will only be one in this case) using [0][0].  *With the correct code you should get an answer of 2012*\n",
        "\n",
        "\n",
        "3.  Calculate the Pearson product-moment correlation coefficient between year and the rise in sea level.  (*Expected output:  0.98 when rounded to 2 decimal places*)"
      ],
      "metadata": {
        "id": "3cf1YPgnBSc2"
      }
    },
    {
      "cell_type": "code",
      "execution_count": null,
      "metadata": {
        "id": "8VWUtmK4YhoU",
        "outputId": "05115ad7-745e-4200-a0dd-df5dec116be8",
        "colab": {
          "base_uri": "https://localhost:8080/"
        }
      },
      "outputs": [
        {
          "output_type": "stream",
          "name": "stdout",
          "text": [
            "\n",
            "mean of level_array, axis = None :  3.650340811880598\n",
            "\n",
            "std of level_array, axis = None :  2.476399631426498\n",
            "\n",
            "max_rise:  9.326771644\n",
            "\n",
            "min_rise:  -0.440944881\n",
            "\n",
            "arr_index:  132\n",
            "\n",
            "max_rise_year:  2012\n",
            "\n",
            "max_rise:  9.326771644\n",
            "\n",
            "min arr_index:  2\n",
            "\n",
            "min_rise_year:  1882\n",
            "\n",
            "pearson_corr_ceof:  [[1.         0.98475713]\n",
            " [0.98475713 1.        ]]\n"
          ]
        }
      ],
      "source": [
        "def calc_sea_level_stats(df):\n",
        "\n",
        "  #============================================================================\n",
        "  # calculate the mean Sea Level change\n",
        "  #============================================================================\n",
        "  level_mean = np.mean(level_array)\n",
        "  print(\"\\nmean of level_array, axis = None : \", np.mean(level_array)) \n",
        "\n",
        "  #============================================================================\n",
        "  # calculate the standard deviation of the variation in Sea Levels\n",
        "  #============================================================================\n",
        "  level_std = np.std(level_array)\n",
        "  print(\"\\nstd of level_array, axis = None : \", np.std(level_array))\n",
        "  \n",
        "  #============================================================================\n",
        "  # retrieve and save the max sea level rise\n",
        "  #============================================================================\n",
        "  max_rise = np.max(level_array)\n",
        "  print(\"\\nmax_rise: \", max_rise)\n",
        "\n",
        "  #============================================================================\n",
        "  # retrieve and save the min sea level rise\n",
        "  #============================================================================\n",
        "  min_rise = np.min(level_array)\n",
        "  print(\"\\nmin_rise: \", min_rise)\n",
        "\n",
        "  #============================================================================\n",
        "  # find the index of element in level array with value = max_rise \n",
        "  # and use this to find corresponding year in Year array\n",
        "  #============================================================================\n",
        "  arr_index = np.argmax(level_array)\n",
        "  print(\"\\narr_index: \", arr_index)\n",
        "\n",
        "  max_rise_year = year_array[arr_index]\n",
        "  print(\"\\nmax_rise_year: \", max_rise_year)\n",
        "\n",
        "  # retrieve and save the max sea level rise\n",
        "  max_rise = np.max(level_array)\n",
        "  print(\"\\nmax_rise: \", max_rise)\n",
        "\n",
        "  #============================================================================\n",
        "  # find the index of element in level array with value = min_rise \n",
        "  # and use this to find corresponding year in Year array\n",
        "  #============================================================================\n",
        "  arr_index = np.argmin(level_array)\n",
        "  print(\"\\nmin arr_index: \", arr_index)\n",
        "\n",
        "  min_rise_year = year_array[arr_index]\n",
        "  print(\"\\nmin_rise_year: \", min_rise_year)\n",
        "  #===========================================================================\n",
        "  # Calculate the Pearson product-moment correlation coefficient \n",
        "  #===========================================================================\n",
        "  pearson_corr_ceof = np.corrcoef(year_array, level_array)\n",
        "  print(\"\\npearson_corr_ceof: \", pearson_corr_ceof)\n",
        "\n",
        "#===============================================================================\n",
        "# start here\n",
        "#===============================================================================\n",
        "\n",
        "calc_sea_level_stats(df)"
      ]
    },
    {
      "cell_type": "markdown",
      "source": [
        ""
      ],
      "metadata": {
        "id": "vjD1EcovOP8L"
      }
    },
    {
      "cell_type": "markdown",
      "source": [
        "\n",
        "\n",
        "---\n",
        "**Feedback Notes from cell above**\n",
        "\n",
        "\n",
        "---\n",
        "\n",
        "\n",
        "\n",
        "The Pearson product-moment correlation coefficient or the Pearson coefficient correlation r, determines the strength of the linear relationship between two variables (in this case sea level movement over the years). It assigns a value between -ve 1 and 1, where 0 is no correlation, 1 is total positive correlation, and -ve 1 is total negative correlation. Generally a correlation value of 0.7 between two variables would indicate that a significant and positive relationship exists between the two. With a positive correlation of 0.98. Obviously much more analysis would need to be done to verify this (or not) but such a +ve correlation is a strong indication that sea level is rising over time. "
      ],
      "metadata": {
        "id": "f6WkP9fIOQtQ"
      }
    },
    {
      "cell_type": "markdown",
      "metadata": {
        "id": "yQyytEbnZ1lw"
      },
      "source": [
        "# Reflection\n",
        "----\n",
        "\n",
        "## What skills have you demonstrated in completing this notebook?"
      ]
    },
    {
      "cell_type": "markdown",
      "metadata": {
        "id": "MM00hR5aZk1-"
      },
      "source": [
        "I have learned:\n",
        " \n",
        "*   how to extract specific columns from a dataframe and use them to create numpy arrays\n",
        "\n",
        "*   how to manipulate numpy arrays and extract various statistics from them eg. mean, max, standard deviation\n",
        "\n",
        "\n",
        "*  using the numpy arrays, how to determine the relationship between variables (sea levels and year) by plotting the 2 variables (sea level, year) in a scatterplot using the library matplotlib.pyplot and then:\n",
        "\n",
        "*  applying linear regression to the variables to establish and plot the line of best fit using the linregress library.\n",
        "\n",
        "*   how to use the arrays to perfrom further analysis of the variables by calculating the Pearson product-moment correlation coefficient between year and the rise in sea level using the `np.corrcoef` method and interpret the results\n",
        "\n",
        "As in all of the workbooks/projects, I have also had to use my problem solving and analytical skills\n",
        "\n",
        "\n",
        "\n",
        "\n",
        "   "
      ]
    },
    {
      "cell_type": "markdown",
      "metadata": {
        "id": "Zgexd27sZ1ly"
      },
      "source": [
        "## What caused you the most difficulty?"
      ]
    },
    {
      "cell_type": "markdown",
      "metadata": {
        "id": "-Y_nrVBwaGXr"
      },
      "source": [
        "I really didn't have much difficulty with the exercises in this workbook and found it pretty straightforward. It did take me a bit of a while to work out the settings to change the colours and such on the scatterplot and linear regression but I found alot of material on the internet with information about this. "
      ]
    }
  ]
}