{
  "nbformat": 4,
  "nbformat_minor": 0,
  "metadata": {
    "colab": {
      "name": "10.2 Movies Project.ipynb",
      "provenance": [],
      "collapsed_sections": [],
      "include_colab_link": true
    },
    "kernelspec": {
      "name": "python3",
      "display_name": "Python 3"
    },
    "language_info": {
      "name": "python"
    }
  },
  "cells": [
    {
      "cell_type": "markdown",
      "metadata": {
        "id": "view-in-github",
        "colab_type": "text"
      },
      "source": [
        "<a href=\"https://colab.research.google.com/github/mrsferret/Code-Division/blob/main/Projects/10_2_Movies_Project.ipynb\" target=\"_parent\"><img src=\"https://colab.research.google.com/assets/colab-badge.svg\" alt=\"Open In Colab\"/></a>"
      ]
    },
    {
      "cell_type": "markdown",
      "metadata": {
        "id": "iNinIL0w_DHu"
      },
      "source": [
        "# Movies Mini-project\n",
        "---\n",
        "\n",
        "In the previous worksheet you converted an SQL relational database to a single pandas dataframe and downloaded it. You will be analysing it today.\n",
        "\n",
        "If you were unable to download the file, there is a copy located here: \n",
        "\n",
        "\"https://github.com/lilaceri/Working-with-data-/blob/main/Data%20Sets%20for%20code%20divisio/movies.csv?raw=true\"\n",
        "\n"
      ]
    },
    {
      "cell_type": "markdown",
      "metadata": {
        "id": "TlOJOk3vMN2C"
      },
      "source": [
        "### Inspect the dataset \n",
        "---"
      ]
    },
    {
      "cell_type": "code",
      "metadata": {
        "id": "Le5KSKHY_BM9",
        "colab": {
          "base_uri": "https://localhost:8080/",
          "height": 1000
        },
        "outputId": "80485b8e-2dde-415a-bc3a-1bba993e9a00"
      },
      "source": [
        "import pandas as pd\n",
        "\n",
        "def inspect_data(df):\n",
        "\n",
        "  # firstly, sort the data on movie, director and year\n",
        "  df = df.sort_values(by = [\"name\", \"last_name\", \"first_name\", \"year\"])\n",
        "  display(\"Describe: \", df.describe())\n",
        "  display(\"Head: \", df.head())\n",
        "  display(\"Info: \", df.info())\n",
        "\n",
        "  # check the data for NA/NaN/missing values across the dataframe\n",
        "  display(\"Null Values: \", df.isnull().values.any())\n",
        "\n",
        "  #============================================================================\n",
        "  # null values do exist in the dataset and df.info() indicates that column \"rank\"\n",
        "  # is only column with them\n",
        "  #============================================================================\n",
        "  display(\"Null Values: \", df.isnull().values.any())\n",
        "  '''' is any missing values in dataframe '''\n",
        "  display(df.isnull())\n",
        "\n",
        "  #============================================================================\n",
        "  # lets look more closely at the rank column as we know it contains null values\n",
        "  # check what unique values are stored in this column and its count\n",
        "  #============================================================================\n",
        "  print(\"\\nUnique values from column rank...\\n\",df['rank'].unique())\n",
        "  print(\"\\nCount unique values from a column ...\\n\",df['rank'].nunique())\n",
        "\n",
        "  ### get count of missing values of a particular column\n",
        " \n",
        "  display(\"count of missing values: \", df.isnull().sum())\n",
        "  display (df.isnull().sum()/len(df)*100)\n",
        "\n",
        "  #============================================================================\n",
        "  # lets look more closely at the genre column to check what values are stored \n",
        "  # in this column and its count\n",
        "  #============================================================================\n",
        "\n",
        "  print(\"\\nUnique values from column genre...\\n\",df['genre'].unique())\n",
        "  print(\"\\nCount unique values from a column ...\\n\",df['genre'].nunique())\n",
        "\n",
        "  #========================================================================\n",
        "  # should only be 1 row per movie so check for duplicates\n",
        "  #========================================================================\n",
        "  duplicates = find_duplicates(df)\n",
        "  \n",
        "  #========================================================================\n",
        "  # count how many movies have max rating of 9.9\n",
        "  #========================================================================\n",
        "  print(\"Count of movies with 9.9 rank: \",df['rank'].value_counts()[9.9])\n",
        "\n",
        "def find_duplicates(df):\n",
        "  #duplicates = df[df.duplicated(['name','last_name','year'])]\n",
        "  duplicates = df[df.duplicated(['name'],keep=False)]\n",
        "  display(\"Duplicate Values\")\n",
        "  display(duplicates.sort_values(by = [\"name\", \"last_name\", \"year\"]))\n",
        "  display(\"\\nCount unique values from name column ...\\n\",duplicates['name'].nunique())\n",
        "\n",
        "  # check if all duplicates have missing values\n",
        "  display(\"count of missing values in duplicates: \", duplicates.isnull().sum())\n",
        "  display (duplicates.isnull().sum()/len(duplicates)*100)\n",
        "\n",
        "  return duplicates \n",
        "  \n",
        "\n",
        "# program starts here\n",
        "url = \"https://github.com/lilaceri/Working-with-data-/blob/main/Data%20Sets%20for%20code%20divisio/movies.csv?raw=true\"\n",
        "\n",
        "movie_df = pd.read_csv(url)\n",
        "\n",
        "inspect_data(movie_df)"
      ],
      "execution_count": 1,
      "outputs": [
        {
          "output_type": "display_data",
          "data": {
            "text/plain": [
              "'Describe: '"
            ],
            "application/vnd.google.colaboratory.intrinsic+json": {
              "type": "string"
            }
          },
          "metadata": {}
        },
        {
          "output_type": "display_data",
          "data": {
            "text/plain": [
              "          Unnamed: 0           year           rank\n",
              "count  368894.000000  368894.000000  113376.000000\n",
              "mean   184446.500000    1969.442222       5.995124\n",
              "std    106490.669438      29.082051       1.540330\n",
              "min         0.000000    1888.000000       1.000000\n",
              "25%     92223.250000    1947.000000       5.100000\n",
              "50%    184446.500000    1976.000000       6.200000\n",
              "75%    276669.750000    1996.000000       7.100000\n",
              "max    368893.000000    2007.000000       9.900000"
            ],
            "text/html": [
              "\n",
              "  <div id=\"df-4df6e1af-e171-442e-a619-543944b603d7\">\n",
              "    <div class=\"colab-df-container\">\n",
              "      <div>\n",
              "<style scoped>\n",
              "    .dataframe tbody tr th:only-of-type {\n",
              "        vertical-align: middle;\n",
              "    }\n",
              "\n",
              "    .dataframe tbody tr th {\n",
              "        vertical-align: top;\n",
              "    }\n",
              "\n",
              "    .dataframe thead th {\n",
              "        text-align: right;\n",
              "    }\n",
              "</style>\n",
              "<table border=\"1\" class=\"dataframe\">\n",
              "  <thead>\n",
              "    <tr style=\"text-align: right;\">\n",
              "      <th></th>\n",
              "      <th>Unnamed: 0</th>\n",
              "      <th>year</th>\n",
              "      <th>rank</th>\n",
              "    </tr>\n",
              "  </thead>\n",
              "  <tbody>\n",
              "    <tr>\n",
              "      <th>count</th>\n",
              "      <td>368894.000000</td>\n",
              "      <td>368894.000000</td>\n",
              "      <td>113376.000000</td>\n",
              "    </tr>\n",
              "    <tr>\n",
              "      <th>mean</th>\n",
              "      <td>184446.500000</td>\n",
              "      <td>1969.442222</td>\n",
              "      <td>5.995124</td>\n",
              "    </tr>\n",
              "    <tr>\n",
              "      <th>std</th>\n",
              "      <td>106490.669438</td>\n",
              "      <td>29.082051</td>\n",
              "      <td>1.540330</td>\n",
              "    </tr>\n",
              "    <tr>\n",
              "      <th>min</th>\n",
              "      <td>0.000000</td>\n",
              "      <td>1888.000000</td>\n",
              "      <td>1.000000</td>\n",
              "    </tr>\n",
              "    <tr>\n",
              "      <th>25%</th>\n",
              "      <td>92223.250000</td>\n",
              "      <td>1947.000000</td>\n",
              "      <td>5.100000</td>\n",
              "    </tr>\n",
              "    <tr>\n",
              "      <th>50%</th>\n",
              "      <td>184446.500000</td>\n",
              "      <td>1976.000000</td>\n",
              "      <td>6.200000</td>\n",
              "    </tr>\n",
              "    <tr>\n",
              "      <th>75%</th>\n",
              "      <td>276669.750000</td>\n",
              "      <td>1996.000000</td>\n",
              "      <td>7.100000</td>\n",
              "    </tr>\n",
              "    <tr>\n",
              "      <th>max</th>\n",
              "      <td>368893.000000</td>\n",
              "      <td>2007.000000</td>\n",
              "      <td>9.900000</td>\n",
              "    </tr>\n",
              "  </tbody>\n",
              "</table>\n",
              "</div>\n",
              "      <button class=\"colab-df-convert\" onclick=\"convertToInteractive('df-4df6e1af-e171-442e-a619-543944b603d7')\"\n",
              "              title=\"Convert this dataframe to an interactive table.\"\n",
              "              style=\"display:none;\">\n",
              "        \n",
              "  <svg xmlns=\"http://www.w3.org/2000/svg\" height=\"24px\"viewBox=\"0 0 24 24\"\n",
              "       width=\"24px\">\n",
              "    <path d=\"M0 0h24v24H0V0z\" fill=\"none\"/>\n",
              "    <path d=\"M18.56 5.44l.94 2.06.94-2.06 2.06-.94-2.06-.94-.94-2.06-.94 2.06-2.06.94zm-11 1L8.5 8.5l.94-2.06 2.06-.94-2.06-.94L8.5 2.5l-.94 2.06-2.06.94zm10 10l.94 2.06.94-2.06 2.06-.94-2.06-.94-.94-2.06-.94 2.06-2.06.94z\"/><path d=\"M17.41 7.96l-1.37-1.37c-.4-.4-.92-.59-1.43-.59-.52 0-1.04.2-1.43.59L10.3 9.45l-7.72 7.72c-.78.78-.78 2.05 0 2.83L4 21.41c.39.39.9.59 1.41.59.51 0 1.02-.2 1.41-.59l7.78-7.78 2.81-2.81c.8-.78.8-2.07 0-2.86zM5.41 20L4 18.59l7.72-7.72 1.47 1.35L5.41 20z\"/>\n",
              "  </svg>\n",
              "      </button>\n",
              "      \n",
              "  <style>\n",
              "    .colab-df-container {\n",
              "      display:flex;\n",
              "      flex-wrap:wrap;\n",
              "      gap: 12px;\n",
              "    }\n",
              "\n",
              "    .colab-df-convert {\n",
              "      background-color: #E8F0FE;\n",
              "      border: none;\n",
              "      border-radius: 50%;\n",
              "      cursor: pointer;\n",
              "      display: none;\n",
              "      fill: #1967D2;\n",
              "      height: 32px;\n",
              "      padding: 0 0 0 0;\n",
              "      width: 32px;\n",
              "    }\n",
              "\n",
              "    .colab-df-convert:hover {\n",
              "      background-color: #E2EBFA;\n",
              "      box-shadow: 0px 1px 2px rgba(60, 64, 67, 0.3), 0px 1px 3px 1px rgba(60, 64, 67, 0.15);\n",
              "      fill: #174EA6;\n",
              "    }\n",
              "\n",
              "    [theme=dark] .colab-df-convert {\n",
              "      background-color: #3B4455;\n",
              "      fill: #D2E3FC;\n",
              "    }\n",
              "\n",
              "    [theme=dark] .colab-df-convert:hover {\n",
              "      background-color: #434B5C;\n",
              "      box-shadow: 0px 1px 3px 1px rgba(0, 0, 0, 0.15);\n",
              "      filter: drop-shadow(0px 1px 2px rgba(0, 0, 0, 0.3));\n",
              "      fill: #FFFFFF;\n",
              "    }\n",
              "  </style>\n",
              "\n",
              "      <script>\n",
              "        const buttonEl =\n",
              "          document.querySelector('#df-4df6e1af-e171-442e-a619-543944b603d7 button.colab-df-convert');\n",
              "        buttonEl.style.display =\n",
              "          google.colab.kernel.accessAllowed ? 'block' : 'none';\n",
              "\n",
              "        async function convertToInteractive(key) {\n",
              "          const element = document.querySelector('#df-4df6e1af-e171-442e-a619-543944b603d7');\n",
              "          const dataTable =\n",
              "            await google.colab.kernel.invokeFunction('convertToInteractive',\n",
              "                                                     [key], {});\n",
              "          if (!dataTable) return;\n",
              "\n",
              "          const docLinkHtml = 'Like what you see? Visit the ' +\n",
              "            '<a target=\"_blank\" href=https://colab.research.google.com/notebooks/data_table.ipynb>data table notebook</a>'\n",
              "            + ' to learn more about interactive tables.';\n",
              "          element.innerHTML = '';\n",
              "          dataTable['output_type'] = 'display_data';\n",
              "          await google.colab.output.renderOutput(dataTable, element);\n",
              "          const docLink = document.createElement('div');\n",
              "          docLink.innerHTML = docLinkHtml;\n",
              "          element.appendChild(docLink);\n",
              "        }\n",
              "      </script>\n",
              "    </div>\n",
              "  </div>\n",
              "  "
            ]
          },
          "metadata": {}
        },
        {
          "output_type": "display_data",
          "data": {
            "text/plain": [
              "'Head: '"
            ],
            "application/vnd.google.colaboratory.intrinsic+json": {
              "type": "string"
            }
          },
          "metadata": {}
        },
        {
          "output_type": "display_data",
          "data": {
            "text/plain": [
              "        Unnamed: 0 first_name    last_name  \\\n",
              "11330        11330    Mohamed         Asli   \n",
              "265567      265567      Diane      Pierens   \n",
              "265568      265568      Diane      Pierens   \n",
              "265569      265569      Diane      Pierens   \n",
              "274883      274883  Francisco  Ramalho Jr.   \n",
              "\n",
              "                                       name  year  rank   genre  \n",
              "11330    Casablanca les anges ne volent pas  2004   NaN   Drama  \n",
              "265567                                Clara  1994   NaN   Drama  \n",
              "265568                                Clara  1994   NaN  Family  \n",
              "265569                                Clara  1994   NaN   Short  \n",
              "274883                         Flor da Pele  1976   5.5   Drama  "
            ],
            "text/html": [
              "\n",
              "  <div id=\"df-cce721ba-3fb2-4167-99fd-471a7aa6e8ef\">\n",
              "    <div class=\"colab-df-container\">\n",
              "      <div>\n",
              "<style scoped>\n",
              "    .dataframe tbody tr th:only-of-type {\n",
              "        vertical-align: middle;\n",
              "    }\n",
              "\n",
              "    .dataframe tbody tr th {\n",
              "        vertical-align: top;\n",
              "    }\n",
              "\n",
              "    .dataframe thead th {\n",
              "        text-align: right;\n",
              "    }\n",
              "</style>\n",
              "<table border=\"1\" class=\"dataframe\">\n",
              "  <thead>\n",
              "    <tr style=\"text-align: right;\">\n",
              "      <th></th>\n",
              "      <th>Unnamed: 0</th>\n",
              "      <th>first_name</th>\n",
              "      <th>last_name</th>\n",
              "      <th>name</th>\n",
              "      <th>year</th>\n",
              "      <th>rank</th>\n",
              "      <th>genre</th>\n",
              "    </tr>\n",
              "  </thead>\n",
              "  <tbody>\n",
              "    <tr>\n",
              "      <th>11330</th>\n",
              "      <td>11330</td>\n",
              "      <td>Mohamed</td>\n",
              "      <td>Asli</td>\n",
              "      <td>Casablanca les anges ne volent pas</td>\n",
              "      <td>2004</td>\n",
              "      <td>NaN</td>\n",
              "      <td>Drama</td>\n",
              "    </tr>\n",
              "    <tr>\n",
              "      <th>265567</th>\n",
              "      <td>265567</td>\n",
              "      <td>Diane</td>\n",
              "      <td>Pierens</td>\n",
              "      <td>Clara</td>\n",
              "      <td>1994</td>\n",
              "      <td>NaN</td>\n",
              "      <td>Drama</td>\n",
              "    </tr>\n",
              "    <tr>\n",
              "      <th>265568</th>\n",
              "      <td>265568</td>\n",
              "      <td>Diane</td>\n",
              "      <td>Pierens</td>\n",
              "      <td>Clara</td>\n",
              "      <td>1994</td>\n",
              "      <td>NaN</td>\n",
              "      <td>Family</td>\n",
              "    </tr>\n",
              "    <tr>\n",
              "      <th>265569</th>\n",
              "      <td>265569</td>\n",
              "      <td>Diane</td>\n",
              "      <td>Pierens</td>\n",
              "      <td>Clara</td>\n",
              "      <td>1994</td>\n",
              "      <td>NaN</td>\n",
              "      <td>Short</td>\n",
              "    </tr>\n",
              "    <tr>\n",
              "      <th>274883</th>\n",
              "      <td>274883</td>\n",
              "      <td>Francisco</td>\n",
              "      <td>Ramalho Jr.</td>\n",
              "      <td>Flor da Pele</td>\n",
              "      <td>1976</td>\n",
              "      <td>5.5</td>\n",
              "      <td>Drama</td>\n",
              "    </tr>\n",
              "  </tbody>\n",
              "</table>\n",
              "</div>\n",
              "      <button class=\"colab-df-convert\" onclick=\"convertToInteractive('df-cce721ba-3fb2-4167-99fd-471a7aa6e8ef')\"\n",
              "              title=\"Convert this dataframe to an interactive table.\"\n",
              "              style=\"display:none;\">\n",
              "        \n",
              "  <svg xmlns=\"http://www.w3.org/2000/svg\" height=\"24px\"viewBox=\"0 0 24 24\"\n",
              "       width=\"24px\">\n",
              "    <path d=\"M0 0h24v24H0V0z\" fill=\"none\"/>\n",
              "    <path d=\"M18.56 5.44l.94 2.06.94-2.06 2.06-.94-2.06-.94-.94-2.06-.94 2.06-2.06.94zm-11 1L8.5 8.5l.94-2.06 2.06-.94-2.06-.94L8.5 2.5l-.94 2.06-2.06.94zm10 10l.94 2.06.94-2.06 2.06-.94-2.06-.94-.94-2.06-.94 2.06-2.06.94z\"/><path d=\"M17.41 7.96l-1.37-1.37c-.4-.4-.92-.59-1.43-.59-.52 0-1.04.2-1.43.59L10.3 9.45l-7.72 7.72c-.78.78-.78 2.05 0 2.83L4 21.41c.39.39.9.59 1.41.59.51 0 1.02-.2 1.41-.59l7.78-7.78 2.81-2.81c.8-.78.8-2.07 0-2.86zM5.41 20L4 18.59l7.72-7.72 1.47 1.35L5.41 20z\"/>\n",
              "  </svg>\n",
              "      </button>\n",
              "      \n",
              "  <style>\n",
              "    .colab-df-container {\n",
              "      display:flex;\n",
              "      flex-wrap:wrap;\n",
              "      gap: 12px;\n",
              "    }\n",
              "\n",
              "    .colab-df-convert {\n",
              "      background-color: #E8F0FE;\n",
              "      border: none;\n",
              "      border-radius: 50%;\n",
              "      cursor: pointer;\n",
              "      display: none;\n",
              "      fill: #1967D2;\n",
              "      height: 32px;\n",
              "      padding: 0 0 0 0;\n",
              "      width: 32px;\n",
              "    }\n",
              "\n",
              "    .colab-df-convert:hover {\n",
              "      background-color: #E2EBFA;\n",
              "      box-shadow: 0px 1px 2px rgba(60, 64, 67, 0.3), 0px 1px 3px 1px rgba(60, 64, 67, 0.15);\n",
              "      fill: #174EA6;\n",
              "    }\n",
              "\n",
              "    [theme=dark] .colab-df-convert {\n",
              "      background-color: #3B4455;\n",
              "      fill: #D2E3FC;\n",
              "    }\n",
              "\n",
              "    [theme=dark] .colab-df-convert:hover {\n",
              "      background-color: #434B5C;\n",
              "      box-shadow: 0px 1px 3px 1px rgba(0, 0, 0, 0.15);\n",
              "      filter: drop-shadow(0px 1px 2px rgba(0, 0, 0, 0.3));\n",
              "      fill: #FFFFFF;\n",
              "    }\n",
              "  </style>\n",
              "\n",
              "      <script>\n",
              "        const buttonEl =\n",
              "          document.querySelector('#df-cce721ba-3fb2-4167-99fd-471a7aa6e8ef button.colab-df-convert');\n",
              "        buttonEl.style.display =\n",
              "          google.colab.kernel.accessAllowed ? 'block' : 'none';\n",
              "\n",
              "        async function convertToInteractive(key) {\n",
              "          const element = document.querySelector('#df-cce721ba-3fb2-4167-99fd-471a7aa6e8ef');\n",
              "          const dataTable =\n",
              "            await google.colab.kernel.invokeFunction('convertToInteractive',\n",
              "                                                     [key], {});\n",
              "          if (!dataTable) return;\n",
              "\n",
              "          const docLinkHtml = 'Like what you see? Visit the ' +\n",
              "            '<a target=\"_blank\" href=https://colab.research.google.com/notebooks/data_table.ipynb>data table notebook</a>'\n",
              "            + ' to learn more about interactive tables.';\n",
              "          element.innerHTML = '';\n",
              "          dataTable['output_type'] = 'display_data';\n",
              "          await google.colab.output.renderOutput(dataTable, element);\n",
              "          const docLink = document.createElement('div');\n",
              "          docLink.innerHTML = docLinkHtml;\n",
              "          element.appendChild(docLink);\n",
              "        }\n",
              "      </script>\n",
              "    </div>\n",
              "  </div>\n",
              "  "
            ]
          },
          "metadata": {}
        },
        {
          "output_type": "stream",
          "name": "stdout",
          "text": [
            "<class 'pandas.core.frame.DataFrame'>\n",
            "Int64Index: 368894 entries, 11330 to 218388\n",
            "Data columns (total 7 columns):\n",
            " #   Column      Non-Null Count   Dtype  \n",
            "---  ------      --------------   -----  \n",
            " 0   Unnamed: 0  368894 non-null  int64  \n",
            " 1   first_name  368894 non-null  object \n",
            " 2   last_name   368894 non-null  object \n",
            " 3   name        368894 non-null  object \n",
            " 4   year        368894 non-null  int64  \n",
            " 5   rank        113376 non-null  float64\n",
            " 6   genre       368894 non-null  object \n",
            "dtypes: float64(1), int64(2), object(4)\n",
            "memory usage: 22.5+ MB\n"
          ]
        },
        {
          "output_type": "display_data",
          "data": {
            "text/plain": [
              "'Info: '"
            ],
            "application/vnd.google.colaboratory.intrinsic+json": {
              "type": "string"
            }
          },
          "metadata": {}
        },
        {
          "output_type": "display_data",
          "data": {
            "text/plain": [
              "None"
            ]
          },
          "metadata": {}
        },
        {
          "output_type": "display_data",
          "data": {
            "text/plain": [
              "'Null Values: '"
            ],
            "application/vnd.google.colaboratory.intrinsic+json": {
              "type": "string"
            }
          },
          "metadata": {}
        },
        {
          "output_type": "display_data",
          "data": {
            "text/plain": [
              "True"
            ]
          },
          "metadata": {}
        },
        {
          "output_type": "display_data",
          "data": {
            "text/plain": [
              "'Null Values: '"
            ],
            "application/vnd.google.colaboratory.intrinsic+json": {
              "type": "string"
            }
          },
          "metadata": {}
        },
        {
          "output_type": "display_data",
          "data": {
            "text/plain": [
              "True"
            ]
          },
          "metadata": {}
        },
        {
          "output_type": "display_data",
          "data": {
            "text/plain": [
              "        Unnamed: 0  first_name  last_name   name   year   rank  genre\n",
              "11330        False       False      False  False  False   True  False\n",
              "265567       False       False      False  False  False   True  False\n",
              "265568       False       False      False  False  False   True  False\n",
              "265569       False       False      False  False  False   True  False\n",
              "274883       False       False      False  False  False  False  False\n",
              "...            ...         ...        ...    ...    ...    ...    ...\n",
              "170647       False       False      False  False  False   True  False\n",
              "170648       False       False      False  False  False   True  False\n",
              "218386       False       False      False  False  False   True  False\n",
              "218387       False       False      False  False  False   True  False\n",
              "218388       False       False      False  False  False   True  False\n",
              "\n",
              "[368894 rows x 7 columns]"
            ],
            "text/html": [
              "\n",
              "  <div id=\"df-79f376fe-fe45-4ac3-9ee3-66ddedde36e0\">\n",
              "    <div class=\"colab-df-container\">\n",
              "      <div>\n",
              "<style scoped>\n",
              "    .dataframe tbody tr th:only-of-type {\n",
              "        vertical-align: middle;\n",
              "    }\n",
              "\n",
              "    .dataframe tbody tr th {\n",
              "        vertical-align: top;\n",
              "    }\n",
              "\n",
              "    .dataframe thead th {\n",
              "        text-align: right;\n",
              "    }\n",
              "</style>\n",
              "<table border=\"1\" class=\"dataframe\">\n",
              "  <thead>\n",
              "    <tr style=\"text-align: right;\">\n",
              "      <th></th>\n",
              "      <th>Unnamed: 0</th>\n",
              "      <th>first_name</th>\n",
              "      <th>last_name</th>\n",
              "      <th>name</th>\n",
              "      <th>year</th>\n",
              "      <th>rank</th>\n",
              "      <th>genre</th>\n",
              "    </tr>\n",
              "  </thead>\n",
              "  <tbody>\n",
              "    <tr>\n",
              "      <th>11330</th>\n",
              "      <td>False</td>\n",
              "      <td>False</td>\n",
              "      <td>False</td>\n",
              "      <td>False</td>\n",
              "      <td>False</td>\n",
              "      <td>True</td>\n",
              "      <td>False</td>\n",
              "    </tr>\n",
              "    <tr>\n",
              "      <th>265567</th>\n",
              "      <td>False</td>\n",
              "      <td>False</td>\n",
              "      <td>False</td>\n",
              "      <td>False</td>\n",
              "      <td>False</td>\n",
              "      <td>True</td>\n",
              "      <td>False</td>\n",
              "    </tr>\n",
              "    <tr>\n",
              "      <th>265568</th>\n",
              "      <td>False</td>\n",
              "      <td>False</td>\n",
              "      <td>False</td>\n",
              "      <td>False</td>\n",
              "      <td>False</td>\n",
              "      <td>True</td>\n",
              "      <td>False</td>\n",
              "    </tr>\n",
              "    <tr>\n",
              "      <th>265569</th>\n",
              "      <td>False</td>\n",
              "      <td>False</td>\n",
              "      <td>False</td>\n",
              "      <td>False</td>\n",
              "      <td>False</td>\n",
              "      <td>True</td>\n",
              "      <td>False</td>\n",
              "    </tr>\n",
              "    <tr>\n",
              "      <th>274883</th>\n",
              "      <td>False</td>\n",
              "      <td>False</td>\n",
              "      <td>False</td>\n",
              "      <td>False</td>\n",
              "      <td>False</td>\n",
              "      <td>False</td>\n",
              "      <td>False</td>\n",
              "    </tr>\n",
              "    <tr>\n",
              "      <th>...</th>\n",
              "      <td>...</td>\n",
              "      <td>...</td>\n",
              "      <td>...</td>\n",
              "      <td>...</td>\n",
              "      <td>...</td>\n",
              "      <td>...</td>\n",
              "      <td>...</td>\n",
              "    </tr>\n",
              "    <tr>\n",
              "      <th>170647</th>\n",
              "      <td>False</td>\n",
              "      <td>False</td>\n",
              "      <td>False</td>\n",
              "      <td>False</td>\n",
              "      <td>False</td>\n",
              "      <td>True</td>\n",
              "      <td>False</td>\n",
              "    </tr>\n",
              "    <tr>\n",
              "      <th>170648</th>\n",
              "      <td>False</td>\n",
              "      <td>False</td>\n",
              "      <td>False</td>\n",
              "      <td>False</td>\n",
              "      <td>False</td>\n",
              "      <td>True</td>\n",
              "      <td>False</td>\n",
              "    </tr>\n",
              "    <tr>\n",
              "      <th>218386</th>\n",
              "      <td>False</td>\n",
              "      <td>False</td>\n",
              "      <td>False</td>\n",
              "      <td>False</td>\n",
              "      <td>False</td>\n",
              "      <td>True</td>\n",
              "      <td>False</td>\n",
              "    </tr>\n",
              "    <tr>\n",
              "      <th>218387</th>\n",
              "      <td>False</td>\n",
              "      <td>False</td>\n",
              "      <td>False</td>\n",
              "      <td>False</td>\n",
              "      <td>False</td>\n",
              "      <td>True</td>\n",
              "      <td>False</td>\n",
              "    </tr>\n",
              "    <tr>\n",
              "      <th>218388</th>\n",
              "      <td>False</td>\n",
              "      <td>False</td>\n",
              "      <td>False</td>\n",
              "      <td>False</td>\n",
              "      <td>False</td>\n",
              "      <td>True</td>\n",
              "      <td>False</td>\n",
              "    </tr>\n",
              "  </tbody>\n",
              "</table>\n",
              "<p>368894 rows × 7 columns</p>\n",
              "</div>\n",
              "      <button class=\"colab-df-convert\" onclick=\"convertToInteractive('df-79f376fe-fe45-4ac3-9ee3-66ddedde36e0')\"\n",
              "              title=\"Convert this dataframe to an interactive table.\"\n",
              "              style=\"display:none;\">\n",
              "        \n",
              "  <svg xmlns=\"http://www.w3.org/2000/svg\" height=\"24px\"viewBox=\"0 0 24 24\"\n",
              "       width=\"24px\">\n",
              "    <path d=\"M0 0h24v24H0V0z\" fill=\"none\"/>\n",
              "    <path d=\"M18.56 5.44l.94 2.06.94-2.06 2.06-.94-2.06-.94-.94-2.06-.94 2.06-2.06.94zm-11 1L8.5 8.5l.94-2.06 2.06-.94-2.06-.94L8.5 2.5l-.94 2.06-2.06.94zm10 10l.94 2.06.94-2.06 2.06-.94-2.06-.94-.94-2.06-.94 2.06-2.06.94z\"/><path d=\"M17.41 7.96l-1.37-1.37c-.4-.4-.92-.59-1.43-.59-.52 0-1.04.2-1.43.59L10.3 9.45l-7.72 7.72c-.78.78-.78 2.05 0 2.83L4 21.41c.39.39.9.59 1.41.59.51 0 1.02-.2 1.41-.59l7.78-7.78 2.81-2.81c.8-.78.8-2.07 0-2.86zM5.41 20L4 18.59l7.72-7.72 1.47 1.35L5.41 20z\"/>\n",
              "  </svg>\n",
              "      </button>\n",
              "      \n",
              "  <style>\n",
              "    .colab-df-container {\n",
              "      display:flex;\n",
              "      flex-wrap:wrap;\n",
              "      gap: 12px;\n",
              "    }\n",
              "\n",
              "    .colab-df-convert {\n",
              "      background-color: #E8F0FE;\n",
              "      border: none;\n",
              "      border-radius: 50%;\n",
              "      cursor: pointer;\n",
              "      display: none;\n",
              "      fill: #1967D2;\n",
              "      height: 32px;\n",
              "      padding: 0 0 0 0;\n",
              "      width: 32px;\n",
              "    }\n",
              "\n",
              "    .colab-df-convert:hover {\n",
              "      background-color: #E2EBFA;\n",
              "      box-shadow: 0px 1px 2px rgba(60, 64, 67, 0.3), 0px 1px 3px 1px rgba(60, 64, 67, 0.15);\n",
              "      fill: #174EA6;\n",
              "    }\n",
              "\n",
              "    [theme=dark] .colab-df-convert {\n",
              "      background-color: #3B4455;\n",
              "      fill: #D2E3FC;\n",
              "    }\n",
              "\n",
              "    [theme=dark] .colab-df-convert:hover {\n",
              "      background-color: #434B5C;\n",
              "      box-shadow: 0px 1px 3px 1px rgba(0, 0, 0, 0.15);\n",
              "      filter: drop-shadow(0px 1px 2px rgba(0, 0, 0, 0.3));\n",
              "      fill: #FFFFFF;\n",
              "    }\n",
              "  </style>\n",
              "\n",
              "      <script>\n",
              "        const buttonEl =\n",
              "          document.querySelector('#df-79f376fe-fe45-4ac3-9ee3-66ddedde36e0 button.colab-df-convert');\n",
              "        buttonEl.style.display =\n",
              "          google.colab.kernel.accessAllowed ? 'block' : 'none';\n",
              "\n",
              "        async function convertToInteractive(key) {\n",
              "          const element = document.querySelector('#df-79f376fe-fe45-4ac3-9ee3-66ddedde36e0');\n",
              "          const dataTable =\n",
              "            await google.colab.kernel.invokeFunction('convertToInteractive',\n",
              "                                                     [key], {});\n",
              "          if (!dataTable) return;\n",
              "\n",
              "          const docLinkHtml = 'Like what you see? Visit the ' +\n",
              "            '<a target=\"_blank\" href=https://colab.research.google.com/notebooks/data_table.ipynb>data table notebook</a>'\n",
              "            + ' to learn more about interactive tables.';\n",
              "          element.innerHTML = '';\n",
              "          dataTable['output_type'] = 'display_data';\n",
              "          await google.colab.output.renderOutput(dataTable, element);\n",
              "          const docLink = document.createElement('div');\n",
              "          docLink.innerHTML = docLinkHtml;\n",
              "          element.appendChild(docLink);\n",
              "        }\n",
              "      </script>\n",
              "    </div>\n",
              "  </div>\n",
              "  "
            ]
          },
          "metadata": {}
        },
        {
          "output_type": "stream",
          "name": "stdout",
          "text": [
            "\n",
            "Unique values from column rank...\n",
            " [nan 5.5 8.7 5.1 5.2 7.8 6.  7.2 4.  6.8 3.1 3.9 6.2 5.8 4.3 6.4 7.3 8.1\n",
            " 7.5 8.2 3.2 7.9 6.3 5.6 7.1 5.  7.  6.7 6.5 9.6 5.4 6.6 4.9 7.7 6.1 3.5\n",
            " 6.9 5.7 1.6 4.6 2.  4.8 5.9 3.8 7.4 2.4 4.4 4.7 8.  3.6 5.3 2.8 4.5 2.3\n",
            " 4.1 8.8 3.3 2.2 9.  7.6 9.8 8.4 9.3 4.2 9.5 8.3 1.4 3.4 2.5 3.7 1.8 9.2\n",
            " 3.  8.5 2.7 2.9 9.4 1.9 8.9 8.6 9.1 9.7 2.6 1.7 1.  2.1 1.5 1.3 9.9 1.1\n",
            " 1.2]\n",
            "\n",
            "Count unique values from a column ...\n",
            " 90\n"
          ]
        },
        {
          "output_type": "display_data",
          "data": {
            "text/plain": [
              "'count of missing values: '"
            ],
            "application/vnd.google.colaboratory.intrinsic+json": {
              "type": "string"
            }
          },
          "metadata": {}
        },
        {
          "output_type": "display_data",
          "data": {
            "text/plain": [
              "Unnamed: 0         0\n",
              "first_name         0\n",
              "last_name          0\n",
              "name               0\n",
              "year               0\n",
              "rank          255518\n",
              "genre              0\n",
              "dtype: int64"
            ]
          },
          "metadata": {}
        },
        {
          "output_type": "display_data",
          "data": {
            "text/plain": [
              "Unnamed: 0     0.000000\n",
              "first_name     0.000000\n",
              "last_name      0.000000\n",
              "name           0.000000\n",
              "year           0.000000\n",
              "rank          69.265968\n",
              "genre          0.000000\n",
              "dtype: float64"
            ]
          },
          "metadata": {}
        },
        {
          "output_type": "stream",
          "name": "stdout",
          "text": [
            "\n",
            "Unique values from column genre...\n",
            " ['Drama' 'Family' 'Short' 'Comedy' 'Documentary' 'Musical' 'Romance'\n",
            " 'Fantasy' 'Crime' 'Horror' 'Mystery' 'War' 'Thriller' 'Animation'\n",
            " 'Western' 'Music' 'Action' 'Sci-Fi' 'Adventure' 'Film-Noir']\n",
            "\n",
            "Count unique values from a column ...\n",
            " 20\n"
          ]
        },
        {
          "output_type": "display_data",
          "data": {
            "text/plain": [
              "'Duplicate Values'"
            ],
            "application/vnd.google.colaboratory.intrinsic+json": {
              "type": "string"
            }
          },
          "metadata": {}
        },
        {
          "output_type": "display_data",
          "data": {
            "text/plain": [
              "        Unnamed: 0    first_name last_name              name  year  rank  \\\n",
              "265567      265567         Diane   Pierens             Clara  1994   NaN   \n",
              "265568      265568         Diane   Pierens             Clara  1994   NaN   \n",
              "265569      265569         Diane   Pierens             Clara  1994   NaN   \n",
              "128110      128110  Pierre-Marie    Goulet             Gaule  1974   NaN   \n",
              "128111      128111  Pierre-Marie    Goulet             Gaule  1974   NaN   \n",
              "...            ...           ...       ...               ...   ...   ...   \n",
              "170647      170647         Kemal       Kan  zmc kizin kaderi  1961   NaN   \n",
              "170648      170648         Kemal       Kan  zmc kizin kaderi  1961   NaN   \n",
              "218386      218386     Seiji (I)  Maruyama   zora no samurai  1976   NaN   \n",
              "218387      218387     Seiji (I)  Maruyama   zora no samurai  1976   NaN   \n",
              "218388      218388     Seiji (I)  Maruyama   zora no samurai  1976   NaN   \n",
              "\n",
              "              genre  \n",
              "265567        Drama  \n",
              "265568       Family  \n",
              "265569        Short  \n",
              "128110  Documentary  \n",
              "128111        Short  \n",
              "...             ...  \n",
              "170647        Drama  \n",
              "170648      Romance  \n",
              "218386       Action  \n",
              "218387        Drama  \n",
              "218388          War  \n",
              "\n",
              "[270724 rows x 7 columns]"
            ],
            "text/html": [
              "\n",
              "  <div id=\"df-da1910a5-3ec5-4922-a902-699f5fb3958d\">\n",
              "    <div class=\"colab-df-container\">\n",
              "      <div>\n",
              "<style scoped>\n",
              "    .dataframe tbody tr th:only-of-type {\n",
              "        vertical-align: middle;\n",
              "    }\n",
              "\n",
              "    .dataframe tbody tr th {\n",
              "        vertical-align: top;\n",
              "    }\n",
              "\n",
              "    .dataframe thead th {\n",
              "        text-align: right;\n",
              "    }\n",
              "</style>\n",
              "<table border=\"1\" class=\"dataframe\">\n",
              "  <thead>\n",
              "    <tr style=\"text-align: right;\">\n",
              "      <th></th>\n",
              "      <th>Unnamed: 0</th>\n",
              "      <th>first_name</th>\n",
              "      <th>last_name</th>\n",
              "      <th>name</th>\n",
              "      <th>year</th>\n",
              "      <th>rank</th>\n",
              "      <th>genre</th>\n",
              "    </tr>\n",
              "  </thead>\n",
              "  <tbody>\n",
              "    <tr>\n",
              "      <th>265567</th>\n",
              "      <td>265567</td>\n",
              "      <td>Diane</td>\n",
              "      <td>Pierens</td>\n",
              "      <td>Clara</td>\n",
              "      <td>1994</td>\n",
              "      <td>NaN</td>\n",
              "      <td>Drama</td>\n",
              "    </tr>\n",
              "    <tr>\n",
              "      <th>265568</th>\n",
              "      <td>265568</td>\n",
              "      <td>Diane</td>\n",
              "      <td>Pierens</td>\n",
              "      <td>Clara</td>\n",
              "      <td>1994</td>\n",
              "      <td>NaN</td>\n",
              "      <td>Family</td>\n",
              "    </tr>\n",
              "    <tr>\n",
              "      <th>265569</th>\n",
              "      <td>265569</td>\n",
              "      <td>Diane</td>\n",
              "      <td>Pierens</td>\n",
              "      <td>Clara</td>\n",
              "      <td>1994</td>\n",
              "      <td>NaN</td>\n",
              "      <td>Short</td>\n",
              "    </tr>\n",
              "    <tr>\n",
              "      <th>128110</th>\n",
              "      <td>128110</td>\n",
              "      <td>Pierre-Marie</td>\n",
              "      <td>Goulet</td>\n",
              "      <td>Gaule</td>\n",
              "      <td>1974</td>\n",
              "      <td>NaN</td>\n",
              "      <td>Documentary</td>\n",
              "    </tr>\n",
              "    <tr>\n",
              "      <th>128111</th>\n",
              "      <td>128111</td>\n",
              "      <td>Pierre-Marie</td>\n",
              "      <td>Goulet</td>\n",
              "      <td>Gaule</td>\n",
              "      <td>1974</td>\n",
              "      <td>NaN</td>\n",
              "      <td>Short</td>\n",
              "    </tr>\n",
              "    <tr>\n",
              "      <th>...</th>\n",
              "      <td>...</td>\n",
              "      <td>...</td>\n",
              "      <td>...</td>\n",
              "      <td>...</td>\n",
              "      <td>...</td>\n",
              "      <td>...</td>\n",
              "      <td>...</td>\n",
              "    </tr>\n",
              "    <tr>\n",
              "      <th>170647</th>\n",
              "      <td>170647</td>\n",
              "      <td>Kemal</td>\n",
              "      <td>Kan</td>\n",
              "      <td>zmc kizin kaderi</td>\n",
              "      <td>1961</td>\n",
              "      <td>NaN</td>\n",
              "      <td>Drama</td>\n",
              "    </tr>\n",
              "    <tr>\n",
              "      <th>170648</th>\n",
              "      <td>170648</td>\n",
              "      <td>Kemal</td>\n",
              "      <td>Kan</td>\n",
              "      <td>zmc kizin kaderi</td>\n",
              "      <td>1961</td>\n",
              "      <td>NaN</td>\n",
              "      <td>Romance</td>\n",
              "    </tr>\n",
              "    <tr>\n",
              "      <th>218386</th>\n",
              "      <td>218386</td>\n",
              "      <td>Seiji (I)</td>\n",
              "      <td>Maruyama</td>\n",
              "      <td>zora no samurai</td>\n",
              "      <td>1976</td>\n",
              "      <td>NaN</td>\n",
              "      <td>Action</td>\n",
              "    </tr>\n",
              "    <tr>\n",
              "      <th>218387</th>\n",
              "      <td>218387</td>\n",
              "      <td>Seiji (I)</td>\n",
              "      <td>Maruyama</td>\n",
              "      <td>zora no samurai</td>\n",
              "      <td>1976</td>\n",
              "      <td>NaN</td>\n",
              "      <td>Drama</td>\n",
              "    </tr>\n",
              "    <tr>\n",
              "      <th>218388</th>\n",
              "      <td>218388</td>\n",
              "      <td>Seiji (I)</td>\n",
              "      <td>Maruyama</td>\n",
              "      <td>zora no samurai</td>\n",
              "      <td>1976</td>\n",
              "      <td>NaN</td>\n",
              "      <td>War</td>\n",
              "    </tr>\n",
              "  </tbody>\n",
              "</table>\n",
              "<p>270724 rows × 7 columns</p>\n",
              "</div>\n",
              "      <button class=\"colab-df-convert\" onclick=\"convertToInteractive('df-da1910a5-3ec5-4922-a902-699f5fb3958d')\"\n",
              "              title=\"Convert this dataframe to an interactive table.\"\n",
              "              style=\"display:none;\">\n",
              "        \n",
              "  <svg xmlns=\"http://www.w3.org/2000/svg\" height=\"24px\"viewBox=\"0 0 24 24\"\n",
              "       width=\"24px\">\n",
              "    <path d=\"M0 0h24v24H0V0z\" fill=\"none\"/>\n",
              "    <path d=\"M18.56 5.44l.94 2.06.94-2.06 2.06-.94-2.06-.94-.94-2.06-.94 2.06-2.06.94zm-11 1L8.5 8.5l.94-2.06 2.06-.94-2.06-.94L8.5 2.5l-.94 2.06-2.06.94zm10 10l.94 2.06.94-2.06 2.06-.94-2.06-.94-.94-2.06-.94 2.06-2.06.94z\"/><path d=\"M17.41 7.96l-1.37-1.37c-.4-.4-.92-.59-1.43-.59-.52 0-1.04.2-1.43.59L10.3 9.45l-7.72 7.72c-.78.78-.78 2.05 0 2.83L4 21.41c.39.39.9.59 1.41.59.51 0 1.02-.2 1.41-.59l7.78-7.78 2.81-2.81c.8-.78.8-2.07 0-2.86zM5.41 20L4 18.59l7.72-7.72 1.47 1.35L5.41 20z\"/>\n",
              "  </svg>\n",
              "      </button>\n",
              "      \n",
              "  <style>\n",
              "    .colab-df-container {\n",
              "      display:flex;\n",
              "      flex-wrap:wrap;\n",
              "      gap: 12px;\n",
              "    }\n",
              "\n",
              "    .colab-df-convert {\n",
              "      background-color: #E8F0FE;\n",
              "      border: none;\n",
              "      border-radius: 50%;\n",
              "      cursor: pointer;\n",
              "      display: none;\n",
              "      fill: #1967D2;\n",
              "      height: 32px;\n",
              "      padding: 0 0 0 0;\n",
              "      width: 32px;\n",
              "    }\n",
              "\n",
              "    .colab-df-convert:hover {\n",
              "      background-color: #E2EBFA;\n",
              "      box-shadow: 0px 1px 2px rgba(60, 64, 67, 0.3), 0px 1px 3px 1px rgba(60, 64, 67, 0.15);\n",
              "      fill: #174EA6;\n",
              "    }\n",
              "\n",
              "    [theme=dark] .colab-df-convert {\n",
              "      background-color: #3B4455;\n",
              "      fill: #D2E3FC;\n",
              "    }\n",
              "\n",
              "    [theme=dark] .colab-df-convert:hover {\n",
              "      background-color: #434B5C;\n",
              "      box-shadow: 0px 1px 3px 1px rgba(0, 0, 0, 0.15);\n",
              "      filter: drop-shadow(0px 1px 2px rgba(0, 0, 0, 0.3));\n",
              "      fill: #FFFFFF;\n",
              "    }\n",
              "  </style>\n",
              "\n",
              "      <script>\n",
              "        const buttonEl =\n",
              "          document.querySelector('#df-da1910a5-3ec5-4922-a902-699f5fb3958d button.colab-df-convert');\n",
              "        buttonEl.style.display =\n",
              "          google.colab.kernel.accessAllowed ? 'block' : 'none';\n",
              "\n",
              "        async function convertToInteractive(key) {\n",
              "          const element = document.querySelector('#df-da1910a5-3ec5-4922-a902-699f5fb3958d');\n",
              "          const dataTable =\n",
              "            await google.colab.kernel.invokeFunction('convertToInteractive',\n",
              "                                                     [key], {});\n",
              "          if (!dataTable) return;\n",
              "\n",
              "          const docLinkHtml = 'Like what you see? Visit the ' +\n",
              "            '<a target=\"_blank\" href=https://colab.research.google.com/notebooks/data_table.ipynb>data table notebook</a>'\n",
              "            + ' to learn more about interactive tables.';\n",
              "          element.innerHTML = '';\n",
              "          dataTable['output_type'] = 'display_data';\n",
              "          await google.colab.output.renderOutput(dataTable, element);\n",
              "          const docLink = document.createElement('div');\n",
              "          docLink.innerHTML = docLinkHtml;\n",
              "          element.appendChild(docLink);\n",
              "        }\n",
              "      </script>\n",
              "    </div>\n",
              "  </div>\n",
              "  "
            ]
          },
          "metadata": {}
        },
        {
          "output_type": "display_data",
          "data": {
            "text/plain": [
              "'\\nCount unique values from name column ...\\n'"
            ],
            "application/vnd.google.colaboratory.intrinsic+json": {
              "type": "string"
            }
          },
          "metadata": {}
        },
        {
          "output_type": "display_data",
          "data": {
            "text/plain": [
              "99029"
            ]
          },
          "metadata": {}
        },
        {
          "output_type": "display_data",
          "data": {
            "text/plain": [
              "'count of missing values in duplicates: '"
            ],
            "application/vnd.google.colaboratory.intrinsic+json": {
              "type": "string"
            }
          },
          "metadata": {}
        },
        {
          "output_type": "display_data",
          "data": {
            "text/plain": [
              "Unnamed: 0         0\n",
              "first_name         0\n",
              "last_name          0\n",
              "name               0\n",
              "year               0\n",
              "rank          181105\n",
              "genre              0\n",
              "dtype: int64"
            ]
          },
          "metadata": {}
        },
        {
          "output_type": "display_data",
          "data": {
            "text/plain": [
              "Unnamed: 0     0.000000\n",
              "first_name     0.000000\n",
              "last_name      0.000000\n",
              "name           0.000000\n",
              "year           0.000000\n",
              "rank          66.896544\n",
              "genre          0.000000\n",
              "dtype: float64"
            ]
          },
          "metadata": {}
        },
        {
          "output_type": "stream",
          "name": "stdout",
          "text": [
            "Count of movies with 9.9 rank:  55\n"
          ]
        }
      ]
    },
    {
      "cell_type": "markdown",
      "source": [
        "\n",
        "\n",
        "---\n",
        "\n",
        "\n",
        "# **Inspecting the Data Notes**\n",
        "\n",
        "---\n",
        "\n",
        "\n",
        "1.   On initial look at the data, I can see that the dataset has **368894** rows. From  **.info()**, the only column that contains null data is the \"**rank**\" column. This will need to be cleaned. The first column in the dataframe is called \"**Unnamed: 0**\" and on initial inspection it looks like it is just a record number. Will need to look at this further.\n",
        "\n",
        "2.   **Rank Column** - Looking more closely at the rank column which contains null values, we can see that there are **255518** records with a missing rank value and this represents nearly **70%** of the total number of recs. There are **90** unique values in this column (including nan) with a **max value of 9.9** and a **minimum of 1**. This leaves us with the question of what to do with the rank column? Options are to **a)** drop the column entirely from the dataframe **b)** somehow impute a sensible value for the empty fields **c)** remove only those records that have an empty rank value, although this would result in a dataset **reduced by nearly 70%**, a not insignificant amount.\n",
        "\n",
        "1.  **Duplicate row check** - when checking for duplicates, no Movie/Director/Year combination should have more than 1 row. When check for rows with duplicate values, **138290** rows are returned (includes all duplicate rows) which represents **89140** rows with a unique movie name. From this initial check, it looks possible that all duplicate rows have missing values in the **rank** column. Check this out.\n",
        "2.   After checking whether all duplicates have missing values in the **rank** column, I can see that this is not actually the case. Of **138290** duplicate rows returned, only **88465** of these have missing values in the rank field\n",
        "\n",
        "\n",
        "\n",
        "\n",
        "\n",
        "\n",
        " \n",
        "\n",
        "\n",
        "\n",
        "\n"
      ],
      "metadata": {
        "id": "uiG_94fJ6HfT"
      }
    },
    {
      "cell_type": "markdown",
      "metadata": {
        "id": "wIRDoCnxMRj8"
      },
      "source": [
        "### Clean the dataset \n",
        "---\n"
      ]
    },
    {
      "cell_type": "code",
      "metadata": {
        "id": "LgY60bsbMUc8",
        "colab": {
          "base_uri": "https://localhost:8080/",
          "height": 703
        },
        "outputId": "9bf0d49a-60a1-4a99-8229-8786bb30608d"
      },
      "source": [
        "from os import name\n",
        "import pandas as pd\n",
        "\n",
        "def clean_data(df):\n",
        "\n",
        "  # ==========================================\n",
        "  # drop first col as not needed\n",
        "  # ================================================================\n",
        "  df= df.drop('Unnamed: 0',axis=1)\n",
        "\n",
        "  # ================================================================\n",
        "  # remove rows where col rank is null\n",
        "  # ================================================================\n",
        "  clean_df = df[~df[\"rank\"].isnull()]\n",
        " \n",
        "  # ================================================================\n",
        "  # remove leading/trailing spaces from strings\n",
        "  # ================================================================\n",
        " \n",
        "  # removing whitespace from more than 1 column\n",
        "  clean_df['name'].str.strip()\n",
        "  clean_df['first_name'].str.strip()\n",
        "  clean_df['last_name'].str.strip()\n",
        "\n",
        "  # ================================================================\n",
        "  # now that non-nulls removed, remove duplicate movie recs\n",
        "  # ================================================================\n",
        "  clean_duplicates = clean_df.drop_duplicates(subset = ['name'], keep = 'last')\n",
        "  \n",
        "  display(\"Sorted Duplicate Values: \")\n",
        "  sorted_df = clean_duplicates.sort_values(by = [\"name\"])\n",
        "    \n",
        "  display(\"Info: \", sorted_df.info())\n",
        "\n",
        "  return sorted_df\n",
        "  \n",
        "# program starts here\n",
        "url = \"https://github.com/lilaceri/Working-with-data-/blob/main/Data%20Sets%20for%20code%20divisio/movies.csv?raw=true\"\n",
        "\n",
        "movie_df = pd.read_csv(url)\n",
        "\n",
        "clean_data(movie_df)\n",
        "\n"
      ],
      "execution_count": 2,
      "outputs": [
        {
          "output_type": "display_data",
          "data": {
            "text/plain": [
              "'Sorted Duplicate Values: '"
            ],
            "application/vnd.google.colaboratory.intrinsic+json": {
              "type": "string"
            }
          },
          "metadata": {}
        },
        {
          "output_type": "stream",
          "name": "stdout",
          "text": [
            "<class 'pandas.core.frame.DataFrame'>\n",
            "Int64Index: 55954 entries, 274883 to 151291\n",
            "Data columns (total 6 columns):\n",
            " #   Column      Non-Null Count  Dtype  \n",
            "---  ------      --------------  -----  \n",
            " 0   first_name  55954 non-null  object \n",
            " 1   last_name   55954 non-null  object \n",
            " 2   name        55954 non-null  object \n",
            " 3   year        55954 non-null  int64  \n",
            " 4   rank        55954 non-null  float64\n",
            " 5   genre       55954 non-null  object \n",
            "dtypes: float64(1), int64(1), object(4)\n",
            "memory usage: 3.0+ MB\n"
          ]
        },
        {
          "output_type": "display_data",
          "data": {
            "text/plain": [
              "'Info: '"
            ],
            "application/vnd.google.colaboratory.intrinsic+json": {
              "type": "string"
            }
          },
          "metadata": {}
        },
        {
          "output_type": "display_data",
          "data": {
            "text/plain": [
              "None"
            ]
          },
          "metadata": {}
        },
        {
          "output_type": "execute_result",
          "data": {
            "text/plain": [
              "       first_name     last_name  \\\n",
              "274883  Francisco   Ramalho Jr.   \n",
              "233647     Evaldo      Mocarzel   \n",
              "233670   Giuseppe        Moccia   \n",
              "118878     Pierre  Gaspard-Huit   \n",
              "216153      Mario        Marret   \n",
              "...           ...           ...   \n",
              "81940     Jacques          Demy   \n",
              "1900       Amable       Aguiluz   \n",
              "20127     Mariano       Barroso   \n",
              "198580     Gianni         Lepre   \n",
              "151291     Marius         Holst   \n",
              "\n",
              "                                                     name  year  rank  \\\n",
              "274883                                       Flor da Pele  1976   5.5   \n",
              "233647                                   Margem da Imagem  2003   8.7   \n",
              "233670                              arrivato mio fratello  1985   5.1   \n",
              "118878                                       belles dents  1966   5.5   \n",
              "216153                                    bientt, j'espre  1968   5.2   \n",
              "...                                                   ...   ...   ...   \n",
              "81940   vnement le plus important depuis que l'homme a...  1973   4.5   \n",
              "1900                                          www.XXX.com  2003   1.0   \n",
              "20127                                     xtasis (1996/I)  1996   7.6   \n",
              "198580                                          ye for ye  1985   4.5   \n",
              "151291                                         yenstikker  2001   5.3   \n",
              "\n",
              "              genre  \n",
              "274883        Drama  \n",
              "233647  Documentary  \n",
              "233670       Comedy  \n",
              "118878        Drama  \n",
              "216153  Documentary  \n",
              "...             ...  \n",
              "81940        Comedy  \n",
              "1900        Romance  \n",
              "20127         Drama  \n",
              "198580        Drama  \n",
              "151291        Drama  \n",
              "\n",
              "[55954 rows x 6 columns]"
            ],
            "text/html": [
              "\n",
              "  <div id=\"df-e9d40972-1692-49f2-a1c5-2489379d372f\">\n",
              "    <div class=\"colab-df-container\">\n",
              "      <div>\n",
              "<style scoped>\n",
              "    .dataframe tbody tr th:only-of-type {\n",
              "        vertical-align: middle;\n",
              "    }\n",
              "\n",
              "    .dataframe tbody tr th {\n",
              "        vertical-align: top;\n",
              "    }\n",
              "\n",
              "    .dataframe thead th {\n",
              "        text-align: right;\n",
              "    }\n",
              "</style>\n",
              "<table border=\"1\" class=\"dataframe\">\n",
              "  <thead>\n",
              "    <tr style=\"text-align: right;\">\n",
              "      <th></th>\n",
              "      <th>first_name</th>\n",
              "      <th>last_name</th>\n",
              "      <th>name</th>\n",
              "      <th>year</th>\n",
              "      <th>rank</th>\n",
              "      <th>genre</th>\n",
              "    </tr>\n",
              "  </thead>\n",
              "  <tbody>\n",
              "    <tr>\n",
              "      <th>274883</th>\n",
              "      <td>Francisco</td>\n",
              "      <td>Ramalho Jr.</td>\n",
              "      <td>Flor da Pele</td>\n",
              "      <td>1976</td>\n",
              "      <td>5.5</td>\n",
              "      <td>Drama</td>\n",
              "    </tr>\n",
              "    <tr>\n",
              "      <th>233647</th>\n",
              "      <td>Evaldo</td>\n",
              "      <td>Mocarzel</td>\n",
              "      <td>Margem da Imagem</td>\n",
              "      <td>2003</td>\n",
              "      <td>8.7</td>\n",
              "      <td>Documentary</td>\n",
              "    </tr>\n",
              "    <tr>\n",
              "      <th>233670</th>\n",
              "      <td>Giuseppe</td>\n",
              "      <td>Moccia</td>\n",
              "      <td>arrivato mio fratello</td>\n",
              "      <td>1985</td>\n",
              "      <td>5.1</td>\n",
              "      <td>Comedy</td>\n",
              "    </tr>\n",
              "    <tr>\n",
              "      <th>118878</th>\n",
              "      <td>Pierre</td>\n",
              "      <td>Gaspard-Huit</td>\n",
              "      <td>belles dents</td>\n",
              "      <td>1966</td>\n",
              "      <td>5.5</td>\n",
              "      <td>Drama</td>\n",
              "    </tr>\n",
              "    <tr>\n",
              "      <th>216153</th>\n",
              "      <td>Mario</td>\n",
              "      <td>Marret</td>\n",
              "      <td>bientt, j'espre</td>\n",
              "      <td>1968</td>\n",
              "      <td>5.2</td>\n",
              "      <td>Documentary</td>\n",
              "    </tr>\n",
              "    <tr>\n",
              "      <th>...</th>\n",
              "      <td>...</td>\n",
              "      <td>...</td>\n",
              "      <td>...</td>\n",
              "      <td>...</td>\n",
              "      <td>...</td>\n",
              "      <td>...</td>\n",
              "    </tr>\n",
              "    <tr>\n",
              "      <th>81940</th>\n",
              "      <td>Jacques</td>\n",
              "      <td>Demy</td>\n",
              "      <td>vnement le plus important depuis que l'homme a...</td>\n",
              "      <td>1973</td>\n",
              "      <td>4.5</td>\n",
              "      <td>Comedy</td>\n",
              "    </tr>\n",
              "    <tr>\n",
              "      <th>1900</th>\n",
              "      <td>Amable</td>\n",
              "      <td>Aguiluz</td>\n",
              "      <td>www.XXX.com</td>\n",
              "      <td>2003</td>\n",
              "      <td>1.0</td>\n",
              "      <td>Romance</td>\n",
              "    </tr>\n",
              "    <tr>\n",
              "      <th>20127</th>\n",
              "      <td>Mariano</td>\n",
              "      <td>Barroso</td>\n",
              "      <td>xtasis (1996/I)</td>\n",
              "      <td>1996</td>\n",
              "      <td>7.6</td>\n",
              "      <td>Drama</td>\n",
              "    </tr>\n",
              "    <tr>\n",
              "      <th>198580</th>\n",
              "      <td>Gianni</td>\n",
              "      <td>Lepre</td>\n",
              "      <td>ye for ye</td>\n",
              "      <td>1985</td>\n",
              "      <td>4.5</td>\n",
              "      <td>Drama</td>\n",
              "    </tr>\n",
              "    <tr>\n",
              "      <th>151291</th>\n",
              "      <td>Marius</td>\n",
              "      <td>Holst</td>\n",
              "      <td>yenstikker</td>\n",
              "      <td>2001</td>\n",
              "      <td>5.3</td>\n",
              "      <td>Drama</td>\n",
              "    </tr>\n",
              "  </tbody>\n",
              "</table>\n",
              "<p>55954 rows × 6 columns</p>\n",
              "</div>\n",
              "      <button class=\"colab-df-convert\" onclick=\"convertToInteractive('df-e9d40972-1692-49f2-a1c5-2489379d372f')\"\n",
              "              title=\"Convert this dataframe to an interactive table.\"\n",
              "              style=\"display:none;\">\n",
              "        \n",
              "  <svg xmlns=\"http://www.w3.org/2000/svg\" height=\"24px\"viewBox=\"0 0 24 24\"\n",
              "       width=\"24px\">\n",
              "    <path d=\"M0 0h24v24H0V0z\" fill=\"none\"/>\n",
              "    <path d=\"M18.56 5.44l.94 2.06.94-2.06 2.06-.94-2.06-.94-.94-2.06-.94 2.06-2.06.94zm-11 1L8.5 8.5l.94-2.06 2.06-.94-2.06-.94L8.5 2.5l-.94 2.06-2.06.94zm10 10l.94 2.06.94-2.06 2.06-.94-2.06-.94-.94-2.06-.94 2.06-2.06.94z\"/><path d=\"M17.41 7.96l-1.37-1.37c-.4-.4-.92-.59-1.43-.59-.52 0-1.04.2-1.43.59L10.3 9.45l-7.72 7.72c-.78.78-.78 2.05 0 2.83L4 21.41c.39.39.9.59 1.41.59.51 0 1.02-.2 1.41-.59l7.78-7.78 2.81-2.81c.8-.78.8-2.07 0-2.86zM5.41 20L4 18.59l7.72-7.72 1.47 1.35L5.41 20z\"/>\n",
              "  </svg>\n",
              "      </button>\n",
              "      \n",
              "  <style>\n",
              "    .colab-df-container {\n",
              "      display:flex;\n",
              "      flex-wrap:wrap;\n",
              "      gap: 12px;\n",
              "    }\n",
              "\n",
              "    .colab-df-convert {\n",
              "      background-color: #E8F0FE;\n",
              "      border: none;\n",
              "      border-radius: 50%;\n",
              "      cursor: pointer;\n",
              "      display: none;\n",
              "      fill: #1967D2;\n",
              "      height: 32px;\n",
              "      padding: 0 0 0 0;\n",
              "      width: 32px;\n",
              "    }\n",
              "\n",
              "    .colab-df-convert:hover {\n",
              "      background-color: #E2EBFA;\n",
              "      box-shadow: 0px 1px 2px rgba(60, 64, 67, 0.3), 0px 1px 3px 1px rgba(60, 64, 67, 0.15);\n",
              "      fill: #174EA6;\n",
              "    }\n",
              "\n",
              "    [theme=dark] .colab-df-convert {\n",
              "      background-color: #3B4455;\n",
              "      fill: #D2E3FC;\n",
              "    }\n",
              "\n",
              "    [theme=dark] .colab-df-convert:hover {\n",
              "      background-color: #434B5C;\n",
              "      box-shadow: 0px 1px 3px 1px rgba(0, 0, 0, 0.15);\n",
              "      filter: drop-shadow(0px 1px 2px rgba(0, 0, 0, 0.3));\n",
              "      fill: #FFFFFF;\n",
              "    }\n",
              "  </style>\n",
              "\n",
              "      <script>\n",
              "        const buttonEl =\n",
              "          document.querySelector('#df-e9d40972-1692-49f2-a1c5-2489379d372f button.colab-df-convert');\n",
              "        buttonEl.style.display =\n",
              "          google.colab.kernel.accessAllowed ? 'block' : 'none';\n",
              "\n",
              "        async function convertToInteractive(key) {\n",
              "          const element = document.querySelector('#df-e9d40972-1692-49f2-a1c5-2489379d372f');\n",
              "          const dataTable =\n",
              "            await google.colab.kernel.invokeFunction('convertToInteractive',\n",
              "                                                     [key], {});\n",
              "          if (!dataTable) return;\n",
              "\n",
              "          const docLinkHtml = 'Like what you see? Visit the ' +\n",
              "            '<a target=\"_blank\" href=https://colab.research.google.com/notebooks/data_table.ipynb>data table notebook</a>'\n",
              "            + ' to learn more about interactive tables.';\n",
              "          element.innerHTML = '';\n",
              "          dataTable['output_type'] = 'display_data';\n",
              "          await google.colab.output.renderOutput(dataTable, element);\n",
              "          const docLink = document.createElement('div');\n",
              "          docLink.innerHTML = docLinkHtml;\n",
              "          element.appendChild(docLink);\n",
              "        }\n",
              "      </script>\n",
              "    </div>\n",
              "  </div>\n",
              "  "
            ]
          },
          "metadata": {},
          "execution_count": 2
        }
      ]
    },
    {
      "cell_type": "markdown",
      "source": [
        "\n",
        "\n",
        "---\n",
        "\n",
        "\n",
        "# **Cleaning the Dataset Notes**\n",
        "\n",
        "\n",
        "---\n",
        "\n",
        "\n",
        "\n",
        "1.  **Missing Values** - Column **rank** is the only col with missing values. It is a vital piece of info for our data analysis so I'm left with the choice somehow imputing a sensible value into this col or deleting all rows where it has null values or it is non-numeric. As there is no means to impute a sensible value, I have decided that I will need to disregard all rows where rank is not present in all further analysis.\n",
        "\n",
        "2.   **Cleaning duplicates** - logically there should be 1 record per movie in the dataset, however looking at the data I can see that there are duplicates\n",
        "\n"
      ],
      "metadata": {
        "id": "slrMCaSikuce"
      }
    },
    {
      "cell_type": "markdown",
      "metadata": {
        "id": "00Vb1k3FMdei"
      },
      "source": [
        "### How many movies of each genre are there?\n",
        "---"
      ]
    },
    {
      "cell_type": "code",
      "metadata": {
        "id": "V6MsN8OcQn0u",
        "colab": {
          "base_uri": "https://localhost:8080/",
          "height": 697
        },
        "outputId": "8a08da9b-2a20-4ea7-84d1-31d8ad4d7f41"
      },
      "source": [
        "import pandas as pd\n",
        "#============================================================================\n",
        "# Count the number of movies per genre\n",
        "#============================================================================\n",
        "def count_movies_by_genre(df):\n",
        "\n",
        "  movie_by_genre_cnt = df.groupby(\"genre\").count()\n",
        "  display (\"Number of movies by genre: \", movie_by_genre_cnt.name)\n",
        "\n",
        "  return\n",
        "\n",
        "# program starts here\n",
        "url = \"https://github.com/lilaceri/Working-with-data-/blob/main/Data%20Sets%20for%20code%20divisio/movies.csv?raw=true\"\n",
        "\n",
        "movie_df = pd.read_csv(url)\n",
        "\n",
        "df = clean_data(movie_df)\n",
        "count_movies_by_genre(df)\n"
      ],
      "execution_count": 3,
      "outputs": [
        {
          "output_type": "display_data",
          "data": {
            "text/plain": [
              "'Sorted Duplicate Values: '"
            ],
            "application/vnd.google.colaboratory.intrinsic+json": {
              "type": "string"
            }
          },
          "metadata": {}
        },
        {
          "output_type": "stream",
          "name": "stdout",
          "text": [
            "<class 'pandas.core.frame.DataFrame'>\n",
            "Int64Index: 55954 entries, 274883 to 151291\n",
            "Data columns (total 6 columns):\n",
            " #   Column      Non-Null Count  Dtype  \n",
            "---  ------      --------------  -----  \n",
            " 0   first_name  55954 non-null  object \n",
            " 1   last_name   55954 non-null  object \n",
            " 2   name        55954 non-null  object \n",
            " 3   year        55954 non-null  int64  \n",
            " 4   rank        55954 non-null  float64\n",
            " 5   genre       55954 non-null  object \n",
            "dtypes: float64(1), int64(1), object(4)\n",
            "memory usage: 3.0+ MB\n"
          ]
        },
        {
          "output_type": "display_data",
          "data": {
            "text/plain": [
              "'Info: '"
            ],
            "application/vnd.google.colaboratory.intrinsic+json": {
              "type": "string"
            }
          },
          "metadata": {}
        },
        {
          "output_type": "display_data",
          "data": {
            "text/plain": [
              "None"
            ]
          },
          "metadata": {}
        },
        {
          "output_type": "display_data",
          "data": {
            "text/plain": [
              "'Number of movies by genre: '"
            ],
            "application/vnd.google.colaboratory.intrinsic+json": {
              "type": "string"
            }
          },
          "metadata": {}
        },
        {
          "output_type": "display_data",
          "data": {
            "text/plain": [
              "genre\n",
              "Action           882\n",
              "Adventure        898\n",
              "Animation        175\n",
              "Comedy          7157\n",
              "Crime            959\n",
              "Documentary     2167\n",
              "Drama          14111\n",
              "Family          1179\n",
              "Fantasy          855\n",
              "Film-Noir        231\n",
              "Horror          1924\n",
              "Music            535\n",
              "Musical         1267\n",
              "Mystery          979\n",
              "Romance         4237\n",
              "Sci-Fi          1765\n",
              "Short           8143\n",
              "Thriller        4748\n",
              "War             1614\n",
              "Western         2128\n",
              "Name: name, dtype: int64"
            ]
          },
          "metadata": {}
        }
      ]
    },
    {
      "cell_type": "markdown",
      "metadata": {
        "id": "itYpwLPpQnZM"
      },
      "source": [
        "### Which director has the highest ranked movies?\n",
        "---"
      ]
    },
    {
      "cell_type": "code",
      "metadata": {
        "id": "dkW23Q27Qu0A",
        "colab": {
          "base_uri": "https://localhost:8080/",
          "height": 1000
        },
        "outputId": "26f11bed-92aa-4c60-c5ca-7ca61fbbd3b1"
      },
      "source": [
        "import pandas as pd\n",
        "\n",
        "def find_max_rank_director(df):\n",
        "\n",
        "  #========================================================================\n",
        "  # From inspecting the data previously, I know that the maximum rank within\n",
        "  # the dataset is 9.9. By finding which movies are ranked 9.9, I can use this\n",
        "  # to work out which director has the most highest ranked movies.\n",
        "  #========================================================================   \n",
        "  # count and list movies with the max rating of 9.9\n",
        "  #========================================================================\n",
        "  print(\"\\nCount of movies with 9.9 rank: \",df['rank'].value_counts()[9.9])\n",
        "  top_movies = df.loc[df['rank'] == 9.9]\n",
        "   \n",
        "  print (\"\\nMovies with max rating of 9.9: \\n\", top_movies)\n",
        "  \n",
        "  #======================================================================\n",
        "  # now Sort top movies by director\n",
        "  #======================================================================\n",
        "  sorted_by_director_df = top_movies.sort_values(by = [\"last_name\",\"first_name\",\"name\"], ascending=False)\n",
        "  #sorted_by_director_df = top_movies.sort_values(by = [\"last_name\"], ascending=False)\n",
        "  print (\"\\nTop Movies sorted by Director: \\n\", sorted_by_director_df.iloc[:55] )\n",
        "\n",
        "  #======================================================================\n",
        "  # Display Director with highest ranked movies\n",
        "  #======================================================================\n",
        "  print(\"\\nDirector with highest ranked movies: \", sorted_by_director_df['last_name'].mode())  \n",
        "\n",
        "  return\n",
        "\n",
        "# program starts here\n",
        "url = \"https://github.com/lilaceri/Working-with-data-/blob/main/Data%20Sets%20for%20code%20divisio/movies.csv?raw=true\"\n",
        "\n",
        "movie_df = pd.read_csv(url)\n",
        "\n",
        "df = clean_data(movie_df)\n",
        "find_max_rank_director(df)"
      ],
      "execution_count": 4,
      "outputs": [
        {
          "output_type": "display_data",
          "data": {
            "text/plain": [
              "'Sorted Duplicate Values: '"
            ],
            "application/vnd.google.colaboratory.intrinsic+json": {
              "type": "string"
            }
          },
          "metadata": {}
        },
        {
          "output_type": "stream",
          "name": "stdout",
          "text": [
            "<class 'pandas.core.frame.DataFrame'>\n",
            "Int64Index: 55954 entries, 274883 to 151291\n",
            "Data columns (total 6 columns):\n",
            " #   Column      Non-Null Count  Dtype  \n",
            "---  ------      --------------  -----  \n",
            " 0   first_name  55954 non-null  object \n",
            " 1   last_name   55954 non-null  object \n",
            " 2   name        55954 non-null  object \n",
            " 3   year        55954 non-null  int64  \n",
            " 4   rank        55954 non-null  float64\n",
            " 5   genre       55954 non-null  object \n",
            "dtypes: float64(1), int64(1), object(4)\n",
            "memory usage: 3.0+ MB\n"
          ]
        },
        {
          "output_type": "display_data",
          "data": {
            "text/plain": [
              "'Info: '"
            ],
            "application/vnd.google.colaboratory.intrinsic+json": {
              "type": "string"
            }
          },
          "metadata": {}
        },
        {
          "output_type": "display_data",
          "data": {
            "text/plain": [
              "None"
            ]
          },
          "metadata": {}
        },
        {
          "output_type": "stream",
          "name": "stdout",
          "text": [
            "\n",
            "Count of movies with 9.9 rank:  27\n",
            "\n",
            "Movies with max rating of 9.9: \n",
            "         first_name     last_name                                     name  \\\n",
            "247643      Sergiu    Nicolaescu  Atunci i-am condamnat pe toti la moarte   \n",
            "81826     Jonathan         Demme                    Complex Sessions, The   \n",
            "366482       Gregg     Zehentner                       Dawn of the Friend   \n",
            "57506     Benjamin   Christensen                      Devil's Circus, The   \n",
            "36188    Julio (I)        Bracho                        Distinto amanecer   \n",
            "34473       Satyen          Bose                                    Dosti   \n",
            "289053      Carole  Roussopoulos               Genet parle d'Angela Davis   \n",
            "246689    See-Yuen            Ng                           Gong fu qi jie   \n",
            "26589      Ishmael        Bernal                                   Himala   \n",
            "293006      András       Salamon                                   Huttyn   \n",
            "94815    Sergei M.    Eisenstein                         Ivan Groznyj III   \n",
            "163434     Marcell     Jankovics                                Jnos vitz   \n",
            "356621       Ioana        Wieder           Marche des femmes  Hendaye, La   \n",
            "117235        Abel         Gance                        Napolon Bonaparte   \n",
            "163728         Jim      Jarmusch                           New World, The   \n",
            "51113         John    Cassavetes                         Pair of Boots, A   \n",
            "67646      Matthew      Crandall                         Prince Solitaire   \n",
            "289096      Carole  Roussopoulos          Prostitues de Lyon parlent, Les   \n",
            "72888       Georgi      Daneliya                            Slyozy kapali   \n",
            "337071    Jirí (I)         Trnka                        Star povesti cesk   \n",
            "139694       Fedor    Hanzekovic                      Svoga tela gospodar   \n",
            "271950    Vsevolod      Pudovkin              Ubijtsi vykhodyat na dorogu   \n",
            "155995  William T.         Hurtz                 Unicorn in the Garden, A   \n",
            "366355      Arünas     Zebriünas                           Velnio nuotaka   \n",
            "132970      Ivanka     Grybcheva                   Voynata na taralezhite   \n",
            "47671       Andrew   Cappelletti                           Whirlpool, The   \n",
            "336670     Kirsten       Tretbar                                   Zenith   \n",
            "\n",
            "        year  rank        genre  \n",
            "247643  1971   9.9          War  \n",
            "81826   1994   9.9        Short  \n",
            "366482  2004   9.9        Short  \n",
            "57506   1926   9.9        Drama  \n",
            "36188   1943   9.9     Thriller  \n",
            "34473   1964   9.9      Musical  \n",
            "289053  1970   9.9        Short  \n",
            "246689  1979   9.9       Action  \n",
            "26589   1982   9.9        Drama  \n",
            "293006  1996   9.9  Documentary  \n",
            "94815   1988   9.9        Drama  \n",
            "163434  1973   9.9    Animation  \n",
            "356621  1975   9.9        Short  \n",
            "117235  1934   9.9        Drama  \n",
            "163728  1982   9.9        Short  \n",
            "51113   1962   9.9          War  \n",
            "67646   2003   9.9        Short  \n",
            "289096  1975   9.9        Short  \n",
            "72888   1982   9.9        Drama  \n",
            "337071  1953   9.9    Animation  \n",
            "139694  1957   9.9        Drama  \n",
            "271950  1942   9.9          War  \n",
            "155995  1953   9.9        Short  \n",
            "366355  1973   9.9      Musical  \n",
            "132970  1979   9.9       Comedy  \n",
            "47671   2003   9.9        Short  \n",
            "336670  2001   9.9  Documentary  \n",
            "\n",
            "Top Movies sorted by Director: \n",
            "         first_name     last_name                                     name  \\\n",
            "366482       Gregg     Zehentner                       Dawn of the Friend   \n",
            "366355      Arünas     Zebriünas                           Velnio nuotaka   \n",
            "356621       Ioana        Wieder           Marche des femmes  Hendaye, La   \n",
            "337071    Jirí (I)         Trnka                        Star povesti cesk   \n",
            "336670     Kirsten       Tretbar                                   Zenith   \n",
            "293006      András       Salamon                                   Huttyn   \n",
            "289096      Carole  Roussopoulos          Prostitues de Lyon parlent, Les   \n",
            "289053      Carole  Roussopoulos               Genet parle d'Angela Davis   \n",
            "271950    Vsevolod      Pudovkin              Ubijtsi vykhodyat na dorogu   \n",
            "247643      Sergiu    Nicolaescu  Atunci i-am condamnat pe toti la moarte   \n",
            "246689    See-Yuen            Ng                           Gong fu qi jie   \n",
            "163728         Jim      Jarmusch                           New World, The   \n",
            "163434     Marcell     Jankovics                                Jnos vitz   \n",
            "155995  William T.         Hurtz                 Unicorn in the Garden, A   \n",
            "139694       Fedor    Hanzekovic                      Svoga tela gospodar   \n",
            "132970      Ivanka     Grybcheva                   Voynata na taralezhite   \n",
            "117235        Abel         Gance                        Napolon Bonaparte   \n",
            "94815    Sergei M.    Eisenstein                         Ivan Groznyj III   \n",
            "81826     Jonathan         Demme                    Complex Sessions, The   \n",
            "72888       Georgi      Daneliya                            Slyozy kapali   \n",
            "67646      Matthew      Crandall                         Prince Solitaire   \n",
            "57506     Benjamin   Christensen                      Devil's Circus, The   \n",
            "51113         John    Cassavetes                         Pair of Boots, A   \n",
            "47671       Andrew   Cappelletti                           Whirlpool, The   \n",
            "36188    Julio (I)        Bracho                        Distinto amanecer   \n",
            "34473       Satyen          Bose                                    Dosti   \n",
            "26589      Ishmael        Bernal                                   Himala   \n",
            "\n",
            "        year  rank        genre  \n",
            "366482  2004   9.9        Short  \n",
            "366355  1973   9.9      Musical  \n",
            "356621  1975   9.9        Short  \n",
            "337071  1953   9.9    Animation  \n",
            "336670  2001   9.9  Documentary  \n",
            "293006  1996   9.9  Documentary  \n",
            "289096  1975   9.9        Short  \n",
            "289053  1970   9.9        Short  \n",
            "271950  1942   9.9          War  \n",
            "247643  1971   9.9          War  \n",
            "246689  1979   9.9       Action  \n",
            "163728  1982   9.9        Short  \n",
            "163434  1973   9.9    Animation  \n",
            "155995  1953   9.9        Short  \n",
            "139694  1957   9.9        Drama  \n",
            "132970  1979   9.9       Comedy  \n",
            "117235  1934   9.9        Drama  \n",
            "94815   1988   9.9        Drama  \n",
            "81826   1994   9.9        Short  \n",
            "72888   1982   9.9        Drama  \n",
            "67646   2003   9.9        Short  \n",
            "57506   1926   9.9        Drama  \n",
            "51113   1962   9.9          War  \n",
            "47671   2003   9.9        Short  \n",
            "36188   1943   9.9     Thriller  \n",
            "34473   1964   9.9      Musical  \n",
            "26589   1982   9.9        Drama  \n",
            "\n",
            "Director with highest ranked movies:  0    Roussopoulos\n",
            "dtype: object\n"
          ]
        }
      ]
    },
    {
      "cell_type": "markdown",
      "metadata": {
        "id": "naiCl5kCQvS-"
      },
      "source": [
        "### How many movies have ranks of over 9?\n",
        "---\n"
      ]
    },
    {
      "cell_type": "code",
      "metadata": {
        "id": "Rb7v7WXEQ3Xl",
        "colab": {
          "base_uri": "https://localhost:8080/",
          "height": 331
        },
        "outputId": "129f3623-2bac-47b6-a3b0-163d6a075109"
      },
      "source": [
        "import pandas as pd\n",
        "\n",
        "def find_rank_gt_nine(df):\n",
        "\n",
        "  #========================================================================\n",
        "  # count how many movies have rating > 9\n",
        "  #=============p===========================================================\n",
        "  \n",
        "  print (\"\\nCount of Movies with rank > 9: \", len(df[(df[\"rank\"] > 9)]))\n",
        "  \n",
        "  return\n",
        "\n",
        "# program starts here\n",
        "url = \"https://github.com/lilaceri/Working-with-data-/blob/main/Data%20Sets%20for%20code%20divisio/movies.csv?raw=true\"\n",
        "\n",
        "movie_df = pd.read_csv(url)\n",
        "\n",
        "df = clean_data(movie_df)\n",
        "find_rank_gt_nine(df)\n"
      ],
      "execution_count": 5,
      "outputs": [
        {
          "output_type": "display_data",
          "data": {
            "text/plain": [
              "'Sorted Duplicate Values: '"
            ],
            "application/vnd.google.colaboratory.intrinsic+json": {
              "type": "string"
            }
          },
          "metadata": {}
        },
        {
          "output_type": "stream",
          "name": "stdout",
          "text": [
            "<class 'pandas.core.frame.DataFrame'>\n",
            "Int64Index: 55954 entries, 274883 to 151291\n",
            "Data columns (total 6 columns):\n",
            " #   Column      Non-Null Count  Dtype  \n",
            "---  ------      --------------  -----  \n",
            " 0   first_name  55954 non-null  object \n",
            " 1   last_name   55954 non-null  object \n",
            " 2   name        55954 non-null  object \n",
            " 3   year        55954 non-null  int64  \n",
            " 4   rank        55954 non-null  float64\n",
            " 5   genre       55954 non-null  object \n",
            "dtypes: float64(1), int64(1), object(4)\n",
            "memory usage: 3.0+ MB\n"
          ]
        },
        {
          "output_type": "display_data",
          "data": {
            "text/plain": [
              "'Info: '"
            ],
            "application/vnd.google.colaboratory.intrinsic+json": {
              "type": "string"
            }
          },
          "metadata": {}
        },
        {
          "output_type": "display_data",
          "data": {
            "text/plain": [
              "None"
            ]
          },
          "metadata": {}
        },
        {
          "output_type": "stream",
          "name": "stdout",
          "text": [
            "\n",
            "Count of Movies with rank > 9:  796\n"
          ]
        }
      ]
    },
    {
      "cell_type": "markdown",
      "metadata": {
        "id": "qSM1LAZGQ32W"
      },
      "source": [
        "### Plot a bar chart of mean rank and genre\n",
        "---"
      ]
    },
    {
      "cell_type": "code",
      "metadata": {
        "id": "oDk-3bkpRUfs",
        "colab": {
          "base_uri": "https://localhost:8080/",
          "height": 620
        },
        "outputId": "d74fc6e8-9a5d-4389-c752-c37866154554"
      },
      "source": [
        "import pandas as pd\n",
        "import matplotlib.pyplot as plt\n",
        "\n",
        "#=============================================================================\n",
        "# calculates and charts the mean rank per genre\n",
        "#=============================================================================\n",
        "def chart_mean_rank_genre(df):\n",
        "\n",
        "  # group by genre/mean rank  \n",
        "  mean_genre_rank = df.groupby(\"genre\")['rank'].mean()\n",
        "  labels = mean_genre_rank.keys()\n",
        "\n",
        "  #=========================================================================\n",
        "  # produce bar chart\n",
        "  #=========================================================================\n",
        "  plt.bar(labels, mean_genre_rank)\n",
        "  plt.xticks(rotation=45)\n",
        "  plt.xlabel('Movie Genre')\n",
        "  plt.ylabel('Average Rating')\n",
        "  plt.title('Average Movie Rating by Genre')\n",
        "  plt.grid()\n",
        "  plt.show()\n",
        "\n",
        "# program starts here\n",
        "url = \"https://github.com/lilaceri/Working-with-data-/blob/main/Data%20Sets%20for%20code%20divisio/movies.csv?raw=true\"\n",
        "\n",
        "movie_df = pd.read_csv(url)\n",
        "\n",
        "df = clean_data(movie_df)\n",
        "\n",
        "chart_mean_rank_genre(df)"
      ],
      "execution_count": 6,
      "outputs": [
        {
          "output_type": "display_data",
          "data": {
            "text/plain": [
              "'Sorted Duplicate Values: '"
            ],
            "application/vnd.google.colaboratory.intrinsic+json": {
              "type": "string"
            }
          },
          "metadata": {}
        },
        {
          "output_type": "stream",
          "name": "stdout",
          "text": [
            "<class 'pandas.core.frame.DataFrame'>\n",
            "Int64Index: 55954 entries, 274883 to 151291\n",
            "Data columns (total 6 columns):\n",
            " #   Column      Non-Null Count  Dtype  \n",
            "---  ------      --------------  -----  \n",
            " 0   first_name  55954 non-null  object \n",
            " 1   last_name   55954 non-null  object \n",
            " 2   name        55954 non-null  object \n",
            " 3   year        55954 non-null  int64  \n",
            " 4   rank        55954 non-null  float64\n",
            " 5   genre       55954 non-null  object \n",
            "dtypes: float64(1), int64(1), object(4)\n",
            "memory usage: 3.0+ MB\n"
          ]
        },
        {
          "output_type": "display_data",
          "data": {
            "text/plain": [
              "'Info: '"
            ],
            "application/vnd.google.colaboratory.intrinsic+json": {
              "type": "string"
            }
          },
          "metadata": {}
        },
        {
          "output_type": "display_data",
          "data": {
            "text/plain": [
              "None"
            ]
          },
          "metadata": {}
        },
        {
          "output_type": "display_data",
          "data": {
            "text/plain": [
              "<Figure size 432x288 with 1 Axes>"
            ],
            "image/png": "[encoded data removed]"
          },
          "metadata": {
            "needs_background": "light"
          }
        }
      ]
    },
    {
      "cell_type": "markdown",
      "metadata": {
        "id": "O6srkKPnRbh_"
      },
      "source": [
        "### Plot a pie chart of how many movies of each genre there are \n",
        "---\n"
      ]
    },
    {
      "cell_type": "code",
      "metadata": {
        "id": "suiaWhkF6Odd",
        "colab": {
          "base_uri": "https://localhost:8080/",
          "height": 544
        },
        "outputId": "6766cb3b-891d-4240-8f9d-d239ad86462d"
      },
      "source": [
        "import pandas as pd\n",
        "import matplotlib.pyplot as plt\n",
        "\n",
        "#============================================================================\n",
        "# Produces a pie chart of the number of movies per genre \n",
        "#============================================================================\n",
        "def chart_mean_rank_genre(df):\n",
        "\n",
        "  #=========================================================================\n",
        "  # group by genre and count movies in each\n",
        "  #=========================================================================\n",
        "  movies_by_genre_cnt = df.groupby(\"genre\")['name'].count()\n",
        "  labels = movies_by_genre_cnt.keys()\n",
        "\n",
        "  #=========================================================================\n",
        "  # produce pie chart\n",
        "  #=========================================================================\n",
        "  plt.pie(movies_by_genre_cnt, labels=labels)\n",
        "  plt.xticks(rotation=45)\n",
        "  plt.title('Number of Movies per Genre')\n",
        "  #plt.ylabel('Average Rating')\n",
        "  plt.grid()\n",
        "  # changing the size of figure to 2X2\n",
        "  plt.show()\n",
        "\n",
        "# program starts here\n",
        "url = \"https://github.com/lilaceri/Working-with-data-/blob/main/Data%20Sets%20for%20code%20divisio/movies.csv?raw=true\"\n",
        "\n",
        "movie_df = pd.read_csv(url)\n",
        "\n",
        "df = clean_data(movie_df)\n",
        "\n",
        "chart_mean_rank_genre(df)"
      ],
      "execution_count": 7,
      "outputs": [
        {
          "output_type": "display_data",
          "data": {
            "text/plain": [
              "'Sorted Duplicate Values: '"
            ],
            "application/vnd.google.colaboratory.intrinsic+json": {
              "type": "string"
            }
          },
          "metadata": {}
        },
        {
          "output_type": "stream",
          "name": "stdout",
          "text": [
            "<class 'pandas.core.frame.DataFrame'>\n",
            "Int64Index: 55954 entries, 274883 to 151291\n",
            "Data columns (total 6 columns):\n",
            " #   Column      Non-Null Count  Dtype  \n",
            "---  ------      --------------  -----  \n",
            " 0   first_name  55954 non-null  object \n",
            " 1   last_name   55954 non-null  object \n",
            " 2   name        55954 non-null  object \n",
            " 3   year        55954 non-null  int64  \n",
            " 4   rank        55954 non-null  float64\n",
            " 5   genre       55954 non-null  object \n",
            "dtypes: float64(1), int64(1), object(4)\n",
            "memory usage: 3.0+ MB\n"
          ]
        },
        {
          "output_type": "display_data",
          "data": {
            "text/plain": [
              "'Info: '"
            ],
            "application/vnd.google.colaboratory.intrinsic+json": {
              "type": "string"
            }
          },
          "metadata": {}
        },
        {
          "output_type": "display_data",
          "data": {
            "text/plain": [
              "None"
            ]
          },
          "metadata": {}
        },
        {
          "output_type": "display_data",
          "data": {
            "text/plain": [
              "<Figure size 432x288 with 1 Axes>"
            ],
            "image/png": "[encoded data removed]"
          },
          "metadata": {}
        }
      ]
    },
    {
      "cell_type": "markdown",
      "metadata": {
        "id": "Cm9HjL_K6bvo"
      },
      "source": [
        "### Plot a graph showing the mean Rank for each year "
      ]
    },
    {
      "cell_type": "code",
      "metadata": {
        "id": "mgwSHrCt6luB",
        "colab": {
          "base_uri": "https://localhost:8080/",
          "height": 590
        },
        "outputId": "647ccbf7-0f45-4a12-80c8-52311af41b78"
      },
      "source": [
        "import pandas as pd\n",
        "import matplotlib.pyplot as plt\n",
        "\n",
        "#============================================================================\n",
        "# Produces a chart of the average film rank per year\n",
        "#============================================================================\n",
        "def chart_mean_rank_year(df):\n",
        "\n",
        "  #============================================================================\n",
        "  # group by year and calculate the mean rank\n",
        "  #============================================================================\n",
        "  mean_rank = df.groupby(\"year\")['rank'].mean()\n",
        "  labels = mean_rank.keys()\n",
        "  \n",
        "  plt.plot(labels, mean_rank)\n",
        "  plt.xticks(rotation=45)\n",
        "  plt.xlabel('Year')\n",
        "  plt.ylabel('Average Rank')\n",
        "  plt.title('Average Movie Rank by Year')\n",
        "  plt.grid()\n",
        "  plt.show()\n",
        "\n",
        "# program starts here\n",
        "url = \"https://github.com/lilaceri/Working-with-data-/blob/main/Data%20Sets%20for%20code%20divisio/movies.csv?raw=true\"\n",
        "\n",
        "movie_df = pd.read_csv(url)\n",
        "\n",
        "df = clean_data(movie_df)\n",
        "\n",
        "chart_mean_rank_year(df)"
      ],
      "execution_count": 8,
      "outputs": [
        {
          "output_type": "display_data",
          "data": {
            "text/plain": [
              "'Sorted Duplicate Values: '"
            ],
            "application/vnd.google.colaboratory.intrinsic+json": {
              "type": "string"
            }
          },
          "metadata": {}
        },
        {
          "output_type": "stream",
          "name": "stdout",
          "text": [
            "<class 'pandas.core.frame.DataFrame'>\n",
            "Int64Index: 55954 entries, 274883 to 151291\n",
            "Data columns (total 6 columns):\n",
            " #   Column      Non-Null Count  Dtype  \n",
            "---  ------      --------------  -----  \n",
            " 0   first_name  55954 non-null  object \n",
            " 1   last_name   55954 non-null  object \n",
            " 2   name        55954 non-null  object \n",
            " 3   year        55954 non-null  int64  \n",
            " 4   rank        55954 non-null  float64\n",
            " 5   genre       55954 non-null  object \n",
            "dtypes: float64(1), int64(1), object(4)\n",
            "memory usage: 3.0+ MB\n"
          ]
        },
        {
          "output_type": "display_data",
          "data": {
            "text/plain": [
              "'Info: '"
            ],
            "application/vnd.google.colaboratory.intrinsic+json": {
              "type": "string"
            }
          },
          "metadata": {}
        },
        {
          "output_type": "display_data",
          "data": {
            "text/plain": [
              "None"
            ]
          },
          "metadata": {}
        },
        {
          "output_type": "display_data",
          "data": {
            "text/plain": [
              "<Figure size 432x288 with 1 Axes>"
            ],
            "image/png": "[encoded data removed]"
          },
          "metadata": {
            "needs_background": "light"
          }
        }
      ]
    },
    {
      "cell_type": "markdown",
      "metadata": {
        "id": "FvzMjQ5X6oeU"
      },
      "source": [
        "### What else can you find out from this dataset?\n",
        "---\n",
        "Make a plan of 3 further things you can do to interrogate and analyse this dataset"
      ]
    },
    {
      "cell_type": "markdown",
      "metadata": {
        "id": "a46YOmLd64zb"
      },
      "source": [
        "Type your answer here  \n",
        "\n",
        "1.  The lowest rank per year\n",
        "2.  The number of films released per year\n",
        "3.   The number of producers per genre"
      ]
    },
    {
      "cell_type": "markdown",
      "metadata": {
        "id": "es_Uyz_f6-1F"
      },
      "source": [
        "### Complete the tasks you have set out in the exercise above. \n",
        "---\n"
      ]
    },
    {
      "cell_type": "code",
      "metadata": {
        "id": "GY-HzjZb7L5q",
        "colab": {
          "base_uri": "https://localhost:8080/",
          "height": 1000
        },
        "outputId": "5b49cabc-c982-429d-c737-fec1ecca09df"
      },
      "source": [
        "import pandas as pd\n",
        "import matplotlib.pyplot as plt\n",
        "\n",
        "#============================================================================\n",
        "# Produces a chart of the lowest film rank per year\n",
        "#============================================================================\n",
        "def chart_min_rank_year(df):\n",
        "  \n",
        "  #============================================================================\n",
        "  # group by year and find the lowest rank for that year  \n",
        "  #============================================================================\n",
        "  min_rank = df.groupby(\"year\")['rank'].min()\n",
        "  labels = min_rank.keys()\n",
        "  #============================================================================\n",
        "  # Plot the chart\n",
        "  #============================================================================\n",
        "  plt.plot(labels, min_rank)\n",
        "  plt.xticks(rotation=45)\n",
        "  plt.xlabel('Year')\n",
        "  plt.ylabel('Rank')\n",
        "  plt.title('Lowest Movie Rank by Year')\n",
        "  plt.grid()\n",
        "  plt.show()\n",
        "\n",
        "  return\n",
        "#============================================================================\n",
        "# Produces a chart of the number of films released per year\n",
        "#============================================================================\n",
        "def chart_movie_release_by_year(df):\n",
        "  # group by genre/mean rank  \n",
        "  movies_by_year_cnt = df.groupby(\"year\").count()\n",
        "  display(\"movies by year count: \", movies_by_year_cnt)\n",
        "  movie_cnt = movies_by_year_cnt['name']\n",
        "  labels = movie_cnt.keys()\n",
        "  display(\"labels: \", labels)\n",
        "\n",
        "  plt.plot(labels, movie_cnt)\n",
        "  plt.xticks(rotation=45)\n",
        "  plt.xlabel('Year')\n",
        "  plt.ylabel('Count')\n",
        "  plt.title('Movies Released by Year')\n",
        "  plt.grid()\n",
        "  plt.show()\n",
        "\n",
        "  return\n",
        "\n",
        "def chart_count_producer_by_genre(df):\n",
        "  # group by genre and count unique producers\n",
        "\n",
        "  #grouped = df.groupby(\"genre\").count()\n",
        "  #print (grouped[\"genre\"])\n",
        "\n",
        "  #=================================================================\n",
        "  # Count the number of unique producers by genre\n",
        "  #=================================================================\n",
        "  producer_by_genre_cnt = df.groupby('genre')['last_name'].nunique()\n",
        " \n",
        "  print(\"producer_by_genre_cnt: \", producer_by_genre_cnt)\n",
        "  \n",
        "  labels = producer_by_genre_cnt.keys()\n",
        "\n",
        "  display(\"labels: \", labels)\n",
        "\n",
        "  plt.plot(labels, producer_by_genre_cnt)\n",
        "  #plt.plot(labels, genre_cnt)\n",
        "  plt.xticks(rotation=45)\n",
        "  plt.xlabel('Genre')\n",
        "  plt.ylabel('No of Producers')\n",
        "  plt.title('Total Producers by Genre')\n",
        "  plt.grid()\n",
        "\n",
        "  return\n",
        "\n",
        "#============================================================================\n",
        "# ** not completed yet **\n",
        "# Produces a chart of the number of films released by each producer\n",
        "#============================================================================\n",
        "#def find_producers_total_movies(df):\n",
        "  # group by genre/mean rank  \n",
        "  #movies_by_producer_cnt = df.groupby(\"last_name\")['name'].count()\n",
        "  #display(\"movies by producer count: \", movies_by_producer_cnt)\n",
        "\n",
        "  # firstly, sort the data on movie, director and year\n",
        "  #df = df.sort_values(by = [\"name\", \"last_name\", \"first_name\", \"year\"])\n",
        "  #labels = movies_by_producer_cnt.keys()\n",
        "  #display(\"labels: \", labels)\n",
        "\n",
        "  #plt.plot(labels, movies_by_producer_cnt)\n",
        "  #plt.xticks(rotation=45)\n",
        "  #plt.xlabel('Producer')\n",
        "  #plt.ylabel('No. of Movies')\n",
        "  #plt.title('No Movies Released by Producer')\n",
        "  #plt.grid()\n",
        "  #plt.show()\n",
        "\n",
        "  #return\n",
        "#===========================================================================\n",
        "# program starts here\n",
        "#===========================================================================\n",
        "url = \"https://github.com/lilaceri/Working-with-data-/blob/main/Data%20Sets%20for%20code%20divisio/movies.csv?raw=true\"\n",
        "\n",
        "movie_df = pd.read_csv(url)\n",
        "\n",
        "df = clean_data(movie_df)\n",
        "\n",
        "#===========================================================================\n",
        "# Find and chart the lowest movie rank by year\n",
        "#===========================================================================\n",
        "chart_min_rank_year(df)\n",
        "\n",
        "#===========================================================================\n",
        "# Find and chart the no. of movies released by year\n",
        "#===========================================================================\n",
        "chart_movie_release_by_year(df)\n",
        "\n",
        "#===========================================================================\n",
        "# Find and chart the number of producers per genre\n",
        "#===========================================================================\n",
        "chart_count_producer_by_genre(df)\n",
        "\n",
        "#============================================================================\n",
        "# Produces a chart of the number of films released by each producer\n",
        "#============================================================================\n",
        "#find_producers_total_movies(df)\n"
      ],
      "execution_count": 9,
      "outputs": [
        {
          "output_type": "display_data",
          "data": {
            "text/plain": [
              "'Sorted Duplicate Values: '"
            ],
            "application/vnd.google.colaboratory.intrinsic+json": {
              "type": "string"
            }
          },
          "metadata": {}
        },
        {
          "output_type": "stream",
          "name": "stdout",
          "text": [
            "<class 'pandas.core.frame.DataFrame'>\n",
            "Int64Index: 55954 entries, 274883 to 151291\n",
            "Data columns (total 6 columns):\n",
            " #   Column      Non-Null Count  Dtype  \n",
            "---  ------      --------------  -----  \n",
            " 0   first_name  55954 non-null  object \n",
            " 1   last_name   55954 non-null  object \n",
            " 2   name        55954 non-null  object \n",
            " 3   year        55954 non-null  int64  \n",
            " 4   rank        55954 non-null  float64\n",
            " 5   genre       55954 non-null  object \n",
            "dtypes: float64(1), int64(1), object(4)\n",
            "memory usage: 3.0+ MB\n"
          ]
        },
        {
          "output_type": "display_data",
          "data": {
            "text/plain": [
              "'Info: '"
            ],
            "application/vnd.google.colaboratory.intrinsic+json": {
              "type": "string"
            }
          },
          "metadata": {}
        },
        {
          "output_type": "display_data",
          "data": {
            "text/plain": [
              "None"
            ]
          },
          "metadata": {}
        },
        {
          "output_type": "display_data",
          "data": {
            "text/plain": [
              "<Figure size 432x288 with 1 Axes>"
            ],
            "image/png": "[encoded data removed]"
          },
          "metadata": {
            "needs_background": "light"
          }
        },
        {
          "output_type": "display_data",
          "data": {
            "text/plain": [
              "'movies by year count: '"
            ],
            "application/vnd.google.colaboratory.intrinsic+json": {
              "type": "string"
            }
          },
          "metadata": {}
        },
        {
          "output_type": "display_data",
          "data": {
            "text/plain": [
              "      first_name  last_name  name  rank  genre\n",
              "year                                          \n",
              "1892           4          4     4     4      4\n",
              "1893           1          1     1     1      1\n",
              "1894           3          3     3     3      3\n",
              "1895          26         26    26    26     26\n",
              "1896          13         13    13    13     13\n",
              "...          ...        ...   ...   ...    ...\n",
              "2000        2216       2216  2216  2216   2216\n",
              "2001        2177       2177  2177  2177   2177\n",
              "2002        2255       2255  2255  2255   2255\n",
              "2003        2124       2124  2124  2124   2124\n",
              "2004        1028       1028  1028  1028   1028\n",
              "\n",
              "[113 rows x 5 columns]"
            ],
            "text/html": [
              "\n",
              "  <div id=\"df-3bc1ffb0-1756-4281-8ae2-e25fa8d2510f\">\n",
              "    <div class=\"colab-df-container\">\n",
              "      <div>\n",
              "<style scoped>\n",
              "    .dataframe tbody tr th:only-of-type {\n",
              "        vertical-align: middle;\n",
              "    }\n",
              "\n",
              "    .dataframe tbody tr th {\n",
              "        vertical-align: top;\n",
              "    }\n",
              "\n",
              "    .dataframe thead th {\n",
              "        text-align: right;\n",
              "    }\n",
              "</style>\n",
              "<table border=\"1\" class=\"dataframe\">\n",
              "  <thead>\n",
              "    <tr style=\"text-align: right;\">\n",
              "      <th></th>\n",
              "      <th>first_name</th>\n",
              "      <th>last_name</th>\n",
              "      <th>name</th>\n",
              "      <th>rank</th>\n",
              "      <th>genre</th>\n",
              "    </tr>\n",
              "    <tr>\n",
              "      <th>year</th>\n",
              "      <th></th>\n",
              "      <th></th>\n",
              "      <th></th>\n",
              "      <th></th>\n",
              "      <th></th>\n",
              "    </tr>\n",
              "  </thead>\n",
              "  <tbody>\n",
              "    <tr>\n",
              "      <th>1892</th>\n",
              "      <td>4</td>\n",
              "      <td>4</td>\n",
              "      <td>4</td>\n",
              "      <td>4</td>\n",
              "      <td>4</td>\n",
              "    </tr>\n",
              "    <tr>\n",
              "      <th>1893</th>\n",
              "      <td>1</td>\n",
              "      <td>1</td>\n",
              "      <td>1</td>\n",
              "      <td>1</td>\n",
              "      <td>1</td>\n",
              "    </tr>\n",
              "    <tr>\n",
              "      <th>1894</th>\n",
              "      <td>3</td>\n",
              "      <td>3</td>\n",
              "      <td>3</td>\n",
              "      <td>3</td>\n",
              "      <td>3</td>\n",
              "    </tr>\n",
              "    <tr>\n",
              "      <th>1895</th>\n",
              "      <td>26</td>\n",
              "      <td>26</td>\n",
              "      <td>26</td>\n",
              "      <td>26</td>\n",
              "      <td>26</td>\n",
              "    </tr>\n",
              "    <tr>\n",
              "      <th>1896</th>\n",
              "      <td>13</td>\n",
              "      <td>13</td>\n",
              "      <td>13</td>\n",
              "      <td>13</td>\n",
              "      <td>13</td>\n",
              "    </tr>\n",
              "    <tr>\n",
              "      <th>...</th>\n",
              "      <td>...</td>\n",
              "      <td>...</td>\n",
              "      <td>...</td>\n",
              "      <td>...</td>\n",
              "      <td>...</td>\n",
              "    </tr>\n",
              "    <tr>\n",
              "      <th>2000</th>\n",
              "      <td>2216</td>\n",
              "      <td>2216</td>\n",
              "      <td>2216</td>\n",
              "      <td>2216</td>\n",
              "      <td>2216</td>\n",
              "    </tr>\n",
              "    <tr>\n",
              "      <th>2001</th>\n",
              "      <td>2177</td>\n",
              "      <td>2177</td>\n",
              "      <td>2177</td>\n",
              "      <td>2177</td>\n",
              "      <td>2177</td>\n",
              "    </tr>\n",
              "    <tr>\n",
              "      <th>2002</th>\n",
              "      <td>2255</td>\n",
              "      <td>2255</td>\n",
              "      <td>2255</td>\n",
              "      <td>2255</td>\n",
              "      <td>2255</td>\n",
              "    </tr>\n",
              "    <tr>\n",
              "      <th>2003</th>\n",
              "      <td>2124</td>\n",
              "      <td>2124</td>\n",
              "      <td>2124</td>\n",
              "      <td>2124</td>\n",
              "      <td>2124</td>\n",
              "    </tr>\n",
              "    <tr>\n",
              "      <th>2004</th>\n",
              "      <td>1028</td>\n",
              "      <td>1028</td>\n",
              "      <td>1028</td>\n",
              "      <td>1028</td>\n",
              "      <td>1028</td>\n",
              "    </tr>\n",
              "  </tbody>\n",
              "</table>\n",
              "<p>113 rows × 5 columns</p>\n",
              "</div>\n",
              "      <button class=\"colab-df-convert\" onclick=\"convertToInteractive('df-3bc1ffb0-1756-4281-8ae2-e25fa8d2510f')\"\n",
              "              title=\"Convert this dataframe to an interactive table.\"\n",
              "              style=\"display:none;\">\n",
              "        \n",
              "  <svg xmlns=\"http://www.w3.org/2000/svg\" height=\"24px\"viewBox=\"0 0 24 24\"\n",
              "       width=\"24px\">\n",
              "    <path d=\"M0 0h24v24H0V0z\" fill=\"none\"/>\n",
              "    <path d=\"M18.56 5.44l.94 2.06.94-2.06 2.06-.94-2.06-.94-.94-2.06-.94 2.06-2.06.94zm-11 1L8.5 8.5l.94-2.06 2.06-.94-2.06-.94L8.5 2.5l-.94 2.06-2.06.94zm10 10l.94 2.06.94-2.06 2.06-.94-2.06-.94-.94-2.06-.94 2.06-2.06.94z\"/><path d=\"M17.41 7.96l-1.37-1.37c-.4-.4-.92-.59-1.43-.59-.52 0-1.04.2-1.43.59L10.3 9.45l-7.72 7.72c-.78.78-.78 2.05 0 2.83L4 21.41c.39.39.9.59 1.41.59.51 0 1.02-.2 1.41-.59l7.78-7.78 2.81-2.81c.8-.78.8-2.07 0-2.86zM5.41 20L4 18.59l7.72-7.72 1.47 1.35L5.41 20z\"/>\n",
              "  </svg>\n",
              "      </button>\n",
              "      \n",
              "  <style>\n",
              "    .colab-df-container {\n",
              "      display:flex;\n",
              "      flex-wrap:wrap;\n",
              "      gap: 12px;\n",
              "    }\n",
              "\n",
              "    .colab-df-convert {\n",
              "      background-color: #E8F0FE;\n",
              "      border: none;\n",
              "      border-radius: 50%;\n",
              "      cursor: pointer;\n",
              "      display: none;\n",
              "      fill: #1967D2;\n",
              "      height: 32px;\n",
              "      padding: 0 0 0 0;\n",
              "      width: 32px;\n",
              "    }\n",
              "\n",
              "    .colab-df-convert:hover {\n",
              "      background-color: #E2EBFA;\n",
              "      box-shadow: 0px 1px 2px rgba(60, 64, 67, 0.3), 0px 1px 3px 1px rgba(60, 64, 67, 0.15);\n",
              "      fill: #174EA6;\n",
              "    }\n",
              "\n",
              "    [theme=dark] .colab-df-convert {\n",
              "      background-color: #3B4455;\n",
              "      fill: #D2E3FC;\n",
              "    }\n",
              "\n",
              "    [theme=dark] .colab-df-convert:hover {\n",
              "      background-color: #434B5C;\n",
              "      box-shadow: 0px 1px 3px 1px rgba(0, 0, 0, 0.15);\n",
              "      filter: drop-shadow(0px 1px 2px rgba(0, 0, 0, 0.3));\n",
              "      fill: #FFFFFF;\n",
              "    }\n",
              "  </style>\n",
              "\n",
              "      <script>\n",
              "        const buttonEl =\n",
              "          document.querySelector('#df-3bc1ffb0-1756-4281-8ae2-e25fa8d2510f button.colab-df-convert');\n",
              "        buttonEl.style.display =\n",
              "          google.colab.kernel.accessAllowed ? 'block' : 'none';\n",
              "\n",
              "        async function convertToInteractive(key) {\n",
              "          const element = document.querySelector('#df-3bc1ffb0-1756-4281-8ae2-e25fa8d2510f');\n",
              "          const dataTable =\n",
              "            await google.colab.kernel.invokeFunction('convertToInteractive',\n",
              "                                                     [key], {});\n",
              "          if (!dataTable) return;\n",
              "\n",
              "          const docLinkHtml = 'Like what you see? Visit the ' +\n",
              "            '<a target=\"_blank\" href=https://colab.research.google.com/notebooks/data_table.ipynb>data table notebook</a>'\n",
              "            + ' to learn more about interactive tables.';\n",
              "          element.innerHTML = '';\n",
              "          dataTable['output_type'] = 'display_data';\n",
              "          await google.colab.output.renderOutput(dataTable, element);\n",
              "          const docLink = document.createElement('div');\n",
              "          docLink.innerHTML = docLinkHtml;\n",
              "          element.appendChild(docLink);\n",
              "        }\n",
              "      </script>\n",
              "    </div>\n",
              "  </div>\n",
              "  "
            ]
          },
          "metadata": {}
        },
        {
          "output_type": "display_data",
          "data": {
            "text/plain": [
              "'labels: '"
            ],
            "application/vnd.google.colaboratory.intrinsic+json": {
              "type": "string"
            }
          },
          "metadata": {}
        },
        {
          "output_type": "display_data",
          "data": {
            "text/plain": [
              "Int64Index([1892, 1893, 1894, 1895, 1896, 1897, 1898, 1899, 1900, 1901,\n",
              "            ...\n",
              "            1995, 1996, 1997, 1998, 1999, 2000, 2001, 2002, 2003, 2004],\n",
              "           dtype='int64', name='year', length=113)"
            ]
          },
          "metadata": {}
        },
        {
          "output_type": "display_data",
          "data": {
            "text/plain": [
              "<Figure size 432x288 with 1 Axes>"
            ],
            "image/png": "[encoded data removed]"
          },
          "metadata": {
            "needs_background": "light"
          }
        },
        {
          "output_type": "stream",
          "name": "stdout",
          "text": [
            "producer_by_genre_cnt:  genre\n",
            "Action          574\n",
            "Adventure       587\n",
            "Animation       141\n",
            "Comedy         3398\n",
            "Crime           749\n",
            "Documentary    1541\n",
            "Drama          5941\n",
            "Family          833\n",
            "Fantasy         677\n",
            "Film-Noir       130\n",
            "Horror         1252\n",
            "Music           428\n",
            "Musical         750\n",
            "Mystery         646\n",
            "Romance        2442\n",
            "Sci-Fi         1133\n",
            "Short          3284\n",
            "Thriller       2674\n",
            "War            1045\n",
            "Western         752\n",
            "Name: last_name, dtype: int64\n"
          ]
        },
        {
          "output_type": "display_data",
          "data": {
            "text/plain": [
              "'labels: '"
            ],
            "application/vnd.google.colaboratory.intrinsic+json": {
              "type": "string"
            }
          },
          "metadata": {}
        },
        {
          "output_type": "display_data",
          "data": {
            "text/plain": [
              "Index(['Action', 'Adventure', 'Animation', 'Comedy', 'Crime', 'Documentary',\n",
              "       'Drama', 'Family', 'Fantasy', 'Film-Noir', 'Horror', 'Music', 'Musical',\n",
              "       'Mystery', 'Romance', 'Sci-Fi', 'Short', 'Thriller', 'War', 'Western'],\n",
              "      dtype='object', name='genre')"
            ]
          },
          "metadata": {}
        },
        {
          "output_type": "display_data",
          "data": {
            "text/plain": [
              "<Figure size 432x288 with 1 Axes>"
            ],
            "image/png": "[encoded data removed]"
          },
          "metadata": {
            "needs_background": "light"
          }
        }
      ]
    },
    {
      "cell_type": "markdown",
      "metadata": {
        "id": "pQV2NO8umBSk"
      },
      "source": [
        "# Reflection\n",
        "----\n",
        "\n",
        "## What skills have you demonstrated in completing this notebook?"
      ]
    },
    {
      "cell_type": "markdown",
      "metadata": {
        "id": "NUVvt2r0mCKq"
      },
      "source": [
        "* Code reuse\n",
        "* writing function to process data from an external source\n",
        "*writing function to clean data\n",
        "*writing function to inspect the data and extracting basic info about it such as identifying the shape, structure, datatypes, missing data, duplicate data as well as summary statistics\n",
        "* using the `groupby` method to organise the data in specific ways to extract particular information and statistics\n",
        "*charting the extracted information in different ways to visually display relationships\n",
        "\n",
        "* analysing the problems posed by the challenge and identifying the best ways to solve them. \n",
        "* Planning, writing and then testing and revising the code to put my solutions into effect"
      ]
    },
    {
      "cell_type": "markdown",
      "metadata": {
        "id": "SOrbWOuFmObq"
      },
      "source": [
        "## What caused you the most difficulty?"
      ]
    },
    {
      "cell_type": "markdown",
      "metadata": {
        "id": "G_eGng1GmO78"
      },
      "source": [
        "For the most part this was a fairly straight-forward project. However, I was using the `groupby` operation several times within my code to group the data in various ways to extract the data that I subsequently used to produce charts and  I did have some difficulty with the\n",
        "`groupby`syntax. When I revisited the code it suddenly occurred to me that I could simplify and thus improve my code by doing in a single step what I had previously been doing in two.\n",
        "\n",
        "For instance - when working out the mean `rank` for each `genre`, my original code was calculating the mean for the entire dataframe and then as a separate step, extracting the mean for the `rank` column *ie:*\n",
        "```\n",
        "# group by genre/mean rank  \n",
        "  mean_genre_rank = df.groupby(\"genre\").mean()\n",
        "  rank = mean_genre_rank['rank']\n",
        "\n",
        "```\n",
        "My revised code does the same thing, but in a single step *ie:*\n",
        "```\n",
        "# group by genre/mean rank  \n",
        "  mean_genre_rank = df.groupby(\"genre\")['rank'].mean()\n",
        "```\n",
        "\n",
        "\n"
      ]
    }
  ]
}